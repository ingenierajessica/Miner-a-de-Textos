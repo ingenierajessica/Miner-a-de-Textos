{
 "cells": [
  {
   "cell_type": "markdown",
   "metadata": {},
   "source": [
    "# MINERÍA DE TEXTOS\n",
    "\n",
    "## Alumna: Jessica Sarahi Méndez Rincón\n",
    "\n",
    "\n",
    "###  Proyecto Análisis de Sentimientos y Polaridad en Tweets\n",
    "###  Tema: COVID-19"
   ]
  },
  {
   "cell_type": "markdown",
   "metadata": {},
   "source": [
    "## Contexto:\n",
    "    \n",
    "    El año 2020 se vio afectado por el impacto a la sociedad mundial sobre una gripe de alto nivel de contagio así como la causa principal de fallecimientos alrededor del Mundo.\n",
    "    \n",
    "    México no ha sido exento del raro virus.\n",
    "    \n",
    "    Con el presente Proyecto, el objetivo primordial es desarrollar los algoritmos que ayuden a monitorizar el efecto en los comentarios que en la Red Social de Twitter se emiten, y que ayudé a dar una idea del estado de ánimo de la gente."
   ]
  },
  {
   "cell_type": "markdown",
   "metadata": {},
   "source": [
    "<img src=\"https://encrypted-tbn0.gstatic.com/images?q=tbn%3AANd9GcQUpnfdhCKN1C3OIbNrDdyjctlRsA9t6386WWD8JkUzt_X7JiuH&usqp=CAU\" alt=\"Alt text that describes the graphic\" title=\"Title text\" />"
   ]
  },
  {
   "cell_type": "code",
   "execution_count": 1,
   "metadata": {},
   "outputs": [],
   "source": [
    "# Importacion de librerias\n",
    "import numpy as np\n",
    "import matplotlib.pyplot as plt\n",
    "import pandas as pd\n",
    "import seaborn as sns\n",
    "import matplotlib.pyplot as plt \n",
    "#Tienes que descargarte las stopwords primero via nltk.download()\n",
    "import nltk\n",
    "from nltk import pos_tag\n",
    "from nltk.corpus import stopwords\n",
    "from nltk.corpus import wordnet as wn\n",
    "from nltk import word_tokenize\n",
    "from nltk.data import load\n",
    "from nltk.stem import SnowballStemmer \n",
    "from nltk.stem import WordNetLemmatizer\n",
    "from nltk.tokenize import sent_tokenize\n",
    "from nltk.tokenize import word_tokenize\n",
    "from string import punctuation\n",
    "from sklearn import metrics\n",
    "from sklearn.metrics import accuracy_score\n",
    "from sklearn.metrics import confusion_matrix\n",
    "from sklearn.feature_extraction.text import CountVectorizer\n",
    "from sklearn.datasets import fetch_20newsgroups\n",
    "from sklearn.feature_extraction.text import CountVectorizer\n",
    "from sklearn.feature_extraction.text import TfidfTransformer\n",
    "from sklearn.feature_extraction.text import TfidfVectorizer\n",
    "from sklearn.linear_model import SGDClassifier\n",
    "from sklearn.model_selection import GridSearchCV\n",
    "from sklearn.pipeline import Pipeline\n",
    "from sklearn.svm import LinearSVC\n",
    "from sklearn.model_selection import cross_val_score\n",
    "from sklearn.preprocessing import LabelEncoder\n",
    "from collections import defaultdict \n",
    "from sklearn import model_selection, naive_bayes, svm\n",
    "\n",
    "\n"
   ]
  },
  {
   "cell_type": "code",
   "execution_count": 2,
   "metadata": {},
   "outputs": [],
   "source": [
    "non_words = list(punctuation)\n",
    "non_words.extend(['¿', '¡'])\n",
    "non_words.extend(map(str,range(10)))\n"
   ]
  },
  {
   "cell_type": "markdown",
   "metadata": {},
   "source": [
    "## Preparar los datos\n"
   ]
  },
  {
   "cell_type": "code",
   "execution_count": 3,
   "metadata": {},
   "outputs": [],
   "source": [
    "# Importacion del archivo que se nos proporciono agregandole cabeceras que no contiene\n",
    "names = ['Id', 'tweet', 'polaridad']\n",
    "dataset = pd.read_csv('train.txt', sep='\\t',names=names)"
   ]
  },
  {
   "cell_type": "code",
   "execution_count": 4,
   "metadata": {},
   "outputs": [
    {
     "data": {
      "text/html": [
       "<div>\n",
       "<style scoped>\n",
       "    .dataframe tbody tr th:only-of-type {\n",
       "        vertical-align: middle;\n",
       "    }\n",
       "\n",
       "    .dataframe tbody tr th {\n",
       "        vertical-align: top;\n",
       "    }\n",
       "\n",
       "    .dataframe thead th {\n",
       "        text-align: right;\n",
       "    }\n",
       "</style>\n",
       "<table border=\"1\" class=\"dataframe\">\n",
       "  <thead>\n",
       "    <tr style=\"text-align: right;\">\n",
       "      <th></th>\n",
       "      <th>Id</th>\n",
       "      <th>tweet</th>\n",
       "      <th>polaridad</th>\n",
       "    </tr>\n",
       "  </thead>\n",
       "  <tbody>\n",
       "    <tr>\n",
       "      <th>0</th>\n",
       "      <td>818942405281980417</td>\n",
       "      <td>No mames este pinche dolor que pedo? ya mejor ...</td>\n",
       "      <td>N</td>\n",
       "    </tr>\n",
       "    <tr>\n",
       "      <th>1</th>\n",
       "      <td>818963123646373892</td>\n",
       "      <td>@leomall2018 Según yo era como aviso, pero aho...</td>\n",
       "      <td>NEU</td>\n",
       "    </tr>\n",
       "    <tr>\n",
       "      <th>2</th>\n",
       "      <td>818998133694697472</td>\n",
       "      <td>@benshorts a juzgar por mis comportamientos au...</td>\n",
       "      <td>N</td>\n",
       "    </tr>\n",
       "    <tr>\n",
       "      <th>3</th>\n",
       "      <td>818822556090105857</td>\n",
       "      <td>#BuenosDias mundo Twittero ya desperté y estoy...</td>\n",
       "      <td>P</td>\n",
       "    </tr>\n",
       "    <tr>\n",
       "      <th>4</th>\n",
       "      <td>818993011514372098</td>\n",
       "      <td>No pude resolver el rompecabezas en Los rios d...</td>\n",
       "      <td>N</td>\n",
       "    </tr>\n",
       "  </tbody>\n",
       "</table>\n",
       "</div>"
      ],
      "text/plain": [
       "                   Id                                              tweet  \\\n",
       "0  818942405281980417  No mames este pinche dolor que pedo? ya mejor ...   \n",
       "1  818963123646373892  @leomall2018 Según yo era como aviso, pero aho...   \n",
       "2  818998133694697472  @benshorts a juzgar por mis comportamientos au...   \n",
       "3  818822556090105857  #BuenosDias mundo Twittero ya desperté y estoy...   \n",
       "4  818993011514372098  No pude resolver el rompecabezas en Los rios d...   \n",
       "\n",
       "  polaridad  \n",
       "0         N  \n",
       "1       NEU  \n",
       "2         N  \n",
       "3         P  \n",
       "4         N  "
      ]
     },
     "execution_count": 4,
     "metadata": {},
     "output_type": "execute_result"
    }
   ],
   "source": [
    "dataset.head()"
   ]
  },
  {
   "cell_type": "code",
   "execution_count": 5,
   "metadata": {},
   "outputs": [
    {
     "data": {
      "text/html": [
       "<div>\n",
       "<style scoped>\n",
       "    .dataframe tbody tr th:only-of-type {\n",
       "        vertical-align: middle;\n",
       "    }\n",
       "\n",
       "    .dataframe tbody tr th {\n",
       "        vertical-align: top;\n",
       "    }\n",
       "\n",
       "    .dataframe thead th {\n",
       "        text-align: right;\n",
       "    }\n",
       "</style>\n",
       "<table border=\"1\" class=\"dataframe\">\n",
       "  <thead>\n",
       "    <tr style=\"text-align: right;\">\n",
       "      <th></th>\n",
       "      <th>tweet</th>\n",
       "    </tr>\n",
       "  </thead>\n",
       "  <tbody>\n",
       "    <tr>\n",
       "      <th>0</th>\n",
       "      <td>No mames este pinche dolor que pedo? ya mejor ...</td>\n",
       "    </tr>\n",
       "    <tr>\n",
       "      <th>1</th>\n",
       "      <td>@leomall2018 Según yo era como aviso, pero aho...</td>\n",
       "    </tr>\n",
       "    <tr>\n",
       "      <th>2</th>\n",
       "      <td>@benshorts a juzgar por mis comportamientos au...</td>\n",
       "    </tr>\n",
       "    <tr>\n",
       "      <th>3</th>\n",
       "      <td>#BuenosDias mundo Twittero ya desperté y estoy...</td>\n",
       "    </tr>\n",
       "    <tr>\n",
       "      <th>4</th>\n",
       "      <td>No pude resolver el rompecabezas en Los rios d...</td>\n",
       "    </tr>\n",
       "  </tbody>\n",
       "</table>\n",
       "</div>"
      ],
      "text/plain": [
       "                                               tweet\n",
       "0  No mames este pinche dolor que pedo? ya mejor ...\n",
       "1  @leomall2018 Según yo era como aviso, pero aho...\n",
       "2  @benshorts a juzgar por mis comportamientos au...\n",
       "3  #BuenosDias mundo Twittero ya desperté y estoy...\n",
       "4  No pude resolver el rompecabezas en Los rios d..."
      ]
     },
     "execution_count": 5,
     "metadata": {},
     "output_type": "execute_result"
    }
   ],
   "source": [
    "df=pd.DataFrame(dataset)\n",
    "\n",
    "\n",
    "X = dataset.iloc[:, 1].values\n",
    "Y = dataset.iloc[:, 2].values\n",
    "\n",
    "dX=pd.DataFrame(X)  \n",
    "dX.columns = ['tweet']\n",
    "dX.head(5)\n",
    "\n",
    "\n"
   ]
  },
  {
   "cell_type": "code",
   "execution_count": 6,
   "metadata": {},
   "outputs": [
    {
     "data": {
      "text/html": [
       "<div>\n",
       "<style scoped>\n",
       "    .dataframe tbody tr th:only-of-type {\n",
       "        vertical-align: middle;\n",
       "    }\n",
       "\n",
       "    .dataframe tbody tr th {\n",
       "        vertical-align: top;\n",
       "    }\n",
       "\n",
       "    .dataframe thead th {\n",
       "        text-align: right;\n",
       "    }\n",
       "</style>\n",
       "<table border=\"1\" class=\"dataframe\">\n",
       "  <thead>\n",
       "    <tr style=\"text-align: right;\">\n",
       "      <th></th>\n",
       "      <th>polaridad</th>\n",
       "    </tr>\n",
       "  </thead>\n",
       "  <tbody>\n",
       "    <tr>\n",
       "      <th>0</th>\n",
       "      <td>N</td>\n",
       "    </tr>\n",
       "    <tr>\n",
       "      <th>1</th>\n",
       "      <td>NEU</td>\n",
       "    </tr>\n",
       "    <tr>\n",
       "      <th>2</th>\n",
       "      <td>N</td>\n",
       "    </tr>\n",
       "    <tr>\n",
       "      <th>3</th>\n",
       "      <td>P</td>\n",
       "    </tr>\n",
       "    <tr>\n",
       "      <th>4</th>\n",
       "      <td>N</td>\n",
       "    </tr>\n",
       "  </tbody>\n",
       "</table>\n",
       "</div>"
      ],
      "text/plain": [
       "  polaridad\n",
       "0         N\n",
       "1       NEU\n",
       "2         N\n",
       "3         P\n",
       "4         N"
      ]
     },
     "execution_count": 6,
     "metadata": {},
     "output_type": "execute_result"
    }
   ],
   "source": [
    "\n",
    "dY=pd.DataFrame(Y)  \n",
    "dY.columns = ['polaridad']\n",
    "dY.head(5)"
   ]
  },
  {
   "cell_type": "code",
   "execution_count": 7,
   "metadata": {},
   "outputs": [
    {
     "data": {
      "text/plain": [
       "array(['N', 'NEU', 'P'], dtype=object)"
      ]
     },
     "execution_count": 7,
     "metadata": {},
     "output_type": "execute_result"
    }
   ],
   "source": [
    "dY['polaridad'].unique()"
   ]
  },
  {
   "cell_type": "markdown",
   "metadata": {},
   "source": [
    "## Tokenización, Normalización en minúsculas, StopWords, Stemming y Vectorización"
   ]
  },
  {
   "cell_type": "code",
   "execution_count": 8,
   "metadata": {},
   "outputs": [],
   "source": [
    "df['tweet'] = [entry.lower() for entry in df['tweet']]"
   ]
  },
  {
   "cell_type": "code",
   "execution_count": 9,
   "metadata": {},
   "outputs": [
    {
     "name": "stdout",
     "output_type": "stream",
     "text": [
      "['djrossana', 'lindo', 'martes', 'sueños', 'hagan', 'realidad', 'sé', 'misma', 'copy', 'modas', 'ejemplo', 'seguir']\n"
     ]
    }
   ],
   "source": [
    "\n",
    "# Paso - 1c: Tokenización: en este cada entrada en el corpus se dividirá en un conjunto de palabras\n",
    "df['tweet']= [word_tokenize(entry) for entry in df['tweet']]\n",
    "\n",
    "# Paso - 1d: Eliminar palabras de detención, no numéricas y realizar el vástago / lemmenting de palabras.\n",
    "# WordNetLemmatizer requiere etiquetas Pos para comprender si la palabra es sustantivo o verbo o adjetivo, etc. \n",
    "# De manera predeterminada, está configurada como Noun\n",
    "tag_map = defaultdict(lambda : wn.NOUN)\n",
    "tag_map['J'] = wn.ADJ\n",
    "tag_map['V'] = wn.VERB\n",
    "tag_map['R'] = wn.ADV\n",
    "for index,entry in enumerate(df['tweet']):\n",
    "     # Declarar la lista vacía para almacenar las palabras que siguen las reglas de este paso\n",
    "    Final_words = []\n",
    "    # Inicializando WordNetLemmatizer ()\n",
    "    word_Lemmatized = WordNetLemmatizer()\n",
    "    # La función pos_tag a continuación proporcionará la 'etiqueta', es decir, si la palabra es Sustantivo (N) o Verbo (V) u otra cosa.\n",
    "    for word, tag in pos_tag(entry):\n",
    "        # La siguiente condición es verificar las palabras Stop y considerar solo alfabetos\n",
    "        if word not in stopwords.words('spanish') and word.isalpha():\n",
    "            word_Final = word_Lemmatized.lemmatize(word,tag_map[tag[0]])\n",
    "            Final_words.append(word_Final)\n",
    "    # El conjunto final procesado de palabras para cada iteración se almacenará en 'text_final'\n",
    "    df.loc[index,'tweet_final'] = str(Final_words)\n",
    "print(df.loc[index,'tweet_final'])"
   ]
  },
  {
   "cell_type": "code",
   "execution_count": 10,
   "metadata": {},
   "outputs": [
    {
     "data": {
      "text/html": [
       "<div>\n",
       "<style scoped>\n",
       "    .dataframe tbody tr th:only-of-type {\n",
       "        vertical-align: middle;\n",
       "    }\n",
       "\n",
       "    .dataframe tbody tr th {\n",
       "        vertical-align: top;\n",
       "    }\n",
       "\n",
       "    .dataframe thead th {\n",
       "        text-align: right;\n",
       "    }\n",
       "</style>\n",
       "<table border=\"1\" class=\"dataframe\">\n",
       "  <thead>\n",
       "    <tr style=\"text-align: right;\">\n",
       "      <th></th>\n",
       "      <th>Id</th>\n",
       "      <th>tweet</th>\n",
       "      <th>polaridad</th>\n",
       "      <th>tweet_final</th>\n",
       "    </tr>\n",
       "  </thead>\n",
       "  <tbody>\n",
       "    <tr>\n",
       "      <th>0</th>\n",
       "      <td>818942405281980417</td>\n",
       "      <td>[no, mames, este, pinche, dolor, que, pedo, ?,...</td>\n",
       "      <td>N</td>\n",
       "      <td>['mames', 'pinche', 'dolor', 'pedo', 'mejor', ...</td>\n",
       "    </tr>\n",
       "    <tr>\n",
       "      <th>1</th>\n",
       "      <td>818963123646373892</td>\n",
       "      <td>[@, leomall2018, según, yo, era, como, aviso, ...</td>\n",
       "      <td>NEU</td>\n",
       "      <td>['según', 'aviso', 'ahora', 'oficial']</td>\n",
       "    </tr>\n",
       "    <tr>\n",
       "      <th>2</th>\n",
       "      <td>818998133694697472</td>\n",
       "      <td>[@, benshorts, a, juzgar, por, mis, comportami...</td>\n",
       "      <td>N</td>\n",
       "      <td>['benshorts', 'juzgar', 'comportamientos', 'au...</td>\n",
       "    </tr>\n",
       "    <tr>\n",
       "      <th>3</th>\n",
       "      <td>818822556090105857</td>\n",
       "      <td>[#, buenosdias, mundo, twittero, ya, desperté,...</td>\n",
       "      <td>P</td>\n",
       "      <td>['buenosdias', 'mundo', 'twittero', 'desperté'...</td>\n",
       "    </tr>\n",
       "    <tr>\n",
       "      <th>4</th>\n",
       "      <td>818993011514372098</td>\n",
       "      <td>[no, pude, resolver, el, rompecabezas, en, los...</td>\n",
       "      <td>N</td>\n",
       "      <td>['pude', 'resolver', 'rompecabezas', 'rio', 'a...</td>\n",
       "    </tr>\n",
       "  </tbody>\n",
       "</table>\n",
       "</div>"
      ],
      "text/plain": [
       "                   Id                                              tweet  \\\n",
       "0  818942405281980417  [no, mames, este, pinche, dolor, que, pedo, ?,...   \n",
       "1  818963123646373892  [@, leomall2018, según, yo, era, como, aviso, ...   \n",
       "2  818998133694697472  [@, benshorts, a, juzgar, por, mis, comportami...   \n",
       "3  818822556090105857  [#, buenosdias, mundo, twittero, ya, desperté,...   \n",
       "4  818993011514372098  [no, pude, resolver, el, rompecabezas, en, los...   \n",
       "\n",
       "  polaridad                                        tweet_final  \n",
       "0         N  ['mames', 'pinche', 'dolor', 'pedo', 'mejor', ...  \n",
       "1       NEU             ['según', 'aviso', 'ahora', 'oficial']  \n",
       "2         N  ['benshorts', 'juzgar', 'comportamientos', 'au...  \n",
       "3         P  ['buenosdias', 'mundo', 'twittero', 'desperté'...  \n",
       "4         N  ['pude', 'resolver', 'rompecabezas', 'rio', 'a...  "
      ]
     },
     "execution_count": 10,
     "metadata": {},
     "output_type": "execute_result"
    }
   ],
   "source": [
    "df.head(5)"
   ]
  },
  {
   "cell_type": "markdown",
   "metadata": {},
   "source": [
    "## Datos de Entrenamiento y Pruebas"
   ]
  },
  {
   "cell_type": "code",
   "execution_count": 11,
   "metadata": {},
   "outputs": [],
   "source": [
    "Train_X, Test_X, Train_Y, Test_Y = model_selection.train_test_split(df['tweet_final'],df['polaridad'],test_size=0.3)"
   ]
  },
  {
   "cell_type": "code",
   "execution_count": 12,
   "metadata": {},
   "outputs": [
    {
     "data": {
      "text/plain": [
       "109    N\n",
       "273    N\n",
       "263    N\n",
       "422    N\n",
       "773    N\n",
       "Name: polaridad, dtype: object"
      ]
     },
     "execution_count": 12,
     "metadata": {},
     "output_type": "execute_result"
    }
   ],
   "source": [
    "Train_Y.head(5)"
   ]
  },
  {
   "cell_type": "code",
   "execution_count": 13,
   "metadata": {},
   "outputs": [],
   "source": [
    "Encoder = LabelEncoder()\n",
    "Train_Y = Encoder.fit_transform(Train_Y)\n",
    "Test_Y = Encoder.fit_transform(Test_Y)"
   ]
  },
  {
   "cell_type": "code",
   "execution_count": 14,
   "metadata": {},
   "outputs": [
    {
     "name": "stdout",
     "output_type": "stream",
     "text": [
      "[0 0 0 0 0 2 1 0 2 1 0 0 0 0 1 0 0 1 0 0 2 2 2 0 0 2 0 2 0 1 0 0 0 2 1 0 1\n",
      " 0 0 0 2 0 0 2 0 0 0 0 0 0 0 0 2 2 0 2 2 0 0 2 2 1 2 1 2 0 2 0 1 0 0 0 0 0\n",
      " 0 2 1 2 0 2 0 0 1 2 0 0 2 1 0 0 2 0 2 0 1 0 2 2 1 2 0 2 0 1 1 0 1 1 0 1 2\n",
      " 0 0 0 0 1 2 1 2 2 0 0 2 0 0 0 1 2 1 1 1 0 2 0 2 2 2 2 2 0 1 0 1 2 0 1 0 0\n",
      " 0 2 0 2 0 2 0 0 2 2 0 0 0 0 0 1 2 2 0 2 2 2 0 0 2 2 0 0 0 0 0 0 0 0 0 0 0\n",
      " 1 0 0 2 1 1 0 0 0 2 0 2 0 2 2 0 0 2 1 0 1 2 2 2 1 2 0 0 1 0 2 1 1 2 1 0 2\n",
      " 2 0 0 1 0 1 0 0 2 0 1 0 0 0 0 2 0 0 2 0 0 1 2 0 0 0 0 0 0 2 0 0 2 0 0 0 2\n",
      " 1 0 0 0 0 1 0 0 0 0 2 2 0 0 0 0 1 0 1 0 0 2 2 2 2 1 1 0 0 2 1 0 2 0 0 2 0\n",
      " 0 0 2 0 0 0 2 2 0 1 0 2 2 2 0 2 2 0 0 0 0 0 2 2 0 0 1 2 2 0 2 1 2 0 2 0 2\n",
      " 0 1 2 2 0 0 1 2 2 0 0 0 0 0 1 2 1 0 1 2 2 2 1 1 1 0 2 0 0 2 2 1 2 2 2 0 0\n",
      " 0 0 0 2 0 0 0 0 0 0 0 2 0 0 2 0 2 0 2 0 2 0 0 2 0 2 0 0 1 1 0 2 1 0 2 0 2\n",
      " 1 0 2 0 0 2 1 2 0 0 2 2 0 0 0 0 1 2 0 0 2 2 0 2 0 0 0 2 1 1 0 2 0 0 2 0 2\n",
      " 1 0 0 2 1 0 0 1 0 0 2 0 0 1 0 2 2 1 2 0 0 2 1 0 2 2 1 0 1 0 0 1 1 2 2 2 0\n",
      " 0 1 0 0 0 2 1 0 2 2 0 0 2 2 0 1 1 1 0 0 2 0 2 0 2 0 0 1 2 2 0 2 2 1 1 0 1\n",
      " 2 1 2 0 0 0 0 0 1 0 0 0 0 1 0 0 1 1 0 2 2 2 2 2 0 0 0 1 0 0 2 0 1 2 2 0 2\n",
      " 0 1 0 0 1 2 0 0 2 0 0 0 1 2 0 0 0 2 0 1 2 1 1 2 0 0 0 2 0 0 0 1 1 1 1 2 0\n",
      " 1 1 0 2 2 2 1 0 0 0 0 2 0 0 2 2 0 0 2 0 2 0 2 0 1 0 2 1 1 0 1 0 0 2 0 2 0\n",
      " 0 0 0 2 0 0 1 0 0 2 0 1 2 1 1 0 0 2 0 2 0 1 2 2 2 0 2 2 0 0 2 0 0 2 0 1 2\n",
      " 0 1 0 1 1 0 0 2 0 2 1 0 0 2 2 1 1 0 2 2 2 2 0 2 0 2 0]\n"
     ]
    }
   ],
   "source": [
    "print(Train_Y)"
   ]
  },
  {
   "cell_type": "code",
   "execution_count": 15,
   "metadata": {},
   "outputs": [
    {
     "data": {
      "text/html": [
       "<div>\n",
       "<style scoped>\n",
       "    .dataframe tbody tr th:only-of-type {\n",
       "        vertical-align: middle;\n",
       "    }\n",
       "\n",
       "    .dataframe tbody tr th {\n",
       "        vertical-align: top;\n",
       "    }\n",
       "\n",
       "    .dataframe thead th {\n",
       "        text-align: right;\n",
       "    }\n",
       "</style>\n",
       "<table border=\"1\" class=\"dataframe\">\n",
       "  <thead>\n",
       "    <tr style=\"text-align: right;\">\n",
       "      <th></th>\n",
       "      <th>Id</th>\n",
       "      <th>tweet</th>\n",
       "      <th>polaridad</th>\n",
       "      <th>tweet_final</th>\n",
       "    </tr>\n",
       "  </thead>\n",
       "  <tbody>\n",
       "    <tr>\n",
       "      <th>0</th>\n",
       "      <td>818942405281980417</td>\n",
       "      <td>[no, mames, este, pinche, dolor, que, pedo, ?,...</td>\n",
       "      <td>N</td>\n",
       "      <td>['mames', 'pinche', 'dolor', 'pedo', 'mejor', ...</td>\n",
       "    </tr>\n",
       "    <tr>\n",
       "      <th>1</th>\n",
       "      <td>818963123646373892</td>\n",
       "      <td>[@, leomall2018, según, yo, era, como, aviso, ...</td>\n",
       "      <td>NEU</td>\n",
       "      <td>['según', 'aviso', 'ahora', 'oficial']</td>\n",
       "    </tr>\n",
       "    <tr>\n",
       "      <th>2</th>\n",
       "      <td>818998133694697472</td>\n",
       "      <td>[@, benshorts, a, juzgar, por, mis, comportami...</td>\n",
       "      <td>N</td>\n",
       "      <td>['benshorts', 'juzgar', 'comportamientos', 'au...</td>\n",
       "    </tr>\n",
       "    <tr>\n",
       "      <th>3</th>\n",
       "      <td>818822556090105857</td>\n",
       "      <td>[#, buenosdias, mundo, twittero, ya, desperté,...</td>\n",
       "      <td>P</td>\n",
       "      <td>['buenosdias', 'mundo', 'twittero', 'desperté'...</td>\n",
       "    </tr>\n",
       "    <tr>\n",
       "      <th>4</th>\n",
       "      <td>818993011514372098</td>\n",
       "      <td>[no, pude, resolver, el, rompecabezas, en, los...</td>\n",
       "      <td>N</td>\n",
       "      <td>['pude', 'resolver', 'rompecabezas', 'rio', 'a...</td>\n",
       "    </tr>\n",
       "  </tbody>\n",
       "</table>\n",
       "</div>"
      ],
      "text/plain": [
       "                   Id                                              tweet  \\\n",
       "0  818942405281980417  [no, mames, este, pinche, dolor, que, pedo, ?,...   \n",
       "1  818963123646373892  [@, leomall2018, según, yo, era, como, aviso, ...   \n",
       "2  818998133694697472  [@, benshorts, a, juzgar, por, mis, comportami...   \n",
       "3  818822556090105857  [#, buenosdias, mundo, twittero, ya, desperté,...   \n",
       "4  818993011514372098  [no, pude, resolver, el, rompecabezas, en, los...   \n",
       "\n",
       "  polaridad                                        tweet_final  \n",
       "0         N  ['mames', 'pinche', 'dolor', 'pedo', 'mejor', ...  \n",
       "1       NEU             ['según', 'aviso', 'ahora', 'oficial']  \n",
       "2         N  ['benshorts', 'juzgar', 'comportamientos', 'au...  \n",
       "3         P  ['buenosdias', 'mundo', 'twittero', 'desperté'...  \n",
       "4         N  ['pude', 'resolver', 'rompecabezas', 'rio', 'a...  "
      ]
     },
     "execution_count": 15,
     "metadata": {},
     "output_type": "execute_result"
    }
   ],
   "source": [
    "df.head()"
   ]
  },
  {
   "cell_type": "code",
   "execution_count": 16,
   "metadata": {},
   "outputs": [],
   "source": [
    "Tfidf_vect = TfidfVectorizer(max_features=5000)\n",
    "Tfidf_vect.fit(df['tweet_final'])\n",
    "Train_X_Tfidf = Tfidf_vect.transform(Train_X)\n",
    "Test_X_Tfidf = Tfidf_vect.transform(Test_X)"
   ]
  },
  {
   "cell_type": "markdown",
   "metadata": {},
   "source": [
    "## Identificación de Polaridad con  Algoritmos de Aprendizaje Supervisado"
   ]
  },
  {
   "cell_type": "code",
   "execution_count": 17,
   "metadata": {},
   "outputs": [
    {
     "name": "stdout",
     "output_type": "stream",
     "text": [
      "Naive Bayes Accuracy Score ->  60.26936026936027\n"
     ]
    }
   ],
   "source": [
    "# Clasificador - Algoritmo - Naive Bayes\n",
    "# Se ajusta el conjunto de datos de entrenamiento en el clasificador\n",
    "Naive = naive_bayes.MultinomialNB()\n",
    "Naive.fit(Train_X_Tfidf,Train_Y)\n",
    "# Predecir las etiquetas en el conjunto de datos de validación\n",
    "predictions_NB = Naive.predict(Test_X_Tfidf)\n",
    "# Usando la función de precision_score para obtener la precisión\n",
    "print(\"Naive Bayes Accuracy Score -> \",accuracy_score(predictions_NB, Test_Y)*100)"
   ]
  },
  {
   "cell_type": "code",
   "execution_count": 18,
   "metadata": {},
   "outputs": [
    {
     "name": "stdout",
     "output_type": "stream",
     "text": [
      "SVM Accuracy Score ->  63.97306397306397\n"
     ]
    },
    {
     "name": "stderr",
     "output_type": "stream",
     "text": [
      "c:\\users\\jess\\appdata\\local\\programs\\python\\python37\\lib\\site-packages\\sklearn\\svm\\_base.py:231: ConvergenceWarning: Solver terminated early (max_iter=1000).  Consider pre-processing your data with StandardScaler or MinMaxScaler.\n",
      "  % self.max_iter, ConvergenceWarning)\n"
     ]
    }
   ],
   "source": [
    "# Clasificador - Algoritmo - SVM\n",
    "# Se ajusta el conjunto de datos de entrenamiento en el clasificador\n",
    "SVM = svm.SVC(C=1.20, kernel='linear', degree=3, gamma='auto',   max_iter=1000,  tol=0.0001)\n",
    "SVM.fit(Train_X_Tfidf,Train_Y)\n",
    "# predecir las etiquetas en el conjunto de datos de validación\n",
    "predictions_SVM = SVM.predict(Test_X_Tfidf)\n",
    "# Usando la función precision_score para obtener la precisión\n",
    "print(\"SVM Accuracy Score -> \",accuracy_score(predictions_SVM, Test_Y)*100)\n",
    " "
   ]
  },
  {
   "cell_type": "code",
   "execution_count": 19,
   "metadata": {},
   "outputs": [
    {
     "name": "stdout",
     "output_type": "stream",
     "text": [
      "SVC(C=1.2, break_ties=False, cache_size=200, class_weight=None, coef0=0.0,\n",
      "    decision_function_shape='ovr', degree=3, gamma='auto', kernel='linear',\n",
      "    max_iter=1000, probability=False, random_state=None, shrinking=True,\n",
      "    tol=0.0001, verbose=False)\n"
     ]
    }
   ],
   "source": [
    "print(SVM)"
   ]
  },
  {
   "cell_type": "code",
   "execution_count": 20,
   "metadata": {},
   "outputs": [],
   "source": [
    "# Prediccion del conjunto de prueba de acuerdo al 30% para los entrenamientos 120 registros\n",
    "y_pred = SVM.predict(Test_X_Tfidf)"
   ]
  },
  {
   "cell_type": "code",
   "execution_count": 21,
   "metadata": {},
   "outputs": [
    {
     "name": "stdout",
     "output_type": "stream",
     "text": [
      "[0 0 2 0 2 2 0 0 0 0 0 0 2 0 2 0 0 0 2 0 0 1 0 0 2 2 2 2 2 0 0 0 0 2 1 2 2\n",
      " 2 2 2 0 2 0 0 2 1 0 2 1 1 1 2 0 0 2 2 0 0 0 0 0 0 0 0 1 0 0 2 0 2 0 2 0 2\n",
      " 0 0 2 2 1 1 1 0 0 0 0 2 0 0 1 0 2 2 0 0 2 1 2 2 2 1 2 2 0 0 0 0 0 0 0 0 2\n",
      " 0 1 1 1 0 2 0 2 1 1 0 1 1 0 2 2 2 0 0 2 2 2 0 2 0 0 0 2 0 0 2 0 0 0 0 1 0\n",
      " 1 0 0 0 2 0 0 2 0 0 0 1 1 2 1 0 0 2 0 2 0 2 2 0 1 0 0 2 2 0 2 0 0 0 2 0 1\n",
      " 2 0 2 1 1 2 0 0 1 1 0 0 0 2 0 1 2 0 0 0 1 2 2 0 2 2 0 2 1 2 0 0 0 2 2 0 0\n",
      " 1 0 2 1 2 2 0 2 0 0 0 0 2 2 2 2 1 2 2 0 1 0 0 2 1 2 0 0 0 0 0 0 1 0 0 0 0\n",
      " 2 0 0 2 0 0 0 2 1 1 0 2 0 2 0 0 0 2 0 0 0 2 0 2 2 1 1 0 0 0 2 0 0 1 1 0 0\n",
      " 2]\n"
     ]
    }
   ],
   "source": [
    "print(Test_Y)"
   ]
  },
  {
   "cell_type": "code",
   "execution_count": 22,
   "metadata": {},
   "outputs": [
    {
     "name": "stdout",
     "output_type": "stream",
     "text": [
      "[0 0 2 0 2 1 0 0 0 0 2 0 2 0 2 0 0 0 2 0 0 0 0 0 0 0 2 1 0 0 0 2 0 0 0 2 0\n",
      " 2 2 0 0 2 0 0 0 2 0 0 0 0 0 0 0 0 0 2 0 0 0 0 0 0 0 2 0 0 0 0 0 0 0 2 2 0\n",
      " 0 0 0 2 0 0 0 0 0 2 0 0 0 0 0 2 0 0 2 0 2 0 2 2 2 2 0 2 0 0 0 0 0 0 0 0 0\n",
      " 0 0 0 0 2 2 2 0 0 2 0 1 2 0 0 0 0 0 0 0 2 2 0 2 0 0 0 2 2 0 2 0 0 0 0 0 0\n",
      " 0 2 0 0 0 0 0 2 0 0 0 0 2 0 2 2 0 2 0 0 2 2 2 2 0 0 0 2 0 0 2 0 0 0 0 2 0\n",
      " 0 0 2 0 2 2 0 0 0 0 0 0 0 2 0 0 2 0 0 2 0 0 2 0 0 2 0 2 1 2 0 0 2 2 2 0 0\n",
      " 2 0 2 0 2 0 0 2 0 0 2 0 0 2 2 2 1 2 0 0 0 0 2 0 0 0 0 0 0 0 0 0 2 0 0 0 0\n",
      " 2 0 0 2 0 0 0 0 0 2 0 2 0 2 0 0 1 2 0 2 0 0 0 2 2 0 0 0 0 0 0 0 0 2 0 0 2\n",
      " 2]\n"
     ]
    }
   ],
   "source": [
    "print(y_pred)"
   ]
  },
  {
   "cell_type": "code",
   "execution_count": 23,
   "metadata": {},
   "outputs": [
    {
     "data": {
      "text/plain": [
       "array([[132,   1,  21],\n",
       "       [ 32,   3,  11],\n",
       "       [ 40,   2,  55]], dtype=int64)"
      ]
     },
     "execution_count": 23,
     "metadata": {},
     "output_type": "execute_result"
    }
   ],
   "source": [
    "# Matriz de confusion\n",
    "cm = confusion_matrix(Test_Y, y_pred, labels=[0, 1, 2])\n",
    "cm "
   ]
  },
  {
   "cell_type": "code",
   "execution_count": 24,
   "metadata": {},
   "outputs": [
    {
     "data": {
      "image/png": "[encoded data removed]",
      "text/plain": [
       "<Figure size 432x288 with 2 Axes>"
      ]
     },
     "metadata": {
      "needs_background": "light"
     },
     "output_type": "display_data"
    }
   ],
   "source": [
    "\n",
    "ax= plt.subplot()\n",
    "sns.heatmap(cm, annot=True, ax = ax); #annot=True to annotate cells\n",
    "\n",
    "# Etiquetas, Título and medidas\n",
    "ax.set_xlabel('Etiquetas Predictivas');ax.set_ylabel('Etiquetas Verdaderas'); \n",
    "ax.set_title('MATRIZ DE CONFUSIÓN'); \n",
    "ax.xaxis.set_ticklabels(['Positivos', 'Neutros','Negativos']); ax.yaxis.set_ticklabels(['Positivos', 'Neutros','Negativos']);"
   ]
  },
  {
   "cell_type": "code",
   "execution_count": 26,
   "metadata": {},
   "outputs": [],
   "source": [
    "names = ['Id', 'tweet', 'polaridad']\n",
    "df_prediccion = pd.read_csv('dev.txt', sep='\\t',names=names)"
   ]
  },
  {
   "cell_type": "code",
   "execution_count": 27,
   "metadata": {},
   "outputs": [
    {
     "data": {
      "text/html": [
       "<div>\n",
       "<style scoped>\n",
       "    .dataframe tbody tr th:only-of-type {\n",
       "        vertical-align: middle;\n",
       "    }\n",
       "\n",
       "    .dataframe tbody tr th {\n",
       "        vertical-align: top;\n",
       "    }\n",
       "\n",
       "    .dataframe thead th {\n",
       "        text-align: right;\n",
       "    }\n",
       "</style>\n",
       "<table border=\"1\" class=\"dataframe\">\n",
       "  <thead>\n",
       "    <tr style=\"text-align: right;\">\n",
       "      <th></th>\n",
       "      <th>Id</th>\n",
       "      <th>tweet</th>\n",
       "      <th>polaridad</th>\n",
       "    </tr>\n",
       "  </thead>\n",
       "  <tbody>\n",
       "    <tr>\n",
       "      <th>0</th>\n",
       "      <td>815059714492878848</td>\n",
       "      <td>Inteligente respuesta de Putin</td>\n",
       "      <td>P</td>\n",
       "    </tr>\n",
       "    <tr>\n",
       "      <th>1</th>\n",
       "      <td>819399527715192833</td>\n",
       "      <td>@FridaCoral ven a chetu mejor</td>\n",
       "      <td>NEU</td>\n",
       "    </tr>\n",
       "    <tr>\n",
       "      <th>2</th>\n",
       "      <td>819383868704759808</td>\n",
       "      <td>Danniel es como mi amor frustrado</td>\n",
       "      <td>N</td>\n",
       "    </tr>\n",
       "    <tr>\n",
       "      <th>3</th>\n",
       "      <td>819320272423526400</td>\n",
       "      <td>#EsDeMexicanos dejar todo para el último día.</td>\n",
       "      <td>N</td>\n",
       "    </tr>\n",
       "    <tr>\n",
       "      <th>4</th>\n",
       "      <td>819389873035608064</td>\n",
       "      <td>Estoy aprendiendo a hacer lo mismo, pero difer...</td>\n",
       "      <td>P</td>\n",
       "    </tr>\n",
       "  </tbody>\n",
       "</table>\n",
       "</div>"
      ],
      "text/plain": [
       "                   Id                                              tweet  \\\n",
       "0  815059714492878848                     Inteligente respuesta de Putin   \n",
       "1  819399527715192833                      @FridaCoral ven a chetu mejor   \n",
       "2  819383868704759808                  Danniel es como mi amor frustrado   \n",
       "3  819320272423526400      #EsDeMexicanos dejar todo para el último día.   \n",
       "4  819389873035608064  Estoy aprendiendo a hacer lo mismo, pero difer...   \n",
       "\n",
       "  polaridad  \n",
       "0         P  \n",
       "1       NEU  \n",
       "2         N  \n",
       "3         N  \n",
       "4         P  "
      ]
     },
     "execution_count": 27,
     "metadata": {},
     "output_type": "execute_result"
    }
   ],
   "source": [
    "df_prediccion.head(5)"
   ]
  },
  {
   "cell_type": "code",
   "execution_count": 30,
   "metadata": {},
   "outputs": [
    {
     "name": "stdout",
     "output_type": "stream",
     "text": [
      "['alado', 'vienen', 'comiendo', 'pan', 'enfrente', 'pobres']\n"
     ]
    }
   ],
   "source": [
    "df_prediccion['tweet'] = [entry.lower() for entry in df_prediccion['tweet']]\n",
    "# Paso - 1c: Tokenización: en este cada entrada en el corpus se dividirá en un conjunto de palabras\n",
    "df_prediccion['tweet']= [word_tokenize(entry) for entry in df_prediccion['tweet']]\n",
    "\n",
    "# Paso - 1d: Eliminar palabras de detención, no numéricas y realizar el vástago / lemmenting de palabras.\n",
    "# WordNetLemmatizer requiere etiquetas Pos para comprender si la palabra es sustantivo o verbo o adjetivo, etc. \n",
    "# De manera predeterminada, está configurada como Noun\n",
    "tag_map = defaultdict(lambda : wn.NOUN)\n",
    "tag_map['J'] = wn.ADJ\n",
    "tag_map['V'] = wn.VERB\n",
    "tag_map['R'] = wn.ADV\n",
    "for index,entry in enumerate(df_prediccion['tweet']):\n",
    "     # Declarar la lista vacía para almacenar las palabras que siguen las reglas de este paso\n",
    "    Final_words = []\n",
    "    # Inicializando WordNetLemmatizer ()\n",
    "    word_Lemmatized = WordNetLemmatizer()\n",
    "    # La función pos_tag a continuación proporcionará la 'etiqueta', es decir, si la palabra es Sustantivo (N) o Verbo (V) u otra cosa.\n",
    "    for word, tag in pos_tag(entry):\n",
    "        # La siguiente condición es verificar las palabras Stop y considerar solo alfabetos\n",
    "        if word not in stopwords.words('spanish') and word.isalpha():\n",
    "            word_Final = word_Lemmatized.lemmatize(word,tag_map[tag[0]])\n",
    "            Final_words.append(word_Final)\n",
    "    # El conjunto final procesado de palabras para cada iteración se almacenará en 'text_final'\n",
    "    df_prediccion.loc[index,'tweet_final'] = str(Final_words)\n",
    "print(df_prediccion.loc[index,'tweet_final'])"
   ]
  },
  {
   "cell_type": "code",
   "execution_count": 31,
   "metadata": {},
   "outputs": [
    {
     "data": {
      "text/html": [
       "<div>\n",
       "<style scoped>\n",
       "    .dataframe tbody tr th:only-of-type {\n",
       "        vertical-align: middle;\n",
       "    }\n",
       "\n",
       "    .dataframe tbody tr th {\n",
       "        vertical-align: top;\n",
       "    }\n",
       "\n",
       "    .dataframe thead th {\n",
       "        text-align: right;\n",
       "    }\n",
       "</style>\n",
       "<table border=\"1\" class=\"dataframe\">\n",
       "  <thead>\n",
       "    <tr style=\"text-align: right;\">\n",
       "      <th></th>\n",
       "      <th>Id</th>\n",
       "      <th>tweet</th>\n",
       "      <th>polaridad</th>\n",
       "      <th>tweet_final</th>\n",
       "    </tr>\n",
       "  </thead>\n",
       "  <tbody>\n",
       "    <tr>\n",
       "      <th>0</th>\n",
       "      <td>815059714492878848</td>\n",
       "      <td>[inteligente, respuesta, de, putin]</td>\n",
       "      <td>P</td>\n",
       "      <td>['inteligente', 'respuesta', 'putin']</td>\n",
       "    </tr>\n",
       "    <tr>\n",
       "      <th>1</th>\n",
       "      <td>819399527715192833</td>\n",
       "      <td>[@, fridacoral, ven, a, chetu, mejor]</td>\n",
       "      <td>NEU</td>\n",
       "      <td>['fridacoral', 'ven', 'chetu', 'mejor']</td>\n",
       "    </tr>\n",
       "    <tr>\n",
       "      <th>2</th>\n",
       "      <td>819383868704759808</td>\n",
       "      <td>[danniel, es, como, mi, amor, frustrado]</td>\n",
       "      <td>N</td>\n",
       "      <td>['danniel', 'amor', 'frustrado']</td>\n",
       "    </tr>\n",
       "    <tr>\n",
       "      <th>3</th>\n",
       "      <td>819320272423526400</td>\n",
       "      <td>[#, esdemexicanos, dejar, todo, para, el, últi...</td>\n",
       "      <td>N</td>\n",
       "      <td>['esdemexicanos', 'dejar', 'último', 'día']</td>\n",
       "    </tr>\n",
       "    <tr>\n",
       "      <th>4</th>\n",
       "      <td>819389873035608064</td>\n",
       "      <td>[estoy, aprendiendo, a, hacer, lo, mismo, ,, p...</td>\n",
       "      <td>P</td>\n",
       "      <td>['aprendiendo', 'hacer', 'mismo', 'diferente']</td>\n",
       "    </tr>\n",
       "  </tbody>\n",
       "</table>\n",
       "</div>"
      ],
      "text/plain": [
       "                   Id                                              tweet  \\\n",
       "0  815059714492878848                [inteligente, respuesta, de, putin]   \n",
       "1  819399527715192833              [@, fridacoral, ven, a, chetu, mejor]   \n",
       "2  819383868704759808           [danniel, es, como, mi, amor, frustrado]   \n",
       "3  819320272423526400  [#, esdemexicanos, dejar, todo, para, el, últi...   \n",
       "4  819389873035608064  [estoy, aprendiendo, a, hacer, lo, mismo, ,, p...   \n",
       "\n",
       "  polaridad                                     tweet_final  \n",
       "0         P           ['inteligente', 'respuesta', 'putin']  \n",
       "1       NEU         ['fridacoral', 'ven', 'chetu', 'mejor']  \n",
       "2         N                ['danniel', 'amor', 'frustrado']  \n",
       "3         N     ['esdemexicanos', 'dejar', 'último', 'día']  \n",
       "4         P  ['aprendiendo', 'hacer', 'mismo', 'diferente']  "
      ]
     },
     "execution_count": 31,
     "metadata": {},
     "output_type": "execute_result"
    }
   ],
   "source": [
    "df_prediccion.head(5)"
   ]
  },
  {
   "cell_type": "code",
   "execution_count": 32,
   "metadata": {},
   "outputs": [],
   "source": [
    "df_prediccion['polaridad_P']=  SVM.predict(Tfidf_vect.transform(df_prediccion['tweet_final']))"
   ]
  },
  {
   "cell_type": "code",
   "execution_count": 34,
   "metadata": {},
   "outputs": [
    {
     "data": {
      "text/html": [
       "<div>\n",
       "<style scoped>\n",
       "    .dataframe tbody tr th:only-of-type {\n",
       "        vertical-align: middle;\n",
       "    }\n",
       "\n",
       "    .dataframe tbody tr th {\n",
       "        vertical-align: top;\n",
       "    }\n",
       "\n",
       "    .dataframe thead th {\n",
       "        text-align: right;\n",
       "    }\n",
       "</style>\n",
       "<table border=\"1\" class=\"dataframe\">\n",
       "  <thead>\n",
       "    <tr style=\"text-align: right;\">\n",
       "      <th></th>\n",
       "      <th>Id</th>\n",
       "      <th>tweet</th>\n",
       "      <th>polaridad</th>\n",
       "      <th>tweet_final</th>\n",
       "      <th>polaridad_P</th>\n",
       "    </tr>\n",
       "  </thead>\n",
       "  <tbody>\n",
       "    <tr>\n",
       "      <th>0</th>\n",
       "      <td>815059714492878848</td>\n",
       "      <td>[inteligente, respuesta, de, putin]</td>\n",
       "      <td>P</td>\n",
       "      <td>['inteligente', 'respuesta', 'putin']</td>\n",
       "      <td>0</td>\n",
       "    </tr>\n",
       "    <tr>\n",
       "      <th>1</th>\n",
       "      <td>819399527715192833</td>\n",
       "      <td>[@, fridacoral, ven, a, chetu, mejor]</td>\n",
       "      <td>NEU</td>\n",
       "      <td>['fridacoral', 'ven', 'chetu', 'mejor']</td>\n",
       "      <td>0</td>\n",
       "    </tr>\n",
       "    <tr>\n",
       "      <th>2</th>\n",
       "      <td>819383868704759808</td>\n",
       "      <td>[danniel, es, como, mi, amor, frustrado]</td>\n",
       "      <td>N</td>\n",
       "      <td>['danniel', 'amor', 'frustrado']</td>\n",
       "      <td>0</td>\n",
       "    </tr>\n",
       "    <tr>\n",
       "      <th>3</th>\n",
       "      <td>819320272423526400</td>\n",
       "      <td>[#, esdemexicanos, dejar, todo, para, el, últi...</td>\n",
       "      <td>N</td>\n",
       "      <td>['esdemexicanos', 'dejar', 'último', 'día']</td>\n",
       "      <td>0</td>\n",
       "    </tr>\n",
       "    <tr>\n",
       "      <th>4</th>\n",
       "      <td>819389873035608064</td>\n",
       "      <td>[estoy, aprendiendo, a, hacer, lo, mismo, ,, p...</td>\n",
       "      <td>P</td>\n",
       "      <td>['aprendiendo', 'hacer', 'mismo', 'diferente']</td>\n",
       "      <td>1</td>\n",
       "    </tr>\n",
       "    <tr>\n",
       "      <th>...</th>\n",
       "      <td>...</td>\n",
       "      <td>...</td>\n",
       "      <td>...</td>\n",
       "      <td>...</td>\n",
       "      <td>...</td>\n",
       "    </tr>\n",
       "    <tr>\n",
       "      <th>505</th>\n",
       "      <td>819221868574085121</td>\n",
       "      <td>[@, natsflorees, no, todo, es, tan, malo]</td>\n",
       "      <td>NEU</td>\n",
       "      <td>['natsflorees', 'tan', 'malo']</td>\n",
       "      <td>0</td>\n",
       "    </tr>\n",
       "    <tr>\n",
       "      <th>506</th>\n",
       "      <td>818686841381601280</td>\n",
       "      <td>[@, richo_amezquita, a, ver, ,, ya, ,, no, sea...</td>\n",
       "      <td>N</td>\n",
       "      <td>['ver', 'así']</td>\n",
       "      <td>2</td>\n",
       "    </tr>\n",
       "    <tr>\n",
       "      <th>507</th>\n",
       "      <td>819012309880360960</td>\n",
       "      <td>[ocupo, el, gym, en, serio, #, videomtv2016, a...</td>\n",
       "      <td>NEU</td>\n",
       "      <td>['ocupo', 'gym', 'serio', 'abraham', 'mateo']</td>\n",
       "      <td>0</td>\n",
       "    </tr>\n",
       "    <tr>\n",
       "      <th>508</th>\n",
       "      <td>819306396378275840</td>\n",
       "      <td>[empezar, de, nuevo, con, la, dieta, es, tan, ...</td>\n",
       "      <td>N</td>\n",
       "      <td>['empezar', 'nuevo', 'dieta', 'tan', 'difícil']</td>\n",
       "      <td>0</td>\n",
       "    </tr>\n",
       "    <tr>\n",
       "      <th>509</th>\n",
       "      <td>818801865148235776</td>\n",
       "      <td>[los, de, alado, vienen, comiendo, pan, enfren...</td>\n",
       "      <td>N</td>\n",
       "      <td>['alado', 'vienen', 'comiendo', 'pan', 'enfren...</td>\n",
       "      <td>0</td>\n",
       "    </tr>\n",
       "  </tbody>\n",
       "</table>\n",
       "<p>510 rows × 5 columns</p>\n",
       "</div>"
      ],
      "text/plain": [
       "                     Id                                              tweet  \\\n",
       "0    815059714492878848                [inteligente, respuesta, de, putin]   \n",
       "1    819399527715192833              [@, fridacoral, ven, a, chetu, mejor]   \n",
       "2    819383868704759808           [danniel, es, como, mi, amor, frustrado]   \n",
       "3    819320272423526400  [#, esdemexicanos, dejar, todo, para, el, últi...   \n",
       "4    819389873035608064  [estoy, aprendiendo, a, hacer, lo, mismo, ,, p...   \n",
       "..                  ...                                                ...   \n",
       "505  819221868574085121          [@, natsflorees, no, todo, es, tan, malo]   \n",
       "506  818686841381601280  [@, richo_amezquita, a, ver, ,, ya, ,, no, sea...   \n",
       "507  819012309880360960  [ocupo, el, gym, en, serio, #, videomtv2016, a...   \n",
       "508  819306396378275840  [empezar, de, nuevo, con, la, dieta, es, tan, ...   \n",
       "509  818801865148235776  [los, de, alado, vienen, comiendo, pan, enfren...   \n",
       "\n",
       "    polaridad                                        tweet_final  polaridad_P  \n",
       "0           P              ['inteligente', 'respuesta', 'putin']            0  \n",
       "1         NEU            ['fridacoral', 'ven', 'chetu', 'mejor']            0  \n",
       "2           N                   ['danniel', 'amor', 'frustrado']            0  \n",
       "3           N        ['esdemexicanos', 'dejar', 'último', 'día']            0  \n",
       "4           P     ['aprendiendo', 'hacer', 'mismo', 'diferente']            1  \n",
       "..        ...                                                ...          ...  \n",
       "505       NEU                     ['natsflorees', 'tan', 'malo']            0  \n",
       "506         N                                     ['ver', 'así']            2  \n",
       "507       NEU      ['ocupo', 'gym', 'serio', 'abraham', 'mateo']            0  \n",
       "508         N    ['empezar', 'nuevo', 'dieta', 'tan', 'difícil']            0  \n",
       "509         N  ['alado', 'vienen', 'comiendo', 'pan', 'enfren...            0  \n",
       "\n",
       "[510 rows x 5 columns]"
      ]
     },
     "execution_count": 34,
     "metadata": {},
     "output_type": "execute_result"
    }
   ],
   "source": [
    "df_prediccion.head(550)"
   ]
  }
 ],
 "metadata": {
  "kernelspec": {
   "display_name": "Python 3",
   "language": "python",
   "name": "python3"
  },
  "language_info": {
   "codemirror_mode": {
    "name": "ipython",
    "version": 3
   },
   "file_extension": ".py",
   "mimetype": "text/x-python",
   "name": "python",
   "nbconvert_exporter": "python",
   "pygments_lexer": "ipython3",
   "version": "3.7.6"
  }
 },
 "nbformat": 4,
 "nbformat_minor": 4
}
