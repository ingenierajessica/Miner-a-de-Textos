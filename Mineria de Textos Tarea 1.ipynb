{
 "cells": [
  {
   "cell_type": "code",
   "execution_count": 1,
   "metadata": {},
   "outputs": [],
   "source": [
    "#!/usr/bin/env python\n",
    "# -*- coding: utf-8 -*-"
   ]
  },
  {
   "cell_type": "markdown",
   "metadata": {},
   "source": [
    "# MINERÍA DE TEXTOS\n",
    "\n",
    "## Alumna: Jessica Sarahi Méndez Rincón\n",
    "\n",
    "\n",
    "###    Tarea 1 "
   ]
  },
  {
   "cell_type": "markdown",
   "metadata": {},
   "source": [
    "Hacer un programa en Python que:\n",
    "    \n",
    "    \n",
    "1. Lea el archivo “trabalenguas.txt”\n",
    "\n",
    "\n",
    "2. Extraiga cada trabalenguas en una sola línea.\n",
    "\n",
    "\n",
    "Nota: Los trabalenguas están denotados entre comillas. Las comillas\n",
    "    \n",
    "    \n",
    "deben eliminarse.\n",
    "\n",
    "\n",
    "1. Evaluar las diferencias de implementación en Python2 y Python3.\n"
   ]
  },
  {
   "cell_type": "markdown",
   "metadata": {},
   "source": [
    "#### ------------------------------------Recordando algunas funciones en clase"
   ]
  },
  {
   "cell_type": "code",
   "execution_count": 2,
   "metadata": {},
   "outputs": [],
   "source": [
    "f = open('tarea_trabalenguas.txt', 'r',encoding='utf-8')"
   ]
  },
  {
   "cell_type": "code",
   "execution_count": 3,
   "metadata": {},
   "outputs": [
    {
     "data": {
      "text/plain": [
       "<_io.TextIOWrapper name='tarea_trabalenguas.txt' mode='r' encoding='utf-8'>"
      ]
     },
     "execution_count": 3,
     "metadata": {},
     "output_type": "execute_result"
    }
   ],
   "source": [
    "f"
   ]
  },
  {
   "cell_type": "code",
   "execution_count": 4,
   "metadata": {},
   "outputs": [
    {
     "data": {
      "text/plain": [
       "<function TextIOWrapper.read(size=-1, /)>"
      ]
     },
     "execution_count": 4,
     "metadata": {},
     "output_type": "execute_result"
    }
   ],
   "source": [
    "f.read"
   ]
  },
  {
   "cell_type": "code",
   "execution_count": 5,
   "metadata": {},
   "outputs": [
    {
     "data": {
      "text/plain": [
       "'\\ufeffTAREA 1 MINERIA DE TEXTOS: Trabalenguas\\n'"
      ]
     },
     "execution_count": 5,
     "metadata": {},
     "output_type": "execute_result"
    }
   ],
   "source": [
    "f.readline()"
   ]
  },
  {
   "cell_type": "code",
   "execution_count": 6,
   "metadata": {},
   "outputs": [
    {
     "data": {
      "text/plain": [
       "0"
      ]
     },
     "execution_count": 6,
     "metadata": {},
     "output_type": "execute_result"
    }
   ],
   "source": [
    "f.seek(0)"
   ]
  },
  {
   "cell_type": "code",
   "execution_count": 7,
   "metadata": {},
   "outputs": [],
   "source": [
    "text12 = f.read()"
   ]
  },
  {
   "cell_type": "code",
   "execution_count": 8,
   "metadata": {},
   "outputs": [
    {
     "data": {
      "text/plain": [
       "2350"
      ]
     },
     "execution_count": 8,
     "metadata": {},
     "output_type": "execute_result"
    }
   ],
   "source": [
    "len(text12)"
   ]
  },
  {
   "cell_type": "code",
   "execution_count": 9,
   "metadata": {},
   "outputs": [],
   "source": [
    "text13 = text12.splitlines()"
   ]
  },
  {
   "cell_type": "code",
   "execution_count": 10,
   "metadata": {},
   "outputs": [
    {
     "data": {
      "text/plain": [
       "20"
      ]
     },
     "execution_count": 10,
     "metadata": {},
     "output_type": "execute_result"
    }
   ],
   "source": [
    "len(text13)"
   ]
  },
  {
   "cell_type": "code",
   "execution_count": 11,
   "metadata": {},
   "outputs": [
    {
     "data": {
      "text/plain": [
       "'\\ufeffTAREA 1 MINERIA DE TEXTOS: Trabalenguas'"
      ]
     },
     "execution_count": 11,
     "metadata": {},
     "output_type": "execute_result"
    }
   ],
   "source": [
    "text13[0]"
   ]
  },
  {
   "cell_type": "code",
   "execution_count": 12,
   "metadata": {},
   "outputs": [
    {
     "data": {
      "text/plain": [
       "'utf-8'"
      ]
     },
     "execution_count": 12,
     "metadata": {},
     "output_type": "execute_result"
    }
   ],
   "source": [
    "import sys\n",
    "sys.getdefaultencoding()\n"
   ]
  },
  {
   "cell_type": "code",
   "execution_count": 13,
   "metadata": {},
   "outputs": [
    {
     "data": {
      "text/plain": [
       "'cp1252'"
      ]
     },
     "execution_count": 13,
     "metadata": {},
     "output_type": "execute_result"
    }
   ],
   "source": [
    "sys.stdin.encoding"
   ]
  },
  {
   "cell_type": "markdown",
   "metadata": {},
   "source": [
    "### ------------------Tarea Punto 1 Leer el archivo Trabalenguas.txt"
   ]
  },
  {
   "cell_type": "markdown",
   "metadata": {},
   "source": [
    "##### Incialmente es importante analizar el archivo para verificar si es importante limpiarlo de texto que no vamos a usar."
   ]
  },
  {
   "cell_type": "code",
   "execution_count": 14,
   "metadata": {},
   "outputs": [
    {
     "name": "stdout",
     "output_type": "stream",
     "text": [
      "﻿TAREA 1 MINERIA DE TEXTOS: Trabalenguas\n",
      "ESTUDIANTE: LUIS ENRIQUE ARGOTA VEGA\n",
      "\n",
      "\"Tres tristes tigres tragaban trigo en un trigal en tres tristes trastos. En tres tristes trastos, tragaban trigo en un trigal, tres tristes tigres.\"\n",
      "\"El cielo está enladrillado ¿Quién lo desenladrillará? El desenladrillador que lo desenladrille Buen desenladrillador será.\"\n",
      "\"Pégame, pegó a Juan. ¿Quien pegó a Juan? Pégame.\"\n",
      "\"Pablito clavó un clavito en la calva de un calvito, en la calva de un calvito, clavó un clavito Pablito.\"\n",
      "\"El cielo está encurubinquincado ¿Quién lo desencurubinquinquizará? El desencurubinquinquizador que lo desencurubinquinquice Buen desencurubinquinquizador será.\"\n",
      "\"Guerra tenía una parra y Parra tenía una perra; la perra de Parra rompió la parra de Guerra y Guerra aporreó con la porra a la perra. Si la perra de Parra no hubiera roto la parra de Guerra, Guerra no hubiera aporreado con la porra a la perra de Parra...\"\n",
      "\"Si tu gusto gustara del gusto que gusta mi gusto, mi gusto gustaría del gusto que gusta tu gusto, pero como tu gusto no gusta del gusto que gusta mi gusto, mi gusto no gusta del gusto que gusta tu gusto.\"\n",
      "\"Marichucena techaba su choza, y un techador que por allí pasaba le dijo: Marichucena, ¿techas tu choza o techas la ajena? Ni techo mi choza ni techo la ajena que techo la choza de Marichucena.\"\n",
      "\"El volcán del parangaracutimiricuaro se quiere desparangaracutirimicuar, ¿Quién será el gran desparangaracutirimicuador que logre desparangaricutirimicuar al volcán del parangaracutimiricuaro?\"\n",
      "\"Salió, el Sábalo sabio, salió el sábado.\"\n",
      "\"La razón de la sinrazón que a mi razón se hace, de tal manera mi razón enfurece que con razón me quejo de la vuestra fermosura.\"\n",
      "\"Paco peco chico rico le gritaba como loco a su tío Federico y este dijo: poco a poco paco peco poco pico.\"\n",
      "\"Si Pancha plancha con cuatro planchas, ¿con cuantas planchas plancha Pancha?\"\n",
      "\"Tras tres tristes trineos, triste trota Tristán.\"\n",
      "\"El cielo está encancarabincantimpamperulizado, ¿Quién lo desencancarabincantimpamperulizará? El desencancarabincantimpamperulizador que lo desencancarabincantimpamperulize, buen desencancarabincantimpamperulizador será.\"\n",
      "\"Compadre cómpreme un coco, Compadre no compro coco, porque como poco coco como, poco coco compro.\"\n",
      "\"Si cien sierras sierran cien cipreses seiscientas sierras sierran seiscientos cipreses.\"\n",
      "\n"
     ]
    }
   ],
   "source": [
    "f = open ('tarea_trabalenguas.txt','r', encoding='utf-8')\n",
    "mensaje = f.read()\n",
    "print(mensaje)\n",
    "f.close()"
   ]
  },
  {
   "cell_type": "markdown",
   "metadata": {},
   "source": [
    "##### Determinamos que hay que quitar las 3 primeras líneas. Lo intento con las siguientes instrucciones"
   ]
  },
  {
   "cell_type": "code",
   "execution_count": 15,
   "metadata": {},
   "outputs": [
    {
     "name": "stdout",
     "output_type": "stream",
     "text": [
      "['\"Tres tristes tigres tragaban trigo en un trigal en tres tristes trastos. En tres tristes trastos, tragaban trigo en un trigal, tres tristes tigres.\"\\n', '\"El cielo está enladrillado ¿Quién lo desenladrillará? El desenladrillador que lo desenladrille Buen desenladrillador será.\"\\n', '\"Pégame, pegó a Juan. ¿Quien pegó a Juan? Pégame.\"\\n', '\"Pablito clavó un clavito en la calva de un calvito, en la calva de un calvito, clavó un clavito Pablito.\"\\n', '\"El cielo está encurubinquincado ¿Quién lo desencurubinquinquizará? El desencurubinquinquizador que lo desencurubinquinquice Buen desencurubinquinquizador será.\"\\n', '\"Guerra tenía una parra y Parra tenía una perra; la perra de Parra rompió la parra de Guerra y Guerra aporreó con la porra a la perra. Si la perra de Parra no hubiera roto la parra de Guerra, Guerra no hubiera aporreado con la porra a la perra de Parra...\"\\n', '\"Si tu gusto gustara del gusto que gusta mi gusto, mi gusto gustaría del gusto que gusta tu gusto, pero como tu gusto no gusta del gusto que gusta mi gusto, mi gusto no gusta del gusto que gusta tu gusto.\"\\n', '\"Marichucena techaba su choza, y un techador que por allí pasaba le dijo: Marichucena, ¿techas tu choza o techas la ajena? Ni techo mi choza ni techo la ajena que techo la choza de Marichucena.\"\\n', '\"El volcán del parangaracutimiricuaro se quiere desparangaracutirimicuar, ¿Quién será el gran desparangaracutirimicuador que logre desparangaricutirimicuar al volcán del parangaracutimiricuaro?\"\\n', '\"Salió, el Sábalo sabio, salió el sábado.\"\\n', '\"La razón de la sinrazón que a mi razón se hace, de tal manera mi razón enfurece que con razón me quejo de la vuestra fermosura.\"\\n', '\"Paco peco chico rico le gritaba como loco a su tío Federico y este dijo: poco a poco paco peco poco pico.\"\\n', '\"Si Pancha plancha con cuatro planchas, ¿con cuantas planchas plancha Pancha?\"\\n', '\"Tras tres tristes trineos, triste trota Tristán.\"\\n', '\"El cielo está encancarabincantimpamperulizado, ¿Quién lo desencancarabincantimpamperulizará? El desencancarabincantimpamperulizador que lo desencancarabincantimpamperulize, buen desencancarabincantimpamperulizador será.\"\\n', '\"Compadre cómpreme un coco, Compadre no compro coco, porque como poco coco como, poco coco compro.\"\\n', '\"Si cien sierras sierran cien cipreses seiscientas sierras sierran seiscientos cipreses.\"\\n']\n"
     ]
    }
   ],
   "source": [
    "f = open ('tarea_trabalenguas.txt','r', encoding='utf-8')\n",
    "mensaje2 = f.readlines()[3:]\n",
    "print(mensaje2)\n",
    "f.close()\n",
    "\n",
    "#mensaje2 = str(mensaje2)\n",
    "#mensaje3=mensaje2.splitlines()\n",
    "#print(mensaje3)"
   ]
  },
  {
   "cell_type": "markdown",
   "metadata": {},
   "source": [
    "##### Efectivamente se eliminan las líneas no necesarias, pero hay que quitar las comillas y los saltos de línea, por lo que no encontre otra forma que guardarlo en un nuevo archivo donde guardamos lo que necesitamos."
   ]
  },
  {
   "cell_type": "code",
   "execution_count": 16,
   "metadata": {},
   "outputs": [
    {
     "name": "stdout",
     "output_type": "stream",
     "text": [
      "Tres tristes tigres tragaban trigo en un trigal en tres tristes trastos. En tres tristes trastos, tragaban trigo en un trigal, tres tristes tigres.\n",
      "\n",
      "El cielo está enladrillado ¿Quién lo desenladrillará? El desenladrillador que lo desenladrille Buen desenladrillador será.\n",
      "\n",
      "Pégame, pegó a Juan. ¿Quien pegó a Juan? Pégame.\n",
      "\n",
      "Pablito clavó un clavito en la calva de un calvito, en la calva de un calvito, clavó un clavito Pablito.\n",
      "\n",
      "El cielo está encurubinquincado ¿Quién lo desencurubinquinquizará? El desencurubinquinquizador que lo desencurubinquinquice Buen desencurubinquinquizador será.\n",
      "\n",
      "Guerra tenía una parra y Parra tenía una perra; la perra de Parra rompió la parra de Guerra y Guerra aporreó con la porra a la perra. Si la perra de Parra no hubiera roto la parra de Guerra, Guerra no hubiera aporreado con la porra a la perra de Parra...\n",
      "\n",
      "Si tu gusto gustara del gusto que gusta mi gusto, mi gusto gustaría del gusto que gusta tu gusto, pero como tu gusto no gusta del gusto que gusta mi gusto, mi gusto no gusta del gusto que gusta tu gusto.\n",
      "\n",
      "Marichucena techaba su choza, y un techador que por allí pasaba le dijo: Marichucena, ¿techas tu choza o techas la ajena? Ni techo mi choza ni techo la ajena que techo la choza de Marichucena.\n",
      "\n",
      "El volcán del parangaracutimiricuaro se quiere desparangaracutirimicuar, ¿Quién será el gran desparangaracutirimicuador que logre desparangaricutirimicuar al volcán del parangaracutimiricuaro?\n",
      "\n",
      "Salió, el Sábalo sabio, salió el sábado.\n",
      "\n",
      "La razón de la sinrazón que a mi razón se hace, de tal manera mi razón enfurece que con razón me quejo de la vuestra fermosura.\n",
      "\n",
      "Paco peco chico rico le gritaba como loco a su tío Federico y este dijo: poco a poco paco peco poco pico.\n",
      "\n",
      "Si Pancha plancha con cuatro planchas, ¿con cuantas planchas plancha Pancha?\n",
      "\n",
      "Tras tres tristes trineos, triste trota Tristán.\n",
      "\n",
      "El cielo está encancarabincantimpamperulizado, ¿Quién lo desencancarabincantimpamperulizará? El desencancarabincantimpamperulizador que lo desencancarabincantimpamperulize, buen desencancarabincantimpamperulizador será.\n",
      "\n",
      "Compadre cómpreme un coco, Compadre no compro coco, porque como poco coco como, poco coco compro.\n",
      "\n",
      "Si cien sierras sierran cien cipreses seiscientas sierras sierran seiscientos cipreses.\n",
      "\n"
     ]
    }
   ],
   "source": [
    "t = open ('tarea_trabalenguas.txt','r', encoding='utf-8')\n",
    "#t2= t.readline()[3:]\n",
    "aa = open(\"trabalenguas_limpio.txt\", 'w', encoding='utf-8')\n",
    "for line in t:\n",
    "    if (line.startswith('\"')):\n",
    "        line= line.replace('\"', '')  \n",
    "        print (line)\n",
    "        aa.write(line)\n",
    "t.close()\n",
    "aa.close()"
   ]
  },
  {
   "cell_type": "markdown",
   "metadata": {},
   "source": [
    "##### Al abrir el archivo quitamos nuevamente los saltos de líneas"
   ]
  },
  {
   "cell_type": "code",
   "execution_count": 17,
   "metadata": {},
   "outputs": [
    {
     "name": "stdout",
     "output_type": "stream",
     "text": [
      "Tres tristes tigres tragaban trigo en un trigal en tres tristes trastos. En tres tristes trastos, tragaban trigo en un trigal, tres tristes tigres.\n",
      "El cielo está enladrillado ¿Quién lo desenladrillará? El desenladrillador que lo desenladrille Buen desenladrillador será.\n",
      "Pégame, pegó a Juan. ¿Quien pegó a Juan? Pégame.\n",
      "Pablito clavó un clavito en la calva de un calvito, en la calva de un calvito, clavó un clavito Pablito.\n",
      "El cielo está encurubinquincado ¿Quién lo desencurubinquinquizará? El desencurubinquinquizador que lo desencurubinquinquice Buen desencurubinquinquizador será.\n",
      "Guerra tenía una parra y Parra tenía una perra; la perra de Parra rompió la parra de Guerra y Guerra aporreó con la porra a la perra. Si la perra de Parra no hubiera roto la parra de Guerra, Guerra no hubiera aporreado con la porra a la perra de Parra...\n",
      "Si tu gusto gustara del gusto que gusta mi gusto, mi gusto gustaría del gusto que gusta tu gusto, pero como tu gusto no gusta del gusto que gusta mi gusto, mi gusto no gusta del gusto que gusta tu gusto.\n",
      "Marichucena techaba su choza, y un techador que por allí pasaba le dijo: Marichucena, ¿techas tu choza o techas la ajena? Ni techo mi choza ni techo la ajena que techo la choza de Marichucena.\n",
      "El volcán del parangaracutimiricuaro se quiere desparangaracutirimicuar, ¿Quién será el gran desparangaracutirimicuador que logre desparangaricutirimicuar al volcán del parangaracutimiricuaro?\n",
      "Salió, el Sábalo sabio, salió el sábado.\n",
      "La razón de la sinrazón que a mi razón se hace, de tal manera mi razón enfurece que con razón me quejo de la vuestra fermosura.\n",
      "Paco peco chico rico le gritaba como loco a su tío Federico y este dijo: poco a poco paco peco poco pico.\n",
      "Si Pancha plancha con cuatro planchas, ¿con cuantas planchas plancha Pancha?\n",
      "Tras tres tristes trineos, triste trota Tristán.\n",
      "El cielo está encancarabincantimpamperulizado, ¿Quién lo desencancarabincantimpamperulizará? El desencancarabincantimpamperulizador que lo desencancarabincantimpamperulize, buen desencancarabincantimpamperulizador será.\n",
      "Compadre cómpreme un coco, Compadre no compro coco, porque como poco coco como, poco coco compro.\n",
      "Si cien sierras sierran cien cipreses seiscientas sierras sierran seiscientos cipreses.\n"
     ]
    }
   ],
   "source": [
    "archivoTrabajo = open('trabalenguas_limpio.txt', 'r', encoding='utf-8') \n",
    "txt1 = archivoTrabajo.readlines() \n",
    "for line2 in txt1:\n",
    "    line2= line2.replace('\\n', '')  \n",
    "    print (line2)\n",
    "archivoTrabajo.close() "
   ]
  },
  {
   "cell_type": "markdown",
   "metadata": {},
   "source": [
    "##### Otra forma de leerlo pero siguen aparaciendo"
   ]
  },
  {
   "cell_type": "code",
   "execution_count": 18,
   "metadata": {},
   "outputs": [
    {
     "data": {
      "text/plain": [
       "['Tres tristes tigres tragaban trigo en un trigal en tres tristes trastos. En tres tristes trastos, tragaban trigo en un trigal, tres tristes tigres.\\n',\n",
       " 'El cielo está enladrillado ¿Quién lo desenladrillará? El desenladrillador que lo desenladrille Buen desenladrillador será.\\n',\n",
       " 'Pégame, pegó a Juan. ¿Quien pegó a Juan? Pégame.\\n',\n",
       " 'Pablito clavó un clavito en la calva de un calvito, en la calva de un calvito, clavó un clavito Pablito.\\n',\n",
       " 'El cielo está encurubinquincado ¿Quién lo desencurubinquinquizará? El desencurubinquinquizador que lo desencurubinquinquice Buen desencurubinquinquizador será.\\n',\n",
       " 'Guerra tenía una parra y Parra tenía una perra; la perra de Parra rompió la parra de Guerra y Guerra aporreó con la porra a la perra. Si la perra de Parra no hubiera roto la parra de Guerra, Guerra no hubiera aporreado con la porra a la perra de Parra...\\n',\n",
       " 'Si tu gusto gustara del gusto que gusta mi gusto, mi gusto gustaría del gusto que gusta tu gusto, pero como tu gusto no gusta del gusto que gusta mi gusto, mi gusto no gusta del gusto que gusta tu gusto.\\n',\n",
       " 'Marichucena techaba su choza, y un techador que por allí pasaba le dijo: Marichucena, ¿techas tu choza o techas la ajena? Ni techo mi choza ni techo la ajena que techo la choza de Marichucena.\\n',\n",
       " 'El volcán del parangaracutimiricuaro se quiere desparangaracutirimicuar, ¿Quién será el gran desparangaracutirimicuador que logre desparangaricutirimicuar al volcán del parangaracutimiricuaro?\\n',\n",
       " 'Salió, el Sábalo sabio, salió el sábado.\\n',\n",
       " 'La razón de la sinrazón que a mi razón se hace, de tal manera mi razón enfurece que con razón me quejo de la vuestra fermosura.\\n',\n",
       " 'Paco peco chico rico le gritaba como loco a su tío Federico y este dijo: poco a poco paco peco poco pico.\\n',\n",
       " 'Si Pancha plancha con cuatro planchas, ¿con cuantas planchas plancha Pancha?\\n',\n",
       " 'Tras tres tristes trineos, triste trota Tristán.\\n',\n",
       " 'El cielo está encancarabincantimpamperulizado, ¿Quién lo desencancarabincantimpamperulizará? El desencancarabincantimpamperulizador que lo desencancarabincantimpamperulize, buen desencancarabincantimpamperulizador será.\\n',\n",
       " 'Compadre cómpreme un coco, Compadre no compro coco, porque como poco coco como, poco coco compro.\\n',\n",
       " 'Si cien sierras sierran cien cipreses seiscientas sierras sierran seiscientos cipreses.\\n']"
      ]
     },
     "execution_count": 18,
     "metadata": {},
     "output_type": "execute_result"
    }
   ],
   "source": [
    "[l for l in txt1]"
   ]
  },
  {
   "cell_type": "markdown",
   "metadata": {},
   "source": [
    "##### Se lee el archivo de otra forma pero queda como en una cadena y eso no es agradable."
   ]
  },
  {
   "cell_type": "code",
   "execution_count": 19,
   "metadata": {},
   "outputs": [
    {
     "name": "stdout",
     "output_type": "stream",
     "text": [
      "[\"['Tres tristes tigres tragaban trigo en un trigal en tres tristes trastos. En tres tristes trastos, tragaban trigo en un trigal, tres tristes tigres.', 'El cielo está enladrillado ¿Quién lo desenladrillará? El desenladrillador que lo desenladrille Buen desenladrillador será.', 'Pégame, pegó a Juan. ¿Quien pegó a Juan? Pégame.', 'Pablito clavó un clavito en la calva de un calvito, en la calva de un calvito, clavó un clavito Pablito.', 'El cielo está encurubinquincado ¿Quién lo desencurubinquinquizará? El desencurubinquinquizador que lo desencurubinquinquice Buen desencurubinquinquizador será.', 'Guerra tenía una parra y Parra tenía una perra; la perra de Parra rompió la parra de Guerra y Guerra aporreó con la porra a la perra. Si la perra de Parra no hubiera roto la parra de Guerra, Guerra no hubiera aporreado con la porra a la perra de Parra...', 'Si tu gusto gustara del gusto que gusta mi gusto, mi gusto gustaría del gusto que gusta tu gusto, pero como tu gusto no gusta del gusto que gusta mi gusto, mi gusto no gusta del gusto que gusta tu gusto.', 'Marichucena techaba su choza, y un techador que por allí pasaba le dijo: Marichucena, ¿techas tu choza o techas la ajena? Ni techo mi choza ni techo la ajena que techo la choza de Marichucena.', 'El volcán del parangaracutimiricuaro se quiere desparangaracutirimicuar, ¿Quién será el gran desparangaracutirimicuador que logre desparangaricutirimicuar al volcán del parangaracutimiricuaro?', 'Salió, el Sábalo sabio, salió el sábado.', 'La razón de la sinrazón que a mi razón se hace, de tal manera mi razón enfurece que con razón me quejo de la vuestra fermosura.', 'Paco peco chico rico le gritaba como loco a su tío Federico y este dijo: poco a poco paco peco poco pico.', 'Si Pancha plancha con cuatro planchas, ¿con cuantas planchas plancha Pancha?', 'Tras tres tristes trineos, triste trota Tristán.', 'El cielo está encancarabincantimpamperulizado, ¿Quién lo desencancarabincantimpamperulizará? El desencancarabincantimpamperulizador que lo desencancarabincantimpamperulize, buen desencancarabincantimpamperulizador será.', 'Compadre cómpreme un coco, Compadre no compro coco, porque como poco coco como, poco coco compro.', 'Si cien sierras sierran cien cipreses seiscientas sierras sierran seiscientos cipreses.']\"]\n"
     ]
    }
   ],
   "source": [
    "txt2=str(txt1)\n",
    "txt3= txt2.replace('\\\\n', '')  \n",
    "txt4 = txt3.splitlines()\n",
    "print(txt4)"
   ]
  },
  {
   "cell_type": "markdown",
   "metadata": {},
   "source": [
    "##### Otra forma de leerlo pero sigue siendo una cadena"
   ]
  },
  {
   "cell_type": "code",
   "execution_count": 20,
   "metadata": {},
   "outputs": [
    {
     "name": "stdout",
     "output_type": "stream",
     "text": [
      "[\"['Tres tristes tigres tragaban trigo en un trigal en tres tristes trastos. En tres tristes trastos, tragaban trigo en un trigal, tres tristes tigres.', 'El cielo está enladrillado ¿Quién lo desenladrillará? El desenladrillador que lo desenladrille Buen desenladrillador será.', 'Pégame, pegó a Juan. ¿Quien pegó a Juan? Pégame.', 'Pablito clavó un clavito en la calva de un calvito, en la calva de un calvito, clavó un clavito Pablito.', 'El cielo está encurubinquincado ¿Quién lo desencurubinquinquizará? El desencurubinquinquizador que lo desencurubinquinquice Buen desencurubinquinquizador será.', 'Guerra tenía una parra y Parra tenía una perra; la perra de Parra rompió la parra de Guerra y Guerra aporreó con la porra a la perra. Si la perra de Parra no hubiera roto la parra de Guerra, Guerra no hubiera aporreado con la porra a la perra de Parra...', 'Si tu gusto gustara del gusto que gusta mi gusto, mi gusto gustaría del gusto que gusta tu gusto, pero como tu gusto no gusta del gusto que gusta mi gusto, mi gusto no gusta del gusto que gusta tu gusto.', 'Marichucena techaba su choza, y un techador que por allí pasaba le dijo: Marichucena, ¿techas tu choza o techas la ajena? Ni techo mi choza ni techo la ajena que techo la choza de Marichucena.', 'El volcán del parangaracutimiricuaro se quiere desparangaracutirimicuar, ¿Quién será el gran desparangaracutirimicuador que logre desparangaricutirimicuar al volcán del parangaracutimiricuaro?', 'Salió, el Sábalo sabio, salió el sábado.', 'La razón de la sinrazón que a mi razón se hace, de tal manera mi razón enfurece que con razón me quejo de la vuestra fermosura.', 'Paco peco chico rico le gritaba como loco a su tío Federico y este dijo: poco a poco paco peco poco pico.', 'Si Pancha plancha con cuatro planchas, ¿con cuantas planchas plancha Pancha?', 'Tras tres tristes trineos, triste trota Tristán.', 'El cielo está encancarabincantimpamperulizado, ¿Quién lo desencancarabincantimpamperulizará? El desencancarabincantimpamperulizador que lo desencancarabincantimpamperulize, buen desencancarabincantimpamperulizador será.', 'Compadre cómpreme un coco, Compadre no compro coco, porque como poco coco como, poco coco compro.', 'Si cien sierras sierran cien cipreses seiscientas sierras sierran seiscientos cipreses.']\"]\n"
     ]
    }
   ],
   "source": [
    "for line in txt4: txt2.replace('\\n', '')  \n",
    "print(txt4)"
   ]
  },
  {
   "cell_type": "markdown",
   "metadata": {},
   "source": [
    "##### Pienso usar with open para trabajarlo de forma diferente"
   ]
  },
  {
   "cell_type": "code",
   "execution_count": 21,
   "metadata": {},
   "outputs": [
    {
     "name": "stdout",
     "output_type": "stream",
     "text": [
      "Tres tristes tigres tragaban trigo en un trigal en tres tristes trastos. En tres tristes trastos, tragaban trigo en un trigal, tres tristes tigres.\n",
      "El cielo está enladrillado ¿Quién lo desenladrillará? El desenladrillador que lo desenladrille Buen desenladrillador será.\n",
      "Pégame, pegó a Juan. ¿Quien pegó a Juan? Pégame.\n",
      "Pablito clavó un clavito en la calva de un calvito, en la calva de un calvito, clavó un clavito Pablito.\n",
      "El cielo está encurubinquincado ¿Quién lo desencurubinquinquizará? El desencurubinquinquizador que lo desencurubinquinquice Buen desencurubinquinquizador será.\n",
      "Guerra tenía una parra y Parra tenía una perra; la perra de Parra rompió la parra de Guerra y Guerra aporreó con la porra a la perra. Si la perra de Parra no hubiera roto la parra de Guerra, Guerra no hubiera aporreado con la porra a la perra de Parra...\n",
      "Si tu gusto gustara del gusto que gusta mi gusto, mi gusto gustaría del gusto que gusta tu gusto, pero como tu gusto no gusta del gusto que gusta mi gusto, mi gusto no gusta del gusto que gusta tu gusto.\n",
      "Marichucena techaba su choza, y un techador que por allí pasaba le dijo: Marichucena, ¿techas tu choza o techas la ajena? Ni techo mi choza ni techo la ajena que techo la choza de Marichucena.\n",
      "El volcán del parangaracutimiricuaro se quiere desparangaracutirimicuar, ¿Quién será el gran desparangaracutirimicuador que logre desparangaricutirimicuar al volcán del parangaracutimiricuaro?\n",
      "Salió, el Sábalo sabio, salió el sábado.\n",
      "La razón de la sinrazón que a mi razón se hace, de tal manera mi razón enfurece que con razón me quejo de la vuestra fermosura.\n",
      "Paco peco chico rico le gritaba como loco a su tío Federico y este dijo: poco a poco paco peco poco pico.\n",
      "Si Pancha plancha con cuatro planchas, ¿con cuantas planchas plancha Pancha?\n",
      "Tras tres tristes trineos, triste trota Tristán.\n",
      "El cielo está encancarabincantimpamperulizado, ¿Quién lo desencancarabincantimpamperulizará? El desencancarabincantimpamperulizador que lo desencancarabincantimpamperulize, buen desencancarabincantimpamperulizador será.\n",
      "Compadre cómpreme un coco, Compadre no compro coco, porque como poco coco como, poco coco compro.\n",
      "Si cien sierras sierran cien cipreses seiscientas sierras sierran seiscientos cipreses.\n"
     ]
    }
   ],
   "source": [
    "with open('trabalenguas_limpio.txt', 'r', encoding='utf-8')  as file:\n",
    "    for line in file:\n",
    "        if line.endswith('\\n'):\n",
    "            line = line[:-1]\n",
    "        print(line)"
   ]
  },
  {
   "cell_type": "markdown",
   "metadata": {},
   "source": [
    "##### Esteblezco las siguientes líneas para que con la función endswith pueda eliminar el salto de línea, pensando que se podría separar dentro como una lista."
   ]
  },
  {
   "cell_type": "code",
   "execution_count": 22,
   "metadata": {
    "scrolled": true
   },
   "outputs": [
    {
     "name": "stdout",
     "output_type": "stream",
     "text": [
      "Tres tristes tigres tragaban trigo en un trigal en tres tristes trastos. En tres tristes trastos, tragaban trigo en un trigal, tres tristes tigres.\n",
      "El cielo está enladrillado ¿Quién lo desenladrillará? El desenladrillador que lo desenladrille Buen desenladrillador será.\n",
      "Pégame, pegó a Juan. ¿Quien pegó a Juan? Pégame.\n",
      "Pablito clavó un clavito en la calva de un calvito, en la calva de un calvito, clavó un clavito Pablito.\n",
      "El cielo está encurubinquincado ¿Quién lo desencurubinquinquizará? El desencurubinquinquizador que lo desencurubinquinquice Buen desencurubinquinquizador será.\n",
      "Guerra tenía una parra y Parra tenía una perra; la perra de Parra rompió la parra de Guerra y Guerra aporreó con la porra a la perra. Si la perra de Parra no hubiera roto la parra de Guerra, Guerra no hubiera aporreado con la porra a la perra de Parra...\n",
      "Si tu gusto gustara del gusto que gusta mi gusto, mi gusto gustaría del gusto que gusta tu gusto, pero como tu gusto no gusta del gusto que gusta mi gusto, mi gusto no gusta del gusto que gusta tu gusto.\n",
      "Marichucena techaba su choza, y un techador que por allí pasaba le dijo: Marichucena, ¿techas tu choza o techas la ajena? Ni techo mi choza ni techo la ajena que techo la choza de Marichucena.\n",
      "El volcán del parangaracutimiricuaro se quiere desparangaracutirimicuar, ¿Quién será el gran desparangaracutirimicuador que logre desparangaricutirimicuar al volcán del parangaracutimiricuaro?\n",
      "Salió, el Sábalo sabio, salió el sábado.\n",
      "La razón de la sinrazón que a mi razón se hace, de tal manera mi razón enfurece que con razón me quejo de la vuestra fermosura.\n",
      "Paco peco chico rico le gritaba como loco a su tío Federico y este dijo: poco a poco paco peco poco pico.\n",
      "Si Pancha plancha con cuatro planchas, ¿con cuantas planchas plancha Pancha?\n",
      "Tras tres tristes trineos, triste trota Tristán.\n",
      "El cielo está encancarabincantimpamperulizado, ¿Quién lo desencancarabincantimpamperulizará? El desencancarabincantimpamperulizador que lo desencancarabincantimpamperulize, buen desencancarabincantimpamperulizador será.\n",
      "Compadre cómpreme un coco, Compadre no compro coco, porque como poco coco como, poco coco compro.\n",
      "Si cien sierras sierran cien cipreses seiscientas sierras sierran seiscientos cipreses.\n"
     ]
    }
   ],
   "source": [
    "with open('trabalenguas_limpio.txt', 'r', encoding='utf-8')  as file:\n",
    "    lst = list(file)\n",
    "    for line in lst:\n",
    "        if line.endswith('\\n'):\n",
    "            line = line[:-1]\n",
    "        print(line)"
   ]
  },
  {
   "cell_type": "markdown",
   "metadata": {},
   "source": [
    "##### Sin embargo, se requiere que cada trabalengua esté contenida en una línea dentro de una lista\n",
    "##### Por lo que estableciendo la siguientes líneas de código podré lograrlo."
   ]
  },
  {
   "cell_type": "code",
   "execution_count": 23,
   "metadata": {},
   "outputs": [
    {
     "name": "stdout",
     "output_type": "stream",
     "text": [
      "['Tres tristes tigres tragaban trigo en un trigal en tres tristes trastos. En tres tristes trastos, tragaban trigo en un trigal, tres tristes tigres.', 'El cielo está enladrillado ¿Quién lo desenladrillará? El desenladrillador que lo desenladrille Buen desenladrillador será.', 'Pégame, pegó a Juan. ¿Quien pegó a Juan? Pégame.', 'Pablito clavó un clavito en la calva de un calvito, en la calva de un calvito, clavó un clavito Pablito.', 'El cielo está encurubinquincado ¿Quién lo desencurubinquinquizará? El desencurubinquinquizador que lo desencurubinquinquice Buen desencurubinquinquizador será.', 'Guerra tenía una parra y Parra tenía una perra; la perra de Parra rompió la parra de Guerra y Guerra aporreó con la porra a la perra. Si la perra de Parra no hubiera roto la parra de Guerra, Guerra no hubiera aporreado con la porra a la perra de Parra...', 'Si tu gusto gustara del gusto que gusta mi gusto, mi gusto gustaría del gusto que gusta tu gusto, pero como tu gusto no gusta del gusto que gusta mi gusto, mi gusto no gusta del gusto que gusta tu gusto.', 'Marichucena techaba su choza, y un techador que por allí pasaba le dijo: Marichucena, ¿techas tu choza o techas la ajena? Ni techo mi choza ni techo la ajena que techo la choza de Marichucena.', 'El volcán del parangaracutimiricuaro se quiere desparangaracutirimicuar, ¿Quién será el gran desparangaracutirimicuador que logre desparangaricutirimicuar al volcán del parangaracutimiricuaro?', 'Salió, el Sábalo sabio, salió el sábado.', 'La razón de la sinrazón que a mi razón se hace, de tal manera mi razón enfurece que con razón me quejo de la vuestra fermosura.', 'Paco peco chico rico le gritaba como loco a su tío Federico y este dijo: poco a poco paco peco poco pico.', 'Si Pancha plancha con cuatro planchas, ¿con cuantas planchas plancha Pancha?', 'Tras tres tristes trineos, triste trota Tristán.', 'El cielo está encancarabincantimpamperulizado, ¿Quién lo desencancarabincantimpamperulizará? El desencancarabincantimpamperulizador que lo desencancarabincantimpamperulize, buen desencancarabincantimpamperulizador será.', 'Compadre cómpreme un coco, Compadre no compro coco, porque como poco coco como, poco coco compro.', 'Si cien sierras sierran cien cipreses seiscientas sierras sierran seiscientos cipreses.', '']\n"
     ]
    }
   ],
   "source": [
    "with open('trabalenguas_limpio.txt', 'r', encoding='utf-8')  as archivo:\n",
    "    lista = archivo.read().split('\\n')\n",
    "    print(lista)"
   ]
  },
  {
   "cell_type": "markdown",
   "metadata": {},
   "source": [
    "##### Por fin!!!\n",
    "\n",
    "##### de está forma queda contenido cada línea (trabalenguas) en cada elemento de la lista sin comillas y sin '\\n'"
   ]
  }
 ],
 "metadata": {
  "kernelspec": {
   "display_name": "Python 3",
   "language": "python",
   "name": "python3"
  },
  "language_info": {
   "codemirror_mode": {
    "name": "ipython",
    "version": 3
   },
   "file_extension": ".py",
   "mimetype": "text/x-python",
   "name": "python",
   "nbconvert_exporter": "python",
   "pygments_lexer": "ipython3",
   "version": "3.7.2"
  }
 },
 "nbformat": 4,
 "nbformat_minor": 2
}
