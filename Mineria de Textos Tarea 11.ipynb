{
 "cells": [
  {
   "cell_type": "code",
   "execution_count": 1,
   "metadata": {},
   "outputs": [],
   "source": [
    "#!pip install gensim"
   ]
  },
  {
   "cell_type": "markdown",
   "metadata": {},
   "source": [
    "# Trabajando con Gensim - LDA\n",
    "\n",
    "# MINERÍA DE TEXTOS\n",
    "\n",
    "## Alumna: Jessica Sarahi Méndez Rincón\n"
   ]
  },
  {
   "cell_type": "markdown",
   "metadata": {},
   "source": [
    "# Tarea 11\n",
    " \n",
    "Utilizar los topicos generados con LDA como características para clasificar correos electrónicos en SPAM y NO SPAM. Evaluar los modelos de clasificación con distintos números de tópicos para los algoritmos de clasificación previamente utilizados.\n"
   ]
  },
  {
   "cell_type": "code",
   "execution_count": 2,
   "metadata": {},
   "outputs": [],
   "source": [
    "# Importacion de librerias\n",
    "import numpy as np\n",
    "import matplotlib.pyplot as plt\n",
    "import pandas as pd\n",
    "\n",
    "import numpy as np\n",
    "import pandas as pd\n",
    "from sklearn.feature_extraction.text import CountVectorizer\n",
    "from gensim.matutils import Sparse2Corpus\n",
    "from gensim.models import LdaModel\n",
    "import matplotlib.pyplot as plt\n",
    "import seaborn as sns\n",
    "from sklearn.preprocessing import StandardScaler\n",
    "from sklearn.model_selection import GridSearchCV\n",
    "from sklearn.svm import LinearSVC, SVC\n",
    "from sklearn.naive_bayes import GaussianNB\n",
    "from sklearn.ensemble import VotingClassifier\n",
    "from sklearn.dummy import DummyClassifier\n",
    "from sklearn.metrics import average_precision_score, confusion_matrix\n",
    "import os\n"
   ]
  },
  {
   "cell_type": "markdown",
   "metadata": {},
   "source": [
    "## Preparación del dataset"
   ]
  },
  {
   "cell_type": "code",
   "execution_count": 3,
   "metadata": {},
   "outputs": [
    {
     "data": {
      "text/html": [
       "<div>\n",
       "<style scoped>\n",
       "    .dataframe tbody tr th:only-of-type {\n",
       "        vertical-align: middle;\n",
       "    }\n",
       "\n",
       "    .dataframe tbody tr th {\n",
       "        vertical-align: top;\n",
       "    }\n",
       "\n",
       "    .dataframe thead th {\n",
       "        text-align: right;\n",
       "    }\n",
       "</style>\n",
       "<table border=\"1\" class=\"dataframe\">\n",
       "  <thead>\n",
       "    <tr style=\"text-align: right;\">\n",
       "      <th></th>\n",
       "      <th>Class</th>\n",
       "      <th>Message</th>\n",
       "    </tr>\n",
       "  </thead>\n",
       "  <tbody>\n",
       "    <tr>\n",
       "      <th>0</th>\n",
       "      <td>ham</td>\n",
       "      <td>Go until jurong point, crazy.. Available only ...</td>\n",
       "    </tr>\n",
       "    <tr>\n",
       "      <th>1</th>\n",
       "      <td>ham</td>\n",
       "      <td>Ok lar... Joking wif u oni...</td>\n",
       "    </tr>\n",
       "    <tr>\n",
       "      <th>2</th>\n",
       "      <td>spam</td>\n",
       "      <td>Free entry in 2 a wkly comp to win FA Cup fina...</td>\n",
       "    </tr>\n",
       "    <tr>\n",
       "      <th>3</th>\n",
       "      <td>ham</td>\n",
       "      <td>U dun say so early hor... U c already then say...</td>\n",
       "    </tr>\n",
       "    <tr>\n",
       "      <th>4</th>\n",
       "      <td>ham</td>\n",
       "      <td>Nah I don't think he goes to usf, he lives aro...</td>\n",
       "    </tr>\n",
       "  </tbody>\n",
       "</table>\n",
       "</div>"
      ],
      "text/plain": [
       "  Class                                            Message\n",
       "0   ham  Go until jurong point, crazy.. Available only ...\n",
       "1   ham                      Ok lar... Joking wif u oni...\n",
       "2  spam  Free entry in 2 a wkly comp to win FA Cup fina...\n",
       "3   ham  U dun say so early hor... U c already then say...\n",
       "4   ham  Nah I don't think he goes to usf, he lives aro..."
      ]
     },
     "execution_count": 3,
     "metadata": {},
     "output_type": "execute_result"
    }
   ],
   "source": [
    "# Importacion del archivo que se nos proporciono agregandole cabeceras que no contiene\n",
    "names = ['tweet']\n",
    "mi_correo = pd.read_csv('spam.csv', sep=',', encoding = \"latin-1\") \n",
    "mi_correo\n",
    "del mi_correo['Unnamed: 2']\n",
    "del mi_correo['Unnamed: 3']\n",
    "del mi_correo['Unnamed: 4']\n",
    "\n",
    "mi_correo.rename(columns=dict(v1=\"Class\", v2=\"Message\"), inplace=True)\n",
    "mi_correo.head(5)"
   ]
  },
  {
   "cell_type": "code",
   "execution_count": 5,
   "metadata": {},
   "outputs": [],
   "source": [
    "#Separar el conjunto de entrenamiento y de test\n",
    "limit = int(0.9*len(mi_correo))\n",
    "train = mi_correo.loc[:limit]\n",
    "test = mi_correo.loc[limit:]"
   ]
  },
  {
   "cell_type": "markdown",
   "metadata": {},
   "source": [
    "## Modelo LDA"
   ]
  },
  {
   "cell_type": "code",
   "execution_count": 6,
   "metadata": {},
   "outputs": [],
   "source": [
    "# Usamos el constructor gensim.models.ldamodel.LdaModel para estimar\n",
    "# los parámetros del modelo LDA en el corpus, y guardar en la variable `ldamodel`\n",
    "#ldamodel = gensim.models.ldamodel.LdaModel (corpus, num_topics=10, id2word=id_map, passes=25, random_state=34)"
   ]
  },
  {
   "cell_type": "markdown",
   "metadata": {},
   "source": [
    "Nos quedamos con una sola característica en nuestro conjunto de datos, el contenido del mensaje en sí. Debemos encontrar una manera de extraer características de estos mensajes para poder entrenar un modelo de aprendizaje automático que pueda identificar un mensaje de spam. \n",
    "Un modelo de tema es un modelo de aprendizaje automático no supervisado que se puede entrenar en un corpus (una colección de documentos) para identificar los temas dentro de esos documentos. En este contexto, un tema generalmente se define como una distribución de probabilidad de todos los términos del vocabulario del corpus que aparecen para ese tema dado.\n",
    "\n",
    "Un modelo de tema popular es la asignación de Dirichlet latente (LDA). Al entrenar un modelo LDA en nuestros datos de entrenamiento, podemos usar este modelo para representar mensajes como vectores de ponderación de tema, donde el valor de cada elemento del vector de ponderación de tema corresponde al peso en el que ese mensaje dado exhibe el tema asociado. Sin embargo, una advertencia con el uso de LDA es que se debe establecer de forma preventiva el número de temas que se cree que se exhiben en un corpus antes de entrenar un modelo LDA en él. Usando el paquete de modelado de temas **Gensim**, entrenaremos un modelo LDA en el conjunto de entrenamiento y usaremos este modelo LDA para transformar los datos de entrenamiento y el conjunto de prueba en vectores con peso. Usaremos el valor predeterminado de Gensim de 100 temas para esta tarea.\n",
    "\n",
    "Dado que a veces se puede derivar más significado de las palabras cuando se toman juntas en lugar de individualmente (es decir, 'hasta luego' en lugar de los términos individuales 'ver', 'usted' y 'más tarde'), tomaremos en consideración no solo términos individuales, sino colecciones de términos (también conocidos como n-gramas). Tomaremos en consideración n-gramos con n igual a 1, 2 y 3 (también conocidos como unigramas, bigramas y trigramas, respectivamente). Todas las palabras vacías en inglés (es decir, y, etc.) se ignorarán y no ofrecerán información útil con respecto al tema de estos mensajes. Para simplificar, cuando se utiliza el modelo LDA para transformar mensajes en vectores de tema, cualquier tema que tenga una probabilidad menor de 0.01 de ser exhibido por ese mensaje automáticamente tendrá su peso de tema establecido en cero para ese mensaje."
   ]
  },
  {
   "cell_type": "code",
   "execution_count": 7,
   "metadata": {},
   "outputs": [],
   "source": [
    "vectorizer = CountVectorizer(stop_words=\"english\", \n",
    "                             ngram_range=(1, 3))\n",
    "term_document_matrix = vectorizer.fit_transform(train.Message)\n",
    "corpus = Sparse2Corpus(term_document_matrix, documents_columns=False)\n",
    "id2word = {value: key for key, value in vectorizer.vocabulary_.items()}\n",
    "model = LdaModel(corpus=corpus, \n",
    "                 id2word=id2word, \n",
    "                 random_state=0)\n",
    "def transform_messages_to_topic_vectors(data, vectorizer, model):\n",
    "    num_topics = model.num_topics\n",
    "    message_topics = pd.DataFrame(index=map(str, range(num_topics)))    \n",
    "    for index, message in data.Message.iteritems():\n",
    "        message_transformed = (vectorizer.transform([message]))\n",
    "        message_corpus = (Sparse2Corpus(message_transformed, documents_columns=False))\n",
    "        topics_framework = dict.fromkeys(map(str, range(0, num_topics)))\n",
    "        topics_specific = dict(list(model[message_corpus])[0])\n",
    "        for key in topics_specific:\n",
    "            topics_framework[str(key)] = topics_specific[key]\n",
    "        message_topics[index] = pd.Series(topics_framework)\n",
    "    message_topics = message_topics.T.fillna(0)\n",
    "    data = data.join(message_topics)\n",
    "    data.drop(\"Message\", axis=1, inplace=True)\n",
    "    data = pd.get_dummies(data, drop_first=True)\n",
    "    data.rename(columns=dict(Class_spam=\"Spam\"), inplace=True)\n",
    "    return data"
   ]
  },
  {
   "cell_type": "markdown",
   "metadata": {},
   "source": [
    "## Ejecutar modelo LDA"
   ]
  },
  {
   "cell_type": "code",
   "execution_count": 8,
   "metadata": {},
   "outputs": [
    {
     "data": {
      "text/html": [
       "<div>\n",
       "<style scoped>\n",
       "    .dataframe tbody tr th:only-of-type {\n",
       "        vertical-align: middle;\n",
       "    }\n",
       "\n",
       "    .dataframe tbody tr th {\n",
       "        vertical-align: top;\n",
       "    }\n",
       "\n",
       "    .dataframe thead th {\n",
       "        text-align: right;\n",
       "    }\n",
       "</style>\n",
       "<table border=\"1\" class=\"dataframe\">\n",
       "  <thead>\n",
       "    <tr style=\"text-align: right;\">\n",
       "      <th></th>\n",
       "      <th>0</th>\n",
       "      <th>1</th>\n",
       "      <th>2</th>\n",
       "      <th>3</th>\n",
       "      <th>4</th>\n",
       "      <th>5</th>\n",
       "      <th>6</th>\n",
       "      <th>7</th>\n",
       "      <th>8</th>\n",
       "      <th>9</th>\n",
       "      <th>...</th>\n",
       "      <th>91</th>\n",
       "      <th>92</th>\n",
       "      <th>93</th>\n",
       "      <th>94</th>\n",
       "      <th>95</th>\n",
       "      <th>96</th>\n",
       "      <th>97</th>\n",
       "      <th>98</th>\n",
       "      <th>99</th>\n",
       "      <th>Spam</th>\n",
       "    </tr>\n",
       "  </thead>\n",
       "  <tbody>\n",
       "    <tr>\n",
       "      <th>0</th>\n",
       "      <td>0.0</td>\n",
       "      <td>0.000000</td>\n",
       "      <td>0.0</td>\n",
       "      <td>0.0</td>\n",
       "      <td>0.0</td>\n",
       "      <td>0.0</td>\n",
       "      <td>0.0</td>\n",
       "      <td>0.0</td>\n",
       "      <td>0.00000</td>\n",
       "      <td>0.0</td>\n",
       "      <td>...</td>\n",
       "      <td>0.0</td>\n",
       "      <td>0.0</td>\n",
       "      <td>0.0</td>\n",
       "      <td>0.0</td>\n",
       "      <td>0.0</td>\n",
       "      <td>0.0</td>\n",
       "      <td>0.0</td>\n",
       "      <td>0.000000</td>\n",
       "      <td>0.0</td>\n",
       "      <td>0</td>\n",
       "    </tr>\n",
       "    <tr>\n",
       "      <th>1</th>\n",
       "      <td>0.0</td>\n",
       "      <td>0.000000</td>\n",
       "      <td>0.0</td>\n",
       "      <td>0.0</td>\n",
       "      <td>0.0</td>\n",
       "      <td>0.0</td>\n",
       "      <td>0.0</td>\n",
       "      <td>0.0</td>\n",
       "      <td>0.08809</td>\n",
       "      <td>0.0</td>\n",
       "      <td>...</td>\n",
       "      <td>0.0</td>\n",
       "      <td>0.0</td>\n",
       "      <td>0.0</td>\n",
       "      <td>0.0</td>\n",
       "      <td>0.0</td>\n",
       "      <td>0.0</td>\n",
       "      <td>0.0</td>\n",
       "      <td>0.077279</td>\n",
       "      <td>0.0</td>\n",
       "      <td>0</td>\n",
       "    </tr>\n",
       "    <tr>\n",
       "      <th>2</th>\n",
       "      <td>0.0</td>\n",
       "      <td>0.984495</td>\n",
       "      <td>0.0</td>\n",
       "      <td>0.0</td>\n",
       "      <td>0.0</td>\n",
       "      <td>0.0</td>\n",
       "      <td>0.0</td>\n",
       "      <td>0.0</td>\n",
       "      <td>0.00000</td>\n",
       "      <td>0.0</td>\n",
       "      <td>...</td>\n",
       "      <td>0.0</td>\n",
       "      <td>0.0</td>\n",
       "      <td>0.0</td>\n",
       "      <td>0.0</td>\n",
       "      <td>0.0</td>\n",
       "      <td>0.0</td>\n",
       "      <td>0.0</td>\n",
       "      <td>0.000000</td>\n",
       "      <td>0.0</td>\n",
       "      <td>1</td>\n",
       "    </tr>\n",
       "    <tr>\n",
       "      <th>3</th>\n",
       "      <td>0.0</td>\n",
       "      <td>0.000000</td>\n",
       "      <td>0.0</td>\n",
       "      <td>0.0</td>\n",
       "      <td>0.0</td>\n",
       "      <td>0.0</td>\n",
       "      <td>0.0</td>\n",
       "      <td>0.0</td>\n",
       "      <td>0.00000</td>\n",
       "      <td>0.0</td>\n",
       "      <td>...</td>\n",
       "      <td>0.0</td>\n",
       "      <td>0.0</td>\n",
       "      <td>0.0</td>\n",
       "      <td>0.0</td>\n",
       "      <td>0.0</td>\n",
       "      <td>0.0</td>\n",
       "      <td>0.0</td>\n",
       "      <td>0.000000</td>\n",
       "      <td>0.0</td>\n",
       "      <td>0</td>\n",
       "    </tr>\n",
       "    <tr>\n",
       "      <th>4</th>\n",
       "      <td>0.0</td>\n",
       "      <td>0.000000</td>\n",
       "      <td>0.0</td>\n",
       "      <td>0.0</td>\n",
       "      <td>0.0</td>\n",
       "      <td>0.0</td>\n",
       "      <td>0.0</td>\n",
       "      <td>0.0</td>\n",
       "      <td>0.00000</td>\n",
       "      <td>0.0</td>\n",
       "      <td>...</td>\n",
       "      <td>0.0</td>\n",
       "      <td>0.0</td>\n",
       "      <td>0.0</td>\n",
       "      <td>0.0</td>\n",
       "      <td>0.0</td>\n",
       "      <td>0.0</td>\n",
       "      <td>0.0</td>\n",
       "      <td>0.000000</td>\n",
       "      <td>0.0</td>\n",
       "      <td>0</td>\n",
       "    </tr>\n",
       "  </tbody>\n",
       "</table>\n",
       "<p>5 rows × 101 columns</p>\n",
       "</div>"
      ],
      "text/plain": [
       "     0         1    2    3    4    5    6    7        8    9  ...    91   92  \\\n",
       "0  0.0  0.000000  0.0  0.0  0.0  0.0  0.0  0.0  0.00000  0.0  ...   0.0  0.0   \n",
       "1  0.0  0.000000  0.0  0.0  0.0  0.0  0.0  0.0  0.08809  0.0  ...   0.0  0.0   \n",
       "2  0.0  0.984495  0.0  0.0  0.0  0.0  0.0  0.0  0.00000  0.0  ...   0.0  0.0   \n",
       "3  0.0  0.000000  0.0  0.0  0.0  0.0  0.0  0.0  0.00000  0.0  ...   0.0  0.0   \n",
       "4  0.0  0.000000  0.0  0.0  0.0  0.0  0.0  0.0  0.00000  0.0  ...   0.0  0.0   \n",
       "\n",
       "    93   94   95   96   97        98   99  Spam  \n",
       "0  0.0  0.0  0.0  0.0  0.0  0.000000  0.0     0  \n",
       "1  0.0  0.0  0.0  0.0  0.0  0.077279  0.0     0  \n",
       "2  0.0  0.0  0.0  0.0  0.0  0.000000  0.0     1  \n",
       "3  0.0  0.0  0.0  0.0  0.0  0.000000  0.0     0  \n",
       "4  0.0  0.0  0.0  0.0  0.0  0.000000  0.0     0  \n",
       "\n",
       "[5 rows x 101 columns]"
      ]
     },
     "execution_count": 8,
     "metadata": {},
     "output_type": "execute_result"
    }
   ],
   "source": [
    "# Retorna una lista de los 10 topicos y las 10 palabras más significativas en cada topico.\n",
    "\n",
    "train = transform_messages_to_topic_vectors(train, vectorizer, model)\n",
    "test = transform_messages_to_topic_vectors(test, vectorizer, model)\n",
    "train.head()"
   ]
  },
  {
   "cell_type": "markdown",
   "metadata": {},
   "source": [
    "## Distribución de tópicos"
   ]
  },
  {
   "cell_type": "markdown",
   "metadata": {},
   "source": [
    "\n",
    "Al ver nuestros datos de entrenamiento transformados, podemos ver que los vectores de peso del tema que representan los mensajes son escasos. Esto se debe a que los mensajes parecen representar la mayoría de los temas del modelo LDA con una probabilidad baja. Veamos la distribución de cuántos mensajes muestran un número determinado de temas."
   ]
  },
  {
   "cell_type": "code",
   "execution_count": 9,
   "metadata": {},
   "outputs": [
    {
     "data": {
      "image/png": "[encoded data removed]",
      "text/plain": [
       "<Figure size 1152x288 with 1 Axes>"
      ]
     },
     "metadata": {},
     "output_type": "display_data"
    }
   ],
   "source": [
    "topics = list(train.columns)\n",
    "topics.remove(\"Spam\")\n",
    "ax = sns.countplot(train[topics].astype(bool).sum(axis=1), color=\"C9\")\n",
    "ax.set_xlabel(\"Número de Tópidcos mostrados\")\n",
    "ax.set_ylabel(\"Número de Mensajes\")\n",
    "fig = plt.gcf()\n",
    "fig.set_size_inches(16, 4)"
   ]
  },
  {
   "cell_type": "markdown",
   "metadata": {},
   "source": [
    "Como podemos ver, aunque tenemos mensajes que solo exhiben un tema, o en algunos casos cero (debido a que todas las ocurrencias de temas son de baja probabilidad), podemos ver que muchos mensajes tratan sobre múltiples temas. Veamos a la inversa cuántos mensajes exhiben cada tema particular del modelo LDA."
   ]
  },
  {
   "cell_type": "code",
   "execution_count": 10,
   "metadata": {},
   "outputs": [
    {
     "data": {
      "image/png": "[encoded data removed]",
      "text/plain": [
       "<Figure size 1728x576 with 1 Axes>"
      ]
     },
     "metadata": {},
     "output_type": "display_data"
    }
   ],
   "source": [
    "ax = train[topics].astype(bool).sum(axis=0).plot.bar(color=\"C9\")\n",
    "ax.set_xlabel(\"Tópico\")\n",
    "ax.set_ylabel(\"Número de Mensajes\")\n",
    "fig = plt.gcf()\n",
    "fig.set_size_inches(24, 8)"
   ]
  },
  {
   "cell_type": "code",
   "execution_count": 11,
   "metadata": {},
   "outputs": [
    {
     "name": "stdout",
     "output_type": "stream",
     "text": [
      "Los n-gramas más sobresalientes en los tópicos más sobresalientes:\n",
      "- know\n",
      "- let\n",
      "- let know\n",
      "- mayb\n",
      "- want\n",
      "- missed\n",
      "- xmas\n",
      "- time\n",
      "- driving\n",
      "- 800\n"
     ]
    }
   ],
   "source": [
    "print(\"Los n-gramas más sobresalientes en los tópicos más sobresalientes:\\n- {}\".format('\\n- '.join([id2word[term[0]] for term in model.get_topic_terms(50)])))"
   ]
  },
  {
   "cell_type": "markdown",
   "metadata": {},
   "source": [
    "Al ver los n-gramas más frecuentes en el tema 50, podemos ver que parece haber muchas disculpas en el conjunto de entrenamiento. Aunque, por supuesto, hay mensajes de spam y de radioaficionados presentes en el conjunto de datos, valdría la pena ver la distribución entre estas dos clases en el conjunto de entrenamiento, para posiblemente tener esto en cuenta al entrenar un modelo de aprendizaje automático de detección de spam."
   ]
  },
  {
   "cell_type": "code",
   "execution_count": 12,
   "metadata": {},
   "outputs": [
    {
     "data": {
      "text/plain": [
       "<matplotlib.axes._subplots.AxesSubplot at 0xe9936b0>"
      ]
     },
     "execution_count": 12,
     "metadata": {},
     "output_type": "execute_result"
    },
    {
     "data": {
      "image/png": "[encoded data removed]",
      "text/plain": [
       "<Figure size 432x288 with 1 Axes>"
      ]
     },
     "metadata": {},
     "output_type": "display_data"
    }
   ],
   "source": [
    "X_train = train.drop(\"Spam\", axis=1)\n",
    "Y_train = train.Spam\n",
    "X_test = test.drop(\"Spam\", axis=1)\n",
    "Y_test = test.Spam\n",
    "sns.countplot(Y_train, color=\"C9\")"
   ]
  },
  {
   "cell_type": "markdown",
   "metadata": {},
   "source": [
    "Como podemos ver, hay mucho más jamón que mensajes de spam en nuestro conjunto de entrenamiento. Este desequilibrio de clases es un problema común en el aprendizaje automático. Debido a este desequilibrio de clases, solo confirmemos que hay mensajes de spam en el conjunto de prueba y que no todos los mensajes de spam se colocaron accidentalmente en el conjunto de entrenamiento."
   ]
  },
  {
   "cell_type": "code",
   "execution_count": 13,
   "metadata": {},
   "outputs": [
    {
     "name": "stdout",
     "output_type": "stream",
     "text": [
      "Número de mensajes de spam en el conjunto de prueba: 72\n"
     ]
    }
   ],
   "source": [
    "print(\"Número de mensajes de spam en el conjunto de prueba: {}\"\\\n",
    "      .format(test[\"Spam\"].value_counts()[1]))"
   ]
  },
  {
   "cell_type": "code",
   "execution_count": null,
   "metadata": {},
   "outputs": [],
   "source": []
  }
 ],
 "metadata": {
  "kernelspec": {
   "display_name": "Python 3",
   "language": "python",
   "name": "python3"
  },
  "language_info": {
   "codemirror_mode": {
    "name": "ipython",
    "version": 3
   },
   "file_extension": ".py",
   "mimetype": "text/x-python",
   "name": "python",
   "nbconvert_exporter": "python",
   "pygments_lexer": "ipython3",
   "version": "3.6.5"
  }
 },
 "nbformat": 4,
 "nbformat_minor": 2
}
