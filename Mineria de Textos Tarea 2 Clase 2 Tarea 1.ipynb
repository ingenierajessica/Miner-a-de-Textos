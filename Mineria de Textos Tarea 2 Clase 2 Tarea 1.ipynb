{
 "cells": [
  {
   "cell_type": "code",
   "execution_count": 1,
   "metadata": {},
   "outputs": [
    {
     "ename": "FileNotFoundError",
     "evalue": "[Errno 2] No such file or directory: 'notas.txt'",
     "output_type": "error",
     "traceback": [
      "\u001b[1;31m---------------------------------------------------------------------------\u001b[0m",
      "\u001b[1;31mFileNotFoundError\u001b[0m                         Traceback (most recent call last)",
      "\u001b[1;32m<ipython-input-1-8af8a53c1a67>\u001b[0m in \u001b[0;36m<module>\u001b[1;34m\u001b[0m\n\u001b[1;32m----> 1\u001b[1;33m \u001b[0mfile\u001b[0m \u001b[1;33m=\u001b[0m \u001b[0mopen\u001b[0m\u001b[1;33m(\u001b[0m\u001b[1;34m\"notas.txt\"\u001b[0m\u001b[1;33m,\u001b[0m \u001b[1;34m\"r\"\u001b[0m\u001b[1;33m)\u001b[0m\u001b[1;33m\u001b[0m\u001b[1;33m\u001b[0m\u001b[0m\n\u001b[0m",
      "\u001b[1;31mFileNotFoundError\u001b[0m: [Errno 2] No such file or directory: 'notas.txt'"
     ]
    }
   ],
   "source": [
    "file = open(\"notas.txt\", \"r\")"
   ]
  },
  {
   "cell_type": "markdown",
   "metadata": {},
   "source": [
    "# MINERÍA DE TEXTOS\n",
    "\n",
    "## Alumna: Jessica Sarahi Méndez Rincón\n"
   ]
  },
  {
   "cell_type": "markdown",
   "metadata": {},
   "source": [
    "# Tarea 2\n",
    "\n",
    "### Clase 2 Tarea 1\n",
    "• Identificar correctamente todas las diferentes variantes de fecha codificadas en este conjunto de datos, normalizar\n",
    "\n",
    "y ordenar adecuadamente las fechas. Cada línea del archivo dates.txt corresponde a una nota médica. Cada nota\n",
    "\n",
    "tiene una fecha que debe extraerse, pero cada fecha está codificada en uno de muchos formatos. Aquí hay una\n",
    "\n",
    "lista de algunas de las variantes que puede encontrar en este conjunto de datos:\n",
    "\n",
    "• 04/20/2009; 04/20/09; 4/20/09; 4/3/09\n",
    "\n",
    "• Mar-20-2009; Mar 20, 2009; March 20, 2009; Mar. 20, 2009; Mar 20 2009;\n",
    "\n",
    "• 20 Mar 2009; 20 March 2009; 20 Mar. 2009; 20 March, 2009\n",
    "\n",
    "• Mar 20th, 2009; Mar 21st, 2009; Mar 22nd, 2009\n",
    "\n",
    "• Feb 2009; Sep 2009; Oct 2010\n",
    "\n",
    "• 6/2008; 12/2009\n",
    "\n",
    "• 2009; 2010\n",
    "\n"
   ]
  },
  {
   "cell_type": "markdown",
   "metadata": {},
   "source": [
    "#### ------------------------------------------------------------------------------------------------------------------------------------------------------------\n",
    "#### Se abré el texto para poder ir identificando línea a línea y guardando en una lista.\n",
    "#### Para ello retomo lo visto en la Tarea 1"
   ]
  },
  {
   "cell_type": "code",
   "execution_count": 1,
   "metadata": {},
   "outputs": [
    {
     "name": "stdout",
     "output_type": "stream",
     "text": [
      "03/25/93 Total time of visit (in minutes):\n",
      "6/18/85 Primary Care Doctor:\n",
      "sshe plans to move as of 7/8/71 In-Home Services: None\n",
      "7 on 9/27/75 Audit C Score Current:\n",
      "2/6/96 sleep studyPain Treatment Pain Level (Numeric Scale): 7\n",
      ".Per 7/06/79 Movement D/O note:\n",
      "4, 5/18/78 Patient's thoughts about current substance abuse:\n",
      "10/24/89 CPT Code: 90801 - Psychiatric Diagnosis Interview\n",
      "3/7/86 SOS-10 Total Score:\n",
      "(4/10/71)Score-1Audit C Score Current:\n",
      "(5/11/85) Crt-1.96, BUN-26; AST/ALT-16/22; WBC_12.6Activities of Daily Living (ADL) Bathing: Independent\n",
      "4/09/75 SOS-10 Total Score:\n",
      "8/01/98 Communication with referring physician?: Done\n",
      "1/26/72 Communication with referring physician?: Not Done\n",
      "5/24/1990 CPT Code: 90792: With medical services\n",
      "1/25/2011 CPT Code: 90792: With medical services\n",
      "4/12/82 Total time of visit (in minutes):\n",
      "1; 10/13/1976 Audit C Score, Highest/Date:\n",
      "4, 4/24/98 Relevant Drug History:\n",
      ") 59 yo unemployed w referred by Urgent Care for psychiatric evaluation and follow up. The patient reports she has been dx w BAD. Her main complaint today is anergy. Ms. Hartman was evaluated on one occasion 5/21/77. She was a cooperative but somewhat vague historian.History of Present Illness and Precipitating Events\n",
      "7/21/98 Total time of visit (in minutes):\n",
      "10/21/79 SOS-10 Total Score:\n",
      "3/03/90 CPT Code: 90792: With medical services\n",
      "2/11/76 CPT Code: 90792: With medical services\n",
      "07/25/1984 CPT Code: 90791: No medical services\n",
      "4-13-82 Other Child Mental Health Outcomes Scales Used:\n",
      "9/22/89 CPT Code: 90792: With medical services\n",
      "9/02/76 CPT Code: 90791: No medical services\n",
      "9/12/71 [report_end]\n",
      "10/24/86 Communication with referring physician?: Done\n",
      "03/31/1985 Total time of visit (in minutes):\n",
      "7/20/72 CPT Code: 90791: No medical services\n",
      "4/12/87= 1, negativeAudit C Score Current:\n",
      "06/20/91 Total time of visit (in minutes):\n",
      "5/12/2012 Primary Care Doctor:\n",
      "3/15/83 SOS-10 Total Score:\n",
      "2/14/73 CPT Code: 90801 - Psychiatric Diagnosis Interview\n",
      "5/24/88 CPT Code: 90792: With medical services\n",
      "7/27/1986 Total time of visit (in minutes):\n",
      "1-14-81 Communication with referring physician?: Done\n",
      "7-29-75 CPT Code: 90801 - Psychiatric Diagnosis Interview\n",
      "(6/24/87) TSH-2.18; Activities of Daily Living (ADL) Bathing: Independent\n",
      "8/14/94 Primary Care Doctor:\n",
      "4/13/2002 Primary Care Doctor:\n",
      "8/16/82 CPT Code: 90792: With medical services\n",
      "2/15/1998 Total time of visit (in minutes):\n",
      "7/15/91 CPT Code: 90792: With medical services\n",
      "06/12/94 SOS-10 Total Score:\n",
      "9/17/84 Communication with referring physician?: Done\n",
      "2/28/75 Other Adult Mental Health Outcomes Scales Used:\n",
      "sOP WPM - Dr. Romo-psychopharm since 11/22/75\n",
      "\"In the context of the patient's work up, she had Neuropsychological  testing 5/24/91.  She was referred because of her cognitive decline and symptoms of motor dysfunction to help characterize her current functioning. :\n",
      "6/13/92 CPT Code: 90791: No medical services\n",
      "7/11/71 SOS-10 Total Score:\n",
      "12/26/86 CPT Code: 90791: No medical services\n",
      "10/11/1987 CPT Code: 90791: No medical services\n",
      "3/14/95 Primary Care Doctor:\n",
      "12/01/73 CPT Code: 90791: No medical services\n",
      "0: 12/5/2010 Audit C Score Current:\n",
      "08/20/1982 SOS-10 Total Score:\n",
      "7/24/95 SOS-10 Total Score:\n",
      "8/06/83 CPT Code: 90791: No medical services\n",
      "02/22/92 SOS-10 Total Score:\n",
      "6/28/87 Impression Strengths/Abilities:\n",
      "07/29/1994 CPT code: 99203\n",
      "08/11/78 CPT Code: 90801 - Psychiatric Diagnosis Interview\n",
      "10/29/91 Communication with referring physician?: Done\n",
      "7/6/91 SOS-10 Total Score:\n",
      "onone as of 1/21/87 Protective Factors:\n",
      "24 yo right handed woman with history of large right frontal mass s/p resection 11/3/1985 who had recent urgent R cranial wound revision and placement of L EVD for declining vision and increased drainage from craniotomy incision site and possible infection. She has a hx of secondary mania related to psychosis and manipulation of her right frontal lobe.\n",
      "7/04/82 CPT Code: 90801 - Psychiatric Diagnosis Interview\n",
      "4-13-89 Communication with referring physician?: Not Done\n",
      "Lithium 0.25 (7/11/77).  LFTS wnl.  Urine tox neg.  Serum tox + fluoxetine 500; otherwise neg.  TSH 3.28.  BUN/Cr: 16/0.83.  Lipids unremarkable.  B12 363, Folate >20.  CBC: 4.9/36/308 Pertinent Medical Review of Systems Constitutional:\n",
      "4/12/74= 1Caffeine / Tobacco Use Caffeinated products: Yes\n",
      "09/19/81 CPT Code: 90792: With medical services\n",
      "9/6/79 Primary Care Doctor:\n",
      "12/5/87 Total time of visit (in minutes):\n",
      "01/05/1999 [report_end]\n",
      "4/22/80 SOS-10 Total Score:\n",
      "10/04/98 SOS-10 Total Score:\n",
      ".Mr. Echeverria described having panic-like experiences on at least three occasions. The first of these episodes occurred when facial meshing was placed on him during radiation therapy. He recalled the experience vividly and described \"freaking out\", involving a sensation of crushing in his chest, difficulty breathing, a fear that he could die, and intense emotional disquiet. The second episode occurred during the last 10-15 minutes of an MRI scan. Mr. Echeverria noted feeling surprised and fearful when the feelings of panic started. Similar physiological and psychological symptoms were reported as above. The third episode occurred recently on 6/29/81. Mr.Echeverria was driving his car and felt similar symptoms as described above. He reported fearing that he would crash his vehicle and subsequently pulled over and abandoned his vehicle.\n",
      ". Wile taking additional history, pt endorsed moderate depression and anxiety last 2 weeks, even though her period was on 8/04/78. Pt then acknowledged low to moderate mood and anxiety symptoms throughout the month, with premenstrual worsening. This mood pattern seems to have existed for many years, while premenstrual worsening increased in severity during last ~ 2 years, in context of likely peri menopause transition. Pt reported average of 3 hot flashes per day and 2 night sweats.\n",
      "Death of mother; 7/07/1974 Meaningful activities/supports:\n",
      "09/14/2000 CPT Code: 90792: With medical services\n",
      "5/18/71 Total time of visit (in minutes):\n",
      "8/09/1981 Communication with referring physician?: Done\n",
      "6/05/93 CPT Code: 90791: No medical services\n",
      ")Dilantin (PHENYTOIN) 100 MG CAPSULE Take 2 Capsule(s) PO HS; No Change (Taking Differently), Comments: decreased from 290 daily to 260 mg daily due to elevated phenytoin level from 8/9/97\n",
      "12/8/82 Audit C=3Audit C Score Current:\n",
      "8/26/89 CPT Code: 90791: No medical services\n",
      "10/13/95 CPT Code: 90791: No medical services\n",
      "4/19/91 Communication with referring physician?: Not Done\n",
      ".APS - Psychiatry consult paged/requested in person at 04/08/2004 16:39 Patrick, Christian [hpp2]\n",
      "9/20/76 CPT Code: 90801 - Psychiatric Diagnosis Interview\n",
      "12/08/1990 @11 am [report_end]\n",
      "4/11/1974 Chief Complaint / HPI Chief Complaint (Patients own words)\n",
      "7/18/86 SOS-10 Total Score:\n",
      "3/31/91 Communication with referring physician?: Done\n",
      "5/13/72 Other Adult Mental Health Outcomes Scales Used:\n",
      "011/14/83 Audit C Score Current:\n",
      "8/16/92 SOS-10 Total Score:\n",
      "10/05/97 CPT Code: 90791: No medical services\n",
      "07/18/2002 CPT Code: 90792: With medical services\n",
      "9/22/82 Total time of visit (in minutes):\n",
      "2/24/74 SOS-10 Total Score:\n",
      "(2/03/78) TSH-0.90 Activities of Daily Living (ADL) Bathing: Independent\n",
      "2/11/2006 CPT Code: 90791: No medical services\n",
      "Pt is a 21 year old, single, heterosexual identified, Liechtenstein male. He resides in Rabat, in a rented apartment, with a roommate. He has not graduated from high school nor has he earned his GED. He has been working full time, steadily, since the age of 16. He recently left a job at jacobs engineering group where he worked for about 5 years. He started working at becton dickinson a few weeks ago. Referral to SMH was precipitated by pt seeing his PCP, Dr. Ford, for a physical and sharing concerns re: depression. He was having suicidal thoughts the week of 8/22/83 and noticed that his depression and anxiety symptoms were starting to interfere with work. Per Dr. Ford's recommendation, he contacted PAL for assistance. When screened for substance use, pt was referred to SMH for an intake. Pt was scheduled to be seen last week due to urgency of his depression and SI, but missed the intake appointment due to getting extremely intoxicated the night before. Pt presents today seeking individual therapy and psychiatry services to address longstanding depression.\n",
      "PET Scan (DPSH 5/04/74): 1) Marked hypometabolism involving the bilateral caudate nuclei. This is a non-specific finding, although this raises the question of a multisystem atrophy, specifically MSA-P (striatonigral degeneration), 2) Cortical hypometabolism involving the right inferior frontal gyrus. This is a non-specific finding of uncertain significance, and is not definitively related to a neurodegenerative process, although pathology in this region is not excluded\n",
      "7/20/2011 [report_end]\n",
      "6/17/95 Total time of visit (in minutes):\n",
      "6/10/72 SOS-10 Total Score:\n",
      "nPt denied use to me but endorsed use on 10/16/82 as part of BVH initial visit summary supplement by Nicholas BenjaminOpiates: Yes\n",
      "12/15/92 CPT Code: 90801 - Psychiatric Diagnosis Interview\n",
      "12/8/97 SOS-10 Total Score:\n",
      "4/05/89 Primary Care Doctor:\n",
      "12/04/87 SOS-10 Total Score:\n",
      "4 (6/20/77)Audit C Score Current:\n",
      "see 4/27/2006 consult note Dr. GuevaraWhat factors in prior treatment were helpful/not helpful:\n",
      "07/17/92 CPT Code: 90791: No medical services\n",
      "12/22/98 CPT Code: 90801 - Psychiatric Diagnosis Interview\n",
      "10/02/96 Age:\n",
      "11/05/90 CPT Code: 90792: With medical services\n",
      "5/04/77 CPT Code: 90792: With medical services\n",
      "2/27/96 Communication with referring physician?: Done\n",
      "s The patient is a 44 year old married Caucasian woman, unemployed Decorator, living with husband and caring for two young children, who is referred by Capitol Hill Hospital PCP, Dr. Heather Zubia, for urgent evaluation/treatment till first visit with Dr. Toney Winkler IN EIGHT WEEKS on 24 Jan 2001.\n",
      ".10 Sep 2004 - Intake at EEC for IOP but did not follow up\n",
      "see above and APS eval of 26 May 1982 Social History Marital Status: Single\n",
      "Tbooked for intake appointment at Sierra Vista, Chongging, WY on 28 June 2002\n",
      "06 May 1972 SOS-10 Total Score:\n",
      "25 Oct 1987 Total time of visit (in minutes):\n",
      "14 Oct 1996 SOS-10 Total Score:\n",
      "30 Nov 2007 CPT Code: 90801 - Psychiatric Diagnosis Interview\n",
      "h missed intake office visit on 28 June 1994 at Sierra Vista Nursing HomeSuicidal Behavior Hx of Suicidal Behavior: Yes\n",
      "14 Jan 1981 SOS-10 Total Score:\n",
      ".On 10 Oct 1985 patient began FMLA from work.\n",
      "11 February 1985 CPT Code: 90801 - Psychiatric Diagnosis Interview\n",
      "7intake for follow up treatment at Anson General Hospital on 10 Feb 1983 @ 12 AM\n",
      "s The patient is a 49 year old married Canadian emigree, living with husband and two young adult children, with history of recurrent major depression with psychotic features and SI/SA, and alcoholism, requiring multiple hospitalizations for SI/SA and detox, who presents for bridge care s/p discharge from Placerville Sanatorium on 05 Feb 1992 and follow up outpatient mental health treatment at Anson General Hospital.\n",
      "ssee 21 Oct 2012 Schroder Hospital discharge summaryPsychiatric Review of Systems DEPRESSION: Has the patient had periods of time lasting two weeks or longer in which, most of the day on most days, they felt little interest or pleasure in doing things, or they had to push themselves to do things: Yes\n",
      "14 Feb 1995 Primary Care Doctor:\n",
      "30 May 2016 SOS-10 Total Score:\n",
      "22 Jan 1996 @ 11 AMCommunication with referring physician?: Done\n",
      "14 Oct 1992 CPT Code: 90792: With medical services\n",
      ".On 06 Oct 2003 patient sought attention of CMC PCP Dr. Nevarez, who consulted  Grandview Sanitarium, obrained consultation from this psychiatrist, who considered SSRI 'poop out' and suggested swtich from paroxitine to fluoxetine.\n",
      "18 Oct 1999 SOS-10 Total Score:\n",
      "11 Nov 2004 Total time of visit (in minutes):\n",
      "30 May 2001 CPT Code: 90801 - Psychiatric Diagnosis Interview\n",
      ".On 02 Feb 1978 patient was seen by Dr. Fisher who found depression had relapsed on fluoxetine 20 mg, with patient reporting work-related stressors and complaining \"Prozac has stopped working\".  Plan:  stop fluoxetine and start bupropion 150 mg BID.\n",
      "09 Sep 1989 Primary Care Doctor:\n",
      "12 March 1980 SOS-10 Total Score:\n",
      "22 June 1990 Medical History:\n",
      "28 Sep 2015 Primary Care Doctor:\n",
      "13 Jan 1972 Primary Care Doctor:\n",
      "06 Mar 1974 Primary Care Doctor:\n",
      "10 Oct 1974 Primary Care Doctor:\n",
      "26 May 1974 Primary Care Doctor:\n",
      "short term partial hospital program at Pine Rest Hospital starting 10 Feb 1990\n",
      "23 Aug 2000 Primary Care Doctor:\n",
      ".The patient brought himself to APS on 26 May 2001 for ONE MONTH HISTORY of recurrence of increased depressed and anxious mood, with\n",
      "see 21 Oct 2007 Schroder Hospital discharge summaryViolent Behavior Hx of Violent Behavior: Yes\n",
      "19 Oct 2016 Communication with referring physician?: Done\n",
      "dON 05 Mar 1974\n",
      "29 Jan 1994 Primary Care Doctor:\n",
      "see 21 Oct 1978 Schroder Hospital discharge summaryHx of Non Suicidal Self Injurious Behavior: Yes\n",
      ".On 18 August 1975 patient presented to BH ED/APS for psychological distress over binge eating and weight concerns, as well as acknowledging chronic intermittent SI but no acute SI; otherwise good response to Abilify 20 mg QD.  Patient was discharged home to follow up with Urgent care TODAY.\n",
      "11 Nov 1996 CPT Code: 90792: With medical services\n",
      "01 Oct 1979 Primary Care Doctor:\n",
      ".On 13 Oct 1986 patient admitted to Schroder Hospital for affect instability, having been discharged THAT DAY from a residential program.\n",
      "see 21 Oct 1995 Schroder Hospital discharge summary-Psychiatric History Hx of Inpatient Treatment: Yes\n",
      "44 y/o MWF, unemployed Decorator, living with husband and caring for their two young children, referred by CHH PCP for urgent evaluation/treatment till first visit with Dr. Toney Winkler on 24 Jan 2011, presents with history of unclear rheumatologic illness and partially treated post-partum depression which has worsened in severity since patient's discovery of dire family financial situation, with significant anxiety symptoms causing insomnia.\n",
      "04 Oct 1972 Total time of visit (in minutes):\n",
      ".On 23 Aug 1993 at return office visit Dr. Fisher found patient to still be depressed on bupropion 150 mg QD, with new complaints of cognitive symptoms: \"difficult to speak in an organized fashion, has poor memory, and has some word finding difficulties\".  Patient reports cognitive problems as \"can't find the right word....can't remember how to say the word\".  Brain MR was WNL.\n",
      "18 Oct 2006 Age:\n",
      ".On 04 Dec 1988 the patient was admitted to Fairmont Hospital from the APS for NINE MONTH history of increased depression severity, on treatment with sertraline 200 mg, Lunesta 3 mg, and lorazepam 0.5 mg 1-2 QD prn, and in midst of SIX MONTH trial of psychotherapy from Carol Shaw, PhD, in the setting of termination from job as User Support Technician, after six month leave, in midst of lawsuit over wrongful termination.\n",
      ".On 21 Oct 1983 patient was discharged from Scroder Hospital after EIGHT DAY ADMISSION\n",
      "see above and APS eval of 26 May 2010 Education Education Level: College Grad\n",
      "22 year old single Caucasian/Latino woman, unemployed Cook recent college graduate, living along with pet rabbit, with long history of depression with cutting and SA but never hospitalized, as well as obesity, hypothyroidism in euthyroid state and PCO, referred by new NMH PCP Dr. Evelyn Julian for urgent evaluation and treatment till first visit with colleague, Dr.  Inez Burns, on 18 Jan 1990, presents with untreated recurrent major depression and developmental history of verbally abusive alcohol abusing mother and school bullying.\n",
      "15 Jun 1985 @ 11 AMCommunication with referring physician?: Done\n",
      ".On 10 Dec 1982, the first night after hospital discharge, the patient experienced a nightmare, which he attributed to new medications and he self-discontinued all these new medications.\n",
      ".On 09 Dec 1988 the patient was discharged home-\n",
      "18 August 1995 Primary Care Doctor:\n",
      "eby 13 June 1974 it appears amitriptyline had been stopped and bupropion 150 mg BID was restarted.\n",
      "see above and APS eval of 26 May 2008 Financial Stress: Yes\n",
      "11 Nov 2002 SOS-10 Total Score:\n",
      "see 17 Aug 1985 eval by Dr. Ngo.Social History Marital Status: Married\n",
      "13 Oct 2016 Primary Care Doctor:\n",
      "14 Jan 2008 Total time of visit (in minutes):\n",
      "12 March 2004 CPT Code: 90801 - Psychiatric Diagnosis Interview\n",
      "ssee 21 Oct 1977 Schroder Hospital discharge summaryHx of Outpatient Treatment: Yes\n",
      ".By 10 Aug 2000 patient was rehospitalized at Sweetwater Hospital for depression, SI, hypersomnia, fatigue, poor concentration, negative ruminations, dissociated states and ? VH.  This was in the setting of no medications and continued alcohol and MJ abuse.\n",
      "30 Nov 1972 SOS-10 Total Score:\n",
      "06 May 1993 CPT Code: 90792: With medical services\n",
      "s 22 year old single Caucasian/Latino woman, unemployed Cook recent college graduate, living along with pet rabbit, with long history of depression with SA but never hospitalized, as well as obesity, hypothyroidism, and PCO, referred by new NMH PCP Dr. Evelyn Julian for urgent evaluation and treatment till first visit with colleague, Dr.  Inez Burns, on 18 Jan 1995.\n",
      "April 11, 1990 CPT Code: 90791: No medical services\n",
      "MRI May 30, 2001 empty sella but no problems with endocrine functionPertinent Medical Review of Systems Constitutional:\n",
      ".Feb 18, 1994: made a phone call to Mom and Mom commented that he was talking very fast, hard to interrupt, but was in super happy spirits, so didn't make a big deal of it.\n",
      "Brother died February 18, 1981 Parental/Caregiver obligations:\n",
      "none; but currently has appt with new HJH PCP Rachel Salas, MD on October. 11, 2013 Other Agency Involvement: No\n",
      ".Came back to US on Jan 24 1986, saw Dr. Quackenbush at Beaufort Memorial Hospital.  Checked VPA level and found it to be therapeutic and confirmed BPAD dx.  Also, has a general physician exam and found to be in good general health, except for being slightly overwt.\n",
      "July 26, 1978 Total time of visit (in minutes):\n",
      "father was depressed inpatient at DFC December 23, 1999 Family History of Substance Abuse: Yes\n",
      "May 15, 1989 SOS-10 Total Score:\n",
      "September 06, 1995 Total time of visit (in minutes):\n",
      "Mar. 10, 1976 CPT Code: 90791: No medical services\n",
      ".Got back to U.S. Jan 27, 1983.\n",
      "Queen Hamilton in Bonita Springs courthouse.  Ends October 23 1990 Current legal stresses/needs:\n",
      "r August 12 2004 - diagnosed with Parkinson's stopped working Financial Stress: No\n",
      "September 01, 2012 Age:\n",
      "July 25, 1983 Total time of visit (in minutes):\n",
      "August 11, 1989 Total time of visit (in minutes):\n",
      "April 17, 1992 Total time of visit (in minutes):\n",
      "EKG July 24, 1999: QTc 496 msPertinent Medical Review of Systems Constitutional:\n",
      "July 11, 1997 CPT Code: 90792: With medical services\n",
      "s Gale Youngquist is a 22 yo single Caucasian female who presents to the HJH Psychiatry for an evaluation of her current eating disorder status and treatment needs.  She shared that she began restricting at age 11 yo but could not identify any specific triggers.  \"Mostly I wouldn't eat at school, and then I'd have dinner at home, but some days not,\" per pt. Her parents and ski coach started noticing that \"I wasn't eating and was losing weight.\"  She began outpatient treatment at age 11, and has been in and out of outpatient and higher levels of care since then, including multiple emergency room visits and against medical advice (AMA) departures.  Most recently, she left Jefferson County Health Delegates AMA on Sep. 10, 1974.  \"They weren't saying I was ready to go, but insurance pulled out,\" per pt.  She said she felt both dissappointed but also relieved to leave residential care to move back home w/ her mother.\n",
      ".August 14, 1981- bad reaction to SpiceK2 - synthetic MJ- admitted to Crete Manor, Mcalester.\n",
      "Nov 11, 1988 Total time of visit (in minutes):\n",
      "e June 13, 2011 Suicidal Behavior Hx of Suicidal Behavior: Uncertain\n",
      "May 14, 1989 QTc  467 ms.  Pertinent Medical Review of Systems Constitutional:\n",
      "stwin boys born Dec 14 1975 Gambling behavior: No\n",
      "Refilled trazodone. Patient to follow up with geriatric psychiatrist. My leaving the clinic was discussed. Patient to call me until June 25, 2012 if she has any issues.\n",
      "Oct 18, 1980 Total time of visit (in minutes):\n",
      "May 15, 1998 Age:\n",
      ".She saw a counselor in high school about her drinking in high school, and in college.  Was a period in college where she decided to leave college - felt liek the palce was too big, lost - felt depressed after she left.   therapist told her when she was 20 that she wasn't built to drink alcohol so she quit (she was taking risks that would horrify her as a mother).  She thinks she may be alcoholic, last drink was October 14 1974 - except once- feels not an effort.  Felt better after 20. Had various jobs, got involved in jobs, did flower arranging job (family business)\n",
      "July 25, 1998 CPT Code: 90791: No medical services\n",
      "June 15, 1972 Family Psych History: Family History of Suicidal Behavior: Death(s) by Suicide\n",
      "See previous - Parking garage incident January 07, 1991.\n",
      "September. 15, 2011 Total time of visit (in minutes):\n",
      "s 20 yo M carries dx of BPAD, presents for psychopharm consult.  Moved to Independence area for school as of September 1985.\n",
      "t Allergies Sulfa (Sulfonamide Antibiotics) - Renal Toxicity : pt developed acute interstitial nephritis on Bactrim (June 2011)\n",
      "B/R Walnut Ridge. Raised with sister and parents. Parents divorced when he was 12 yo. Raised with mother. Attended SUNY New Paltz. Never married, no children. Worked as a Cleaning Supervisor, but got laid off in May 1986. Has friends that he spends time with. Lives in Topeka. No pets. No access to guns/firearms. Past verbal, emotional, physical, sexual abuse: No\n",
      "50 yo DWF with a history of alcohol use disorder, anxiety and depression, and prior trauma history, no prior psychiatric treatment referred for care at ZMH by PCP.  She is seeking help mainly around management of anxiety, and it is unclear to what extent alcohol (which she has not consumed since May 2016) is affecting her current situation.  Biological factors include likely primary mood and/or anxiety disorders (perhaps depression with panic attacks), consequences of long-term alcohol use. Important psychological factors include the loss of three improtant family members and the prior trauma at multiple times. Her social situation reflects isolation and an unfortunately high level of dependence on her children.  One important challenge is her discomfort with opening up and seeking care, which may benefit from positive treatment alliances.\n",
      ")HTN, hypercholesterolemia, DM, sleep apnea,, nephrolithiasis. chronic renal impairment, DVT since July 1977 on enoxaparin.\n",
      "Dr. Gloria English, who conducted an initial consultation in July, 1990\n",
      ". Patient presents with GAD flareup in Jul 2003 in setting of extended hospital ED visit for symptoms of panic attack with cardiac and neuro testing, which have responded poorly to trials of lorazepam, clonazepam and CBT; trials marked by poor adherence, as well as poor tolerance of low dose paroxetine.\n",
      "pOct 2015 - Admitted to Gray Clinic for depression, alcohol intox/dependence and SI.  Discharged to MH Partial Hospital---on trazadone 50 mg QHS, Ativan 0.5 mg BID, Wellbutrin 150 mg BID, Seroquel 50 mg QHS and Zoloft 100 mg.  It is unclear if patient attended Memorial partial hospital program.  By report she had refills of trazadone and sertraline via PCP (see HPI).Hx of Outpatient Treatment: Yes\n",
      "Pt does not use marijuana currently. Her last use was before her May 1995 suicide attempt. Pt used to smoke marijuana daily bc it was provided by an ex-boyfriend several times per day. Her first use was when she was 18.\n",
      "safter evicted in February 1976, hospitalized at Pemberly for 1 mo.Hx of Outpatient Treatment: No\n",
      ". History of sleep apnea, set up with CPAP in January 1995. Over the last month or so he has been able to wear 5-6 hours.\n",
      ". In Feb 1978, misdxed with STD- had plan to O/D on painkillers, but never did it. Hx of Non Suicidal Self Injurious Behavior: No\n",
      ")- Venlafaxine 37.5mg daily: May, 2011: self-discontinued due to side effects (dizziness)\n",
      "sLanguage based learning disorder, dyslexia.  Placed on IEP in 1st grade through Westerbrook HS prior to transitioning to VFA in 8th grade.  Graduated from VF Academy in May 2004.  Attended 1.5 years college at Arcadia.Employment Currently employed: Yes\n",
      "oFather died in Nov 2010.  Normal grieving.Alcohol Use: How often did you have a drink containing alcohol in the past year: Never (0 Points)\n",
      "tIn Sep 2012 patient returned to Jinan, moving into an off campus rental apartment he's sharing with software engineer visiting from Storage Technology Corporation (originally from Mount Pleasant).\n",
      "s Mr. Moss is a 27-year-old, Caucasian, engaged veteran of the Navy. He was previously scheduled for an intake at the Southton Sanitorium in January, 2013 but cancelled due to ongoing therapy (see Psychiatric History for more details). He presents to the current intake with primary complaints of sleep difficulties, depressive symptoms,  and PTSD.\n",
      "lNovember 1990 - NPCCHx of Outpatient Treatment: Yes\n",
      "husband's death July 1981 Cultural Identity (Race, Country of Origin):\n",
      "\"May 1983\"Primary Care Doctor:\n",
      ";Trazodone 50-100 mg QHS, had also been on this long-time when it was d/ced in July 1995.\n",
      "0h/o 3 detoxes (2 for EtOH, 1 opioids).  Alaska April 1993 (opioids)Hx of Outpatient Treatment: Yes\n",
      ") He endorsed the following hyperarousal symptoms: disturbed sleep (e.g., months with great sleep and then has nights he barely sleeps- mind racing with worries related to job, expecting a child (May 2005)); reckless or self-destructive behavior (e.g., see above); difficulty with concentration; some hypervigilance; and exaggerated startle response triggered by loud noises.\n",
      "December 1998 Primary Care Doctor:\n",
      "n Abilify (added to Lexapro + Wellbutrin in Jan 2007)\n",
      "slast use Feb 2016 Sedative-Hypnotics: Yes\n",
      "sApproximately 7 psychiatric hospitalizations starting Humana Hospital-Augusta (Alabama) at age 12, most recently 1-month residential program at Jefferson County Health Department in August 1979 but left AMA\n",
      "sOne week Memorial Psychiatric Hospital Oct 2014, feels triggered by distress with mother as had stopped and felt depressed 2 months with sucidal ideation. Does not have records but responded well and told PTSD main diagnosis. Depression lifetd with treatment\n",
      "IAug 1988: Symmes Hospital s/p SA OD with ASA\n",
      ". Sep 2015- Transferred to Memorial Hospital from above.  Discharged to MH Partial Hospital on Zoloft, Trazadone and Neurontin but unclear if she followed up.\n",
      ".  Pt diagnosed in Apr 1976 after he presented with 2 month history of headaches and gait instability. MRI demonstrated 4 cm L cereballar mass in the paravermian region. He was admitted to PRM and underwent resection complicated by post-op delirium. Post-op sequelas include left palatal myoclonus and ataxia on the left upper and lower extremities which has progressively improved. Pt has not had any evidence of tumor recurrence.\n",
      "eLast saw a therapist in Nov 1979 What factors in prior treatment were helpful/not helpful:\n",
      ".Iredell Memorial Hospital, February 2000, after suicide attempt by cutting.Hx of Outpatient Treatment: Yes\n",
      ".  Pt was seen in Lutheran Brethern Homes intake clinic.  Since her father's death, pt report worsening depression, poor sleep, fatigue, anxiety, and auditory hallucinations. Her auditory hallucinations consist of her father's voicing telling her to come with him, but she denies any commands to harm herself. Father died Oct 1986, mother died the year prior.  Sister died last year.  As a result of these voices patient's sleep has worsened. She denies suicidal ideation stating that she would never harm himself because of her youngest sons who live at home.\n",
      "hHelen Ernst, M.D. last appt Jun 2002, no other treaters\n",
      "sgoiter--diagnosed in September 1981, Pt feels thyroid problems are related to h/o lithium use\n",
      "ssomething related to hypnosis, Pt unable to explain, medical record indicates when Pt presented in June 2007 to ED her speech was nonsensical but she was reporting some type of hypnosis eventGAD: Has the patient had times when they worried excessively about day to day matters for most of the day, more days than not: No\n",
      ".  Pt reports h/o difficulty with EtOH and opioids. EtOH: 1st use at age 10, regular use beginning in high school, more problematic at age 25 when started losing things.  Drinking 12 beers/day over past year since returning to State College from Alaska.  Unsure of heaviest use period.  h/o frequent blackouts.  Has passed out and woken up in variety of places.  h/o withdrawal symptoms, 1st detox at age 25, no h/o withdrawal seizure, no DTs.  opioids: 1st use at age 21 (perocet).  Began using daily at age 25, at worst was using 8 to 10 percocets per day (depending on dose).  Detox in April 1989, was using perioidically since back in State College, but has primarily been drinking.  Last use 3 mths ago.  no h/o suboxone or methadone.  No h/o accidental OD.  No h/o heroin use.  No h/o IVDU.  tobacco: 1 ppd since age 16, some interest in quitting, not right now.  H/o quitting for a week.\n",
      "September 1999 Primary Care Doctor:\n",
      ".   KEMH - Oct 1980 (Beverly Hospital):  psychosis in the setting of discontinuation of Abilify 2 months prior.  Pt had CAH and delusions that he had knowledge of a \"moral force\"\n",
      ". Was on lexapro and strattera with good result but taken off both in Dec 2009 because of   familial prolonged QTc  syndrome with mutation on gen KCNQ1 and need for anaesthesia for wisdom teeth.\n",
      "passive SI only (most recent episode end of July 1992) If Yes, please describe:\n",
      "May, 2006 Primary Care Doctor:\n",
      ".Spoke to sister Naomi Ely 708-810-7787 who reports he has been doing much better since he went to Dysart Clinic (he was drinking for a month leading up to this, his ammonia was high, and physicians were worried about early).  She feels his cognition is back to baseline, \"100% better\".  She says he has been successful in abstaining from substances as far as she knows, thinks a schedule is useful to him, doctor's appts etc.  Notes that he returned from LA in August 2008, gets bouts of \"exhaustion\" even in sobriety.  She denies ever witnessing any periods of manic behavior from patient.  Their father has dementia that started at age 84.  Notes patient is living with uncle in Black River Falls (uncle is 89), lived with sister 3 months who also takes care of her own father in Talladega.  She knows he is working on getting social security, subsidizing housing.  Stable situation with patient's girlfriend Nutt.Suicidal Behavior Hx of Suicidal Behavior: No\n",
      "sShe tries to follow several dietary rules including avoiding \"junk foods\" like chips  ice cream, trying not to eat more than 2,000 kcals/day, and eating at roughly the same time every day.  She also purges by self-induced vomiting \"when I feel like I'm eating too much.\"  Typically this is after breakfast and dinner.  She reports that she has been vomiting 2x/day \"most days\" for the past 3 months, consistent with \"extreme\" to \"severe\" severity of compensatory behaviors per DSM-5.  She notes that she previously vomited 4-6x/day between ages 11-16 yo (i.e., before she received any treatment for her eating disorder).  She previously took laxatives 2x/day from ages 14-17, but the last episode was >1 year ago (stopped b/c \"they were wicked expensive\").  She has also taken diet pills (last episode in Feb 1993) but stopped b/c \"they weren't working.\"  No history of diuretic misuse.\n",
      ") - Zoloft 100 mg daily: February, 2010 : self-discontinued due to side effects (unknown)\n",
      "7HH, April 1985 Hx of Outpatient Treatment:\n",
      ".   Ex-BF 25 yo, plans to go to sch in URUGUAY September 1984.\n",
      "April 1986 Primary Care Doctor:\n",
      "e Mr. Oliveira reported a long history of alcohol problems which worsened after he lost his job in Apr 2007.\n",
      "SA in September 1974, OD on luvoxHx of Non Suicidal Self Injurious Behavior: No\n",
      ".BY Sep 2013 patient called his PCP in Copenhagen, UT, who rx Zoloft 50 mg and referred patient to Elberton-Elbert Hospital for psychiatric follow up.\n",
      "s1 admission to Psychiatric Inpatient in July 1985 following suicide attemptHx of Outpatient Treatment: Yes\n",
      "yAug 2004 - Dr. Tom Ngo at TMC; dx GAD; patient stopped after two visits re: \"I was scared if this meant I was sick and really needed this\", despite success in controlling anxiety-related symptoms of nausea after just one treatment visit.Psychiatric Review of Systems DEPRESSION: Has the patient had periods of time lasting two weeks or longer in which, most of the day on most days, they felt little interest or pleasure in doing things, or they had to push themselves to do things: No\n",
      "s Cathy Bowers is a 50 yo single Caucasian female who presents to the ANH Eating Disorders Department for an evaluation and treatment recommendations for low weight.  She shared that she has recently lost a great deal of weight and is having difficulty meeting her calorie needs due to difficulties with gagging/swallowing, and aversions to specific food textures.  Specifically, since May 2012, she has lost 18 lbs, going from 128 lbs (BMI = 19.5, normal range) to 110.2 lbs (BMI = 16.8, underweight range) at a height of 5'8\" tall.  She has had amenorrhea for 2 months.  Her current weight is her lowest since high school, when she was a model and weighed 98 lbs (BMI = 14.9, underweight range).  At that time, she had amenorrhea, felt pressure to be thin in order to keep her job, and most likely met criteria for frank anorexia nervosa nervosa-restricting type.\n",
      "AFeb 1977: Symmes Hospital\n",
      ".  Alvarado Medical Center - Jan 1987 : worsening psychosis and mania (impulsivity of going to Pompeii, grandiosity in wanting to send script to famous playwright, increased painting activity, maxed out credit card, decreased sleep) Hx of Outpatient Treatment: Yes\n",
      "sSep 1983 GSW to face (L-TMJ region), ? gang related, with L-CN VII injury and ? TBI, requiring plastic surgical reconstructionActivities of Daily Living (ADL) Bathing: Independent\n",
      "father died suddenly in January 2013 Meaningful activities/supports:\n",
      ".The patient reports onset of depressed mood SINCE ~6 MONTHS s/p liver transplant in Mar 2010 associated with:\n",
      ". Inhaled helium - August 2009 Hx of Non Suicidal Self Injurious Behavior: Yes\n",
      "NV fire fighter died Sep 2007 while working.  Was friend from deployment to San Marino and trainings for years prior.  Still troubling to pt.  Didn't go to his funeral.  Spiritual/Religion:\n",
      "ostoppepd working 1rs week of December 2011 Occupation/Work History:\n",
      "Stopped daily use in Jan 2004; occassionally smokes when drinking now but this is infrequentFamily Psych History: Family History of Suicidal Behavior: None\n",
      "olanzapine to address manic behavior in November 1995 - mania secondary to right frontal lobe lesion and prednisone.Psychiatric Review of Systems DEPRESSION: Has the patient had periods of time lasting two weeks or longer in which, most of the day on most days, they felt little interest or pleasure in doing things, or they had to push themselves to do things: No\n",
      "The patient reports having had an endoscopy, colonoscopy and abdominal CT at an outside hospital in the Gravette Medical, which were read as negative. The patient also reports a number of labs which were also normal in September 2008. Prior relevant imaging:\n",
      "February 1983 Primary Care Doctor:\n",
      "sKern Hospital March 1983 for SI\n",
      "cutting of wrist and thigh x 2years - stopped since Aug 1979\n",
      "B/R Natchez, GA on a commune. Completed 1 year of medical school. Married to husband for 50+ years. Moved to Maine and later settled in West Hurley, AK. HAs 2 children and 5 grandchildren. Worked as notary public for the local government for over 50 years. Husband now in nursing home and she has moved in with her daughter's family in Emerald Isle, AK as of Jan 2009. No access to firearms. Past verbal, emotional, physical, sexual abuse: No\n",
      "HH, Janaury 1993\n",
      "March 1974 Primary Care Doctor:\n",
      ".Since January 1994, she feels that hse has been much more irritable and frustrated towards her husband about 1 week prior to her menses. She does not have a h/o premenstrual mood symptoms.  She notes that little things would set her off with him. She was not this way at work or in other social settings.\n",
      "S/p colectomy in Dec 1992.Problems ANXIETY : Dr. Tatiana, KWMC, klonapin for sleep, propranolol helps at night\n",
      "Hx of 3 instances that pt believes were concussions (last November 2004, playing flag football)\n",
      "7 first psych hospital approx age 20, most recent at age 25 in January 1977 Hx of Outpatient Treatment: Yes\n",
      "past suicidal gestures by overdose (trazodone/alcohol) and superficial cutting (high school, last in Mar 2002).  Reports feeling ambivalent about life, but re ports she never really wanted to kill herself.If Yes, please describe:\n",
      ". The patient was hospitalized in Feb 2000 at Sweetwater Hospital\n",
      "May, 2004 Hx of Brain Injury: No\n",
      "invasive ductal carcinoma of the left breast(s/p chemotherapy, mastectomy and  HTN, hypercholesterolemia, DM, sleep apnea,, nephrolithiasis. chronic renal impairment, DVT since July 2006 on enoxparin.Surgical History:\n",
      "dCelexa: most helpful, came off half-way through sr yr (Feb 1994) b/c had been doing well enough to not need it\n",
      "Pt put on a 504 at the beginning of 10 th grade, approved for IEP in April 1977 for emotional/social support.Employment Currently employed: No\n",
      "eZoloft : dizziness and tiredness (only 1 dose, Oct 1992)\n",
      "- Prozac 20 mg daily:  February, 1995: self-discontinued due to side effects (unknown)\n",
      ".On review of systems, she reports that her sleep is generally good, except when she wakes up around 1am and struggles to fall back asleep for an hour or more.  On these instances she usually wakes up exhausted.  She reports going to sleep around 8:30 or 9pm because her partner keeps an early schedule (wakes up at 4am), though she says she typically sleeps much later because she does not have to be at work until 10 am.  She reports enjoying activities, eating well, and having good energy and ability to concentrate.  She denies suicidal thoughts or self-injury since February 1989  (her last suicide attempt).  She denies thoughts of harming others or access to guns.  She denies current or prior symptoms of mania or psychosis.  She endorses drinking two glasses of wine per night, though on rare occasions she drinks three (usually when she \"overreacts\").  She states this has happened about 5 times in the past few months.  She denies feeling shaky in the morning and denies other substance use or cigarette smoking.\n",
      "nLoss of father to cardiac event in Decemeber 1978\n",
      "a Saddle PE January 2007\n",
      "rBrookhaven outpatient program in Jun 1976- lost 40 lbs, couldn't get out of bed; had been seeing a therapist at the time\n",
      "2 cats-3 family house-planning to move in May 2011 to Crowley ALFirearms: None\n",
      ". Psychosocial: lives w/ father, looking to get own apartment. Lives in Saluda. Fa. has roommate. Parents divorced when pt 5 y/o old. Mother lives in saluda, see her often, drives hm to work. Relationship okay w/ dad and mom is okay too. Has one sibling, age 18 y/o. Get on well currently. Close family on mother's side. No family issues. Employment: Woriking 63 hours - \"I love it.\" At construction worker. School: finished HS - dipolma, started working after HS. Likes job, makes good money. Peers: have friends, no issues, all friends are sober from opiates but drink/smoke \"they distance from me when I use.\" Single currently. Stressors: biggest stress - Mar, 1975 - uncle passed from heroin OD. Pt was close do him, was mother's brother. Finances - getting better, owe lots of money to people/banks too.\n",
      ") Paxil (Jan 1978) : sedation\n",
      ". Other collateral, noted in a July 1975 note documenting patient's CM at Johnson Hospital, reports patient has history of hoarding behavior and chronic delusions with ex-husband as focus, and recurring conviction that men are coming into her home and stealing things, writing things on her belongings, etc.  Patient apparently has long history of seeing psychiatrists and therapists but none for very long.  Hx of Outpatient Treatment: Yes\n",
      "50 yo man with history consistant with ADHD undiagnosed or treated and a long history of anxiety verging on GAD combined with history of social anxieties.  He started drinking at age 16 and had early DUI's, then went from weekend to daily drinking.  Eventually sought treatment and was sober a year in programs.  Had some semblence of drinking control until the death of his father November 2012 - \"after that I was so upset and grieving and I couldn't control my drinking\"  This led to job loss and homelessness.\n",
      "2June, 1999 Audit C Score Current:\n",
      "Mother died October 1991; very close. Father still alive at age 79; lives downstairs from them.Past verbal, emotional, physical, sexual abuse: No\n",
      "4ectopic pregnancy in March 1973 Pertinent Medical Review of Systems Sexual (include birth control method if used):\n",
      "Hep C and HIV negative, LFTs WNL (October 1996)Problems Opioid dependence\n",
      ".She has however developed severe anxiety and depression, which she indicates as starting approximately one year ago.  In Jun 2007 she was assessed at ASMC for vertigo which is worsened by stress and then later in the year she was twice seen in the Ronan Medical Clinic ED for chest pain with apparently negative cardiac work-up.  She describes both persisting generalized anxiety (feeling on edge, restless, worried) as well as episodic-like autonomic arousal (sweating, dizziness, chest tightness, chills) consistent with panic attacks.  These symptoms have worsened over the past year, and have only slightly helped by 0.5mg of lorazepam taken thrice daily.\n",
      ". Once off Cymbalta, mood was stable and good, she lost 80 lbs (on high protein Dukan diet), started biking, active w/ friends etc until October 1995 when she  rather abruptly noted a decline in mood, worse by the year's end, with decreased interest, (stopped making jewelry, biking, seeing friends) much more social withdrawal and decreased energy. Felt \"like a veil was drawn over me\".\n",
      "yEnd stage renal disease : Secondary to obstructive uropathy, diabetes and HTN. On hemodialysis qTTS at Hartford since April 1999. Followed by Dr. Kruger.\n",
      "s Pt reports long Hx of drug addiction. PLEASE SEE NSC SUPPLEMENTAL NOTE on this same date for details about substance use Hx. Her drugs of choice are opiates and benzodiazepines. She said that she used cocaine about once per month when she was on methadone. She got off of methadone in May, 2001 (7 months ago). She reports using it cocaine 1 x since getting off methadone. She states she has been abstinent from opiates for 7 months. Pt states: \"I have no desire to use an opiate or a drug at all. I don't have a desire to use heroin or have any craving for it. I can't stand that I am all of the place, I can't have a conversation, I can't sit down and watch a movie - my ADHD is that bad. I just want my ADHD treated. The heroin takes the racing thoughts away.\"  She is primarily seeking treatment for ADHD. She reps her substance abuse has been to self-medicate her ADHD and believes that if she were treated for ADHD she would stop abusing substances. Currently, Pt's PCP, Dr. Michael Yarber is tapering Pt off of benzo's.\n",
      "CLLC and DCF - ended in March, 2000. Psychiatric Review of Systems DEPRESSION: Has the patient had periods of time lasting two weeks or longer in which, most of the day on most days, they felt sad, down, or depressed: Yes\n",
      "\"-worked with Uma Dewitt (ED specialist) x 10 months, but stopped b/c \"I wasn't getting anywhere\" (April 1988)Prior medication trials (including efficacy, reasons discontinued):\n",
      "Prozac- highest dose 40 mg; currently on 20 mg and doing well. Started about 4-5 years ago and would come on and off but her mood symptoms would relapse and she would go back on.  Denies that the Prozac ever made her mood worse. She was on 40 mg when she found out she was pregnant and stayed on it about 1 month before coming off and remained off for 4months. Resumed use in December 1993 but at lower dose, 20 mg.\n",
      ")last use in June 1974.Longitudinal Alcohol use History:\n",
      "sNovember 1997 - suicidal ideation - HHR\n",
      "sAppendectomy in July 1986, shortly after delivery.Axis IV: Problems related to social environment; Problems with primary support group\n",
      "Open appendectomy, as a child. 2.  Laparoscopic cholecystectomy and umbilical hernia repair, as discussed above, in February 1973. Prior relevant labs:\n",
      "sOcella 0.03-3MG TABLET Take 1 PO QD, next pap due March 1978 x 90 days\n",
      "sWas on lexapro and strattera with good result but taken off both in Dec 2007 because of  familial prolonged QTc  syndrome with mutation on gen KCNQ1 and need for anaesthesia for wisdom teeth.\n",
      "2Last time received treatment was from a life coach (through PCP): started Apr, 1998 - present. Phone meetings every 2 weeks.\n",
      "Currently on Zoloft, 50 mg, Dicolenac, 100 mg, Hydrocodone, Seroquel, 100 mg. Was hospitalized for Serotonin Syndrome for 3 days in March, 2005 due to Dr. Potts increasing effexor and zoloft. Current Psychopharmacologist(s) and Phone #(s):\n",
      "Future-oriented; recent increase in hope; in supportive committed relationship; connected to several close friends; recently employed; seeking treatment; excited about being a father (May 1980); resilient; benefitted from TBI treatment in pastNeeds/Preferences:\n",
      ".Nov 2007- Evaluation and treatment at CH ED/APS for acute alcohol and medication OD, with history of depression relapse and alcohol abuse PRIOR TWO WEEKS due to financial stress when she lost some Meteorological Technician work.  Discharged to detox and follow up with Fresenius Medical Care Center.\n",
      "5Bethania Hospital March 1976 Hx of Outpatient Treatment: Yes\n",
      "6/1998 Primary Care Doctor:\n",
      "s 52 y/o MWM h/o chronic depression, anxiety, adhd.  Here for psychopharm transfer in the context of his recent psychiatrist Dr. Blankenship's departure in 6/2005.  Patient endorses a long history of depression \"ever since childhood\" which wodesned in college and while patient was in Doctors Without Borders--was stationed in Bulgaria as a medical assistant, and left after several months: \"I was so depressed I only weighed 120 lbs.\"\n",
      "10/1973 Hx of Brain Injury: Yes\n",
      "9/2005 Primary Care Doctor:\n",
      "s 03/1980 Positive PPD: treated with INH for 6 months\n",
      "12/2005 Family Psych History: Family History of Suicidal Behavior: None\n",
      "5/1987 Primary Care Doctor:\n",
      "5/2004 Primary Care Doctor:\n",
      "A pleasant 28 yo woman with no formal psychiatric history and with a h/o SCCA of the right tongue (s/p partial glossectomy and neck dissection in 8/1974) referred to psycho-oncology for assistance with adjustment issues following recovery. The patient does not meet criteria for a major mood or anxiety disorder. She is not at imminent risk of harm to self or others. She would benefit from psychotherapy to help her integrate her experience of cancer and the break-up of her engagement, and to think through how to continue to create a life for herself moving forward.\n",
      "See initial PROMPTCARE evaluation from 3/1986 for more complete informationSocial History Marital Status: Single\n",
      "10/1997 Primary Care Doctor:\n",
      "Deviated septum, 3/1993 Activities of Daily Living (ADL) Bathing: Independent\n",
      "3/1981 Primary Care Doctor:\n",
      ". Patient states that she will follow up with the Cotta Hospital clinic regarding getting a therapist for ongoing care. (Per LMR, pt transitioned to a new therapist in 9/2003 and was seen for 1 appointment; the pt canceled her f/u appt 2 weeks later and was not seen for f/u appointments since. )This visit for a one-time consultation only? Yes\n",
      "% 10/1993 Echo: LVEF 60%\n",
      ".Mother died, 1/1983.\n",
      ". GBSG : 7/1994\n",
      "12/2008 Primary Care Doctor:\n",
      "n Abnormal CXR : 10/1980 ? scarring @ R heart border needs f/u CXR\n",
      "md. metabolic montioring as indicated inc. annual EKG in ~8/2003\n",
      "12/1975 Primary Care Doctor:\n",
      "sDr. Yaeger at Jarman Memorial Hospital for meds, on Citalopram since 11/2010.\n",
      "sCurrently See Jeremiah Ngo in Omak. Sees 2x month through his EAP. Feels it is supportive. Been in treatment since 7/1997. No inpatient treatment. No medsPsychiatric Review of Systems DEPRESSION: Has the patient had periods of time lasting two weeks or longer in which, most of the day on most days, they felt little interest or pleasure in doing things, or they had to push themselves to do things: No\n",
      "1. Metastatic pancreatic adenocarcinoma, dx: 7/2014\n",
      "rtherapy: Patient states that she will follow up with the Cotta Hospital clinic regarding getting a therapist for ongoing care. (Per LMR, pt transitioned to a new therapist in 9/2001 and was seen for 1 appointment; the pt canceled her f/u appt 2 weeks later and was not seen for f/u appointments since. )Prescriptions Given:\n",
      "craniotomy 8/1986 Prior relevant labs:\n",
      "1/1978 Primary Care Doctor:\n",
      "4 (9/1975)Patient's thoughts about current substance abuse:\n",
      "s Pt is a 73-y.o. MWW with a history of recurrent depression who presents on referral for a one-time consultation (with one follow-up)  from her outptient psychiatrist, Anna Hart, M.D., and PCP, Collis Yeoman M.D. with a complex history involving anxiety, mood and somatic sx's -- \"rumination about health\"  anorexia and insomnia per Dr. Hart and ~twenty visits to PCP  recently per Dr. Yeoman with GI and nephrology consulted.  The patient has been offered CBT recently for her insomnia, but \"the situation has totally impaired all levels of functioning\" per Dr. Hart who started seeing the patient in 1/2009 with the pt. presenting at that point still anxious and with insomnia on high doses of Ativan and Ambien.\n",
      "7Xitlaly Hobbs OP med mgmt since 5/1995.\n",
      "Up until his accident, patient would drink 3-4 drinks per night and on weekend sometimes more. Since accident 8/1989, patient rarely has one beer. Drug Use: How many times in the past year has the patient used an illegal drug or used a prescription medication for nonmedical reasons:\n",
      "weight reduction surgery- bariatic sleeve 11/2000 Prior relevant labs:\n",
      "06/1973 Primary Care Doctor:\n",
      "2/1999; 472 ms re QTcPertinent Medical Review of Systems Constitutional:\n",
      "s Pt. is a 59 y.o. woman w/ hx PTSD and anxiety transferring care from Dr. Odonnell, who has left the practice.  Her last appt. w/ Dr. Odonnell was 6/2001. She missed her initial appt w/ me due to influenza and pneumonia.\n",
      "The pt. is a 45 Y/O F who comes in to discuss her sexual problems-low libido.  Factors to consider--long-standing problem, marital issues, recent delivery of twins 12/1978 -IVF/donor egg/breatfeeding, sexual abuse as a child age 7-?college, depressed mood (variable), hypothyroid (treated).  Pt. has almost no libido now and feels this may be impacting her marriage.  She can lubricate and get orgasm on occasion.  She has had some success with sexual fantasy in the past.  She has not followed through with a med trial of bupropion rx by Peggy Wiggins, MD because she was breast feeding at  the time.  Discussion of the complexity of the problem.  Advised she resume couple's therapy/indiv therapy or discuss with husband if he would be willing to come in for behaviorally-based sex therapy. Reading list given for her to explore options.  Med addition may be helpful to rx mood symptoms and libido (which may be low because of mood.)Patient Instructions\n",
      "8/2009 Primary Care Doctor:\n",
      "dPer Pt Intake from 7/1973: Sometimes has passive \"fleeting\" thoughts about death (\"It would be so much easier to be dead.\")  More commonly will think about disappearing and starting over somewhere geographically different.  Does not see suicide or relocating as an option.  Has never taken any action towards acting on either of these thoughts.  These thoughts are followed by the thought \"that's not realistic Lowery.\"  This \"resets\" the patient and allows her to focus back on the task or challenge at hand.Hx of Non Suicidal Self Injurious Behavior: No\n",
      "b fibroid tumor resection pending 1/2014\n",
      "sOne prior voluntary hospitalization in 09/1975 for depression on Psychiatry. Hx of Outpatient Treatment: Yes\n",
      "sober since 12/2012 after binge drinkingDrug Use: Stimulants: Yes\n",
      "tProblems Transplant of kidney : 5/1999- functions well now\n",
      "7/1989 Communication with referring physician?: Done\n",
      "7/2009 Primary Care Doctor:\n",
      ".  Partner was in Anchor Bay Entertainment accident, in 11/1998,\n",
      "see above.   Last cutting in 3/1995 Violent Behavior Hx of Violent Behavior: No\n",
      "2/2009 Primary Care Doctor:\n",
      "08/1988 Primary Care Doctor:\n",
      "4/2007 Primary Care Doctor:\n",
      "TSH 0.67 5/2000 Prior EEG:\n",
      "4/2012 open heart surgery\n",
      ".  Pt described period of difficulty that started 10/2001 with lack of work as an copyeditor and a break up w a BF that spiraled into her dc of medications and decompensation of mental state, requiring extensive inpatient and residential care.  She feels she has recovered from that mental health relapse and is healthier at this time, putting greater focus on her overall health and well being, having positive supports and being honest w them about her functioning, and feeling a strong connection w her psychiatrist.  While pt has made great strides in improving her mental health, supports, and activities, there is concern w her level of distress and attachment related to the current relationship and how problems within that relationship could be risk factors for her decline in functioning.  Pt will benefit from a focus on interpersonal connections and how such does and does not relate to her own identity and functioning.  -Recommendations / Plan Level of Care: Outpatient\n",
      "2/1977 Primary Care Doctor:\n",
      "8/2008 Primary Care Doctor:\n",
      "2/1983 Primary Care Doctor:\n",
      "nstill cries over her last romantic relationship that ended abruptly in 5/1979 after 3 years --they lived together -> perceived she was very happy with BF at the time; idealizes former BF; he never returned after a cycling tour overseas; then she learned he got married and had a family. EATING DISORDERS: Has the patient had periods of time during which they were concerned about eating or their weight: Uncertain\n",
      "tProblems Anxiety : Long history of social anxiety which he has managed to confront substantially. History of probable panic attack x 1 in 1/1992. Tends to hold on to stress which then erupts in feeling overwhelmed and tearful, though briefly (minutes).\n",
      "y Vomiting : likely gerd 11/2008\n",
      ". Depression- Since 12/2014 she has noticed mood being dampended and accompanied by neurovegetative sx of low energy, some anhedonia, middle insomnia, low appetite, weight gain of 5-10 # in the last year, social isolation, indecisiveness, reduced concentration, guilty thoughts, and helplessness. SHe does not recall depressive episodes in the past. Denies hopeless thinking and denies SI/HI/SIB. Denies prior hx of safety related concenrs. She denies hx of manic sx. She no longer enjoys her job. She is able to perform her job but reports she does not derive much excitement and enjoyment from doing challenging work. She would like to change her job and possibly make a career change. She is considering moving back home to Montana with spouse but is anxious and worried about change.\n",
      "Dr. Noland-pending 4/1974 Hx of Brain Injury: No\n",
      "rib resection 10/1981 due to bone tumor in rib\n",
      "10/1986 Primary Care Doctor:\n",
      "History of two suicide attempts, most recently in 03/1973, reportedly caused by a medication side effect. Recent hospitalization due to suicidality. Patient's current risk status: Appropriate for continued outpatient treatment\n",
      "12/1994 Primary Care Doctor:\n",
      ".  8/1999:   Consulted Pediatric Neurogastroenterology, Dr. Quin-Fontenot: SSRI suggested as possibility for anixety.  Referred to PsychMD Dr. Ferrell.\n",
      "e Pace Maker placed 10/2010\n",
      "3Adenomatous polyp of colon : 10/1994. Repeat in 3 years because bowel prep not optimal.\n",
      ". Patient primary concern is related to a TBI experienced at bootcamp in 01/2007. He reports a fellow army recruit sucker punched him from behind and knocked him out immediately. He is not sure how long he was out for but the next thing he remembers he was in the ambulance going to the hospital. He reports problems since that time although it was hard to get a sense of the specific symptoms he is experiencing. He reports he tends to wake up in the middle of the night and feels like he is having a seizure and can't control his body. He will feel disoriented at times (not completely dissociative, but feels \"weird, out of my body.\" He also had headaches and feels lightheaded. He reports he has also been struggling with depression since the incident where he will have good days and down days. On the down days, he wants to sleep all day and not get out of bed.\n",
      "8/2010 QTc 433 ms.Pertinent Medical Review of Systems Constitutional:\n",
      "kNotice that in 03/1990, sustained a bizarre injury.  He was in Colorado City at the time.  He was driving his car, and he says he had recently ran out of Saphris, which is an antipsychotic he was taking.  He says he does not recall all the events but believes he stepped out of his vehicle and then walked off of a bridge, sustaining a seven-story fall.  He was found unconscious.  He was taken to and treated at Norfolk Health Center in Colorado City, where he underwent open reduction internal fixation of the right humerus as well as the left femur.  was in ICU for a week, multiple fx.  He subsequently recovered from his injuries in the state of South Carolina\n",
      "11/2016 Primary Care Doctor:\n",
      "n4/2004 R mastectomy with reconstruction.\n",
      "2/1973 Primary Care Doctor:\n",
      "s1 CSU stay at Donelson Hospital 7/1987 in the context of voicing thoughts of ending his life in front of wife and son.\n",
      "tHead trauma-8/2000;s/p traumatic brain injury with hemorrhagic contusion in both frontal lobes and R temporal lob.  Result of bike accident\n",
      "ANTIDEPRESSANT TREATMENT HISTORY  per Dr. Beard 8/1975\n",
      "TSH in 5/1977 okayPertinent Medical Review of Systems Constitutional:\n",
      ".Patient reports overall stable mental health since last visit with Dr. Shepard, medication compliance and states, \"I think the medicines are working well.\"  Pt. has not had an EKG in the last years and wishes not to have this today, but on 3/2000 visit with Dr. Platt.  Pt. highlights separation, but amicable and in fact improved relationship with his wife and only his concern that her car broke down recently and that makes it more difficult for her to get to work.  He notes good relationships with his children and grandchildren. Pt. firmly and clearly agrees to safety plan of calling family members, calling 911 or bringing hiself to closest ER if any idea/plan or intent re: harm to self or others occurs.  He has no hx of SA's.Suicidal Behavior Hx of Suicidal Behavior: No\n",
      "sChesterfield 9/1984 for 3 weeks for dual diagnosis alcohol and PTSDHx of Outpatient Treatment: Yes\n",
      "4/1973 Primary Care Doctor:\n",
      "Polyarteritis nodosa, presumed (p/w LE claudication 12/1986): improved w/ prednisone 60 mg qday.  Elevated inflammatory markers, radiographic evidence of vascular inflammation on MR, but muscle biopsy and angiography negative, but has had brisk response to empiric immunosuppression\n",
      "db. routine metabolic montoring as indicated and by 4/1979\n",
      "sS/P TAH/BSO : 7/2004 for endometrial hyperplasia\n",
      "Retired in 11/1984 after teaching for 30 yearsLiving Situation Current Living Situation (Including type of dwelling and who patient lives with):\n",
      "6e. monitor pt's depressive experience in context of adjusting to upcoming retirement from work in 5/2016 and realtionships with his brother, son and daughter This visit for a one-time consultation only? No\n",
      "e12/2007 dx of endocarditis\n",
      "11/1982 Primary Care Doctor:\n",
      "06/1981 Hx of Brain Injury: Yes\n",
      "CBC, CMP, TSH, EKG: re: QTc 445 ms in 4/2013 Collateral information obtained:\n",
      "s Pt. is a 76-y.o. WWW who presents in the context of after being divorced in a contentious situation, married a man who was \"a much beter match\" for her and after his death in 4/1999 she has experienced a complicated grief reaction.\n",
      "a Endometriosis : dx on laparoscopy 5/2006\n",
      "10/1978 Communication with referring physician?: Done\n",
      ". First Rx'd medication 12/1989.\n",
      "\"Tapered off Xanax in 2/1974\n",
      "bObesity : 11/1986 MCC LAPAROSCOPIC PARTIAL VERTICAL GASTRECTOMY\n",
      ". 4/1983:  Dr. Tejeda recently consulted through E-Docs.  Fluoxetine was increased to 40 mg/day.\n",
      "Since 10/2014: Fatigued, more forgetful, impaired dexterity on her left hand. MRI reveals an approximately 4.2cm x 3.3cm x 2.5cm right parietal enhancing mass with surrounding edema\n",
      "6/1989 Primary Care Doctor:\n",
      "9/1980 Primary Care Doctor:\n",
      "9/1992 Primary Care Doctor:\n",
      "s30 days in GA in 9/2000. Hx of Outpatient Treatment: Yes\n",
      "7/1981 Primary Care Doctor:\n",
      "9 Queen Maldonado, LICSW - dynamic/supportive counseling since 1/2008\n",
      "Raised in Sao Tome by both parents along with 2 siblings (older brother--2 years older, twin brother). Father was a fisherman. Nice upbringing, parents always supportive. Mother was a railway conductor. All brothers are Sao Tome fisherman. Lots of tradition, very tightknit. Loss of mother in the last year was very sad for them. His Dad just moved to West Virginia. He met girlfriend 4/2002 at a bar. He discussed that they are both supportive of eachother. Past verbal, emotional, physical, sexual abuse: No\n",
      ".Patient currently feels \"up and down\" at times 2/2 to perimenopausal symptoms--for the last year and a half, has had off and on menstrual cycles--\"For 9 months I didn't have my period, then three months I did, and for the last five months (since 7/1985) I haven't...\" Does endorse hot flashes, feeling \"more bloated,\" but symptoms manageable.  Has noted feeling \"down here and there but it does go away...\"\n",
      "5/2010 Hx of Brain Injury: No\n",
      "r Pneumonia : 8/2002\n",
      "1/1994 Primary Care Doctor:\n",
      "Reports MRI of brain done 12/2004 at Gravette Medical Center was WNLPrior EEG:\n",
      "s6 past psychiatric hospitalizations starting at age 16.  Last 3/2003 for SIB/SI.  (WWL x 2, Getwell Hospital, Lincoln Hospital, cOX nORTH, Lotus Clinic)Hx of Outpatient Treatment: Yes\n",
      "7/1991 Medical History:\n",
      "7/1982 Primary Care Doctor:\n",
      "sHemmorage caused by probe in 1984 Medical History:\n",
      "sHas been at MYH since his treaters in NE retired in 2000. Was seen in NE for 20 years. Previouysly seen by Drs. Brandy Ivery and Quinn Prater. Prior medication trials (including efficacy, reasons discontinued):\n",
      "Pt joined Army reserves in 2001 and has 3 years left in this commitment.-Mental Status Exam Was the exam performed? (If not, indicate reason): Yes\n",
      "one sister from whom he is estranged due to her opiate dependence, legal conflict over mother's house following father's death in 1982, \"I dont' want to see family ever again\"Past verbal, emotional, physical, sexual abuse: Patient Declined\n",
      "sSince 1998. Prior medication trials (including efficacy, reasons discontinued):\n",
      "1 Ex-smoker : quit 2012\n",
      ". Age 16, 1991, frontal impact. out for two weeks from sports.\n",
      "sLexapro (1988-now): Good response (anxiety)\n",
      "s      25 year old engaged to be married Optician of Irish descent. She has a history of severe obesity necessitating a gastric bypass in 2014 (mother had a gastric bypass some years before). \"The doctor said I needed to stop eating or I was going to end up in a coffin.\"  Pt came to the US from Ireland at age 3 and lived with her grandparents initially, which was very stabilizing. Pt reports that sadness and anxiety symptoms began after her grandfather's death when she was in 3rd grade. \"I grew up in a strict Irish Catholic atmosphere and my parents were hardest on me because I was the oldest. She reports regular verbal, emotional, physical abuse from both parents throughout childhood.  She continues to live with her parents and reports that they get along OK, but they don't talk about the past. Stilll feels \"a little low and irritable.\"\n",
      "8Complications from brain hemmorage in 2016 Axis IV: Economic problems; Occupational problems; Problems related to social environment\n",
      ".Age, 19, 1976, playing football, frontal impact. out for two weeks from sports.\n",
      "s1981  Swedish-American Hospital\n",
      "aS/P suicide attempt 2011 Hx of Outpatient Treatment: Yes\n",
      "Patient has a history of suicidal ideation with plan. She denied ever attempting to take her life, but noted coming close to it in the past. Patient also reported that she has not had suicidal ideation, intent, or plan since 1997, other than this one instance this past week of passive ideation. Patient committed to the safety plan, which is to call 911, or call her sister if she is unable to call 911 (who would call 911 for her), or go to the nearest ER and then page the current writer. She also has the number for the crisis hotline and related that she could also call her mental health counselor that she sees at DMC. Multi-Axial Diagnoses/Assessment Anxiety Disorders 300.3 Obsessive Compulsive Disorder\n",
      "Born and raised in Fowlerville, IN.  Parents divorced when she was young, states that it was a \"bad\" divorce.  Received her college degree from Allegheny College in 2003.  Past verbal, emotional, physical, sexual abuse: No\n",
      "y1983 Clinic Hospital, first hospitalization, s/p SA by OD\n",
      "tProblems Urinary incontinence : mild urge incontinence, noted in 1999.\n",
      ".2010 - wife; nightmares and angry outbursts; drinking a lot; living in deceased grandmother's house with wife.  Working for American Electric Power- billing.\n",
      "shx of TBI (1975) ISO MVA.Medical History:\n",
      "sPatient reported losing three friends that passed away during his deployment, including a close friend Jacques, and two other friends that he lived with for a period of time. A fourth friend passed away prior to his deployment in 1972.  Patient reported thinking about his friends daily and described his feelings of grief as remaining constant since they died.  Alcohol Use: How often did you have a drink containing alcohol in the past year: Two to four times a month (2 points)\n",
      "TSH okay in 2015 Prior EKG:\n",
      "1989 Family Psych History: Family History of Suicidal Behavior: Ideation/Threat(s)\n",
      "oEnjoys animals, had a dog x 14 yrs who died in 1994 Interpersonal Interactions/ Concerns:\n",
      "eHistory of small right parietal subgaleal hematoma s/p MVA (1993)\n",
      "sIn KEP Psychiatryfor therapy and medications since 1996 Prior medication trials (including efficacy, reasons discontinued):\n",
      "1. Esophageal cancer, dx: 2013, on FOLFOX with oxaliplatin desensitization\n",
      "y1974 (all)\n",
      "h/o restraining order by sister/mother in 1990-- petitioned against this, no current legal problemsDoes patient have a Legal Guardian, Rep Payee, or Conservatorship (If yes, please include name and phone #): No\n",
      "sTexas Medical Center; Oklahoma for 2 weeks; 1995\n",
      "Death of former partner in 2004 by overdose as noted aboveParental/Caregiver obligations:\n",
      "Was \"average\" student.  \"I didn't have too many friends at home at school, and was picked on a bit in school.\"  Went to college and really enjoyed, made good friends, still close with some of them.  Went to 6 year college/engineering program.  Has been employed f/t as materials engineer since graduated in 1987.Family history and relationships:\n",
      "Contemplating jumping off building - 1973 - difficulty writing paper.\n",
      "appendectomy s/p delivery 1992 Prior relevant labs:\n",
      "tProblems renal cell cancer : s/p nephrectomy 1977\n",
      "ran own business for 35 years, sold in 1985\n",
      "Lab: B12 969 2007\n",
      ")and 8mo in 2009\n",
      ".Moved to USA in 1986. Suffered from malnutrition but denies physical/sexual/emotional abuse.\n",
      "r1978\n",
      ". Went to Emerson, in Newfane Alaska. Started in 2002 at CNM. Generally likes job, does not have time to do what she needs to do. Feels she is working more than should be.\n",
      "1979 Family Psych History: Family History of Suicidal Behavior: None\n",
      "therapist and friend died in ~2006 Parental/Caregiver obligations:\n",
      "2008 partial thyroidectomy\n",
      "sPt describes a history of sexual abuse as a child; also describes the experience of finding a former partner after he died secondary to overdose in 2005 as traumaticPTSD: Does the patient feel themselves getting very upset whenever they are reminded of their traumatic experience: Yes\n",
      ". In 1980, patient was living in Naples and described being upset by the amount of noise generated by the neighbor living under his apartment.  He noted the woman was a heroin user and when she refused to quiet down, he walked into her apartment and \"trashed it\".  He was arrested for breaking and entering and destruction of property and was placed on probation.\n",
      "\n"
     ]
    }
   ],
   "source": [
    "Texto = open ('dates.txt','r', encoding='utf-8')\n",
    "mensaje = Texto.read()\n",
    "print(mensaje)\n",
    "Texto.close()"
   ]
  },
  {
   "cell_type": "code",
   "execution_count": 2,
   "metadata": {},
   "outputs": [
    {
     "name": "stdout",
     "output_type": "stream",
     "text": [
      "['03/25/93 Total time of visit (in minutes):', '6/18/85 Primary Care Doctor:', 'sshe plans to move as of 7/8/71 In-Home Services: None', '7 on 9/27/75 Audit C Score Current:', '2/6/96 sleep studyPain Treatment Pain Level (Numeric Scale): 7', '.Per 7/06/79 Movement D/O note:', \"4, 5/18/78 Patient's thoughts about current substance abuse:\", '10/24/89 CPT Code: 90801 - Psychiatric Diagnosis Interview', '3/7/86 SOS-10 Total Score:', '(4/10/71)Score-1Audit C Score Current:', '(5/11/85) Crt-1.96, BUN-26; AST/ALT-16/22; WBC_12.6Activities of Daily Living (ADL) Bathing: Independent', '4/09/75 SOS-10 Total Score:', '8/01/98 Communication with referring physician?: Done', '1/26/72 Communication with referring physician?: Not Done', '5/24/1990 CPT Code: 90792: With medical services', '1/25/2011 CPT Code: 90792: With medical services', '4/12/82 Total time of visit (in minutes):', '1; 10/13/1976 Audit C Score, Highest/Date:', '4, 4/24/98 Relevant Drug History:', ') 59 yo unemployed w referred by Urgent Care for psychiatric evaluation and follow up. The patient reports she has been dx w BAD. Her main complaint today is anergy. Ms. Hartman was evaluated on one occasion 5/21/77. She was a cooperative but somewhat vague historian.History of Present Illness and Precipitating Events', '7/21/98 Total time of visit (in minutes):', '10/21/79 SOS-10 Total Score:', '3/03/90 CPT Code: 90792: With medical services', '2/11/76 CPT Code: 90792: With medical services', '07/25/1984 CPT Code: 90791: No medical services', '4-13-82 Other Child Mental Health Outcomes Scales Used:', '9/22/89 CPT Code: 90792: With medical services', '9/02/76 CPT Code: 90791: No medical services', '9/12/71 [report_end]', '10/24/86 Communication with referring physician?: Done', '03/31/1985 Total time of visit (in minutes):', '7/20/72 CPT Code: 90791: No medical services', '4/12/87= 1, negativeAudit C Score Current:', '06/20/91 Total time of visit (in minutes):', '5/12/2012 Primary Care Doctor:', '3/15/83 SOS-10 Total Score:', '2/14/73 CPT Code: 90801 - Psychiatric Diagnosis Interview', '5/24/88 CPT Code: 90792: With medical services', '7/27/1986 Total time of visit (in minutes):', '1-14-81 Communication with referring physician?: Done', '7-29-75 CPT Code: 90801 - Psychiatric Diagnosis Interview', '(6/24/87) TSH-2.18; Activities of Daily Living (ADL) Bathing: Independent', '8/14/94 Primary Care Doctor:', '4/13/2002 Primary Care Doctor:', '8/16/82 CPT Code: 90792: With medical services', '2/15/1998 Total time of visit (in minutes):', '7/15/91 CPT Code: 90792: With medical services', '06/12/94 SOS-10 Total Score:', '9/17/84 Communication with referring physician?: Done', '2/28/75 Other Adult Mental Health Outcomes Scales Used:', 'sOP WPM - Dr. Romo-psychopharm since 11/22/75', '\"In the context of the patient\\'s work up, she had Neuropsychological  testing 5/24/91.  She was referred because of her cognitive decline and symptoms of motor dysfunction to help characterize her current functioning. :', '6/13/92 CPT Code: 90791: No medical services', '7/11/71 SOS-10 Total Score:', '12/26/86 CPT Code: 90791: No medical services', '10/11/1987 CPT Code: 90791: No medical services', '3/14/95 Primary Care Doctor:', '12/01/73 CPT Code: 90791: No medical services', '0: 12/5/2010 Audit C Score Current:', '08/20/1982 SOS-10 Total Score:', '7/24/95 SOS-10 Total Score:', '8/06/83 CPT Code: 90791: No medical services', '02/22/92 SOS-10 Total Score:', '6/28/87 Impression Strengths/Abilities:', '07/29/1994 CPT code: 99203', '08/11/78 CPT Code: 90801 - Psychiatric Diagnosis Interview', '10/29/91 Communication with referring physician?: Done', '7/6/91 SOS-10 Total Score:', 'onone as of 1/21/87 Protective Factors:', '24 yo right handed woman with history of large right frontal mass s/p resection 11/3/1985 who had recent urgent R cranial wound revision and placement of L EVD for declining vision and increased drainage from craniotomy incision site and possible infection. She has a hx of secondary mania related to psychosis and manipulation of her right frontal lobe.', '7/04/82 CPT Code: 90801 - Psychiatric Diagnosis Interview', '4-13-89 Communication with referring physician?: Not Done', 'Lithium 0.25 (7/11/77).  LFTS wnl.  Urine tox neg.  Serum tox + fluoxetine 500; otherwise neg.  TSH 3.28.  BUN/Cr: 16/0.83.  Lipids unremarkable.  B12 363, Folate >20.  CBC: 4.9/36/308 Pertinent Medical Review of Systems Constitutional:', '4/12/74= 1Caffeine / Tobacco Use Caffeinated products: Yes', '09/19/81 CPT Code: 90792: With medical services', '9/6/79 Primary Care Doctor:', '12/5/87 Total time of visit (in minutes):', '01/05/1999 [report_end]', '4/22/80 SOS-10 Total Score:', '10/04/98 SOS-10 Total Score:', '.Mr. Echeverria described having panic-like experiences on at least three occasions. The first of these episodes occurred when facial meshing was placed on him during radiation therapy. He recalled the experience vividly and described \"freaking out\", involving a sensation of crushing in his chest, difficulty breathing, a fear that he could die, and intense emotional disquiet. The second episode occurred during the last 10-15 minutes of an MRI scan. Mr. Echeverria noted feeling surprised and fearful when the feelings of panic started. Similar physiological and psychological symptoms were reported as above. The third episode occurred recently on 6/29/81. Mr.Echeverria was driving his car and felt similar symptoms as described above. He reported fearing that he would crash his vehicle and subsequently pulled over and abandoned his vehicle.', '. Wile taking additional history, pt endorsed moderate depression and anxiety last 2 weeks, even though her period was on 8/04/78. Pt then acknowledged low to moderate mood and anxiety symptoms throughout the month, with premenstrual worsening. This mood pattern seems to have existed for many years, while premenstrual worsening increased in severity during last ~ 2 years, in context of likely peri menopause transition. Pt reported average of 3 hot flashes per day and 2 night sweats.', 'Death of mother; 7/07/1974 Meaningful activities/supports:', '09/14/2000 CPT Code: 90792: With medical services', '5/18/71 Total time of visit (in minutes):', '8/09/1981 Communication with referring physician?: Done', '6/05/93 CPT Code: 90791: No medical services', ')Dilantin (PHENYTOIN) 100 MG CAPSULE Take 2 Capsule(s) PO HS; No Change (Taking Differently), Comments: decreased from 290 daily to 260 mg daily due to elevated phenytoin level from 8/9/97', '12/8/82 Audit C=3Audit C Score Current:', '8/26/89 CPT Code: 90791: No medical services', '10/13/95 CPT Code: 90791: No medical services', '4/19/91 Communication with referring physician?: Not Done', '.APS - Psychiatry consult paged/requested in person at 04/08/2004 16:39 Patrick, Christian [hpp2]', '9/20/76 CPT Code: 90801 - Psychiatric Diagnosis Interview', '12/08/1990 @11 am [report_end]', '4/11/1974 Chief Complaint / HPI Chief Complaint (Patients own words)', '7/18/86 SOS-10 Total Score:', '3/31/91 Communication with referring physician?: Done', '5/13/72 Other Adult Mental Health Outcomes Scales Used:', '011/14/83 Audit C Score Current:', '8/16/92 SOS-10 Total Score:', '10/05/97 CPT Code: 90791: No medical services', '07/18/2002 CPT Code: 90792: With medical services', '9/22/82 Total time of visit (in minutes):', '2/24/74 SOS-10 Total Score:', '(2/03/78) TSH-0.90 Activities of Daily Living (ADL) Bathing: Independent', '2/11/2006 CPT Code: 90791: No medical services', \"Pt is a 21 year old, single, heterosexual identified, Liechtenstein male. He resides in Rabat, in a rented apartment, with a roommate. He has not graduated from high school nor has he earned his GED. He has been working full time, steadily, since the age of 16. He recently left a job at jacobs engineering group where he worked for about 5 years. He started working at becton dickinson a few weeks ago. Referral to SMH was precipitated by pt seeing his PCP, Dr. Ford, for a physical and sharing concerns re: depression. He was having suicidal thoughts the week of 8/22/83 and noticed that his depression and anxiety symptoms were starting to interfere with work. Per Dr. Ford's recommendation, he contacted PAL for assistance. When screened for substance use, pt was referred to SMH for an intake. Pt was scheduled to be seen last week due to urgency of his depression and SI, but missed the intake appointment due to getting extremely intoxicated the night before. Pt presents today seeking individual therapy and psychiatry services to address longstanding depression.\", 'PET Scan (DPSH 5/04/74): 1) Marked hypometabolism involving the bilateral caudate nuclei. This is a non-specific finding, although this raises the question of a multisystem atrophy, specifically MSA-P (striatonigral degeneration), 2) Cortical hypometabolism involving the right inferior frontal gyrus. This is a non-specific finding of uncertain significance, and is not definitively related to a neurodegenerative process, although pathology in this region is not excluded', '7/20/2011 [report_end]', '6/17/95 Total time of visit (in minutes):', '6/10/72 SOS-10 Total Score:', 'nPt denied use to me but endorsed use on 10/16/82 as part of BVH initial visit summary supplement by Nicholas BenjaminOpiates: Yes', '12/15/92 CPT Code: 90801 - Psychiatric Diagnosis Interview', '12/8/97 SOS-10 Total Score:', '4/05/89 Primary Care Doctor:', '12/04/87 SOS-10 Total Score:', '4 (6/20/77)Audit C Score Current:', 'see 4/27/2006 consult note Dr. GuevaraWhat factors in prior treatment were helpful/not helpful:', '07/17/92 CPT Code: 90791: No medical services', '12/22/98 CPT Code: 90801 - Psychiatric Diagnosis Interview', '10/02/96 Age:', '11/05/90 CPT Code: 90792: With medical services', '5/04/77 CPT Code: 90792: With medical services', '2/27/96 Communication with referring physician?: Done', 's The patient is a 44 year old married Caucasian woman, unemployed Decorator, living with husband and caring for two young children, who is referred by Capitol Hill Hospital PCP, Dr. Heather Zubia, for urgent evaluation/treatment till first visit with Dr. Toney Winkler IN EIGHT WEEKS on 24 Jan 2001.', '.10 Sep 2004 - Intake at EEC for IOP but did not follow up', 'see above and APS eval of 26 May 1982 Social History Marital Status: Single', 'Tbooked for intake appointment at Sierra Vista, Chongging, WY on 28 June 2002', '06 May 1972 SOS-10 Total Score:', '25 Oct 1987 Total time of visit (in minutes):', '14 Oct 1996 SOS-10 Total Score:', '30 Nov 2007 CPT Code: 90801 - Psychiatric Diagnosis Interview', 'h missed intake office visit on 28 June 1994 at Sierra Vista Nursing HomeSuicidal Behavior Hx of Suicidal Behavior: Yes', '14 Jan 1981 SOS-10 Total Score:', '.On 10 Oct 1985 patient began FMLA from work.', '11 February 1985 CPT Code: 90801 - Psychiatric Diagnosis Interview', '7intake for follow up treatment at Anson General Hospital on 10 Feb 1983 @ 12 AM', 's The patient is a 49 year old married Canadian emigree, living with husband and two young adult children, with history of recurrent major depression with psychotic features and SI/SA, and alcoholism, requiring multiple hospitalizations for SI/SA and detox, who presents for bridge care s/p discharge from Placerville Sanatorium on 05 Feb 1992 and follow up outpatient mental health treatment at Anson General Hospital.', 'ssee 21 Oct 2012 Schroder Hospital discharge summaryPsychiatric Review of Systems DEPRESSION: Has the patient had periods of time lasting two weeks or longer in which, most of the day on most days, they felt little interest or pleasure in doing things, or they had to push themselves to do things: Yes', '14 Feb 1995 Primary Care Doctor:', '30 May 2016 SOS-10 Total Score:', '22 Jan 1996 @ 11 AMCommunication with referring physician?: Done', '14 Oct 1992 CPT Code: 90792: With medical services', \".On 06 Oct 2003 patient sought attention of CMC PCP Dr. Nevarez, who consulted  Grandview Sanitarium, obrained consultation from this psychiatrist, who considered SSRI 'poop out' and suggested swtich from paroxitine to fluoxetine.\", '18 Oct 1999 SOS-10 Total Score:', '11 Nov 2004 Total time of visit (in minutes):', '30 May 2001 CPT Code: 90801 - Psychiatric Diagnosis Interview', '.On 02 Feb 1978 patient was seen by Dr. Fisher who found depression had relapsed on fluoxetine 20 mg, with patient reporting work-related stressors and complaining \"Prozac has stopped working\".  Plan:  stop fluoxetine and start bupropion 150 mg BID.', '09 Sep 1989 Primary Care Doctor:', '12 March 1980 SOS-10 Total Score:', '22 June 1990 Medical History:', '28 Sep 2015 Primary Care Doctor:', '13 Jan 1972 Primary Care Doctor:', '06 Mar 1974 Primary Care Doctor:', '10 Oct 1974 Primary Care Doctor:', '26 May 1974 Primary Care Doctor:', 'short term partial hospital program at Pine Rest Hospital starting 10 Feb 1990', '23 Aug 2000 Primary Care Doctor:', '.The patient brought himself to APS on 26 May 2001 for ONE MONTH HISTORY of recurrence of increased depressed and anxious mood, with', 'see 21 Oct 2007 Schroder Hospital discharge summaryViolent Behavior Hx of Violent Behavior: Yes', '19 Oct 2016 Communication with referring physician?: Done', 'dON 05 Mar 1974', '29 Jan 1994 Primary Care Doctor:', 'see 21 Oct 1978 Schroder Hospital discharge summaryHx of Non Suicidal Self Injurious Behavior: Yes', '.On 18 August 1975 patient presented to BH ED/APS for psychological distress over binge eating and weight concerns, as well as acknowledging chronic intermittent SI but no acute SI; otherwise good response to Abilify 20 mg QD.  Patient was discharged home to follow up with Urgent care TODAY.', '11 Nov 1996 CPT Code: 90792: With medical services', '01 Oct 1979 Primary Care Doctor:', '.On 13 Oct 1986 patient admitted to Schroder Hospital for affect instability, having been discharged THAT DAY from a residential program.', 'see 21 Oct 1995 Schroder Hospital discharge summary-Psychiatric History Hx of Inpatient Treatment: Yes', \"44 y/o MWF, unemployed Decorator, living with husband and caring for their two young children, referred by CHH PCP for urgent evaluation/treatment till first visit with Dr. Toney Winkler on 24 Jan 2011, presents with history of unclear rheumatologic illness and partially treated post-partum depression which has worsened in severity since patient's discovery of dire family financial situation, with significant anxiety symptoms causing insomnia.\", '04 Oct 1972 Total time of visit (in minutes):', '.On 23 Aug 1993 at return office visit Dr. Fisher found patient to still be depressed on bupropion 150 mg QD, with new complaints of cognitive symptoms: \"difficult to speak in an organized fashion, has poor memory, and has some word finding difficulties\".  Patient reports cognitive problems as \"can\\'t find the right word....can\\'t remember how to say the word\".  Brain MR was WNL.', '18 Oct 2006 Age:', '.On 04 Dec 1988 the patient was admitted to Fairmont Hospital from the APS for NINE MONTH history of increased depression severity, on treatment with sertraline 200 mg, Lunesta 3 mg, and lorazepam 0.5 mg 1-2 QD prn, and in midst of SIX MONTH trial of psychotherapy from Carol Shaw, PhD, in the setting of termination from job as User Support Technician, after six month leave, in midst of lawsuit over wrongful termination.', '.On 21 Oct 1983 patient was discharged from Scroder Hospital after EIGHT DAY ADMISSION', 'see above and APS eval of 26 May 2010 Education Education Level: College Grad', '22 year old single Caucasian/Latino woman, unemployed Cook recent college graduate, living along with pet rabbit, with long history of depression with cutting and SA but never hospitalized, as well as obesity, hypothyroidism in euthyroid state and PCO, referred by new NMH PCP Dr. Evelyn Julian for urgent evaluation and treatment till first visit with colleague, Dr.  Inez Burns, on 18 Jan 1990, presents with untreated recurrent major depression and developmental history of verbally abusive alcohol abusing mother and school bullying.', '15 Jun 1985 @ 11 AMCommunication with referring physician?: Done', '.On 10 Dec 1982, the first night after hospital discharge, the patient experienced a nightmare, which he attributed to new medications and he self-discontinued all these new medications.', '.On 09 Dec 1988 the patient was discharged home-', '18 August 1995 Primary Care Doctor:', 'eby 13 June 1974 it appears amitriptyline had been stopped and bupropion 150 mg BID was restarted.', 'see above and APS eval of 26 May 2008 Financial Stress: Yes', '11 Nov 2002 SOS-10 Total Score:', 'see 17 Aug 1985 eval by Dr. Ngo.Social History Marital Status: Married', '13 Oct 2016 Primary Care Doctor:', '14 Jan 2008 Total time of visit (in minutes):', '12 March 2004 CPT Code: 90801 - Psychiatric Diagnosis Interview', 'ssee 21 Oct 1977 Schroder Hospital discharge summaryHx of Outpatient Treatment: Yes', '.By 10 Aug 2000 patient was rehospitalized at Sweetwater Hospital for depression, SI, hypersomnia, fatigue, poor concentration, negative ruminations, dissociated states and ? VH.  This was in the setting of no medications and continued alcohol and MJ abuse.', '30 Nov 1972 SOS-10 Total Score:', '06 May 1993 CPT Code: 90792: With medical services', 's 22 year old single Caucasian/Latino woman, unemployed Cook recent college graduate, living along with pet rabbit, with long history of depression with SA but never hospitalized, as well as obesity, hypothyroidism, and PCO, referred by new NMH PCP Dr. Evelyn Julian for urgent evaluation and treatment till first visit with colleague, Dr.  Inez Burns, on 18 Jan 1995.', 'April 11, 1990 CPT Code: 90791: No medical services', 'MRI May 30, 2001 empty sella but no problems with endocrine functionPertinent Medical Review of Systems Constitutional:', \".Feb 18, 1994: made a phone call to Mom and Mom commented that he was talking very fast, hard to interrupt, but was in super happy spirits, so didn't make a big deal of it.\", 'Brother died February 18, 1981 Parental/Caregiver obligations:', 'none; but currently has appt with new HJH PCP Rachel Salas, MD on October. 11, 2013 Other Agency Involvement: No', '.Came back to US on Jan 24 1986, saw Dr. Quackenbush at Beaufort Memorial Hospital.  Checked VPA level and found it to be therapeutic and confirmed BPAD dx.  Also, has a general physician exam and found to be in good general health, except for being slightly overwt.', 'July 26, 1978 Total time of visit (in minutes):', 'father was depressed inpatient at DFC December 23, 1999 Family History of Substance Abuse: Yes', 'May 15, 1989 SOS-10 Total Score:', 'September 06, 1995 Total time of visit (in minutes):', 'Mar. 10, 1976 CPT Code: 90791: No medical services', '.Got back to U.S. Jan 27, 1983.', 'Queen Hamilton in Bonita Springs courthouse.  Ends October 23 1990 Current legal stresses/needs:', \"r August 12 2004 - diagnosed with Parkinson's stopped working Financial Stress: No\", 'September 01, 2012 Age:', 'July 25, 1983 Total time of visit (in minutes):', 'August 11, 1989 Total time of visit (in minutes):', 'April 17, 1992 Total time of visit (in minutes):', 'EKG July 24, 1999: QTc 496 msPertinent Medical Review of Systems Constitutional:', 'July 11, 1997 CPT Code: 90792: With medical services', 's Gale Youngquist is a 22 yo single Caucasian female who presents to the HJH Psychiatry for an evaluation of her current eating disorder status and treatment needs.  She shared that she began restricting at age 11 yo but could not identify any specific triggers.  \"Mostly I wouldn\\'t eat at school, and then I\\'d have dinner at home, but some days not,\" per pt. Her parents and ski coach started noticing that \"I wasn\\'t eating and was losing weight.\"  She began outpatient treatment at age 11, and has been in and out of outpatient and higher levels of care since then, including multiple emergency room visits and against medical advice (AMA) departures.  Most recently, she left Jefferson County Health Delegates AMA on Sep. 10, 1974.  \"They weren\\'t saying I was ready to go, but insurance pulled out,\" per pt.  She said she felt both dissappointed but also relieved to leave residential care to move back home w/ her mother.', '.August 14, 1981- bad reaction to SpiceK2 - synthetic MJ- admitted to Crete Manor, Mcalester.', 'Nov 11, 1988 Total time of visit (in minutes):', 'e June 13, 2011 Suicidal Behavior Hx of Suicidal Behavior: Uncertain', 'May 14, 1989 QTc  467 ms.  Pertinent Medical Review of Systems Constitutional:', 'stwin boys born Dec 14 1975 Gambling behavior: No', 'Refilled trazodone. Patient to follow up with geriatric psychiatrist. My leaving the clinic was discussed. Patient to call me until June 25, 2012 if she has any issues.', 'Oct 18, 1980 Total time of visit (in minutes):', 'May 15, 1998 Age:', \".She saw a counselor in high school about her drinking in high school, and in college.  Was a period in college where she decided to leave college - felt liek the palce was too big, lost - felt depressed after she left.   therapist told her when she was 20 that she wasn't built to drink alcohol so she quit (she was taking risks that would horrify her as a mother).  She thinks she may be alcoholic, last drink was October 14 1974 - except once- feels not an effort.  Felt better after 20. Had various jobs, got involved in jobs, did flower arranging job (family business)\", 'July 25, 1998 CPT Code: 90791: No medical services', 'June 15, 1972 Family Psych History: Family History of Suicidal Behavior: Death(s) by Suicide', 'See previous - Parking garage incident January 07, 1991.', 'September. 15, 2011 Total time of visit (in minutes):', 's 20 yo M carries dx of BPAD, presents for psychopharm consult.  Moved to Independence area for school as of September 1985.', 't Allergies Sulfa (Sulfonamide Antibiotics) - Renal Toxicity : pt developed acute interstitial nephritis on Bactrim (June 2011)', 'B/R Walnut Ridge. Raised with sister and parents. Parents divorced when he was 12 yo. Raised with mother. Attended SUNY New Paltz. Never married, no children. Worked as a Cleaning Supervisor, but got laid off in May 1986. Has friends that he spends time with. Lives in Topeka. No pets. No access to guns/firearms. Past verbal, emotional, physical, sexual abuse: No', '50 yo DWF with a history of alcohol use disorder, anxiety and depression, and prior trauma history, no prior psychiatric treatment referred for care at ZMH by PCP.  She is seeking help mainly around management of anxiety, and it is unclear to what extent alcohol (which she has not consumed since May 2016) is affecting her current situation.  Biological factors include likely primary mood and/or anxiety disorders (perhaps depression with panic attacks), consequences of long-term alcohol use. Important psychological factors include the loss of three improtant family members and the prior trauma at multiple times. Her social situation reflects isolation and an unfortunately high level of dependence on her children.  One important challenge is her discomfort with opening up and seeking care, which may benefit from positive treatment alliances.', ')HTN, hypercholesterolemia, DM, sleep apnea,, nephrolithiasis. chronic renal impairment, DVT since July 1977 on enoxaparin.', 'Dr. Gloria English, who conducted an initial consultation in July, 1990', '. Patient presents with GAD flareup in Jul 2003 in setting of extended hospital ED visit for symptoms of panic attack with cardiac and neuro testing, which have responded poorly to trials of lorazepam, clonazepam and CBT; trials marked by poor adherence, as well as poor tolerance of low dose paroxetine.', 'pOct 2015 - Admitted to Gray Clinic for depression, alcohol intox/dependence and SI.  Discharged to MH Partial Hospital---on trazadone 50 mg QHS, Ativan 0.5 mg BID, Wellbutrin 150 mg BID, Seroquel 50 mg QHS and Zoloft 100 mg.  It is unclear if patient attended Memorial partial hospital program.  By report she had refills of trazadone and sertraline via PCP (see HPI).Hx of Outpatient Treatment: Yes', 'Pt does not use marijuana currently. Her last use was before her May 1995 suicide attempt. Pt used to smoke marijuana daily bc it was provided by an ex-boyfriend several times per day. Her first use was when she was 18.', 'safter evicted in February 1976, hospitalized at Pemberly for 1 mo.Hx of Outpatient Treatment: No', '. History of sleep apnea, set up with CPAP in January 1995. Over the last month or so he has been able to wear 5-6 hours.', '. In Feb 1978, misdxed with STD- had plan to O/D on painkillers, but never did it. Hx of Non Suicidal Self Injurious Behavior: No', ')- Venlafaxine 37.5mg daily: May, 2011: self-discontinued due to side effects (dizziness)', 'sLanguage based learning disorder, dyslexia.  Placed on IEP in 1st grade through Westerbrook HS prior to transitioning to VFA in 8th grade.  Graduated from VF Academy in May 2004.  Attended 1.5 years college at Arcadia.Employment Currently employed: Yes', 'oFather died in Nov 2010.  Normal grieving.Alcohol Use: How often did you have a drink containing alcohol in the past year: Never (0 Points)', \"tIn Sep 2012 patient returned to Jinan, moving into an off campus rental apartment he's sharing with software engineer visiting from Storage Technology Corporation (originally from Mount Pleasant).\", 's Mr. Moss is a 27-year-old, Caucasian, engaged veteran of the Navy. He was previously scheduled for an intake at the Southton Sanitorium in January, 2013 but cancelled due to ongoing therapy (see Psychiatric History for more details). He presents to the current intake with primary complaints of sleep difficulties, depressive symptoms,  and PTSD.', 'lNovember 1990 - NPCCHx of Outpatient Treatment: Yes', \"husband's death July 1981 Cultural Identity (Race, Country of Origin):\", '\"May 1983\"Primary Care Doctor:', ';Trazodone 50-100 mg QHS, had also been on this long-time when it was d/ced in July 1995.', '0h/o 3 detoxes (2 for EtOH, 1 opioids).  Alaska April 1993 (opioids)Hx of Outpatient Treatment: Yes', ') He endorsed the following hyperarousal symptoms: disturbed sleep (e.g., months with great sleep and then has nights he barely sleeps- mind racing with worries related to job, expecting a child (May 2005)); reckless or self-destructive behavior (e.g., see above); difficulty with concentration; some hypervigilance; and exaggerated startle response triggered by loud noises.', 'December 1998 Primary Care Doctor:', 'n Abilify (added to Lexapro + Wellbutrin in Jan 2007)', 'slast use Feb 2016 Sedative-Hypnotics: Yes', 'sApproximately 7 psychiatric hospitalizations starting Humana Hospital-Augusta (Alabama) at age 12, most recently 1-month residential program at Jefferson County Health Department in August 1979 but left AMA', 'sOne week Memorial Psychiatric Hospital Oct 2014, feels triggered by distress with mother as had stopped and felt depressed 2 months with sucidal ideation. Does not have records but responded well and told PTSD main diagnosis. Depression lifetd with treatment', 'IAug 1988: Symmes Hospital s/p SA OD with ASA', '. Sep 2015- Transferred to Memorial Hospital from above.  Discharged to MH Partial Hospital on Zoloft, Trazadone and Neurontin but unclear if she followed up.', '.  Pt diagnosed in Apr 1976 after he presented with 2 month history of headaches and gait instability. MRI demonstrated 4 cm L cereballar mass in the paravermian region. He was admitted to PRM and underwent resection complicated by post-op delirium. Post-op sequelas include left palatal myoclonus and ataxia on the left upper and lower extremities which has progressively improved. Pt has not had any evidence of tumor recurrence.', 'eLast saw a therapist in Nov 1979 What factors in prior treatment were helpful/not helpful:', '.Iredell Memorial Hospital, February 2000, after suicide attempt by cutting.Hx of Outpatient Treatment: Yes', \".  Pt was seen in Lutheran Brethern Homes intake clinic.  Since her father's death, pt report worsening depression, poor sleep, fatigue, anxiety, and auditory hallucinations. Her auditory hallucinations consist of her father's voicing telling her to come with him, but she denies any commands to harm herself. Father died Oct 1986, mother died the year prior.  Sister died last year.  As a result of these voices patient's sleep has worsened. She denies suicidal ideation stating that she would never harm himself because of her youngest sons who live at home.\", 'hHelen Ernst, M.D. last appt Jun 2002, no other treaters', 'sgoiter--diagnosed in September 1981, Pt feels thyroid problems are related to h/o lithium use', 'ssomething related to hypnosis, Pt unable to explain, medical record indicates when Pt presented in June 2007 to ED her speech was nonsensical but she was reporting some type of hypnosis eventGAD: Has the patient had times when they worried excessively about day to day matters for most of the day, more days than not: No', '.  Pt reports h/o difficulty with EtOH and opioids. EtOH: 1st use at age 10, regular use beginning in high school, more problematic at age 25 when started losing things.  Drinking 12 beers/day over past year since returning to State College from Alaska.  Unsure of heaviest use period.  h/o frequent blackouts.  Has passed out and woken up in variety of places.  h/o withdrawal symptoms, 1st detox at age 25, no h/o withdrawal seizure, no DTs.  opioids: 1st use at age 21 (perocet).  Began using daily at age 25, at worst was using 8 to 10 percocets per day (depending on dose).  Detox in April 1989, was using perioidically since back in State College, but has primarily been drinking.  Last use 3 mths ago.  no h/o suboxone or methadone.  No h/o accidental OD.  No h/o heroin use.  No h/o IVDU.  tobacco: 1 ppd since age 16, some interest in quitting, not right now.  H/o quitting for a week.', 'September 1999 Primary Care Doctor:', '.   KEMH - Oct 1980 (Beverly Hospital):  psychosis in the setting of discontinuation of Abilify 2 months prior.  Pt had CAH and delusions that he had knowledge of a \"moral force\"', '. Was on lexapro and strattera with good result but taken off both in Dec 2009 because of   familial prolonged QTc  syndrome with mutation on gen KCNQ1 and need for anaesthesia for wisdom teeth.', 'passive SI only (most recent episode end of July 1992) If Yes, please describe:', 'May, 2006 Primary Care Doctor:', '.Spoke to sister Naomi Ely 708-810-7787 who reports he has been doing much better since he went to Dysart Clinic (he was drinking for a month leading up to this, his ammonia was high, and physicians were worried about early).  She feels his cognition is back to baseline, \"100% better\".  She says he has been successful in abstaining from substances as far as she knows, thinks a schedule is useful to him, doctor\\'s appts etc.  Notes that he returned from LA in August 2008, gets bouts of \"exhaustion\" even in sobriety.  She denies ever witnessing any periods of manic behavior from patient.  Their father has dementia that started at age 84.  Notes patient is living with uncle in Black River Falls (uncle is 89), lived with sister 3 months who also takes care of her own father in Talladega.  She knows he is working on getting social security, subsidizing housing.  Stable situation with patient\\'s girlfriend Nutt.Suicidal Behavior Hx of Suicidal Behavior: No', 'sShe tries to follow several dietary rules including avoiding \"junk foods\" like chips  ice cream, trying not to eat more than 2,000 kcals/day, and eating at roughly the same time every day.  She also purges by self-induced vomiting \"when I feel like I\\'m eating too much.\"  Typically this is after breakfast and dinner.  She reports that she has been vomiting 2x/day \"most days\" for the past 3 months, consistent with \"extreme\" to \"severe\" severity of compensatory behaviors per DSM-5.  She notes that she previously vomited 4-6x/day between ages 11-16 yo (i.e., before she received any treatment for her eating disorder).  She previously took laxatives 2x/day from ages 14-17, but the last episode was >1 year ago (stopped b/c \"they were wicked expensive\").  She has also taken diet pills (last episode in Feb 1993) but stopped b/c \"they weren\\'t working.\"  No history of diuretic misuse.', ') - Zoloft 100 mg daily: February, 2010 : self-discontinued due to side effects (unknown)', '7HH, April 1985 Hx of Outpatient Treatment:', '.   Ex-BF 25 yo, plans to go to sch in URUGUAY September 1984.', 'April 1986 Primary Care Doctor:', 'e Mr. Oliveira reported a long history of alcohol problems which worsened after he lost his job in Apr 2007.', 'SA in September 1974, OD on luvoxHx of Non Suicidal Self Injurious Behavior: No', '.BY Sep 2013 patient called his PCP in Copenhagen, UT, who rx Zoloft 50 mg and referred patient to Elberton-Elbert Hospital for psychiatric follow up.', 's1 admission to Psychiatric Inpatient in July 1985 following suicide attemptHx of Outpatient Treatment: Yes', 'yAug 2004 - Dr. Tom Ngo at TMC; dx GAD; patient stopped after two visits re: \"I was scared if this meant I was sick and really needed this\", despite success in controlling anxiety-related symptoms of nausea after just one treatment visit.Psychiatric Review of Systems DEPRESSION: Has the patient had periods of time lasting two weeks or longer in which, most of the day on most days, they felt little interest or pleasure in doing things, or they had to push themselves to do things: No', 's Cathy Bowers is a 50 yo single Caucasian female who presents to the ANH Eating Disorders Department for an evaluation and treatment recommendations for low weight.  She shared that she has recently lost a great deal of weight and is having difficulty meeting her calorie needs due to difficulties with gagging/swallowing, and aversions to specific food textures.  Specifically, since May 2012, she has lost 18 lbs, going from 128 lbs (BMI = 19.5, normal range) to 110.2 lbs (BMI = 16.8, underweight range) at a height of 5\\'8\" tall.  She has had amenorrhea for 2 months.  Her current weight is her lowest since high school, when she was a model and weighed 98 lbs (BMI = 14.9, underweight range).  At that time, she had amenorrhea, felt pressure to be thin in order to keep her job, and most likely met criteria for frank anorexia nervosa nervosa-restricting type.', 'AFeb 1977: Symmes Hospital', '.  Alvarado Medical Center - Jan 1987 : worsening psychosis and mania (impulsivity of going to Pompeii, grandiosity in wanting to send script to famous playwright, increased painting activity, maxed out credit card, decreased sleep) Hx of Outpatient Treatment: Yes', 'sSep 1983 GSW to face (L-TMJ region), ? gang related, with L-CN VII injury and ? TBI, requiring plastic surgical reconstructionActivities of Daily Living (ADL) Bathing: Independent', 'father died suddenly in January 2013 Meaningful activities/supports:', '.The patient reports onset of depressed mood SINCE ~6 MONTHS s/p liver transplant in Mar 2010 associated with:', '. Inhaled helium - August 2009 Hx of Non Suicidal Self Injurious Behavior: Yes', \"NV fire fighter died Sep 2007 while working.  Was friend from deployment to San Marino and trainings for years prior.  Still troubling to pt.  Didn't go to his funeral.  Spiritual/Religion:\", 'ostoppepd working 1rs week of December 2011 Occupation/Work History:', 'Stopped daily use in Jan 2004; occassionally smokes when drinking now but this is infrequentFamily Psych History: Family History of Suicidal Behavior: None', 'olanzapine to address manic behavior in November 1995 - mania secondary to right frontal lobe lesion and prednisone.Psychiatric Review of Systems DEPRESSION: Has the patient had periods of time lasting two weeks or longer in which, most of the day on most days, they felt little interest or pleasure in doing things, or they had to push themselves to do things: No', 'The patient reports having had an endoscopy, colonoscopy and abdominal CT at an outside hospital in the Gravette Medical, which were read as negative. The patient also reports a number of labs which were also normal in September 2008. Prior relevant imaging:', 'February 1983 Primary Care Doctor:', 'sKern Hospital March 1983 for SI', 'cutting of wrist and thigh x 2years - stopped since Aug 1979', \"B/R Natchez, GA on a commune. Completed 1 year of medical school. Married to husband for 50+ years. Moved to Maine and later settled in West Hurley, AK. HAs 2 children and 5 grandchildren. Worked as notary public for the local government for over 50 years. Husband now in nursing home and she has moved in with her daughter's family in Emerald Isle, AK as of Jan 2009. No access to firearms. Past verbal, emotional, physical, sexual abuse: No\", 'HH, Janaury 1993', 'March 1974 Primary Care Doctor:', '.Since January 1994, she feels that hse has been much more irritable and frustrated towards her husband about 1 week prior to her menses. She does not have a h/o premenstrual mood symptoms.  She notes that little things would set her off with him. She was not this way at work or in other social settings.', 'S/p colectomy in Dec 1992.Problems ANXIETY : Dr. Tatiana, KWMC, klonapin for sleep, propranolol helps at night', 'Hx of 3 instances that pt believes were concussions (last November 2004, playing flag football)', '7 first psych hospital approx age 20, most recent at age 25 in January 1977 Hx of Outpatient Treatment: Yes', 'past suicidal gestures by overdose (trazodone/alcohol) and superficial cutting (high school, last in Mar 2002).  Reports feeling ambivalent about life, but re ports she never really wanted to kill herself.If Yes, please describe:', '. The patient was hospitalized in Feb 2000 at Sweetwater Hospital', 'May, 2004 Hx of Brain Injury: No', 'invasive ductal carcinoma of the left breast(s/p chemotherapy, mastectomy and  HTN, hypercholesterolemia, DM, sleep apnea,, nephrolithiasis. chronic renal impairment, DVT since July 2006 on enoxparin.Surgical History:', 'dCelexa: most helpful, came off half-way through sr yr (Feb 1994) b/c had been doing well enough to not need it', 'Pt put on a 504 at the beginning of 10 th grade, approved for IEP in April 1977 for emotional/social support.Employment Currently employed: No', 'eZoloft : dizziness and tiredness (only 1 dose, Oct 1992)', '- Prozac 20 mg daily:  February, 1995: self-discontinued due to side effects (unknown)', '.On review of systems, she reports that her sleep is generally good, except when she wakes up around 1am and struggles to fall back asleep for an hour or more.  On these instances she usually wakes up exhausted.  She reports going to sleep around 8:30 or 9pm because her partner keeps an early schedule (wakes up at 4am), though she says she typically sleeps much later because she does not have to be at work until 10 am.  She reports enjoying activities, eating well, and having good energy and ability to concentrate.  She denies suicidal thoughts or self-injury since February 1989  (her last suicide attempt).  She denies thoughts of harming others or access to guns.  She denies current or prior symptoms of mania or psychosis.  She endorses drinking two glasses of wine per night, though on rare occasions she drinks three (usually when she \"overreacts\").  She states this has happened about 5 times in the past few months.  She denies feeling shaky in the morning and denies other substance use or cigarette smoking.', 'nLoss of father to cardiac event in Decemeber 1978', 'a Saddle PE January 2007', \"rBrookhaven outpatient program in Jun 1976- lost 40 lbs, couldn't get out of bed; had been seeing a therapist at the time\", '2 cats-3 family house-planning to move in May 2011 to Crowley ALFirearms: None', '. Psychosocial: lives w/ father, looking to get own apartment. Lives in Saluda. Fa. has roommate. Parents divorced when pt 5 y/o old. Mother lives in saluda, see her often, drives hm to work. Relationship okay w/ dad and mom is okay too. Has one sibling, age 18 y/o. Get on well currently. Close family on mother\\'s side. No family issues. Employment: Woriking 63 hours - \"I love it.\" At construction worker. School: finished HS - dipolma, started working after HS. Likes job, makes good money. Peers: have friends, no issues, all friends are sober from opiates but drink/smoke \"they distance from me when I use.\" Single currently. Stressors: biggest stress - Mar, 1975 - uncle passed from heroin OD. Pt was close do him, was mother\\'s brother. Finances - getting better, owe lots of money to people/banks too.', ') Paxil (Jan 1978) : sedation', \". Other collateral, noted in a July 1975 note documenting patient's CM at Johnson Hospital, reports patient has history of hoarding behavior and chronic delusions with ex-husband as focus, and recurring conviction that men are coming into her home and stealing things, writing things on her belongings, etc.  Patient apparently has long history of seeing psychiatrists and therapists but none for very long.  Hx of Outpatient Treatment: Yes\", '50 yo man with history consistant with ADHD undiagnosed or treated and a long history of anxiety verging on GAD combined with history of social anxieties.  He started drinking at age 16 and had early DUI\\'s, then went from weekend to daily drinking.  Eventually sought treatment and was sober a year in programs.  Had some semblence of drinking control until the death of his father November 2012 - \"after that I was so upset and grieving and I couldn\\'t control my drinking\"  This led to job loss and homelessness.', '2June, 1999 Audit C Score Current:', 'Mother died October 1991; very close. Father still alive at age 79; lives downstairs from them.Past verbal, emotional, physical, sexual abuse: No', '4ectopic pregnancy in March 1973 Pertinent Medical Review of Systems Sexual (include birth control method if used):', 'Hep C and HIV negative, LFTs WNL (October 1996)Problems Opioid dependence', '.She has however developed severe anxiety and depression, which she indicates as starting approximately one year ago.  In Jun 2007 she was assessed at ASMC for vertigo which is worsened by stress and then later in the year she was twice seen in the Ronan Medical Clinic ED for chest pain with apparently negative cardiac work-up.  She describes both persisting generalized anxiety (feeling on edge, restless, worried) as well as episodic-like autonomic arousal (sweating, dizziness, chest tightness, chills) consistent with panic attacks.  These symptoms have worsened over the past year, and have only slightly helped by 0.5mg of lorazepam taken thrice daily.', '. Once off Cymbalta, mood was stable and good, she lost 80 lbs (on high protein Dukan diet), started biking, active w/ friends etc until October 1995 when she  rather abruptly noted a decline in mood, worse by the year\\'s end, with decreased interest, (stopped making jewelry, biking, seeing friends) much more social withdrawal and decreased energy. Felt \"like a veil was drawn over me\".', 'yEnd stage renal disease : Secondary to obstructive uropathy, diabetes and HTN. On hemodialysis qTTS at Hartford since April 1999. Followed by Dr. Kruger.', 's Pt reports long Hx of drug addiction. PLEASE SEE NSC SUPPLEMENTAL NOTE on this same date for details about substance use Hx. Her drugs of choice are opiates and benzodiazepines. She said that she used cocaine about once per month when she was on methadone. She got off of methadone in May, 2001 (7 months ago). She reports using it cocaine 1 x since getting off methadone. She states she has been abstinent from opiates for 7 months. Pt states: \"I have no desire to use an opiate or a drug at all. I don\\'t have a desire to use heroin or have any craving for it. I can\\'t stand that I am all of the place, I can\\'t have a conversation, I can\\'t sit down and watch a movie - my ADHD is that bad. I just want my ADHD treated. The heroin takes the racing thoughts away.\"  She is primarily seeking treatment for ADHD. She reps her substance abuse has been to self-medicate her ADHD and believes that if she were treated for ADHD she would stop abusing substances. Currently, Pt\\'s PCP, Dr. Michael Yarber is tapering Pt off of benzo\\'s.', 'CLLC and DCF - ended in March, 2000. Psychiatric Review of Systems DEPRESSION: Has the patient had periods of time lasting two weeks or longer in which, most of the day on most days, they felt sad, down, or depressed: Yes', '\"-worked with Uma Dewitt (ED specialist) x 10 months, but stopped b/c \"I wasn\\'t getting anywhere\" (April 1988)Prior medication trials (including efficacy, reasons discontinued):', 'Prozac- highest dose 40 mg; currently on 20 mg and doing well. Started about 4-5 years ago and would come on and off but her mood symptoms would relapse and she would go back on.  Denies that the Prozac ever made her mood worse. She was on 40 mg when she found out she was pregnant and stayed on it about 1 month before coming off and remained off for 4months. Resumed use in December 1993 but at lower dose, 20 mg.', ')last use in June 1974.Longitudinal Alcohol use History:', 'sNovember 1997 - suicidal ideation - HHR', 'sAppendectomy in July 1986, shortly after delivery.Axis IV: Problems related to social environment; Problems with primary support group', 'Open appendectomy, as a child. 2.  Laparoscopic cholecystectomy and umbilical hernia repair, as discussed above, in February 1973. Prior relevant labs:', 'sOcella 0.03-3MG TABLET Take 1 PO QD, next pap due March 1978 x 90 days', 'sWas on lexapro and strattera with good result but taken off both in Dec 2007 because of  familial prolonged QTc  syndrome with mutation on gen KCNQ1 and need for anaesthesia for wisdom teeth.', '2Last time received treatment was from a life coach (through PCP): started Apr, 1998 - present. Phone meetings every 2 weeks.', 'Currently on Zoloft, 50 mg, Dicolenac, 100 mg, Hydrocodone, Seroquel, 100 mg. Was hospitalized for Serotonin Syndrome for 3 days in March, 2005 due to Dr. Potts increasing effexor and zoloft. Current Psychopharmacologist(s) and Phone #(s):', 'Future-oriented; recent increase in hope; in supportive committed relationship; connected to several close friends; recently employed; seeking treatment; excited about being a father (May 1980); resilient; benefitted from TBI treatment in pastNeeds/Preferences:', '.Nov 2007- Evaluation and treatment at CH ED/APS for acute alcohol and medication OD, with history of depression relapse and alcohol abuse PRIOR TWO WEEKS due to financial stress when she lost some Meteorological Technician work.  Discharged to detox and follow up with Fresenius Medical Care Center.', '5Bethania Hospital March 1976 Hx of Outpatient Treatment: Yes', '6/1998 Primary Care Doctor:', 's 52 y/o MWM h/o chronic depression, anxiety, adhd.  Here for psychopharm transfer in the context of his recent psychiatrist Dr. Blankenship\\'s departure in 6/2005.  Patient endorses a long history of depression \"ever since childhood\" which wodesned in college and while patient was in Doctors Without Borders--was stationed in Bulgaria as a medical assistant, and left after several months: \"I was so depressed I only weighed 120 lbs.\"', '10/1973 Hx of Brain Injury: Yes', '9/2005 Primary Care Doctor:', 's 03/1980 Positive PPD: treated with INH for 6 months', '12/2005 Family Psych History: Family History of Suicidal Behavior: None', '5/1987 Primary Care Doctor:', '5/2004 Primary Care Doctor:', 'A pleasant 28 yo woman with no formal psychiatric history and with a h/o SCCA of the right tongue (s/p partial glossectomy and neck dissection in 8/1974) referred to psycho-oncology for assistance with adjustment issues following recovery. The patient does not meet criteria for a major mood or anxiety disorder. She is not at imminent risk of harm to self or others. She would benefit from psychotherapy to help her integrate her experience of cancer and the break-up of her engagement, and to think through how to continue to create a life for herself moving forward.', 'See initial PROMPTCARE evaluation from 3/1986 for more complete informationSocial History Marital Status: Single', '10/1997 Primary Care Doctor:', 'Deviated septum, 3/1993 Activities of Daily Living (ADL) Bathing: Independent', '3/1981 Primary Care Doctor:', '. Patient states that she will follow up with the Cotta Hospital clinic regarding getting a therapist for ongoing care. (Per LMR, pt transitioned to a new therapist in 9/2003 and was seen for 1 appointment; the pt canceled her f/u appt 2 weeks later and was not seen for f/u appointments since. )This visit for a one-time consultation only? Yes', '% 10/1993 Echo: LVEF 60%', '.Mother died, 1/1983.', '. GBSG : 7/1994', '12/2008 Primary Care Doctor:', 'n Abnormal CXR : 10/1980 ? scarring @ R heart border needs f/u CXR', 'md. metabolic montioring as indicated inc. annual EKG in ~8/2003', '12/1975 Primary Care Doctor:', 'sDr. Yaeger at Jarman Memorial Hospital for meds, on Citalopram since 11/2010.', 'sCurrently See Jeremiah Ngo in Omak. Sees 2x month through his EAP. Feels it is supportive. Been in treatment since 7/1997. No inpatient treatment. No medsPsychiatric Review of Systems DEPRESSION: Has the patient had periods of time lasting two weeks or longer in which, most of the day on most days, they felt little interest or pleasure in doing things, or they had to push themselves to do things: No', '1. Metastatic pancreatic adenocarcinoma, dx: 7/2014', 'rtherapy: Patient states that she will follow up with the Cotta Hospital clinic regarding getting a therapist for ongoing care. (Per LMR, pt transitioned to a new therapist in 9/2001 and was seen for 1 appointment; the pt canceled her f/u appt 2 weeks later and was not seen for f/u appointments since. )Prescriptions Given:', 'craniotomy 8/1986 Prior relevant labs:', '1/1978 Primary Care Doctor:', \"4 (9/1975)Patient's thoughts about current substance abuse:\", 's Pt is a 73-y.o. MWW with a history of recurrent depression who presents on referral for a one-time consultation (with one follow-up)  from her outptient psychiatrist, Anna Hart, M.D., and PCP, Collis Yeoman M.D. with a complex history involving anxiety, mood and somatic sx\\'s -- \"rumination about health\"  anorexia and insomnia per Dr. Hart and ~twenty visits to PCP  recently per Dr. Yeoman with GI and nephrology consulted.  The patient has been offered CBT recently for her insomnia, but \"the situation has totally impaired all levels of functioning\" per Dr. Hart who started seeing the patient in 1/2009 with the pt. presenting at that point still anxious and with insomnia on high doses of Ativan and Ambien.', '7Xitlaly Hobbs OP med mgmt since 5/1995.', 'Up until his accident, patient would drink 3-4 drinks per night and on weekend sometimes more. Since accident 8/1989, patient rarely has one beer. Drug Use: How many times in the past year has the patient used an illegal drug or used a prescription medication for nonmedical reasons:', 'weight reduction surgery- bariatic sleeve 11/2000 Prior relevant labs:', '06/1973 Primary Care Doctor:', '2/1999; 472 ms re QTcPertinent Medical Review of Systems Constitutional:', 's Pt. is a 59 y.o. woman w/ hx PTSD and anxiety transferring care from Dr. Odonnell, who has left the practice.  Her last appt. w/ Dr. Odonnell was 6/2001. She missed her initial appt w/ me due to influenza and pneumonia.', \"The pt. is a 45 Y/O F who comes in to discuss her sexual problems-low libido.  Factors to consider--long-standing problem, marital issues, recent delivery of twins 12/1978 -IVF/donor egg/breatfeeding, sexual abuse as a child age 7-?college, depressed mood (variable), hypothyroid (treated).  Pt. has almost no libido now and feels this may be impacting her marriage.  She can lubricate and get orgasm on occasion.  She has had some success with sexual fantasy in the past.  She has not followed through with a med trial of bupropion rx by Peggy Wiggins, MD because she was breast feeding at  the time.  Discussion of the complexity of the problem.  Advised she resume couple's therapy/indiv therapy or discuss with husband if he would be willing to come in for behaviorally-based sex therapy. Reading list given for her to explore options.  Med addition may be helpful to rx mood symptoms and libido (which may be low because of mood.)Patient Instructions\", '8/2009 Primary Care Doctor:', 'dPer Pt Intake from 7/1973: Sometimes has passive \"fleeting\" thoughts about death (\"It would be so much easier to be dead.\")  More commonly will think about disappearing and starting over somewhere geographically different.  Does not see suicide or relocating as an option.  Has never taken any action towards acting on either of these thoughts.  These thoughts are followed by the thought \"that\\'s not realistic Lowery.\"  This \"resets\" the patient and allows her to focus back on the task or challenge at hand.Hx of Non Suicidal Self Injurious Behavior: No', 'b fibroid tumor resection pending 1/2014', 'sOne prior voluntary hospitalization in 09/1975 for depression on Psychiatry. Hx of Outpatient Treatment: Yes', 'sober since 12/2012 after binge drinkingDrug Use: Stimulants: Yes', 'tProblems Transplant of kidney : 5/1999- functions well now', '7/1989 Communication with referring physician?: Done', '7/2009 Primary Care Doctor:', '.  Partner was in Anchor Bay Entertainment accident, in 11/1998,', 'see above.   Last cutting in 3/1995 Violent Behavior Hx of Violent Behavior: No', '2/2009 Primary Care Doctor:', '08/1988 Primary Care Doctor:', '4/2007 Primary Care Doctor:', 'TSH 0.67 5/2000 Prior EEG:', '4/2012 open heart surgery', '.  Pt described period of difficulty that started 10/2001 with lack of work as an copyeditor and a break up w a BF that spiraled into her dc of medications and decompensation of mental state, requiring extensive inpatient and residential care.  She feels she has recovered from that mental health relapse and is healthier at this time, putting greater focus on her overall health and well being, having positive supports and being honest w them about her functioning, and feeling a strong connection w her psychiatrist.  While pt has made great strides in improving her mental health, supports, and activities, there is concern w her level of distress and attachment related to the current relationship and how problems within that relationship could be risk factors for her decline in functioning.  Pt will benefit from a focus on interpersonal connections and how such does and does not relate to her own identity and functioning.  -Recommendations / Plan Level of Care: Outpatient', '2/1977 Primary Care Doctor:', '8/2008 Primary Care Doctor:', '2/1983 Primary Care Doctor:', 'nstill cries over her last romantic relationship that ended abruptly in 5/1979 after 3 years --they lived together -> perceived she was very happy with BF at the time; idealizes former BF; he never returned after a cycling tour overseas; then she learned he got married and had a family. EATING DISORDERS: Has the patient had periods of time during which they were concerned about eating or their weight: Uncertain', 'tProblems Anxiety : Long history of social anxiety which he has managed to confront substantially. History of probable panic attack x 1 in 1/1992. Tends to hold on to stress which then erupts in feeling overwhelmed and tearful, though briefly (minutes).', 'y Vomiting : likely gerd 11/2008', '. Depression- Since 12/2014 she has noticed mood being dampended and accompanied by neurovegetative sx of low energy, some anhedonia, middle insomnia, low appetite, weight gain of 5-10 # in the last year, social isolation, indecisiveness, reduced concentration, guilty thoughts, and helplessness. SHe does not recall depressive episodes in the past. Denies hopeless thinking and denies SI/HI/SIB. Denies prior hx of safety related concenrs. She denies hx of manic sx. She no longer enjoys her job. She is able to perform her job but reports she does not derive much excitement and enjoyment from doing challenging work. She would like to change her job and possibly make a career change. She is considering moving back home to Montana with spouse but is anxious and worried about change.', 'Dr. Noland-pending 4/1974 Hx of Brain Injury: No', 'rib resection 10/1981 due to bone tumor in rib', '10/1986 Primary Care Doctor:', \"History of two suicide attempts, most recently in 03/1973, reportedly caused by a medication side effect. Recent hospitalization due to suicidality. Patient's current risk status: Appropriate for continued outpatient treatment\", '12/1994 Primary Care Doctor:', '.  8/1999:   Consulted Pediatric Neurogastroenterology, Dr. Quin-Fontenot: SSRI suggested as possibility for anixety.  Referred to PsychMD Dr. Ferrell.', 'e Pace Maker placed 10/2010', '3Adenomatous polyp of colon : 10/1994. Repeat in 3 years because bowel prep not optimal.', '. Patient primary concern is related to a TBI experienced at bootcamp in 01/2007. He reports a fellow army recruit sucker punched him from behind and knocked him out immediately. He is not sure how long he was out for but the next thing he remembers he was in the ambulance going to the hospital. He reports problems since that time although it was hard to get a sense of the specific symptoms he is experiencing. He reports he tends to wake up in the middle of the night and feels like he is having a seizure and can\\'t control his body. He will feel disoriented at times (not completely dissociative, but feels \"weird, out of my body.\" He also had headaches and feels lightheaded. He reports he has also been struggling with depression since the incident where he will have good days and down days. On the down days, he wants to sleep all day and not get out of bed.', '8/2010 QTc 433 ms.Pertinent Medical Review of Systems Constitutional:', 'kNotice that in 03/1990, sustained a bizarre injury.  He was in Colorado City at the time.  He was driving his car, and he says he had recently ran out of Saphris, which is an antipsychotic he was taking.  He says he does not recall all the events but believes he stepped out of his vehicle and then walked off of a bridge, sustaining a seven-story fall.  He was found unconscious.  He was taken to and treated at Norfolk Health Center in Colorado City, where he underwent open reduction internal fixation of the right humerus as well as the left femur.  was in ICU for a week, multiple fx.  He subsequently recovered from his injuries in the state of South Carolina', '11/2016 Primary Care Doctor:', 'n4/2004 R mastectomy with reconstruction.', '2/1973 Primary Care Doctor:', 's1 CSU stay at Donelson Hospital 7/1987 in the context of voicing thoughts of ending his life in front of wife and son.', 'tHead trauma-8/2000;s/p traumatic brain injury with hemorrhagic contusion in both frontal lobes and R temporal lob.  Result of bike accident', 'ANTIDEPRESSANT TREATMENT HISTORY  per Dr. Beard 8/1975', 'TSH in 5/1977 okayPertinent Medical Review of Systems Constitutional:', '.Patient reports overall stable mental health since last visit with Dr. Shepard, medication compliance and states, \"I think the medicines are working well.\"  Pt. has not had an EKG in the last years and wishes not to have this today, but on 3/2000 visit with Dr. Platt.  Pt. highlights separation, but amicable and in fact improved relationship with his wife and only his concern that her car broke down recently and that makes it more difficult for her to get to work.  He notes good relationships with his children and grandchildren. Pt. firmly and clearly agrees to safety plan of calling family members, calling 911 or bringing hiself to closest ER if any idea/plan or intent re: harm to self or others occurs.  He has no hx of SA\\'s.Suicidal Behavior Hx of Suicidal Behavior: No', 'sChesterfield 9/1984 for 3 weeks for dual diagnosis alcohol and PTSDHx of Outpatient Treatment: Yes', '4/1973 Primary Care Doctor:', 'Polyarteritis nodosa, presumed (p/w LE claudication 12/1986): improved w/ prednisone 60 mg qday.  Elevated inflammatory markers, radiographic evidence of vascular inflammation on MR, but muscle biopsy and angiography negative, but has had brisk response to empiric immunosuppression', 'db. routine metabolic montoring as indicated and by 4/1979', 'sS/P TAH/BSO : 7/2004 for endometrial hyperplasia', 'Retired in 11/1984 after teaching for 30 yearsLiving Situation Current Living Situation (Including type of dwelling and who patient lives with):', \"6e. monitor pt's depressive experience in context of adjusting to upcoming retirement from work in 5/2016 and realtionships with his brother, son and daughter This visit for a one-time consultation only? No\", 'e12/2007 dx of endocarditis', '11/1982 Primary Care Doctor:', '06/1981 Hx of Brain Injury: Yes', 'CBC, CMP, TSH, EKG: re: QTc 445 ms in 4/2013 Collateral information obtained:', 's Pt. is a 76-y.o. WWW who presents in the context of after being divorced in a contentious situation, married a man who was \"a much beter match\" for her and after his death in 4/1999 she has experienced a complicated grief reaction.', 'a Endometriosis : dx on laparoscopy 5/2006', '10/1978 Communication with referring physician?: Done', \". First Rx'd medication 12/1989.\", '\"Tapered off Xanax in 2/1974', 'bObesity : 11/1986 MCC LAPAROSCOPIC PARTIAL VERTICAL GASTRECTOMY', '. 4/1983:  Dr. Tejeda recently consulted through E-Docs.  Fluoxetine was increased to 40 mg/day.', 'Since 10/2014: Fatigued, more forgetful, impaired dexterity on her left hand. MRI reveals an approximately 4.2cm x 3.3cm x 2.5cm right parietal enhancing mass with surrounding edema', '6/1989 Primary Care Doctor:', '9/1980 Primary Care Doctor:', '9/1992 Primary Care Doctor:', 's30 days in GA in 9/2000. Hx of Outpatient Treatment: Yes', '7/1981 Primary Care Doctor:', '9 Queen Maldonado, LICSW - dynamic/supportive counseling since 1/2008', 'Raised in Sao Tome by both parents along with 2 siblings (older brother--2 years older, twin brother). Father was a fisherman. Nice upbringing, parents always supportive. Mother was a railway conductor. All brothers are Sao Tome fisherman. Lots of tradition, very tightknit. Loss of mother in the last year was very sad for them. His Dad just moved to West Virginia. He met girlfriend 4/2002 at a bar. He discussed that they are both supportive of eachother. Past verbal, emotional, physical, sexual abuse: No', '.Patient currently feels \"up and down\" at times 2/2 to perimenopausal symptoms--for the last year and a half, has had off and on menstrual cycles--\"For 9 months I didn\\'t have my period, then three months I did, and for the last five months (since 7/1985) I haven\\'t...\" Does endorse hot flashes, feeling \"more bloated,\" but symptoms manageable.  Has noted feeling \"down here and there but it does go away...\"', '5/2010 Hx of Brain Injury: No', 'r Pneumonia : 8/2002', '1/1994 Primary Care Doctor:', 'Reports MRI of brain done 12/2004 at Gravette Medical Center was WNLPrior EEG:', 's6 past psychiatric hospitalizations starting at age 16.  Last 3/2003 for SIB/SI.  (WWL x 2, Getwell Hospital, Lincoln Hospital, cOX nORTH, Lotus Clinic)Hx of Outpatient Treatment: Yes', '7/1991 Medical History:', '7/1982 Primary Care Doctor:', 'sHemmorage caused by probe in 1984 Medical History:', 'sHas been at MYH since his treaters in NE retired in 2000. Was seen in NE for 20 years. Previouysly seen by Drs. Brandy Ivery and Quinn Prater. Prior medication trials (including efficacy, reasons discontinued):', 'Pt joined Army reserves in 2001 and has 3 years left in this commitment.-Mental Status Exam Was the exam performed? (If not, indicate reason): Yes', 'one sister from whom he is estranged due to her opiate dependence, legal conflict over mother\\'s house following father\\'s death in 1982, \"I dont\\' want to see family ever again\"Past verbal, emotional, physical, sexual abuse: Patient Declined', 'sSince 1998. Prior medication trials (including efficacy, reasons discontinued):', '1 Ex-smoker : quit 2012', '. Age 16, 1991, frontal impact. out for two weeks from sports.', 'sLexapro (1988-now): Good response (anxiety)', 's      25 year old engaged to be married Optician of Irish descent. She has a history of severe obesity necessitating a gastric bypass in 2014 (mother had a gastric bypass some years before). \"The doctor said I needed to stop eating or I was going to end up in a coffin.\"  Pt came to the US from Ireland at age 3 and lived with her grandparents initially, which was very stabilizing. Pt reports that sadness and anxiety symptoms began after her grandfather\\'s death when she was in 3rd grade. \"I grew up in a strict Irish Catholic atmosphere and my parents were hardest on me because I was the oldest. She reports regular verbal, emotional, physical abuse from both parents throughout childhood.  She continues to live with her parents and reports that they get along OK, but they don\\'t talk about the past. Stilll feels \"a little low and irritable.\"', '8Complications from brain hemmorage in 2016 Axis IV: Economic problems; Occupational problems; Problems related to social environment', '.Age, 19, 1976, playing football, frontal impact. out for two weeks from sports.', 's1981  Swedish-American Hospital', 'aS/P suicide attempt 2011 Hx of Outpatient Treatment: Yes', 'Patient has a history of suicidal ideation with plan. She denied ever attempting to take her life, but noted coming close to it in the past. Patient also reported that she has not had suicidal ideation, intent, or plan since 1997, other than this one instance this past week of passive ideation. Patient committed to the safety plan, which is to call 911, or call her sister if she is unable to call 911 (who would call 911 for her), or go to the nearest ER and then page the current writer. She also has the number for the crisis hotline and related that she could also call her mental health counselor that she sees at DMC. Multi-Axial Diagnoses/Assessment Anxiety Disorders 300.3 Obsessive Compulsive Disorder', 'Born and raised in Fowlerville, IN.  Parents divorced when she was young, states that it was a \"bad\" divorce.  Received her college degree from Allegheny College in 2003.  Past verbal, emotional, physical, sexual abuse: No', 'y1983 Clinic Hospital, first hospitalization, s/p SA by OD', 'tProblems Urinary incontinence : mild urge incontinence, noted in 1999.', \".2010 - wife; nightmares and angry outbursts; drinking a lot; living in deceased grandmother's house with wife.  Working for American Electric Power- billing.\", 'shx of TBI (1975) ISO MVA.Medical History:', 'sPatient reported losing three friends that passed away during his deployment, including a close friend Jacques, and two other friends that he lived with for a period of time. A fourth friend passed away prior to his deployment in 1972.  Patient reported thinking about his friends daily and described his feelings of grief as remaining constant since they died.  Alcohol Use: How often did you have a drink containing alcohol in the past year: Two to four times a month (2 points)', 'TSH okay in 2015 Prior EKG:', '1989 Family Psych History: Family History of Suicidal Behavior: Ideation/Threat(s)', 'oEnjoys animals, had a dog x 14 yrs who died in 1994 Interpersonal Interactions/ Concerns:', 'eHistory of small right parietal subgaleal hematoma s/p MVA (1993)', 'sIn KEP Psychiatryfor therapy and medications since 1996 Prior medication trials (including efficacy, reasons discontinued):', '1. Esophageal cancer, dx: 2013, on FOLFOX with oxaliplatin desensitization', 'y1974 (all)', 'h/o restraining order by sister/mother in 1990-- petitioned against this, no current legal problemsDoes patient have a Legal Guardian, Rep Payee, or Conservatorship (If yes, please include name and phone #): No', 'sTexas Medical Center; Oklahoma for 2 weeks; 1995', 'Death of former partner in 2004 by overdose as noted aboveParental/Caregiver obligations:', 'Was \"average\" student.  \"I didn\\'t have too many friends at home at school, and was picked on a bit in school.\"  Went to college and really enjoyed, made good friends, still close with some of them.  Went to 6 year college/engineering program.  Has been employed f/t as materials engineer since graduated in 1987.Family history and relationships:', 'Contemplating jumping off building - 1973 - difficulty writing paper.', 'appendectomy s/p delivery 1992 Prior relevant labs:', 'tProblems renal cell cancer : s/p nephrectomy 1977', 'ran own business for 35 years, sold in 1985', 'Lab: B12 969 2007', ')and 8mo in 2009', '.Moved to USA in 1986. Suffered from malnutrition but denies physical/sexual/emotional abuse.', 'r1978', '. Went to Emerson, in Newfane Alaska. Started in 2002 at CNM. Generally likes job, does not have time to do what she needs to do. Feels she is working more than should be.', '1979 Family Psych History: Family History of Suicidal Behavior: None', 'therapist and friend died in ~2006 Parental/Caregiver obligations:', '2008 partial thyroidectomy', 'sPt describes a history of sexual abuse as a child; also describes the experience of finding a former partner after he died secondary to overdose in 2005 as traumaticPTSD: Does the patient feel themselves getting very upset whenever they are reminded of their traumatic experience: Yes', '. In 1980, patient was living in Naples and described being upset by the amount of noise generated by the neighbor living under his apartment.  He noted the woman was a heroin user and when she refused to quiet down, he walked into her apartment and \"trashed it\".  He was arrested for breaking and entering and destruction of property and was placed on probation.', '']\n"
     ]
    }
   ],
   "source": [
    "with open('dates.txt', 'r', encoding='utf-8')  as archivo:\n",
    "    lista = archivo.read().split('\\n')\n",
    "    print(lista)"
   ]
  },
  {
   "cell_type": "code",
   "execution_count": 5,
   "metadata": {},
   "outputs": [
    {
     "name": "stdout",
     "output_type": "stream",
     "text": [
      "01 Jan 2007\n",
      "10 Jul 2016\n",
      "2 Dec 2017\n",
      "23 Jun 2018\n",
      "01 Jan 2019\n",
      "11 Jun 2020\n"
     ]
    }
   ],
   "source": [
    " \n",
    "from datetime import datetime  \n",
    "def printDates(dates):  \n",
    "   \n",
    "    for i in range(len(dates)):   \n",
    "        print(dates[i])  \n",
    "       \n",
    "       \n",
    "if __name__ == \"__main__\":   \n",
    "  \n",
    "    dates =  [\"23 Jun 2018\", \"2 Dec 2017\", \"11 Jun 2020\",  \n",
    "              \"01 Jan 2019\", \"10 Jul 2016\", \"01 Jan 2007\"]   \n",
    "       \n",
    "    dates.sort(key = lambda date: datetime.strptime(date, '%d %b %Y')) \n",
    "       \n",
    "    printDates(dates)  "
   ]
  },
  {
   "cell_type": "code",
   "execution_count": 7,
   "metadata": {},
   "outputs": [],
   "source": [
    "import re"
   ]
  },
  {
   "cell_type": "code",
   "execution_count": 9,
   "metadata": {},
   "outputs": [
    {
     "name": "stdout",
     "output_type": "stream",
     "text": [
      "[]\n",
      "[]\n",
      "[]\n",
      "[]\n",
      "[]\n",
      "[]\n",
      "[]\n",
      "[]\n",
      "[]\n",
      "[]\n",
      "[]\n",
      "[]\n",
      "[]\n",
      "[]\n",
      "[]\n",
      "[]\n",
      "[]\n",
      "[]\n",
      "[]\n",
      "[]\n",
      "[]\n",
      "[]\n",
      "[]\n",
      "[]\n",
      "[]\n",
      "[]\n",
      "[]\n",
      "[]\n",
      "[]\n",
      "[]\n",
      "[]\n",
      "[]\n",
      "[]\n",
      "[]\n",
      "[]\n",
      "[]\n",
      "[]\n",
      "[]\n",
      "[]\n",
      "[]\n",
      "[]\n",
      "[]\n",
      "[]\n",
      "[]\n",
      "[]\n",
      "[]\n",
      "[]\n",
      "[]\n",
      "[]\n",
      "[]\n",
      "[]\n",
      "[]\n",
      "[]\n",
      "[]\n",
      "[]\n",
      "[]\n",
      "[]\n",
      "[]\n",
      "[]\n",
      "[]\n",
      "[]\n",
      "[]\n",
      "[]\n",
      "[]\n",
      "[]\n",
      "[]\n",
      "[]\n",
      "[]\n",
      "[]\n",
      "[]\n",
      "[]\n",
      "[]\n",
      "[]\n",
      "[]\n",
      "[]\n",
      "[]\n",
      "[]\n",
      "[]\n",
      "[]\n",
      "[]\n",
      "[]\n",
      "[]\n",
      "[]\n",
      "[]\n",
      "[]\n",
      "[]\n",
      "[]\n",
      "[]\n",
      "[]\n",
      "[]\n",
      "[]\n",
      "[]\n",
      "[]\n",
      "[]\n",
      "[]\n",
      "[]\n",
      "[]\n",
      "[]\n",
      "[]\n",
      "[]\n",
      "[]\n",
      "[]\n",
      "[]\n",
      "[]\n",
      "[]\n",
      "[]\n",
      "[]\n",
      "[]\n",
      "[]\n",
      "[]\n",
      "[]\n",
      "[]\n",
      "[]\n",
      "[]\n",
      "[]\n",
      "[]\n",
      "[]\n",
      "[]\n",
      "[]\n",
      "[]\n",
      "[]\n",
      "[]\n",
      "[]\n",
      "[]\n",
      "[]\n",
      "[]\n",
      "['10 Sep 2004']\n",
      "['26 May 1982']\n",
      "['28 June 2002']\n",
      "['06 May 1972']\n",
      "['25 Oct 1987']\n",
      "['14 Oct 1996']\n",
      "['30 Nov 2007']\n",
      "['28 June 1994']\n",
      "[]\n",
      "['10 Oct 1985']\n",
      "['11 February 1985']\n",
      "['10 Feb 1983']\n",
      "['05 Feb 1992']\n",
      "['21 Oct 2012']\n",
      "['14 Feb 1995']\n",
      "['30 May 2016']\n",
      "[]\n",
      "['14 Oct 1992']\n",
      "['06 Oct 2003']\n",
      "['18 Oct 1999']\n",
      "['11 Nov 2004']\n",
      "['30 May 2001']\n",
      "['02 Feb 1978']\n",
      "['09 Sep 1989']\n",
      "['12 March 1980']\n",
      "['22 June 1990']\n",
      "['28 Sep 2015']\n",
      "[]\n",
      "['06 Mar 1974']\n",
      "['10 Oct 1974']\n",
      "['26 May 1974']\n",
      "['10 Feb 1990']\n",
      "[]\n",
      "['26 May 2001']\n",
      "['21 Oct 2007']\n",
      "['19 Oct 2016']\n",
      "['05 Mar 1974']\n",
      "[]\n",
      "['21 Oct 1978']\n",
      "[]\n",
      "['11 Nov 1996']\n",
      "['01 Oct 1979']\n",
      "['13 Oct 1986']\n",
      "['21 Oct 1995']\n",
      "[]\n",
      "['04 Oct 1972']\n",
      "[]\n",
      "['18 Oct 2006']\n",
      "[]\n",
      "['21 Oct 1983']\n",
      "['26 May 2010']\n",
      "[]\n",
      "['15 Jun 1985']\n",
      "[]\n",
      "[]\n",
      "[]\n",
      "['13 June 1974']\n",
      "['26 May 2008']\n",
      "['11 Nov 2002']\n",
      "[]\n",
      "['13 Oct 2016']\n",
      "[]\n",
      "['12 March 2004']\n",
      "['21 Oct 1977']\n",
      "[]\n",
      "['30 Nov 1972']\n",
      "['06 May 1993']\n",
      "[]\n",
      "[]\n",
      "['May 30, 2001']\n",
      "['Feb 18, 1994']\n",
      "['February 18, 1981']\n",
      "[]\n",
      "[]\n",
      "['July 26, 1978']\n",
      "[]\n",
      "['May 15, 1989']\n",
      "['September 06, 1995']\n",
      "[]\n",
      "[]\n",
      "[]\n",
      "[]\n",
      "['September 01, 2012']\n",
      "['July 25, 1983']\n",
      "[]\n",
      "[]\n",
      "['July 24, 1999']\n",
      "['July 11, 1997']\n",
      "[]\n",
      "[]\n",
      "['Nov 11, 1988']\n",
      "['June 13, 2011']\n",
      "['May 14, 1989']\n",
      "[]\n",
      "['June 25, 2012']\n",
      "['Oct 18, 1980']\n",
      "['May 15, 1998']\n",
      "[]\n",
      "['July 25, 1998']\n",
      "['June 15, 1972']\n",
      "[]\n",
      "[]\n",
      "['September 1985']\n",
      "['June 2011']\n",
      "['May 1986']\n",
      "['May 2016']\n",
      "['July 1977']\n",
      "[]\n",
      "['Jul 2003']\n",
      "['Oct 2015']\n",
      "['May 1995']\n",
      "['February 1976']\n",
      "[]\n",
      "['Feb 1978']\n",
      "[]\n",
      "['May 2004']\n",
      "['Nov 2010']\n",
      "['Sep 2012']\n",
      "[]\n",
      "['November 1990']\n",
      "['July 1981']\n",
      "['May 1983']\n",
      "['July 1995']\n",
      "[]\n",
      "['May 2005']\n",
      "[]\n",
      "[]\n",
      "['Feb 2016']\n",
      "[]\n",
      "['Oct 2014']\n",
      "[]\n",
      "['Sep 2015']\n",
      "[]\n",
      "['Nov 1979']\n",
      "['February 2000']\n",
      "['Oct 1986']\n",
      "['Jun 2002']\n",
      "['September 1981']\n",
      "['June 2007']\n",
      "[]\n",
      "['September 1999']\n",
      "['Oct 1980']\n",
      "[]\n",
      "['July 1992']\n",
      "[]\n",
      "[]\n",
      "['Feb 1993']\n",
      "[]\n",
      "[]\n",
      "['September 1984']\n",
      "[]\n",
      "[]\n",
      "['September 1974']\n",
      "['Sep 2013']\n",
      "['July 1985']\n",
      "[]\n",
      "['May 2012']\n",
      "['Feb 1977']\n",
      "[]\n",
      "['Sep 1983']\n",
      "[]\n",
      "['Mar 2010']\n",
      "[]\n",
      "['Sep 2007']\n",
      "[]\n",
      "[]\n",
      "['November 1995']\n",
      "['September 2008']\n",
      "['February 1983']\n",
      "['March 1983']\n",
      "[]\n",
      "[]\n",
      "[]\n",
      "['March 1974']\n",
      "[]\n",
      "[]\n",
      "['November 2004']\n",
      "[]\n",
      "['Mar 2002']\n",
      "['Feb 2000']\n",
      "[]\n",
      "['July 2006']\n",
      "['Feb 1994']\n",
      "[]\n",
      "['Oct 1992']\n",
      "[]\n",
      "['February 1989']\n",
      "[]\n",
      "[]\n",
      "['Jun 1976']\n",
      "['May 2011']\n",
      "[]\n",
      "[]\n",
      "['July 1975']\n",
      "['November 2012']\n",
      "[]\n",
      "['October 1991']\n",
      "['March 1973']\n",
      "['October 1996']\n",
      "['Jun 2007']\n",
      "['October 1995']\n",
      "[]\n",
      "[]\n",
      "[]\n",
      "[]\n",
      "[]\n",
      "['June 1974']\n",
      "['November 1997']\n",
      "['July 1986']\n",
      "['February 1973']\n",
      "['March 1978']\n",
      "[]\n",
      "[]\n",
      "[]\n",
      "['May 1980']\n",
      "['Nov 2007']\n",
      "['March 1976']\n",
      "[]\n",
      "[]\n",
      "[]\n",
      "[]\n",
      "[]\n",
      "[]\n",
      "[]\n",
      "[]\n",
      "[]\n",
      "[]\n",
      "[]\n",
      "[]\n",
      "[]\n",
      "[]\n",
      "[]\n",
      "[]\n",
      "[]\n",
      "[]\n",
      "[]\n",
      "[]\n",
      "[]\n",
      "[]\n",
      "[]\n",
      "[]\n",
      "[]\n",
      "[]\n",
      "[]\n",
      "[]\n",
      "[]\n",
      "[]\n",
      "[]\n",
      "[]\n",
      "[]\n",
      "[]\n",
      "[]\n",
      "[]\n",
      "[]\n",
      "[]\n",
      "[]\n",
      "[]\n",
      "[]\n",
      "[]\n",
      "[]\n",
      "[]\n",
      "[]\n",
      "[]\n",
      "[]\n",
      "[]\n",
      "[]\n",
      "[]\n",
      "[]\n",
      "[]\n",
      "[]\n",
      "[]\n",
      "[]\n",
      "[]\n",
      "[]\n",
      "[]\n",
      "[]\n",
      "[]\n",
      "[]\n",
      "[]\n",
      "[]\n",
      "[]\n",
      "[]\n",
      "[]\n",
      "[]\n",
      "[]\n",
      "[]\n",
      "[]\n",
      "[]\n",
      "[]\n",
      "[]\n",
      "[]\n",
      "[]\n",
      "[]\n",
      "[]\n",
      "[]\n",
      "[]\n",
      "[]\n",
      "[]\n",
      "[]\n",
      "[]\n",
      "[]\n",
      "[]\n",
      "[]\n",
      "[]\n",
      "[]\n",
      "[]\n",
      "[]\n",
      "[]\n",
      "[]\n",
      "[]\n",
      "[]\n",
      "[]\n",
      "[]\n",
      "[]\n",
      "[]\n",
      "[]\n",
      "[]\n",
      "[]\n",
      "[]\n",
      "[]\n",
      "[]\n",
      "[]\n",
      "[]\n",
      "[]\n",
      "[]\n",
      "[]\n",
      "[]\n",
      "[]\n",
      "[]\n",
      "[]\n",
      "[]\n",
      "[]\n",
      "[]\n",
      "[]\n",
      "[]\n",
      "[]\n",
      "[]\n",
      "[]\n",
      "[]\n",
      "[]\n",
      "[]\n",
      "[]\n",
      "[]\n",
      "[]\n",
      "[]\n",
      "[]\n",
      "[]\n",
      "[]\n",
      "[]\n",
      "[]\n",
      "[]\n",
      "[]\n",
      "[]\n",
      "[]\n",
      "[]\n",
      "[]\n",
      "[]\n",
      "[]\n",
      "[]\n",
      "[]\n",
      "[]\n",
      "[]\n",
      "[]\n",
      "[]\n",
      "[]\n",
      "[]\n",
      "[]\n",
      "[]\n",
      "[]\n",
      "[]\n",
      "[]\n",
      "[]\n",
      "[]\n",
      "[]\n"
     ]
    }
   ],
   "source": [
    "archivo = open('dates.txt', 'r', encoding='utf-8')\n",
    "  \n",
    "for line in archivo:\n",
    " \n",
    "    # obtenemos los valores en una lista\n",
    "    fechass= re.findall(r'(?:\\d{2} )?(?:de )?(?:Ene|Feb|Mar|Abr|May|Jun|Jul|Ago|Sep|Oct|Nov|Dic)[a-z]* (?:de )?(?:\\d{2}, )?\\d{4}', line)\n",
    " \n",
    "    print(fechass)\n",
    " \n",
    "archivo.close()"
   ]
  },
  {
   "cell_type": "code",
   "execution_count": 2,
   "metadata": {},
   "outputs": [],
   "source": [
    "\n",
    "import pandas as pd\n",
    "\n",
    "doc = []\n",
    "with open('dates.txt') as file:\n",
    "    for line in file:\n",
    "        doc.append(line)\n",
    "\n",
    "df = pd.Series(doc)\n",
    "df.head(10)\n",
    "\n",
    "\n",
    "# In[3]:\n",
    "\n",
    "def date_sorter():\n",
    "    import re\n",
    "    from calendar import month_name\n",
    "    import dateutil.parser\n",
    "    from datetime import datetime\n",
    "\n",
    "    df = pd.DataFrame(doc, columns=['text'])\n",
    "    pattern = \"[,.]? \\d{4}|\".join(month_name[1:]) + \"[,.]? \\d{4}\";\n",
    "\n",
    "    df['text'] = df['text'].apply(lambda x: x.strip('\\n'))\n",
    "\n",
    "    df['date'] = df['text'].apply(lambda x:re.findall(r'\\d{1,2}\\/\\d{1,2}\\/\\d{2,4}|\\d{1,2}\\-\\d{1,2}\\-\\d{2,4}|[A-Z][a-z]+\\-\\d{1,2}\\-\\d{4}|[A-Z][a-z]+[,.]? \\d{2}[a-z]*,? \\d{4}|\\d{1,2} [A-Z][a-z,.]+ \\d{4}|[A-Z][a-z]{2}[,.]? \\d{4}|'+pattern+r'|\\d{1,2}\\/\\d{4}|\\d{4}',x))\n",
    "    df['date'][271] = [df['date'][271][1]]\n",
    "    df['date'] = df['date'].apply(lambda x: x[0])\n",
    "    df['date'][461] = re.findall(r'\\d{4}',df['date'][461])[0]\n",
    "    df['date'][465] = re.findall(r'\\d{4}',df['date'][465])[0]\n",
    "\n",
    "    date_list = list(df['date'])\n",
    "\n",
    "    i=0\n",
    "    for year in date_list:\n",
    "        if(re.match(r'\\d{4}',year)) :\n",
    "            #print(year)\n",
    "            date_list[i] = 'January 1, '+date_list[i]\n",
    "            year = date_list[i]\n",
    "        elif (re.match(r'\\d{1,2}\\/\\d{4}',year)) :\n",
    "            date_split = year.split('/')\n",
    "            date_list[i] = date_split[0] + '/1/'+date_split[1]\n",
    "            year = date_list[i]\n",
    "        elif(re.match(r'[A-Z][a-z]+[,.]? \\d{4}',year)) :\n",
    "            date_split = year.split(' ')\n",
    "            date_list[i] = date_split[0] + ' 1 '+date_split[1]\n",
    "            year = date_list[i]\n",
    "        date_list[i] = dateutil.parser.parse(date_list[i]).strftime(\"%m/%d/%Y\")\n",
    "        i = i+1\n",
    "\n",
    "    df['date'] = date_list\n",
    "    fun = lambda date: datetime.strptime(date, \"%m/%d/%Y\")\n",
    "    df['index'] = sorted(range(len(date_list)), key=lambda x : fun(date_list[x]))\n",
    "    sdf = df\n",
    "    sdf.drop('text', axis=1,inplace=True)\n",
    "    #result = sdf.sort_values(by='date',axis=0, ascending=False, kind='mergesort')\n",
    "    final = list(sdf['index'])\n",
    "    final_series = pd.Series(final)    \n",
    "    return final_series"
   ]
  },
  {
   "cell_type": "code",
   "execution_count": 4,
   "metadata": {},
   "outputs": [
    {
     "data": {
      "text/plain": [
       "0         03/25/93 Total time of visit (in minutes):\\n\n",
       "1                       6/18/85 Primary Care Doctor:\\n\n",
       "2    sshe plans to move as of 7/8/71 In-Home Servic...\n",
       "3                7 on 9/27/75 Audit C Score Current:\\n\n",
       "4    2/6/96 sleep studyPain Treatment Pain Level (N...\n",
       "5                    .Per 7/06/79 Movement D/O note:\\n\n",
       "6    4, 5/18/78 Patient's thoughts about current su...\n",
       "7    10/24/89 CPT Code: 90801 - Psychiatric Diagnos...\n",
       "8                         3/7/86 SOS-10 Total Score:\\n\n",
       "9             (4/10/71)Score-1Audit C Score Current:\\n\n",
       "dtype: object"
      ]
     },
     "execution_count": 4,
     "metadata": {},
     "output_type": "execute_result"
    }
   ],
   "source": [
    "with open('dates.txt') as reader:\n",
    "    data = pd.Series(reader.readlines())\n",
    "\n",
    "data.head(10)"
   ]
  },
  {
   "cell_type": "code",
   "execution_count": 5,
   "metadata": {},
   "outputs": [
    {
     "data": {
      "text/plain": [
       "count                                                   500\n",
       "unique                                                  500\n",
       "top       . Age 16, 1991, frontal impact. out for two we...\n",
       "freq                                                      1\n",
       "dtype: object"
      ]
     },
     "execution_count": 5,
     "metadata": {},
     "output_type": "execute_result"
    }
   ],
   "source": [
    "data.describe()"
   ]
  },
  {
   "cell_type": "code",
   "execution_count": 6,
   "metadata": {},
   "outputs": [],
   "source": [
    "ZERO_OR_MORE = '*'\n",
    "ONE_OR_MORE = \"+\"\n",
    "ZERO_OR_ONE = '?'\n",
    "EXACTLY_TWO = \"{2}\"\n",
    "ONE_OR_TWO = \"{1,2}\"\n",
    "EXACTLY_ONE = '{1}'"
   ]
  },
  {
   "cell_type": "code",
   "execution_count": 7,
   "metadata": {},
   "outputs": [],
   "source": [
    "GROUP = r\"({})\"\n",
    "NAMED = r\"(?P<{}>{})\"\n",
    "CLASS = \"[{}]\"\n",
    "NEGATIVE_LOOKAHEAD = \"(?!{})\"\n",
    "NEGATIVE_LOOKBEHIND = \"(?<!{})\"\n",
    "POSITIVE_LOOKAHEAD = \"(?={})\"\n",
    "POSITIVE_LOOKBEHIND = \"(?<={})\"\n",
    "ESCAPE = \"\\{}\""
   ]
  },
  {
   "cell_type": "code",
   "execution_count": 8,
   "metadata": {},
   "outputs": [],
   "source": [
    "DIGIT = r\"\\d\"\n",
    "ONE_DIGIT  = DIGIT + EXACTLY_ONE\n",
    "ONE_OR_TWO_DIGITS = DIGIT + ONE_OR_TWO\n",
    "NON_DIGIT = NEGATIVE_LOOKAHEAD.format(DIGIT)\n",
    "TWO_DIGITS = DIGIT + EXACTLY_TWO\n",
    "THREE_DIGITS = DIGIT + \"{3}\"\n",
    "EXACTLY_TWO_DIGITS = DIGIT + EXACTLY_TWO + NON_DIGIT\n",
    "FOUR_DIGITS = DIGIT + r\"{4}\" + NON_DIGIT"
   ]
  },
  {
   "cell_type": "code",
   "execution_count": 9,
   "metadata": {},
   "outputs": [],
   "source": [
    "SLASH = r\"/\"\n",
    "OR = r'|'\n",
    "LOWER_CASE = \"a-z\"\n",
    "SPACE = \"\\s\"\n",
    "DOT = \".\"\n",
    "DASH = \"-\"\n",
    "COMMA = \",\"\n",
    "PUNCTUATION = CLASS.format(DOT + COMMA + DASH)\n",
    "EMPTY_STRING = \"\""
   ]
  },
  {
   "cell_type": "code",
   "execution_count": 10,
   "metadata": {},
   "outputs": [],
   "source": [
    "MONTH_SUFFIX = (CLASS.format(LOWER_CASE) + ZERO_OR_MORE\n",
    "                + CLASS.format(SPACE + DOT + COMMA + DASH) + ONE_OR_TWO)\n",
    "MONTH_PREFIXES = \"Jan Feb Mar Apr May Jun Jul Aug Sep Oct Nov Dec\".split()\n",
    "MONTHS = [month + MONTH_SUFFIX for month in MONTH_PREFIXES]\n",
    "MONTHS = GROUP.format(OR.join(MONTHS))\n",
    "DAY_SUFFIX = CLASS.format(DASH + COMMA + SPACE) + ONE_OR_TWO\n",
    "DAYS = ONE_OR_TWO_DIGITS + DAY_SUFFIX\n",
    "YEAR = FOUR_DIGITS"
   ]
  },
  {
   "cell_type": "code",
   "execution_count": 11,
   "metadata": {},
   "outputs": [],
   "source": [
    "CONTRACTED = (ONE_OR_TWO_DIGITS\n",
    "              + LOWER_CASE\n",
    "              + EXACTLY_TWO\n",
    "              )\n",
    "CONTRACTION = NAMED.format(\"contraction\",\n",
    "                           MONTHS\n",
    "                           + CONTRACTED\n",
    "                           + DAY_SUFFIX\n",
    "                           + YEAR)"
   ]
  },
  {
   "cell_type": "code",
   "execution_count": 12,
   "metadata": {},
   "outputs": [],
   "source": [
    "NO_DAY_BEHIND = NEGATIVE_LOOKBEHIND.format(DIGIT + SPACE)\n",
    "NO_DAY = NAMED.format(\"no_day\", NO_DAY_BEHIND + MONTHS + YEAR)"
   ]
  },
  {
   "cell_type": "code",
   "execution_count": 13,
   "metadata": {},
   "outputs": [],
   "source": [
    "WORDS = NAMED.format(\"words\", MONTHS + DAYS + YEAR)"
   ]
  },
  {
   "cell_type": "code",
   "execution_count": 14,
   "metadata": {},
   "outputs": [],
   "source": [
    "BACKWARDS = NAMED.format(\"backwards\", ONE_OR_TWO_DIGITS + SPACE + MONTHS + YEAR)"
   ]
  },
  {
   "cell_type": "code",
   "execution_count": 15,
   "metadata": {},
   "outputs": [],
   "source": [
    "slashed = SLASH.join([ONE_OR_TWO_DIGITS,\n",
    "                      ONE_OR_TWO_DIGITS,\n",
    "                      EXACTLY_TWO_DIGITS])\n",
    "dashed = DASH.join([ONE_OR_TWO_DIGITS,\n",
    "                    ONE_OR_TWO_DIGITS,\n",
    "                    EXACTLY_TWO_DIGITS])\n",
    "TWENTIETH_CENTURY = NAMED.format(\"twentieth\",\n",
    "                                 OR.join([slashed, dashed]))"
   ]
  },
  {
   "cell_type": "code",
   "execution_count": 16,
   "metadata": {},
   "outputs": [],
   "source": [
    "NUMERIC = NAMED.format(\"numeric\",\n",
    "                       SLASH.join([ONE_OR_TWO_DIGITS,\n",
    "                                   ONE_OR_TWO_DIGITS,\n",
    "                                   FOUR_DIGITS]))"
   ]
  },
  {
   "cell_type": "code",
   "execution_count": 17,
   "metadata": {},
   "outputs": [],
   "source": [
    "NO_PRECEDING_SLASH = NEGATIVE_LOOKBEHIND.format(SLASH)\n",
    "NO_PRECEDING_SLASH_DIGIT = NEGATIVE_LOOKBEHIND.format(CLASS.format(SLASH + DIGIT))\n",
    "NO_ONE_DAY = (NO_PRECEDING_SLASH_DIGIT\n",
    "              + ONE_DIGIT\n",
    "              + SLASH\n",
    "              + FOUR_DIGITS)\n",
    "NO_TWO_DAYS = (NO_PRECEDING_SLASH\n",
    "               + TWO_DIGITS\n",
    "               + SLASH\n",
    "               + FOUR_DIGITS)\n",
    "NO_DAY_NUMERIC = NAMED.format(\"no_day_numeric\",\n",
    "                              NO_ONE_DAY\n",
    "                              + OR\n",
    "                              + NO_TWO_DAYS\n",
    "                              )"
   ]
  },
  {
   "cell_type": "code",
   "execution_count": 18,
   "metadata": {},
   "outputs": [],
   "source": [
    "CENTURY = GROUP.format('19' + OR + \"20\") + TWO_DIGITS\n",
    "DIGIT_SLASH = DIGIT + SLASH\n",
    "DIGIT_DASH = DIGIT + DASH\n",
    "DIGIT_SPACE = DIGIT + SPACE\n",
    "LETTER_SPACE = CLASS.format(LOWER_CASE) + SPACE\n",
    "COMMA_SPACE = COMMA + SPACE\n",
    "YEAR_PREFIX = NEGATIVE_LOOKBEHIND.format(OR.join([\n",
    "    DIGIT_SLASH,\n",
    "    DIGIT_DASH,\n",
    "    DIGIT_SPACE,\n",
    "    LETTER_SPACE,\n",
    "    COMMA_SPACE,\n",
    "]))\n",
    "\n",
    "YEAR_ONLY = NAMED.format(\"year_only\",\n",
    "                         YEAR_PREFIX + CENTURY\n",
    ")"
   ]
  },
  {
   "cell_type": "code",
   "execution_count": 19,
   "metadata": {},
   "outputs": [],
   "source": [
    "IN_PREFIX = POSITIVE_LOOKBEHIND.format(CLASS.format('iI') + 'n' + SPACE) + CENTURY\n",
    "SINCE_PREFIX = POSITIVE_LOOKBEHIND.format(CLASS.format(\"Ss\") + 'ince' + SPACE) + CENTURY\n",
    "AGE = POSITIVE_LOOKBEHIND.format(\"Age\" + SPACE + TWO_DIGITS + COMMA + SPACE) + CENTURY\n",
    "AGE_COMMA = POSITIVE_LOOKBEHIND.format(\"Age\" + COMMA + SPACE + TWO_DIGITS + COMMA + SPACE) + CENTURY\n",
    "OTHERS = ['delivery', \"quit\", \"attempt\", \"nephrectomy\", THREE_DIGITS]\n",
    "OTHERS = [POSITIVE_LOOKBEHIND.format(label + SPACE) + CENTURY for label in OTHERS]\n",
    "OTHERS = OR.join(OTHERS)\n",
    "LEFTOVERS_PREFIX = OR.join([IN_PREFIX, SINCE_PREFIX, AGE, AGE_COMMA]) + OR + OTHERS\n",
    "LEFTOVERS = NAMED.format(\"leftovers\", LEFTOVERS_PREFIX)"
   ]
  },
  {
   "cell_type": "code",
   "execution_count": 20,
   "metadata": {},
   "outputs": [],
   "source": [
    "DATE = NAMED.format(\"date\", OR.join([NUMERIC,\n",
    "                                     TWENTIETH_CENTURY,\n",
    "                                     WORDS,\n",
    "                                     BACKWARDS,\n",
    "                                     CONTRACTION,\n",
    "                                     NO_DAY,\n",
    "                                     NO_DAY_NUMERIC,\n",
    "                                     YEAR_ONLY,\n",
    "                                     LEFTOVERS]))"
   ]
  },
  {
   "cell_type": "code",
   "execution_count": 21,
   "metadata": {},
   "outputs": [],
   "source": [
    "def twentieth_century(date):\n",
    "    \"\"\"adds a 19 to the year\n",
    "\n",
    "    Args:\n",
    "     date (re.Regex): Extracted date\n",
    "    \"\"\"\n",
    "    month, day, year = date.group(1).split(SLASH)\n",
    "    year = \"19{}\".format(year)\n",
    "    return SLASH.join([month, day, year])"
   ]
  },
  {
   "cell_type": "code",
   "execution_count": 22,
   "metadata": {},
   "outputs": [],
   "source": [
    "def take_two(line):\n",
    "    match = re.search(TWENTIETH_CENTURY, line)\n",
    "    if match:\n",
    "        return twentieth_century(match)\n",
    "    return line"
   ]
  },
  {
   "cell_type": "code",
   "execution_count": 23,
   "metadata": {},
   "outputs": [],
   "source": [
    "def extract_and_count(expression, data, name):\n",
    "    \"\"\"extract all matches and report the count\n",
    "\n",
    "    Args:\n",
    "     expression (str): regular expression to match\n",
    "     data (pandas.Series): data with dates to extratc\n",
    "     name (str): name of the group for the expression\n",
    "\n",
    "    Returns:\n",
    "     tuple (pandas.Series, int): extracted dates, count\n",
    "    \"\"\"\n",
    "    extracted = data.str.extractall(expression)[name]\n",
    "    count = len(extracted)\n",
    "    print(\"'{}' matched {} rows\".format(name, count))\n",
    "    return extracted, count"
   ]
  },
  {
   "cell_type": "code",
   "execution_count": 24,
   "metadata": {},
   "outputs": [
    {
     "name": "stdout",
     "output_type": "stream",
     "text": [
      "'numeric' matched 25 rows\n"
     ]
    }
   ],
   "source": [
    "numeric, numeric_count = extract_and_count(NUMERIC, data, 'numeric')\n"
   ]
  },
  {
   "cell_type": "code",
   "execution_count": 25,
   "metadata": {},
   "outputs": [
    {
     "name": "stdout",
     "output_type": "stream",
     "text": [
      "'twentieth' matched 100 rows\n"
     ]
    }
   ],
   "source": [
    "twentieth, twentieth_count = extract_and_count(TWENTIETH_CENTURY, data, 'twentieth')"
   ]
  },
  {
   "cell_type": "code",
   "execution_count": 26,
   "metadata": {},
   "outputs": [
    {
     "name": "stdout",
     "output_type": "stream",
     "text": [
      "'words' matched 34 rows\n"
     ]
    }
   ],
   "source": [
    "words, words_count = extract_and_count(WORDS, data, 'words')"
   ]
  },
  {
   "cell_type": "code",
   "execution_count": 27,
   "metadata": {},
   "outputs": [
    {
     "name": "stdout",
     "output_type": "stream",
     "text": [
      "'backwards' matched 69 rows\n"
     ]
    }
   ],
   "source": [
    "backwards, backwards_count = extract_and_count(BACKWARDS, data, 'backwards')"
   ]
  },
  {
   "cell_type": "code",
   "execution_count": 28,
   "metadata": {},
   "outputs": [
    {
     "name": "stdout",
     "output_type": "stream",
     "text": [
      "'contraction' matched 0 rows\n"
     ]
    }
   ],
   "source": [
    "contraction_data, contraction = extract_and_count(CONTRACTION, data, 'contraction')"
   ]
  },
  {
   "cell_type": "code",
   "execution_count": 29,
   "metadata": {},
   "outputs": [
    {
     "name": "stdout",
     "output_type": "stream",
     "text": [
      "'no_day' matched 115 rows\n"
     ]
    }
   ],
   "source": [
    "no_day, no_day_count = extract_and_count(NO_DAY, data, 'no_day')"
   ]
  },
  {
   "cell_type": "code",
   "execution_count": 30,
   "metadata": {},
   "outputs": [
    {
     "name": "stdout",
     "output_type": "stream",
     "text": [
      "'no_day_numeric' matched 112 rows\n"
     ]
    }
   ],
   "source": [
    "no_day_numeric, no_day_numeric_count = extract_and_count(NO_DAY_NUMERIC, data,\n",
    "                                                         \"no_day_numeric\")"
   ]
  },
  {
   "cell_type": "code",
   "execution_count": 31,
   "metadata": {},
   "outputs": [
    {
     "name": "stdout",
     "output_type": "stream",
     "text": [
      "'year_only' matched 15 rows\n"
     ]
    }
   ],
   "source": [
    "year_only, year_only_count = extract_and_count(YEAR_ONLY, data, \"year_only\")"
   ]
  },
  {
   "cell_type": "code",
   "execution_count": 32,
   "metadata": {},
   "outputs": [
    {
     "name": "stdout",
     "output_type": "stream",
     "text": [
      "'leftovers' matched 30 rows\n"
     ]
    }
   ],
   "source": [
    "leftovers, leftovers_count = extract_and_count(LEFTOVERS, data, \"leftovers\")"
   ]
  },
  {
   "cell_type": "code",
   "execution_count": 33,
   "metadata": {},
   "outputs": [
    {
     "name": "stdout",
     "output_type": "stream",
     "text": [
      "Total Found: 500\n",
      "Remaining: 0\n",
      "Discrepancy: 0\n"
     ]
    }
   ],
   "source": [
    "found = data.str.extractall(DATE)\n",
    "total_found = len(found.date)\n",
    "\n",
    "print(\"Total Found: {}\".format(total_found))\n",
    "print(\"Remaining: {}\".format(len(data) - total_found))\n",
    "print(\"Discrepancy: {}\".format(total_found - (numeric_count\n",
    "                                              + twentieth_count\n",
    "                                              + words_count\n",
    "                                              + backwards_count\n",
    "                                              + contraction\n",
    "                                              + no_day_count\n",
    "                                              + no_day_numeric_count\n",
    "                                              + year_only_count\n",
    "                                              + leftovers_count)))"
   ]
  },
  {
   "cell_type": "code",
   "execution_count": 34,
   "metadata": {},
   "outputs": [
    {
     "name": "stdout",
     "output_type": "stream",
     "text": [
      "all rows matched\n"
     ]
    }
   ],
   "source": [
    "missing = [label for label in data.index if label not in found.index.levels[0]]\n",
    "try:\n",
    "    print(missing[0], data.loc[missing[0]])\n",
    "except IndexError:\n",
    "    print(\"all rows matched\")"
   ]
  },
  {
   "cell_type": "code",
   "execution_count": 35,
   "metadata": {},
   "outputs": [],
   "source": [
    "def clean(source, expression, replacement, sample=5):\n",
    "    \"\"\"applies the replacement to the source\n",
    "\n",
    "    as a side-effect shows sample rows before and after\n",
    "\n",
    "    Args:\n",
    "     source (pandas.Series): source of the strings\n",
    "     expression (str): regular expression to match what to replace\n",
    "     replacement: function or expression to replace the matching expression\n",
    "     sample (int): number of randomly chosen examples to show\n",
    "\n",
    "    Returns:\n",
    "     pandas.Series: the source with the replacement applied to it\n",
    "    \"\"\"\n",
    "    print(\"Random Sample Before:\")\n",
    "    print(source.sample(sample))\n",
    "    cleaned = source.str.replace(expression, replacement)\n",
    "    print(\"\\nRandom Sample After:\")\n",
    "    print(cleaned.sample(sample))\n",
    "    print(\"\\nCount of cleaned: {}\".format(len(cleaned)))\n",
    "    assert len(source) == len(cleaned)\n",
    "    return cleaned"
   ]
  },
  {
   "cell_type": "code",
   "execution_count": 36,
   "metadata": {},
   "outputs": [],
   "source": [
    "def clean_punctuation(source, sample=5):\n",
    "    \"\"\"removes punctuation\n",
    "\n",
    "    Args:\n",
    "     source (pandas.Series): data to clean\n",
    "     sample (int): size of sample to show\n",
    "\n",
    "    Returns:\n",
    "     pandas.Series: source with punctuation removed\n",
    "    \"\"\"\n",
    "    print(\"Cleaning Punctuation\")\n",
    "    if any(source.str.contains(PUNCTUATION)):\n",
    "        source = clean(source, PUNCTUATION, EMPTY_STRING)\n",
    "    return source"
   ]
  },
  {
   "cell_type": "code",
   "execution_count": 37,
   "metadata": {},
   "outputs": [],
   "source": [
    "LONG_TO_SHORT = dict(January=\"Jan\",\n",
    "                     February=\"Feb\",\n",
    "                     March=\"Mar\",\n",
    "                     April=\"Apr\",\n",
    "                     May=\"May\",\n",
    "                     June=\"Jun\",\n",
    "                     July=\"Jul\",\n",
    "                     August=\"Aug\",\n",
    "                     September=\"Sep\",\n",
    "                     October=\"Oct\",\n",
    "                     November=\"Nov\",\n",
    "                     December=\"Dec\")\n",
    "\n",
    "# it turns out there are spelling errors in the data so this has to be fuzzy\n",
    "LONG_TO_SHORT_EXPRESSION = OR.join([GROUP.format(month)\n",
    "                                    + CLASS.format(LOWER_CASE)\n",
    "                                    + ZERO_OR_MORE\n",
    "                                    for month in LONG_TO_SHORT.values()])\n",
    "\n",
    "def long_month_to_short(match):\n",
    "    \"\"\"convert long month to short\n",
    "\n",
    "    Args:\n",
    "     match (re.Match): object matching a long month\n",
    "\n",
    "    Returns:\n",
    "     str: shortened version of the month\n",
    "    \"\"\"\n",
    "    return match.group(match.lastindex)"
   ]
  },
  {
   "cell_type": "code",
   "execution_count": 38,
   "metadata": {},
   "outputs": [],
   "source": [
    "def convert_long_months_to_short(source, sample=5):\n",
    "    \"\"\"convert long month names to short\n",
    "\n",
    "    Args:\n",
    "     source (pandas.Series): data with months\n",
    "     sample (int): size of sample to show\n",
    "\n",
    "    Returns:\n",
    "     pandas.Series: data with short months\n",
    "    \"\"\"\n",
    "    return clean(source,\n",
    "                 LONG_TO_SHORT_EXPRESSION,\n",
    "                 long_month_to_short)"
   ]
  },
  {
   "cell_type": "code",
   "execution_count": 39,
   "metadata": {},
   "outputs": [],
   "source": [
    "def add_month_date(match):\n",
    "    \"\"\"adds 01/01 to years\n",
    "\n",
    "    Args:\n",
    "     match (re.Match): object that only matched a 4-digit year\n",
    "\n",
    "    Returns:\n",
    "     str: 01/01/YYYY\n",
    "    \"\"\"\n",
    "    return \"01/01/\" + match.group()"
   ]
  },
  {
   "cell_type": "code",
   "execution_count": 40,
   "metadata": {},
   "outputs": [],
   "source": [
    "def add_january_one(source):\n",
    "    \"\"\"adds /01/01/ to year-only dates\n",
    "\n",
    "    Args:\n",
    "     source (pandas.Series): data with the dates\n",
    "\n",
    "    Returns:\n",
    "     pandas.Series: years in source with /01/01/ added\n",
    "    \"\"\"\n",
    "    return clean(source, YEAR_ONLY, add_month_date)"
   ]
  },
  {
   "cell_type": "code",
   "execution_count": 41,
   "metadata": {},
   "outputs": [],
   "source": [
    "two_digit_expression = GROUP.format(ONE_OR_TWO_DIGITS) + POSITIVE_LOOKAHEAD.format(SLASH)\n",
    "\n",
    "def two_digits(match):\n",
    "    \"\"\"add a leading zero if needed\n",
    "\n",
    "    Args:\n",
    "     match (re.Match): match with one or two digits\n",
    "\n",
    "    Returns:\n",
    "     str: the matched string with leading zero if needed\n",
    "    \"\"\"\n",
    "    # for some reason the string-formatting raises an error if it's a string\n",
    "    # so cast it to an int\n",
    "    return \"{:02}\".format(int(match.group()))"
   ]
  },
  {
   "cell_type": "code",
   "execution_count": 42,
   "metadata": {},
   "outputs": [],
   "source": [
    "def clean_two_digits(source, sample=5):\n",
    "    \"\"\"makes sure source has two-digits\n",
    "\n",
    "    Args:\n",
    "     source (pandas.Series): data with digit followed by slash\n",
    "     sample (int): number of samples to show\n",
    "\n",
    "    Returns:\n",
    "     pandas.Series: source with digits coerced to two digits\n",
    "    \"\"\"\n",
    "    return clean(source, two_digit_expression, two_digits, sample)"
   ]
  },
  {
   "cell_type": "code",
   "execution_count": 43,
   "metadata": {},
   "outputs": [],
   "source": [
    "def clean_two_digits_isolated(source, sample=5):\n",
    "    \"\"\"cleans two digits that are standalone\n",
    "\n",
    "    Args:\n",
    "     source (pandas.Series): source of the data\n",
    "     sample (int): number of samples to show\n",
    "\n",
    "    Returns:\n",
    "     pandas.Series: converted data\n",
    "    \"\"\"\n",
    "    return clean(source, ONE_OR_TWO_DIGITS, two_digits, sample)"
   ]
  },
  {
   "cell_type": "code",
   "execution_count": 44,
   "metadata": {},
   "outputs": [],
   "source": [
    "digits = (\"{:02}\".format(month) for month in range(1, 13))\n",
    "MONTH_TO_DIGITS = dict(zip(MONTH_PREFIXES, digits))\n",
    "SHORT_MONTHS_EXPRESSION = OR.join((GROUP.format(month) for month in MONTH_TO_DIGITS))\n",
    "def month_to_digits(match):\n",
    "    \"\"\"converts short month to digits\n",
    "\n",
    "    Args:\n",
    "     match (re.Match): object with short-month\n",
    "\n",
    "    Returns:\n",
    "     str: month as two-digit number (e.g. Jan -> 01)\n",
    "    \"\"\"\n",
    "    return MONTH_TO_DIGITS[match.group()]"
   ]
  },
  {
   "cell_type": "code",
   "execution_count": 45,
   "metadata": {},
   "outputs": [],
   "source": [
    "def convert_short_month_to_digits(source, sample=5):\n",
    "    \"\"\"converts three-letter months to two-digits\n",
    "\n",
    "    Args:\n",
    "     source (pandas.Series): data with three-letter months\n",
    "     sample (int): number of samples to show\n",
    "\n",
    "    Returns:\n",
    "     pandas.Series: source with short-months coverted to digits\n",
    "    \"\"\"\n",
    "    return clean(source,\n",
    "                 SHORT_MONTHS_EXPRESSION,\n",
    "                 month_to_digits,\n",
    "                 sample)"
   ]
  },
  {
   "cell_type": "code",
   "execution_count": 46,
   "metadata": {},
   "outputs": [],
   "source": [
    "def clean_months(source, sample=5):\n",
    "    \"\"\"clean up months (which start as words)\n",
    "\n",
    "    Args:\n",
    "     source (pandas.Series): source of the months\n",
    "     sample (int): number of random samples to show\n",
    "    \"\"\"\n",
    "    cleaned = clean_punctuation(source)\n",
    "\n",
    "    print(\"Converting long months to short\")\n",
    "    cleaned = clean(cleaned,\n",
    "                    LONG_TO_SHORT_EXPRESSION,\n",
    "                    long_month_to_short, sample)\n",
    "\n",
    "    print(\"Converting short months to digits\")\n",
    "    cleaned = clean(cleaned,\n",
    "                    SHORT_MONTHS_EXPRESSION,\n",
    "                    month_to_digits, sample)\n",
    "    return cleaned"
   ]
  },
  {
   "cell_type": "code",
   "execution_count": 47,
   "metadata": {},
   "outputs": [],
   "source": [
    "def frame_to_series(frame, index_source, samples=5):\n",
    "    \"\"\"re-combines data-frame into a series\n",
    "\n",
    "    Args:\n",
    "     frame (pandas.DataFrame): frame with month, day, year columns\n",
    "     index_source (pandas.series): source to copy index from\n",
    "     samples (index): number of random entries to print when done\n",
    "\n",
    "    Returns:\n",
    "     pandas.Series: series with dates as month/day/year\n",
    "    \"\"\"\n",
    "    combined = frame.month + SLASH + frame.day + SLASH + frame.year\n",
    "    combined.index = index_source.index\n",
    "    print(combined.sample(samples))\n",
    "    return combined"
   ]
  },
  {
   "cell_type": "code",
   "execution_count": 48,
   "metadata": {},
   "outputs": [
    {
     "name": "stdout",
     "output_type": "stream",
     "text": [
      "Random Sample Before:\n",
      "     match\n",
      "472  0        2010\n",
      "486  0        1973\n",
      "476  0        1989\n",
      "493  0        1978\n",
      "478  0        1993\n",
      "Name: year_only, dtype: object\n",
      "\n",
      "Random Sample After:\n",
      "     match\n",
      "472  0        01/01/2010\n",
      "496  0        01/01/2006\n",
      "483  0        01/01/1995\n",
      "478  0        01/01/1993\n",
      "480  0        01/01/2013\n",
      "Name: year_only, dtype: object\n",
      "\n",
      "Count of cleaned: 15\n"
     ]
    }
   ],
   "source": [
    "year_only_cleaned = add_january_one(year_only)"
   ]
  },
  {
   "cell_type": "code",
   "execution_count": 49,
   "metadata": {},
   "outputs": [
    {
     "name": "stdout",
     "output_type": "stream",
     "text": [
      "Random Sample Before:\n",
      "     match\n",
      "458  0        1982\n",
      "498  0        2005\n",
      "463  0        2014\n",
      "474  0        1972\n",
      "479  0        1996\n",
      "Name: leftovers, dtype: object\n",
      "\n",
      "Random Sample After:\n",
      "     match\n",
      "464  0        01/01/2016\n",
      "457  0        01/01/2001\n",
      "491  0        01/01/2009\n",
      "456  0        01/01/2000\n",
      "477  0        01/01/1994\n",
      "Name: leftovers, dtype: object\n",
      "\n",
      "Count of cleaned: 30\n"
     ]
    }
   ],
   "source": [
    "leftovers_cleaned = add_january_one(leftovers)"
   ]
  },
  {
   "cell_type": "code",
   "execution_count": 51,
   "metadata": {},
   "outputs": [
    {
     "name": "stdout",
     "output_type": "stream",
     "text": [
      "45\n"
     ]
    }
   ],
   "source": [
    "cleaned = pd.concat([year_only_cleaned, leftovers_cleaned])\n",
    "print(len(cleaned))"
   ]
  },
  {
   "cell_type": "code",
   "execution_count": 52,
   "metadata": {},
   "outputs": [
    {
     "name": "stdout",
     "output_type": "stream",
     "text": [
      "Random Sample Before:\n",
      "     match\n",
      "382  0        09/1975\n",
      "391  0         4/2007\n",
      "448  0         5/2010\n",
      "410  0        01/2007\n",
      "416  0         7/1987\n",
      "Name: no_day_numeric, dtype: object\n",
      "\n",
      "Random Sample After:\n",
      "     match\n",
      "398  0        05/1979\n",
      "390  0        08/1988\n",
      "351  0        08/1974\n",
      "386  0        07/2009\n",
      "441  0        09/1980\n",
      "Name: no_day_numeric, dtype: object\n",
      "\n",
      "Count of cleaned: 112\n"
     ]
    }
   ],
   "source": [
    "no_day_numeric_cleaned = clean_two_digits(no_day_numeric)"
   ]
  },
  {
   "cell_type": "code",
   "execution_count": 53,
   "metadata": {},
   "outputs": [
    {
     "name": "stdout",
     "output_type": "stream",
     "text": [
      "Random Sample Before:\n",
      "     match\n",
      "449  0        08/2002\n",
      "381  0        01/2014\n",
      "409  0        10/1994\n",
      "378  0        12/1978\n",
      "423  0        12/1986\n",
      "Name: no_day_numeric, dtype: object\n",
      "\n",
      "Random Sample After:\n",
      "     match\n",
      "398  0        05/01/1979\n",
      "415  0        02/01/1973\n",
      "442  0        09/01/1992\n",
      "363  0        12/01/1975\n",
      "370  0        09/01/1975\n",
      "Name: no_day_numeric, dtype: object\n",
      "\n",
      "Count of cleaned: 112\n"
     ]
    }
   ],
   "source": [
    "no_day_numeric_cleaned = clean(no_day_numeric_cleaned,\n",
    "                               SLASH,\n",
    "                               lambda m: \"/01/\")"
   ]
  },
  {
   "cell_type": "code",
   "execution_count": 55,
   "metadata": {},
   "outputs": [],
   "source": [
    "original = len(cleaned)\n",
    "cleaned = pd.concat([cleaned, no_day_numeric_cleaned])\n",
    "assert len(cleaned) == no_day_numeric_count + original"
   ]
  },
  {
   "cell_type": "code",
   "execution_count": 56,
   "metadata": {},
   "outputs": [
    {
     "name": "stdout",
     "output_type": "stream",
     "text": [
      "157\n"
     ]
    }
   ],
   "source": [
    "print(len(cleaned))"
   ]
  },
  {
   "cell_type": "code",
   "execution_count": 57,
   "metadata": {},
   "outputs": [
    {
     "name": "stdout",
     "output_type": "stream",
     "text": [
      "Cleaning Punctuation\n",
      "Random Sample Before:\n",
      "     match\n",
      "323  0            March 1973\n",
      "244  0         January, 2013\n",
      "313  0        Decemeber 1978\n",
      "269  0             July 1992\n",
      "309  0            April 1977\n",
      "Name: no_day, dtype: object\n",
      "\n",
      "Random Sample After:\n",
      "     match\n",
      "320  0        November 2012\n",
      "326  0         October 1995\n",
      "340  0             May 1980\n",
      "312  0        February 1989\n",
      "328  0             May 2001\n",
      "Name: no_day, dtype: object\n",
      "\n",
      "Count of cleaned: 115\n",
      "Converting long months to short\n",
      "Random Sample Before:\n",
      "     match\n",
      "342  0           March 1976\n",
      "233  0            July 1990\n",
      "295  0           March 1983\n",
      "333  0        November 1997\n",
      "272  0             Feb 1993\n",
      "Name: no_day, dtype: object\n",
      "\n",
      "Random Sample After:\n",
      "     match\n",
      "275  0        Sep 1984\n",
      "280  0        Jul 1985\n",
      "271  0        Aug 2008\n",
      "312  0        Feb 1989\n",
      "238  0        Jan 1995\n",
      "Name: no_day, dtype: object\n",
      "\n",
      "Count of cleaned: 115\n",
      "Converting short months to digits\n",
      "Random Sample Before:\n",
      "     match\n",
      "269  0        Jul 1992\n",
      "231  0        May 2016\n",
      "263  0        Sep 1981\n",
      "230  0        May 1986\n",
      "282  0        May 2012\n",
      "Name: no_day, dtype: object\n",
      "\n",
      "Random Sample After:\n",
      "     match\n",
      "253  0        02 2016\n",
      "306  0        05 2004\n",
      "256  0        08 1988\n",
      "334  0        07 1986\n",
      "291  0        01 2004\n",
      "Name: no_day, dtype: object\n",
      "\n",
      "Count of cleaned: 115\n"
     ]
    }
   ],
   "source": [
    "no_day_cleaned = clean_months(no_day)"
   ]
  },
  {
   "cell_type": "code",
   "execution_count": 58,
   "metadata": {},
   "outputs": [
    {
     "name": "stdout",
     "output_type": "stream",
     "text": [
      "Random Sample Before:\n",
      "     match\n",
      "250  0        05 2005\n",
      "312  0        02 1989\n",
      "337  0        12 2007\n",
      "240  0        05 2011\n",
      "318  0        01 1978\n",
      "Name: no_day, dtype: object\n",
      "\n",
      "Random Sample After:\n",
      "     match\n",
      "259  0        11/01/1979\n",
      "251  0        12/01/1998\n",
      "247  0        05/01/1983\n",
      "245  0        11/01/1990\n",
      "276  0        04/01/1986\n",
      "Name: no_day, dtype: object\n",
      "\n",
      "Count of cleaned: 115\n"
     ]
    }
   ],
   "source": [
    "no_day_cleaned = clean(no_day_cleaned,\n",
    "                       SPACE + ONE_OR_MORE,\n",
    "                       lambda match: \"/01/\")"
   ]
  },
  {
   "cell_type": "code",
   "execution_count": 60,
   "metadata": {},
   "outputs": [
    {
     "name": "stdout",
     "output_type": "stream",
     "text": [
      "272\n"
     ]
    }
   ],
   "source": [
    "original = len(cleaned)\n",
    "cleaned = pd.concat([cleaned, no_day_cleaned])\n",
    "print(len(cleaned))"
   ]
  },
  {
   "cell_type": "code",
   "execution_count": 61,
   "metadata": {},
   "outputs": [],
   "source": [
    "assert len(cleaned) == no_day_count + original"
   ]
  },
  {
   "cell_type": "code",
   "execution_count": 63,
   "metadata": {},
   "outputs": [
    {
     "data": {
      "text/html": [
       "<div>\n",
       "<style scoped>\n",
       "    .dataframe tbody tr th:only-of-type {\n",
       "        vertical-align: middle;\n",
       "    }\n",
       "\n",
       "    .dataframe tbody tr th {\n",
       "        vertical-align: top;\n",
       "    }\n",
       "\n",
       "    .dataframe thead th {\n",
       "        text-align: right;\n",
       "    }\n",
       "</style>\n",
       "<table border=\"1\" class=\"dataframe\">\n",
       "  <thead>\n",
       "    <tr style=\"text-align: right;\">\n",
       "      <th></th>\n",
       "      <th>day</th>\n",
       "      <th>month</th>\n",
       "      <th>year</th>\n",
       "    </tr>\n",
       "  </thead>\n",
       "  <tbody>\n",
       "    <tr>\n",
       "      <th>0</th>\n",
       "      <td>24</td>\n",
       "      <td>Jan</td>\n",
       "      <td>2001</td>\n",
       "    </tr>\n",
       "    <tr>\n",
       "      <th>1</th>\n",
       "      <td>10</td>\n",
       "      <td>Sep</td>\n",
       "      <td>2004</td>\n",
       "    </tr>\n",
       "    <tr>\n",
       "      <th>2</th>\n",
       "      <td>26</td>\n",
       "      <td>May</td>\n",
       "      <td>1982</td>\n",
       "    </tr>\n",
       "    <tr>\n",
       "      <th>3</th>\n",
       "      <td>28</td>\n",
       "      <td>June</td>\n",
       "      <td>2002</td>\n",
       "    </tr>\n",
       "    <tr>\n",
       "      <th>4</th>\n",
       "      <td>06</td>\n",
       "      <td>May</td>\n",
       "      <td>1972</td>\n",
       "    </tr>\n",
       "  </tbody>\n",
       "</table>\n",
       "</div>"
      ],
      "text/plain": [
       "  day month  year\n",
       "0  24   Jan  2001\n",
       "1  10   Sep  2004\n",
       "2  26   May  1982\n",
       "3  28  June  2002\n",
       "4  06   May  1972"
      ]
     },
     "execution_count": 63,
     "metadata": {},
     "output_type": "execute_result"
    }
   ],
   "source": [
    "frame = pd.DataFrame(backwards.str.split().tolist(),\n",
    "                         columns=\"day month year\".split())\n",
    "frame.head()"
   ]
  },
  {
   "cell_type": "code",
   "execution_count": 64,
   "metadata": {},
   "outputs": [
    {
     "name": "stdout",
     "output_type": "stream",
     "text": [
      "Random Sample Before:\n",
      "53    15\n",
      "2     26\n",
      "50    21\n",
      "59    11\n",
      "37    05\n",
      "Name: day, dtype: object\n",
      "\n",
      "Random Sample After:\n",
      "67    06\n",
      "47    23\n",
      "48    18\n",
      "9     14\n",
      "54    10\n",
      "Name: day, dtype: object\n",
      "\n",
      "Count of cleaned: 69\n"
     ]
    }
   ],
   "source": [
    "frame.day = clean_two_digits(frame.day)"
   ]
  },
  {
   "cell_type": "code",
   "execution_count": 65,
   "metadata": {},
   "outputs": [
    {
     "name": "stdout",
     "output_type": "stream",
     "text": [
      "Cleaning Punctuation\n",
      "Converting long months to short\n",
      "Random Sample Before:\n",
      "15    Feb\n",
      "48    Oct\n",
      "24    Sep\n",
      "14    Oct\n",
      "6     Oct\n",
      "Name: month, dtype: object\n",
      "\n",
      "Random Sample After:\n",
      "29    Mar\n",
      "63    Mar\n",
      "50    Oct\n",
      "9     Jan\n",
      "32    Feb\n",
      "Name: month, dtype: object\n",
      "\n",
      "Count of cleaned: 69\n",
      "Converting short months to digits\n",
      "Random Sample Before:\n",
      "16    May\n",
      "56    Aug\n",
      "0     Jan\n",
      "31    May\n",
      "51    May\n",
      "Name: month, dtype: object\n",
      "\n",
      "Random Sample After:\n",
      "16    05\n",
      "31    05\n",
      "50    10\n",
      "53    06\n",
      "20    10\n",
      "Name: month, dtype: object\n",
      "\n",
      "Count of cleaned: 69\n"
     ]
    }
   ],
   "source": [
    "frame.month = clean_months(frame.month)"
   ]
  },
  {
   "cell_type": "code",
   "execution_count": 67,
   "metadata": {},
   "outputs": [
    {
     "name": "stdout",
     "output_type": "stream",
     "text": [
      "     match\n",
      "143  0        10/14/1992\n",
      "193  0        01/18/1995\n",
      "192  0        05/06/1993\n",
      "145  0        10/18/1999\n",
      "189  0        10/21/1977\n",
      "dtype: object\n"
     ]
    }
   ],
   "source": [
    "backwards_cleaned = frame_to_series(frame, backwards)"
   ]
  },
  {
   "cell_type": "code",
   "execution_count": 69,
   "metadata": {},
   "outputs": [],
   "source": [
    "original = len(cleaned)\n",
    "cleaned = pd.concat([cleaned, backwards_cleaned])\n",
    "assert len(cleaned) == original + backwards_count"
   ]
  },
  {
   "cell_type": "code",
   "execution_count": 70,
   "metadata": {},
   "outputs": [
    {
     "name": "stdout",
     "output_type": "stream",
     "text": [
      "341\n"
     ]
    }
   ],
   "source": [
    "print(len(cleaned))"
   ]
  },
  {
   "cell_type": "code",
   "execution_count": 72,
   "metadata": {},
   "outputs": [
    {
     "name": "stdout",
     "output_type": "stream",
     "text": [
      "      month  day  year\n",
      "0     April  11,  1990\n",
      "1       May  30,  2001\n",
      "2       Feb  18,  1994\n",
      "3  February  18,  1981\n",
      "4  October.  11,  2013\n"
     ]
    }
   ],
   "source": [
    "frame = pd.DataFrame(words.str.split().tolist(), columns=\"month day year\".split())\n",
    "print(frame.head())"
   ]
  },
  {
   "cell_type": "code",
   "execution_count": 73,
   "metadata": {},
   "outputs": [
    {
     "name": "stdout",
     "output_type": "stream",
     "text": [
      "Cleaning Punctuation\n",
      "Random Sample Before:\n",
      "7     December\n",
      "18        July\n",
      "27         Oct\n",
      "1          May\n",
      "32     January\n",
      "Name: month, dtype: object\n",
      "\n",
      "Random Sample After:\n",
      "29      October\n",
      "31         June\n",
      "9     September\n",
      "25          Dec\n",
      "19         July\n",
      "Name: month, dtype: object\n",
      "\n",
      "Count of cleaned: 34\n",
      "Converting long months to short\n",
      "Random Sample Before:\n",
      "20        Sep\n",
      "32    January\n",
      "28        May\n",
      "11        Jan\n",
      "21     August\n",
      "Name: month, dtype: object\n",
      "\n",
      "Random Sample After:\n",
      "10    Mar\n",
      "26    Jun\n",
      "7     Dec\n",
      "15    Jul\n",
      "20    Sep\n",
      "Name: month, dtype: object\n",
      "\n",
      "Count of cleaned: 34\n",
      "Converting short months to digits\n",
      "Random Sample Before:\n",
      "23    Jun\n",
      "14    Sep\n",
      "1     May\n",
      "33    Sep\n",
      "21    Aug\n",
      "Name: month, dtype: object\n",
      "\n",
      "Random Sample After:\n",
      "4     10\n",
      "32    01\n",
      "33    09\n",
      "26    06\n",
      "30    07\n",
      "Name: month, dtype: object\n",
      "\n",
      "Count of cleaned: 34\n"
     ]
    }
   ],
   "source": [
    "frame.month = clean_months(frame.month)"
   ]
  },
  {
   "cell_type": "code",
   "execution_count": 74,
   "metadata": {},
   "outputs": [
    {
     "name": "stdout",
     "output_type": "stream",
     "text": [
      "Cleaning Punctuation\n",
      "Random Sample Before:\n",
      "15    25,\n",
      "27    18,\n",
      "26    25,\n",
      "4     11,\n",
      "19    11,\n",
      "Name: day, dtype: object\n",
      "\n",
      "Random Sample After:\n",
      "20    10\n",
      "33    15\n",
      "21    14\n",
      "1     30\n",
      "30    25\n",
      "Name: day, dtype: object\n",
      "\n",
      "Count of cleaned: 34\n"
     ]
    }
   ],
   "source": [
    "frame.day = clean_punctuation(frame.day)"
   ]
  },
  {
   "cell_type": "code",
   "execution_count": 75,
   "metadata": {},
   "outputs": [
    {
     "data": {
      "text/html": [
       "<div>\n",
       "<style scoped>\n",
       "    .dataframe tbody tr th:only-of-type {\n",
       "        vertical-align: middle;\n",
       "    }\n",
       "\n",
       "    .dataframe tbody tr th {\n",
       "        vertical-align: top;\n",
       "    }\n",
       "\n",
       "    .dataframe thead th {\n",
       "        text-align: right;\n",
       "    }\n",
       "</style>\n",
       "<table border=\"1\" class=\"dataframe\">\n",
       "  <thead>\n",
       "    <tr style=\"text-align: right;\">\n",
       "      <th></th>\n",
       "      <th>month</th>\n",
       "      <th>day</th>\n",
       "      <th>year</th>\n",
       "    </tr>\n",
       "  </thead>\n",
       "  <tbody>\n",
       "    <tr>\n",
       "      <th>0</th>\n",
       "      <td>04</td>\n",
       "      <td>11</td>\n",
       "      <td>1990</td>\n",
       "    </tr>\n",
       "    <tr>\n",
       "      <th>1</th>\n",
       "      <td>05</td>\n",
       "      <td>30</td>\n",
       "      <td>2001</td>\n",
       "    </tr>\n",
       "    <tr>\n",
       "      <th>2</th>\n",
       "      <td>02</td>\n",
       "      <td>18</td>\n",
       "      <td>1994</td>\n",
       "    </tr>\n",
       "    <tr>\n",
       "      <th>3</th>\n",
       "      <td>02</td>\n",
       "      <td>18</td>\n",
       "      <td>1981</td>\n",
       "    </tr>\n",
       "    <tr>\n",
       "      <th>4</th>\n",
       "      <td>10</td>\n",
       "      <td>11</td>\n",
       "      <td>2013</td>\n",
       "    </tr>\n",
       "  </tbody>\n",
       "</table>\n",
       "</div>"
      ],
      "text/plain": [
       "  month day  year\n",
       "0    04  11  1990\n",
       "1    05  30  2001\n",
       "2    02  18  1994\n",
       "3    02  18  1981\n",
       "4    10  11  2013"
      ]
     },
     "execution_count": 75,
     "metadata": {},
     "output_type": "execute_result"
    }
   ],
   "source": [
    "frame.head()"
   ]
  },
  {
   "cell_type": "code",
   "execution_count": 76,
   "metadata": {},
   "outputs": [
    {
     "name": "stdout",
     "output_type": "stream",
     "text": [
      "     match\n",
      "221  0        10/18/1980\n",
      "208  0        09/01/2012\n",
      "202  0        05/15/1989\n",
      "196  0        02/18/1994\n",
      "215  0        08/14/1981\n",
      "dtype: object\n"
     ]
    }
   ],
   "source": [
    "words_cleaned = frame_to_series(frame, words)"
   ]
  },
  {
   "cell_type": "code",
   "execution_count": 78,
   "metadata": {},
   "outputs": [
    {
     "name": "stdout",
     "output_type": "stream",
     "text": [
      "375\n"
     ]
    }
   ],
   "source": [
    "original = len(cleaned)\n",
    "cleaned = pd.concat([cleaned, words_cleaned])\n",
    "assert len(cleaned) == original + words_count\n",
    "print(len(cleaned))"
   ]
  },
  {
   "cell_type": "code",
   "execution_count": 79,
   "metadata": {},
   "outputs": [
    {
     "name": "stdout",
     "output_type": "stream",
     "text": [
      "4-13-82\n",
      "01/01/1991\n"
     ]
    }
   ],
   "source": [
    "print(twentieth.iloc[21])\n",
    "twentieth_cleaned = twentieth.str.replace(DASH, SLASH)\n",
    "print(cleaned.iloc[21])"
   ]
  },
  {
   "cell_type": "code",
   "execution_count": 80,
   "metadata": {},
   "outputs": [
    {
     "name": "stdout",
     "output_type": "stream",
     "text": [
      "  month day year\n",
      "0    03  25   93\n",
      "1     6  18   85\n",
      "2     7   8   71\n",
      "3     9  27   75\n",
      "4     2   6   96\n"
     ]
    }
   ],
   "source": [
    "frame = pd.DataFrame(twentieth_cleaned.str.split(SLASH).tolist(),\n",
    "                         columns=[\"month\", \"day\", \"year\"])\n",
    "print(frame.head())"
   ]
  },
  {
   "cell_type": "code",
   "execution_count": 81,
   "metadata": {},
   "outputs": [
    {
     "name": "stdout",
     "output_type": "stream",
     "text": [
      "Random Sample Before:\n",
      "15     4\n",
      "16     5\n",
      "90    12\n",
      "86     6\n",
      "1      6\n",
      "Name: month, dtype: object\n",
      "\n",
      "Random Sample After:\n",
      "29    03\n",
      "53    10\n",
      "50    02\n",
      "98    05\n",
      "21    04\n",
      "Name: month, dtype: object\n",
      "\n",
      "Count of cleaned: 100\n"
     ]
    }
   ],
   "source": [
    "frame.month = clean_two_digits_isolated(frame.month)"
   ]
  },
  {
   "cell_type": "code",
   "execution_count": 82,
   "metadata": {},
   "outputs": [
    {
     "name": "stdout",
     "output_type": "stream",
     "text": [
      "Random Sample Before:\n",
      "85    04\n",
      "55    21\n",
      "61     6\n",
      "29    15\n",
      "67    18\n",
      "Name: day, dtype: object\n",
      "\n",
      "Random Sample After:\n",
      "62    05\n",
      "85    04\n",
      "34    24\n",
      "95    22\n",
      "74    20\n",
      "Name: day, dtype: object\n",
      "\n",
      "Count of cleaned: 100\n"
     ]
    }
   ],
   "source": [
    "frame.day = clean_two_digits_isolated(frame.day)"
   ]
  },
  {
   "cell_type": "code",
   "execution_count": 83,
   "metadata": {},
   "outputs": [
    {
     "data": {
      "text/html": [
       "<div>\n",
       "<style scoped>\n",
       "    .dataframe tbody tr th:only-of-type {\n",
       "        vertical-align: middle;\n",
       "    }\n",
       "\n",
       "    .dataframe tbody tr th {\n",
       "        vertical-align: top;\n",
       "    }\n",
       "\n",
       "    .dataframe thead th {\n",
       "        text-align: right;\n",
       "    }\n",
       "</style>\n",
       "<table border=\"1\" class=\"dataframe\">\n",
       "  <thead>\n",
       "    <tr style=\"text-align: right;\">\n",
       "      <th></th>\n",
       "      <th>month</th>\n",
       "      <th>day</th>\n",
       "      <th>year</th>\n",
       "    </tr>\n",
       "  </thead>\n",
       "  <tbody>\n",
       "    <tr>\n",
       "      <th>0</th>\n",
       "      <td>03</td>\n",
       "      <td>25</td>\n",
       "      <td>93</td>\n",
       "    </tr>\n",
       "    <tr>\n",
       "      <th>1</th>\n",
       "      <td>06</td>\n",
       "      <td>18</td>\n",
       "      <td>85</td>\n",
       "    </tr>\n",
       "    <tr>\n",
       "      <th>2</th>\n",
       "      <td>07</td>\n",
       "      <td>08</td>\n",
       "      <td>71</td>\n",
       "    </tr>\n",
       "    <tr>\n",
       "      <th>3</th>\n",
       "      <td>09</td>\n",
       "      <td>27</td>\n",
       "      <td>75</td>\n",
       "    </tr>\n",
       "    <tr>\n",
       "      <th>4</th>\n",
       "      <td>02</td>\n",
       "      <td>06</td>\n",
       "      <td>96</td>\n",
       "    </tr>\n",
       "  </tbody>\n",
       "</table>\n",
       "</div>"
      ],
      "text/plain": [
       "  month day year\n",
       "0    03  25   93\n",
       "1    06  18   85\n",
       "2    07  08   71\n",
       "3    09  27   75\n",
       "4    02  06   96"
      ]
     },
     "execution_count": 83,
     "metadata": {},
     "output_type": "execute_result"
    }
   ],
   "source": [
    "frame.head()"
   ]
  },
  {
   "cell_type": "code",
   "execution_count": 84,
   "metadata": {},
   "outputs": [
    {
     "name": "stdout",
     "output_type": "stream",
     "text": [
      "Random Sample Before:\n",
      "7     89\n",
      "43    92\n",
      "21    82\n",
      "24    71\n",
      "99    96\n",
      "Name: year, dtype: object\n",
      "\n",
      "Random Sample After:\n",
      "46    1995\n",
      "93    1977\n",
      "21    1982\n",
      "35    1994\n",
      "20    1976\n",
      "Name: year, dtype: object\n",
      "\n",
      "Count of cleaned: 100\n"
     ]
    }
   ],
   "source": [
    "frame.year = clean(frame.year, TWO_DIGITS, lambda match: \"19\" + match.group())"
   ]
  },
  {
   "cell_type": "code",
   "execution_count": 85,
   "metadata": {},
   "outputs": [
    {
     "name": "stdout",
     "output_type": "stream",
     "text": [
      "     match\n",
      "12   0        08/01/1998\n",
      "63   0        06/28/1987\n",
      "96   0        07/18/1986\n",
      "123  0        05/04/1977\n",
      "116  0        12/04/1987\n",
      "dtype: object\n"
     ]
    }
   ],
   "source": [
    "twentieth_cleaned = frame_to_series(frame, twentieth)"
   ]
  },
  {
   "cell_type": "code",
   "execution_count": 87,
   "metadata": {},
   "outputs": [],
   "source": [
    "original = len(cleaned)\n",
    "cleaned = pd.concat([cleaned, twentieth_cleaned])"
   ]
  },
  {
   "cell_type": "code",
   "execution_count": 88,
   "metadata": {},
   "outputs": [],
   "source": [
    "assert len(cleaned) == original + twentieth_count"
   ]
  },
  {
   "cell_type": "code",
   "execution_count": 89,
   "metadata": {},
   "outputs": [
    {
     "name": "stdout",
     "output_type": "stream",
     "text": [
      "    match\n",
      "14  0         5/24/1990\n",
      "15  0         1/25/2011\n",
      "17  0        10/13/1976\n",
      "24  0        07/25/1984\n",
      "30  0        03/31/1985\n",
      "Name: numeric, dtype: object\n"
     ]
    }
   ],
   "source": [
    "print(numeric.head())"
   ]
  },
  {
   "cell_type": "code",
   "execution_count": 90,
   "metadata": {},
   "outputs": [
    {
     "name": "stdout",
     "output_type": "stream",
     "text": [
      "Series([], Name: numeric, dtype: object)\n"
     ]
    }
   ],
   "source": [
    "has_dashes = numeric.str.contains(DASH)\n",
    "print(numeric[has_dashes])"
   ]
  },
  {
   "cell_type": "code",
   "execution_count": 92,
   "metadata": {},
   "outputs": [
    {
     "name": "stdout",
     "output_type": "stream",
     "text": [
      "  month day  year\n",
      "0     5  24  1990\n",
      "1     1  25  2011\n",
      "2    10  13  1976\n",
      "3    07  25  1984\n",
      "4    03  31  1985\n"
     ]
    }
   ],
   "source": [
    "frame = pd.DataFrame(numeric.str.split(SLASH).tolist(),\n",
    "                         columns=\"month day year\".split())\n",
    "print(frame.head())"
   ]
  },
  {
   "cell_type": "code",
   "execution_count": 93,
   "metadata": {},
   "outputs": [
    {
     "name": "stdout",
     "output_type": "stream",
     "text": [
      "Random Sample Before:\n",
      "13    11\n",
      "14    01\n",
      "5      5\n",
      "15     7\n",
      "17     8\n",
      "Name: month, dtype: object\n",
      "\n",
      "Random Sample After:\n",
      "8     02\n",
      "21    07\n",
      "22    02\n",
      "10    12\n",
      "3     07\n",
      "Name: month, dtype: object\n",
      "\n",
      "Count of cleaned: 25\n"
     ]
    }
   ],
   "source": [
    "frame.month = clean_two_digits_isolated(frame.month)"
   ]
  },
  {
   "cell_type": "code",
   "execution_count": 94,
   "metadata": {},
   "outputs": [
    {
     "name": "stdout",
     "output_type": "stream",
     "text": [
      "Random Sample Before:\n",
      "7     13\n",
      "20    11\n",
      "21    18\n",
      "16    14\n",
      "4     31\n",
      "Name: day, dtype: object\n",
      "\n",
      "Random Sample After:\n",
      "1     25\n",
      "8     15\n",
      "18    08\n",
      "14    05\n",
      "6     27\n",
      "Name: day, dtype: object\n",
      "\n",
      "Count of cleaned: 25\n"
     ]
    }
   ],
   "source": [
    "frame.day = clean_two_digits_isolated(frame.day)"
   ]
  },
  {
   "cell_type": "code",
   "execution_count": 95,
   "metadata": {},
   "outputs": [
    {
     "name": "stdout",
     "output_type": "stream",
     "text": [
      "     match\n",
      "24   0        07/25/1984\n",
      "59   0        08/20/1982\n",
      "15   0        01/25/2011\n",
      "58   0        12/05/2010\n",
      "118  0        04/27/2006\n",
      "dtype: object\n"
     ]
    }
   ],
   "source": [
    "numeric_cleaned = frame_to_series(frame, numeric)"
   ]
  },
  {
   "cell_type": "code",
   "execution_count": 97,
   "metadata": {},
   "outputs": [
    {
     "name": "stdout",
     "output_type": "stream",
     "text": [
      "500\n"
     ]
    }
   ],
   "source": [
    "original = len(cleaned)\n",
    "cleaned = pd.concat([cleaned, numeric_cleaned])\n",
    "assert len(cleaned) == original + numeric_count\n",
    "print(len(cleaned))"
   ]
  },
  {
   "cell_type": "code",
   "execution_count": 99,
   "metadata": {},
   "outputs": [
    {
     "name": "stdout",
     "output_type": "stream",
     "text": [
      "500\n",
      "    match\n",
      "14  0        05/24/1990\n",
      "15  0        01/25/2011\n",
      "17  0        10/13/1976\n",
      "24  0        07/25/1984\n",
      "30  0        03/31/1985\n",
      "dtype: object\n"
     ]
    }
   ],
   "source": [
    "cleaned = pd.concat([numeric_cleaned,\n",
    "                         twentieth_cleaned,\n",
    "                         words_cleaned,\n",
    "                         backwards_cleaned,\n",
    "                         no_day_cleaned,\n",
    "                         no_day_numeric_cleaned,\n",
    "                         year_only_cleaned,\n",
    "                         leftovers_cleaned,\n",
    "])\n",
    "print(len(cleaned))\n",
    "print(cleaned.head())\n",
    "assert len(cleaned) == len(data)"
   ]
  },
  {
   "cell_type": "code",
   "execution_count": 101,
   "metadata": {},
   "outputs": [
    {
     "name": "stdout",
     "output_type": "stream",
     "text": [
      "    match\n",
      "14  0        05/24/1990\n",
      "15  0        01/25/2011\n",
      "17  0        10/13/1976\n",
      "24  0        07/25/1984\n",
      "30  0        03/31/1985\n",
      "dtype: object\n",
      "    match\n",
      "14  0       1990-05-24\n",
      "15  0       2011-01-25\n",
      "17  0       1976-10-13\n",
      "24  0       1984-07-25\n",
      "30  0       1985-03-31\n",
      "dtype: datetime64[ns]\n"
     ]
    }
   ],
   "source": [
    "print(cleaned.head())\n",
    "datetimes = pd.to_datetime(cleaned, format=\"%m/%d/%Y\")\n",
    "print(datetimes.head())"
   ]
  },
  {
   "cell_type": "code",
   "execution_count": 102,
   "metadata": {},
   "outputs": [
    {
     "name": "stdout",
     "output_type": "stream",
     "text": [
      "    match\n",
      "9   0       1971-04-10\n",
      "84  0       1971-05-18\n",
      "2   0       1971-07-08\n",
      "53  0       1971-07-11\n",
      "28  0       1971-09-12\n",
      "dtype: datetime64[ns]\n"
     ]
    }
   ],
   "source": [
    "sorted_dates = datetimes.sort_values()\n",
    "print(sorted_dates.head())"
   ]
  },
  {
   "cell_type": "code",
   "execution_count": 103,
   "metadata": {},
   "outputs": [
    {
     "name": "stdout",
     "output_type": "stream",
     "text": [
      "     match\n",
      "231  0       2016-05-01\n",
      "141  0       2016-05-30\n",
      "186  0       2016-10-13\n",
      "161  0       2016-10-19\n",
      "413  0       2016-11-01\n",
      "dtype: datetime64[ns]\n"
     ]
    }
   ],
   "source": [
    "print(sorted_dates.tail())"
   ]
  },
  {
   "cell_type": "code",
   "execution_count": 107,
   "metadata": {},
   "outputs": [
    {
     "name": "stdout",
     "output_type": "stream",
     "text": [
      "0     9\n",
      "1    84\n",
      "2     2\n",
      "3    53\n",
      "4    28\n",
      "dtype: int16\n"
     ]
    },
    {
     "name": "stderr",
     "output_type": "stream",
     "text": [
      "c:\\phyton 372\\lib\\site-packages\\ipykernel_launcher.py:1: FutureWarning: .labels was deprecated in version 0.24.0. Use .codes instead.\n",
      "  \"\"\"Entry point for launching an IPython kernel.\n"
     ]
    }
   ],
   "source": [
    "answer = pd.Series(sorted_dates.index.labels[0])\n",
    "\n",
    "print(answer.head())"
   ]
  },
  {
   "cell_type": "code",
   "execution_count": 108,
   "metadata": {},
   "outputs": [],
   "source": [
    "def date_sorter():\n",
    "    return answer"
   ]
  },
  {
   "cell_type": "code",
   "execution_count": 109,
   "metadata": {},
   "outputs": [
    {
     "data": {
      "text/plain": [
       "0        9\n",
       "1       84\n",
       "2        2\n",
       "3       53\n",
       "4       28\n",
       "5      474\n",
       "6      153\n",
       "7       13\n",
       "8      129\n",
       "9       98\n",
       "10     111\n",
       "11     225\n",
       "12      31\n",
       "13     171\n",
       "14     191\n",
       "15     486\n",
       "16     335\n",
       "17     415\n",
       "18      36\n",
       "19     323\n",
       "20     405\n",
       "21     422\n",
       "22     375\n",
       "23     380\n",
       "24     345\n",
       "25      57\n",
       "26     481\n",
       "27     436\n",
       "28     104\n",
       "29     299\n",
       "      ... \n",
       "470    220\n",
       "471    208\n",
       "472    243\n",
       "473    139\n",
       "474    320\n",
       "475    383\n",
       "476    244\n",
       "477    480\n",
       "478    286\n",
       "479    431\n",
       "480    279\n",
       "481    198\n",
       "482    463\n",
       "483    381\n",
       "484    366\n",
       "485    255\n",
       "486    439\n",
       "487    401\n",
       "488    475\n",
       "489    257\n",
       "490    152\n",
       "491    235\n",
       "492    464\n",
       "493    253\n",
       "494    427\n",
       "495    231\n",
       "496    141\n",
       "497    186\n",
       "498    161\n",
       "499    413\n",
       "Length: 500, dtype: int16"
      ]
     },
     "execution_count": 109,
     "metadata": {},
     "output_type": "execute_result"
    }
   ],
   "source": [
    "date_sorter()"
   ]
  },
  {
   "cell_type": "code",
   "execution_count": 122,
   "metadata": {},
   "outputs": [
    {
     "data": {
      "text/plain": [
       "573"
      ]
     },
     "execution_count": 122,
     "metadata": {},
     "output_type": "execute_result"
    }
   ],
   "source": [
    "aa = open(\"dates_ordenado.txt\", 'w', encoding='utf-8')\n",
    "aa.write(str(answer))"
   ]
  },
  {
   "cell_type": "code",
   "execution_count": null,
   "metadata": {},
   "outputs": [],
   "source": []
  }
 ],
 "metadata": {
  "kernelspec": {
   "display_name": "Python 3",
   "language": "python",
   "name": "python3"
  },
  "language_info": {
   "codemirror_mode": {
    "name": "ipython",
    "version": 3
   },
   "file_extension": ".py",
   "mimetype": "text/x-python",
   "name": "python",
   "nbconvert_exporter": "python",
   "pygments_lexer": "ipython3",
   "version": "3.7.2"
  }
 },
 "nbformat": 4,
 "nbformat_minor": 2
}
