{
 "cells": [
  {
   "cell_type": "markdown",
   "metadata": {},
   "source": [
    "# MINERÍA DE TEXTOS\n",
    "\n",
    "## Alumna: Jessica Sarahi Méndez Rincón\n",
    "\n",
    "\n",
    "###  Tarea 4\n",
    "### Clase 3 Tarea 2"
   ]
  },
  {
   "cell_type": "markdown",
   "metadata": {},
   "source": [
    "# NLTK"
   ]
  },
  {
   "cell_type": "markdown",
   "metadata": {},
   "source": [
    "## Recomendación Ortográfica"
   ]
  },
  {
   "cell_type": "markdown",
   "metadata": {},
   "source": [
    "Crear tres recomendadores de ortografía diferentes, que cada uno tome\n",
    "una lista de palabras mal escritas y recomiende una palabra correctamente\n",
    "deletreada para cada palabra de la lista.\n",
    "\n",
    "• Para cada palabra mal escrita, el recomendador debe encontrar la palabra\n",
    "en palabras_correctas que tiene la distancia más corta, y comienza\n",
    "con la misma letra que la palabra mal escrita, y devolver esa palabra como\n",
    "una recomendación.\n",
    "\n",
    "• Cada uno de los tres recomendadores diferentes utilizará una medida de\n",
    "distancia diferente.\n",
    "\n",
    "• Cada uno de los recomendadores debería proporcionar recomendaciones\n",
    "para las tres palabras predeterminadas proporcionadas:\n",
    "\n",
    "['cormulent', 'incendenece', 'validrate']."
   ]
  },
  {
   "cell_type": "code",
   "execution_count": 4,
   "metadata": {},
   "outputs": [
    {
     "name": "stderr",
     "output_type": "stream",
     "text": [
      "[nltk_data] Downloading package words to\n",
      "[nltk_data]     C:\\Users\\Jess\\AppData\\Roaming\\nltk_data...\n",
      "[nltk_data]   Unzipping corpora\\words.zip.\n"
     ]
    },
    {
     "data": {
      "text/plain": [
       "True"
      ]
     },
     "execution_count": 4,
     "metadata": {},
     "output_type": "execute_result"
    }
   ],
   "source": [
    "import nltk\n",
    "nltk.download('words')"
   ]
  },
  {
   "cell_type": "code",
   "execution_count": 5,
   "metadata": {},
   "outputs": [],
   "source": [
    "from nltk.probability import FreqDist\n",
    "from nltk.stem import WordNetLemmatizer\n",
    "from nltk.tokenize import sent_tokenize\n",
    "import matplotlib\n",
    "import matplotlib.pyplot as pyplot\n",
    "import nltk\n",
    "import nltk.data\n",
    "import numba\n",
    "import numpy\n",
    "import pandas\n",
    "import seaborn"
   ]
  },
  {
   "cell_type": "code",
   "execution_count": 6,
   "metadata": {},
   "outputs": [],
   "source": [
    "from nltk.corpus import words\n",
    "Palabras_correctas = words.words()"
   ]
  },
  {
   "cell_type": "code",
   "execution_count": 7,
   "metadata": {},
   "outputs": [],
   "source": [
    "from nltk.corpus import words\n",
    "from nltk.metrics.distance import (\n",
    "    edit_distance,\n",
    "    jaccard_distance,\n",
    "    )\n",
    "from nltk.util import ngrams"
   ]
  },
  {
   "cell_type": "code",
   "execution_count": 8,
   "metadata": {},
   "outputs": [],
   "source": [
    "correct_spellings = words.words()\n",
    "spellings_series = pandas.Series(correct_spellings)"
   ]
  },
  {
   "cell_type": "markdown",
   "metadata": {},
   "source": [
    "# Recomendador 1\n",
    "\n",
    "• El primer recomendador debe proporcionar recomendaciones para\n",
    "las tres palabras predeterminadas proporcionadas anteriormente\n",
    "usando la siguiente métrica de distancia:\n",
    "    \n",
    "• Distancia de Jaccard en los trigramas de las dos palabras:\n",
    "    \n",
    "• https://en.wikipedia.org/wiki/Jaccard_index\n",
    "    \n",
    "• Esta función debe devolver una lista de longitud tres:\n",
    "    \n",
    "['recomendacion_cormulent’,\n",
    "'recomendacion_incendenece', 'recomendacion_validrate']"
   ]
  },
  {
   "cell_type": "code",
   "execution_count": 17,
   "metadata": {},
   "outputs": [],
   "source": [
    "def jaccard(entries, gram_number):\n",
    "    \"\"\"\"Consigue palabras cercanas a las palabras de entrada\n",
    "\n",
    "     Argumentos:\n",
    "     entries (list[str]): Palabras a encontrar\n",
    "     gram_number: número de  n-grams a usar\n",
    "\n",
    "    Retorna:\n",
    "     list[str]: Palabras cercanas a la entrada\n",
    "    \"\"\"\n",
    "    outcomes = []\n",
    "    for entry in entries:\n",
    "        spellings = spellings_series[spellings_series.str.startswith(entry[0])]\n",
    "        distances = ((jaccard_distance(set(ngrams(entry, gram_number)),\n",
    "                                       set(ngrams(word, gram_number))), word)\n",
    "                     for word in spellings)\n",
    "        closest = min(distances)\n",
    "        outcomes.append(closest[1])\n",
    "    return outcomes"
   ]
  },
  {
   "cell_type": "code",
   "execution_count": 18,
   "metadata": {},
   "outputs": [
    {
     "name": "stdout",
     "output_type": "stream",
     "text": [
      "['corpulent', 'indecence', 'validate']\n"
     ]
    }
   ],
   "source": [
    "def recomendador1(entries=['cormulent', 'incendenece', 'validrate']):\n",
    "    \"\"\"Encuentra palabras cercanas basadas en la distancia de Jaccard  \"\"\"\n",
    "    return jaccard(entries, 3)\n",
    "\n",
    "print(answer_nine())"
   ]
  },
  {
   "cell_type": "markdown",
   "metadata": {},
   "source": [
    "# Recomendador 2\n",
    "\n",
    "Para este recomendador, su función debe proporcionar recomendaciones\n",
    "para las tres palabras predeterminadas proporcionadas anteriormente\n",
    "usando la siguiente métrica de distancia:\n",
    "\n",
    "• Distancia de Jaccard en los 4 gramas de las dos palabras:\n",
    "\n",
    "• https://en.wikipedia.org/wiki/Jaccard_index\n",
    "\n",
    "• Esta función debe devolver una lista de longitud tres:\n",
    "\n",
    "['recomendacion_cormulent', 'recomendacion_incendenece',\n",
    "'recomendacion_validrate']"
   ]
  },
  {
   "cell_type": "code",
   "execution_count": 15,
   "metadata": {},
   "outputs": [
    {
     "name": "stdout",
     "output_type": "stream",
     "text": [
      "['cormus', 'incendiary', 'valid']\n"
     ]
    }
   ],
   "source": [
    "def recomendador2(entries=['cormulent', 'incendenece', 'validrate']):\n",
    "    \"\"\"Consigue palabras cercanas basadas usando jaccard-distance con 4-grams\n",
    "\n",
    "    Argumentos:\n",
    "     Entradas (list[str]): Palabras a encontrar\n",
    "\n",
    "    Retorna:\n",
    "     list[str]: Palabras cercanas a la entrada\n",
    "    \"\"\"\n",
    "    return jaccard(entries, 4)\n",
    "\n",
    "print(recomendador2())"
   ]
  },
  {
   "cell_type": "markdown",
   "metadata": {},
   "source": [
    "# Recomendador 3\n",
    "\n",
    "Para este recomendador, su función debe proporcionar recomendaciones\n",
    "para las tres palabras predeterminadas proporcionadas anteriormente\n",
    "usando la siguiente métrica de distancia:\n",
    "\n",
    "• Distancia de edicion en las dos palabras con transposiciones:\n",
    "\n",
    "• https://en.wikipedia.org/wiki/Damerau%E2%80%93Levenshtein_distance\n",
    "\n",
    "• Esta función debe devolver una lista de longitud tres:\n",
    "\n",
    "['recomendacion_cormulent', 'recomendacion_incendenece',\n",
    "'recomendacion_validrate']."
   ]
  },
  {
   "cell_type": "code",
   "execution_count": 13,
   "metadata": {},
   "outputs": [
    {
     "name": "stdout",
     "output_type": "stream",
     "text": [
      "['corpulent', 'intendence', 'validate']\n"
     ]
    }
   ],
   "source": [
    "def recomendador3(entries=['cormulent', 'incendenece', 'validrate']):\n",
    "    \"\"\"Consigue palabras cercanas basadas en la Distancia de  Levenshtein \n",
    "\n",
    "    Argumentos:\n",
    "     Entradas (list[str]): Palabras a encontrar\n",
    "\n",
    "    Retorna:\n",
    "     list[str]: Palabras cercanas a la entrada\n",
    "    \"\"\"\n",
    "    outcomes = []\n",
    "    for entry in entries:\n",
    "        distances = ((edit_distance(entry,\n",
    "                                    word), word)\n",
    "                     for word in correct_spellings)\n",
    "        closest = min(distances)\n",
    "        outcomes.append(closest[1])\n",
    "    return outcomes\n",
    "\n",
    "print(recomendador3())"
   ]
  }
 ],
 "metadata": {
  "kernelspec": {
   "display_name": "Python 3",
   "language": "python",
   "name": "python3"
  },
  "language_info": {
   "codemirror_mode": {
    "name": "ipython",
    "version": 3
   },
   "file_extension": ".py",
   "mimetype": "text/x-python",
   "name": "python",
   "nbconvert_exporter": "python",
   "pygments_lexer": "ipython3",
   "version": "3.7.2"
  }
 },
 "nbformat": 4,
 "nbformat_minor": 2
}
