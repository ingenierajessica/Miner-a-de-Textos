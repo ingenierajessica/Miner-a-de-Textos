{
 "cells": [
  {
   "cell_type": "markdown",
   "metadata": {},
   "source": [
    "# MINERÍA DE TEXTOS\n",
    "\n",
    "## Alumna: Jessica Sarahi Méndez Rincón\n",
    "\n",
    "\n",
    "###  Tarea 6\n",
    "### Clase 5 Tarea 1"
   ]
  },
  {
   "cell_type": "markdown",
   "metadata": {},
   "source": [
    "# NLTK"
   ]
  },
  {
   "cell_type": "markdown",
   "metadata": {},
   "source": [
    "## Artículo de Upendra Sapkota and Steven Bethard and Manuel Montes-y-Gómez \n",
    "# Not All Character N-grams Are Created Equal: A Study in Authorship Attribution\n",
    " ### No todos los N-gramas de caracteres son iguales: un estudio en Atribución de Autoría (AA)"
   ]
  },
  {
   "cell_type": "code",
   "execution_count": 1,
   "metadata": {},
   "outputs": [],
   "source": [
    "import pandas as pd\n",
    "import numpy as np\n",
    "from nltk.tokenize import word_tokenize\n",
    "from nltk import pos_tag\n",
    "from nltk.corpus import stopwords\n",
    "from nltk.stem import WordNetLemmatizer\n",
    "from sklearn.preprocessing import LabelEncoder\n",
    "from collections import defaultdict\n",
    "from nltk.corpus import wordnet as wn\n",
    "from sklearn.feature_extraction.text import TfidfVectorizer\n",
    "from sklearn import model_selection, naive_bayes, svm\n",
    "from sklearn.metrics import accuracy_score"
   ]
  },
  {
   "cell_type": "code",
   "execution_count": 2,
   "metadata": {},
   "outputs": [],
   "source": [
    "np.random.seed(500)"
   ]
  },
  {
   "cell_type": "markdown",
   "metadata": {},
   "source": [
    "### Con referencia al artículo..."
   ]
  },
  {
   "cell_type": "markdown",
   "metadata": {},
   "source": [
    "Los n-gramas de caracteres son los más exitosos.\n",
    "Característica en la atribución de autoría (Koppel et al., 2009; Frantzeskou et al., 2007; Koppel et al., 2011), pero el\n",
    "La razón de su éxito no se entiende bien. Uno La hipótesis es que los n-gramos de caracteres llevan un poco de todo: contenido léxico, contenido sintáctico y\n",
    "estilo uniforme mediante puntuación y espacios en blanco.\n",
    "\n",
    "\n",
    "Comprensión de principios de los ngrams de caracteres que informará su uso como características para AA y otras tareas; por otro lado queremos hacer\n",
    "Los enfoques de Atribución de Autoría (AA) son más accesibles para los no expertos."
   ]
  },
  {
   "cell_type": "markdown",
   "metadata": {},
   "source": [
    "En el artículo indican 3 tipos diferentes:\n",
    "\n",
    "\n",
    "    1.- Morfo-sintaxis (como se representa por n-gramas tipo afijo)     \n",
    "    \n",
    "    2.- Contenido temático (como se representa por n-gramos como palabras)     \n",
    "    \n",
    "    3.- Estilo (como se representa por n-gramas basados en puntuación)  \n",
    "    \n",
    "\n",
    "\n",
    "En el artículo usaron los DataSet de CCAT 10 y CCAT 50 pertenecen a la categoría CCAT (sobre noticias corporativas / industriales) y están equilibradas\n",
    "entre autores, con 100 documentos muestra para cada autor. Inspección manual del conjunto de datos revelado que algunos de los autores en esta colección constantemente\n",
    "firmas usadas al final de los documentos. También,notamos que algunos escritores usan muchas citas.\n",
    "\n",
    "\n",
    "Capacitamos a los clasificadores de máquinas de vectores de soporte (SVM) utilizando la implementación de Weka.\n",
    "\n",
    "Algunos experimentos comparativos con la implementación de Weka de  clasificadores ingenuos de Bayes y el Lib- Implementación SVM de SVM."
   ]
  },
  {
   "cell_type": "markdown",
   "metadata": {},
   "source": [
    "De acuerdo a lo anterior puedo pensar que uno de los objetivos a la par es usar los algoritmos de analisis para clasificar correctamente a los textos para identificar a que autor corresponden."
   ]
  },
  {
   "cell_type": "markdown",
   "metadata": {},
   "source": [
    "### Aplicación y Desarrrollo."
   ]
  },
  {
   "cell_type": "markdown",
   "metadata": {},
   "source": [
    "Para ello desarrollaré en base a un dataset sencillo que me permita realizar la implementación, el desarrollo y la implementación de los Algoritmos de Naive Bayes y de SVM."
   ]
  },
  {
   "cell_type": "markdown",
   "metadata": {},
   "source": [
    "Con respecto al dataset es un ejemplo de texto etiquetado, debido a que no conseguí los Dataset que indican en el artículo."
   ]
  },
  {
   "cell_type": "markdown",
   "metadata": {},
   "source": [
    "###### Agregar los datos usando pandas"
   ]
  },
  {
   "cell_type": "code",
   "execution_count": 16,
   "metadata": {},
   "outputs": [],
   "source": [
    "# Agregar los datos usando pandas\n",
    "Corpus = pd.read_csv('corpus.csv', sep='\\t', header=None,names=['target', 'text' ])"
   ]
  },
  {
   "cell_type": "code",
   "execution_count": 17,
   "metadata": {},
   "outputs": [
    {
     "data": {
      "text/html": [
       "<div>\n",
       "<style scoped>\n",
       "    .dataframe tbody tr th:only-of-type {\n",
       "        vertical-align: middle;\n",
       "    }\n",
       "\n",
       "    .dataframe tbody tr th {\n",
       "        vertical-align: top;\n",
       "    }\n",
       "\n",
       "    .dataframe thead th {\n",
       "        text-align: right;\n",
       "    }\n",
       "</style>\n",
       "<table border=\"1\" class=\"dataframe\">\n",
       "  <thead>\n",
       "    <tr style=\"text-align: right;\">\n",
       "      <th></th>\n",
       "      <th>target</th>\n",
       "      <th>text</th>\n",
       "    </tr>\n",
       "  </thead>\n",
       "  <tbody>\n",
       "    <tr>\n",
       "      <th>0</th>\n",
       "      <td>__label__2</td>\n",
       "      <td>Stuning even for the non-gamer: This sound tra...</td>\n",
       "    </tr>\n",
       "    <tr>\n",
       "      <th>1</th>\n",
       "      <td>__label__2</td>\n",
       "      <td>The best soundtrack ever to anything.: I'm rea...</td>\n",
       "    </tr>\n",
       "    <tr>\n",
       "      <th>2</th>\n",
       "      <td>__label__2</td>\n",
       "      <td>Amazing!: This soundtrack is my favorite music...</td>\n",
       "    </tr>\n",
       "    <tr>\n",
       "      <th>3</th>\n",
       "      <td>__label__2</td>\n",
       "      <td>Excellent Soundtrack: I truly like this soundt...</td>\n",
       "    </tr>\n",
       "    <tr>\n",
       "      <th>4</th>\n",
       "      <td>__label__2</td>\n",
       "      <td>Remember, Pull Your Jaw Off The Floor After He...</td>\n",
       "    </tr>\n",
       "    <tr>\n",
       "      <th>...</th>\n",
       "      <td>...</td>\n",
       "      <td>...</td>\n",
       "    </tr>\n",
       "    <tr>\n",
       "      <th>95</th>\n",
       "      <td>__label__1</td>\n",
       "      <td>Very Not Worth Your Time: The book was wriiten...</td>\n",
       "    </tr>\n",
       "    <tr>\n",
       "      <th>96</th>\n",
       "      <td>__label__2</td>\n",
       "      <td>Very fun and educational: Trains, shapes and p...</td>\n",
       "    </tr>\n",
       "    <tr>\n",
       "      <th>97</th>\n",
       "      <td>__label__1</td>\n",
       "      <td>Ludicrous and silly: I remember getting this b...</td>\n",
       "    </tr>\n",
       "    <tr>\n",
       "      <th>98</th>\n",
       "      <td>__label__2</td>\n",
       "      <td>Artistry: I think that the Deodato concerts ar...</td>\n",
       "    </tr>\n",
       "    <tr>\n",
       "      <th>99</th>\n",
       "      <td>__label__1</td>\n",
       "      <td>Caution!: These tracks are not the \"\"original\"...</td>\n",
       "    </tr>\n",
       "  </tbody>\n",
       "</table>\n",
       "<p>100 rows × 2 columns</p>\n",
       "</div>"
      ],
      "text/plain": [
       "         target                                               text\n",
       "0   __label__2   Stuning even for the non-gamer: This sound tra...\n",
       "1   __label__2   The best soundtrack ever to anything.: I'm rea...\n",
       "2   __label__2   Amazing!: This soundtrack is my favorite music...\n",
       "3   __label__2   Excellent Soundtrack: I truly like this soundt...\n",
       "4   __label__2   Remember, Pull Your Jaw Off The Floor After He...\n",
       "..          ...                                                ...\n",
       "95  __label__1   Very Not Worth Your Time: The book was wriiten...\n",
       "96  __label__2   Very fun and educational: Trains, shapes and p...\n",
       "97  __label__1   Ludicrous and silly: I remember getting this b...\n",
       "98  __label__2   Artistry: I think that the Deodato concerts ar...\n",
       "99  __label__1   Caution!: These tracks are not the \"\"original\"...\n",
       "\n",
       "[100 rows x 2 columns]"
      ]
     },
     "execution_count": 17,
     "metadata": {},
     "output_type": "execute_result"
    }
   ],
   "source": [
    "Corpus.head(100)"
   ]
  },
  {
   "cell_type": "code",
   "execution_count": 18,
   "metadata": {},
   "outputs": [
    {
     "name": "stderr",
     "output_type": "stream",
     "text": [
      "[nltk_data] Downloading package stopwords to\n",
      "[nltk_data]     C:\\Users\\Jess\\AppData\\Roaming\\nltk_data...\n",
      "[nltk_data]   Package stopwords is already up-to-date!\n"
     ]
    },
    {
     "data": {
      "text/plain": [
       "True"
      ]
     },
     "execution_count": 18,
     "metadata": {},
     "output_type": "execute_result"
    }
   ],
   "source": [
    "import nltk\n",
    "nltk.download('stopwords')"
   ]
  },
  {
   "cell_type": "markdown",
   "metadata": {},
   "source": [
    "###### Paso - 1: Preprocesamiento de datos: esto ayudará a obtener mejores resultados a través de los algoritmos de clasificación\n",
    " "
   ]
  },
  {
   "cell_type": "code",
   "execution_count": 19,
   "metadata": {},
   "outputs": [
    {
     "data": {
      "text/html": [
       "<div>\n",
       "<style scoped>\n",
       "    .dataframe tbody tr th:only-of-type {\n",
       "        vertical-align: middle;\n",
       "    }\n",
       "\n",
       "    .dataframe tbody tr th {\n",
       "        vertical-align: top;\n",
       "    }\n",
       "\n",
       "    .dataframe thead th {\n",
       "        text-align: right;\n",
       "    }\n",
       "</style>\n",
       "<table border=\"1\" class=\"dataframe\">\n",
       "  <thead>\n",
       "    <tr style=\"text-align: right;\">\n",
       "      <th></th>\n",
       "      <th>target</th>\n",
       "      <th>text</th>\n",
       "    </tr>\n",
       "  </thead>\n",
       "  <tbody>\n",
       "    <tr>\n",
       "      <th>0</th>\n",
       "      <td>__label__2</td>\n",
       "      <td>stuning even for the non-gamer: this sound tra...</td>\n",
       "    </tr>\n",
       "    <tr>\n",
       "      <th>1</th>\n",
       "      <td>__label__2</td>\n",
       "      <td>the best soundtrack ever to anything.: i'm rea...</td>\n",
       "    </tr>\n",
       "    <tr>\n",
       "      <th>2</th>\n",
       "      <td>__label__2</td>\n",
       "      <td>amazing!: this soundtrack is my favorite music...</td>\n",
       "    </tr>\n",
       "    <tr>\n",
       "      <th>3</th>\n",
       "      <td>__label__2</td>\n",
       "      <td>excellent soundtrack: i truly like this soundt...</td>\n",
       "    </tr>\n",
       "    <tr>\n",
       "      <th>4</th>\n",
       "      <td>__label__2</td>\n",
       "      <td>remember, pull your jaw off the floor after he...</td>\n",
       "    </tr>\n",
       "  </tbody>\n",
       "</table>\n",
       "</div>"
      ],
      "text/plain": [
       "        target                                               text\n",
       "0  __label__2   stuning even for the non-gamer: this sound tra...\n",
       "1  __label__2   the best soundtrack ever to anything.: i'm rea...\n",
       "2  __label__2   amazing!: this soundtrack is my favorite music...\n",
       "3  __label__2   excellent soundtrack: i truly like this soundt...\n",
       "4  __label__2   remember, pull your jaw off the floor after he..."
      ]
     },
     "execution_count": 19,
     "metadata": {},
     "output_type": "execute_result"
    }
   ],
   "source": [
    "# Paso - 1a: elimine las filas en blanco si las hay.\n",
    "Corpus['text'].dropna(inplace=True)\n",
    "# Paso - 1b: Cambia todo el texto a minúsculas. Esto es necesario ya que Python interpreta 'perro' y 'PERRO' de manera diferente\n",
    "Corpus['text'] = [entry.lower() for entry in Corpus['text']]\n",
    "#Corpus['text'] = Corpus.apply(lambda x: x.astype(str).str.lower())\n",
    "#data = [line.strip() for line in open(\"C:\\corpus\\TermList.txt\", 'r')]\n",
    "#texts = [[word.lower() for word in text.split()] for text in data]\n",
    "\n",
    "Corpus.head(5)\n"
   ]
  },
  {
   "cell_type": "code",
   "execution_count": 20,
   "metadata": {},
   "outputs": [
    {
     "name": "stdout",
     "output_type": "stream",
     "text": [
      "['beautiful', 'pen', 'fast', 'delivery', 'pen', 'ship', 'promptly', 'classic', 'montblanc', 'pen', 'everyone', 'rave', 'black', 'color', 'golden', 'trim', 'hold', 'thankful', 'parent', 'gift', 'graduation', 'present', 'someday', 'plan', 'buy', 'pen', 'vendor', 'amazon', 'amaze', 'long', 'time', 'shopper', 'amazon', 'mostly', 'pen', 'electronics', 'however', 'pen', 'gift', 'mom', 'nothing', 'good', 'thing', 'say', 'part', 'love']\n"
     ]
    }
   ],
   "source": [
    "\n",
    "# Paso - 1c: Tokenización: en este cada entrada en el corpus se dividirá en un conjunto de palabras\n",
    "Corpus['text']= [word_tokenize(entry) for entry in Corpus['text']]\n",
    "\n",
    "# Paso - 1d: Eliminar palabras de detención, no numéricas y realizar el vástago / lemmenting de palabras.\n",
    "# WordNetLemmatizer requiere etiquetas Pos para comprender si la palabra es sustantivo o verbo o adjetivo, etc. \n",
    "# De manera predeterminada, está configurada como Noun\n",
    "tag_map = defaultdict(lambda : wn.NOUN)\n",
    "tag_map['J'] = wn.ADJ\n",
    "tag_map['V'] = wn.VERB\n",
    "tag_map['R'] = wn.ADV\n",
    "for index,entry in enumerate(Corpus['text']):\n",
    "     # Declarar la lista vacía para almacenar las palabras que siguen las reglas de este paso\n",
    "    Final_words = []\n",
    "    # Inicializando WordNetLemmatizer ()\n",
    "    word_Lemmatized = WordNetLemmatizer()\n",
    "    # La función pos_tag a continuación proporcionará la 'etiqueta', es decir, si la palabra es Sustantivo (N) o Verbo (V) u otra cosa.\n",
    "    for word, tag in pos_tag(entry):\n",
    "        # La siguiente condición es verificar las palabras Stop y considerar solo alfabetos\n",
    "        if word not in stopwords.words('english') and word.isalpha():\n",
    "            word_Final = word_Lemmatized.lemmatize(word,tag_map[tag[0]])\n",
    "            Final_words.append(word_Final)\n",
    "    # El conjunto final procesado de palabras para cada iteración se almacenará en 'text_final'\n",
    "    Corpus.loc[index,'text_final'] = str(Final_words)\n",
    "print(Corpus.loc[index,'text_final'])"
   ]
  },
  {
   "cell_type": "code",
   "execution_count": 21,
   "metadata": {},
   "outputs": [
    {
     "data": {
      "text/html": [
       "<div>\n",
       "<style scoped>\n",
       "    .dataframe tbody tr th:only-of-type {\n",
       "        vertical-align: middle;\n",
       "    }\n",
       "\n",
       "    .dataframe tbody tr th {\n",
       "        vertical-align: top;\n",
       "    }\n",
       "\n",
       "    .dataframe thead th {\n",
       "        text-align: right;\n",
       "    }\n",
       "</style>\n",
       "<table border=\"1\" class=\"dataframe\">\n",
       "  <thead>\n",
       "    <tr style=\"text-align: right;\">\n",
       "      <th></th>\n",
       "      <th>target</th>\n",
       "      <th>text</th>\n",
       "      <th>text_final</th>\n",
       "    </tr>\n",
       "  </thead>\n",
       "  <tbody>\n",
       "    <tr>\n",
       "      <th>0</th>\n",
       "      <td>__label__2</td>\n",
       "      <td>[stuning, even, for, the, non-gamer, :, this, ...</td>\n",
       "      <td>['stun', 'even', 'sound', 'track', 'beautiful'...</td>\n",
       "    </tr>\n",
       "    <tr>\n",
       "      <th>1</th>\n",
       "      <td>__label__2</td>\n",
       "      <td>[the, best, soundtrack, ever, to, anything, .,...</td>\n",
       "      <td>['best', 'soundtrack', 'ever', 'anything', 're...</td>\n",
       "    </tr>\n",
       "    <tr>\n",
       "      <th>2</th>\n",
       "      <td>__label__2</td>\n",
       "      <td>[amazing, !, :, this, soundtrack, is, my, favo...</td>\n",
       "      <td>['amaze', 'soundtrack', 'favorite', 'music', '...</td>\n",
       "    </tr>\n",
       "    <tr>\n",
       "      <th>3</th>\n",
       "      <td>__label__2</td>\n",
       "      <td>[excellent, soundtrack, :, i, truly, like, thi...</td>\n",
       "      <td>['excellent', 'soundtrack', 'truly', 'like', '...</td>\n",
       "    </tr>\n",
       "    <tr>\n",
       "      <th>4</th>\n",
       "      <td>__label__2</td>\n",
       "      <td>[remember, ,, pull, your, jaw, off, the, floor...</td>\n",
       "      <td>['remember', 'pull', 'jaw', 'floor', 'hear', '...</td>\n",
       "    </tr>\n",
       "  </tbody>\n",
       "</table>\n",
       "</div>"
      ],
      "text/plain": [
       "        target                                               text  \\\n",
       "0  __label__2   [stuning, even, for, the, non-gamer, :, this, ...   \n",
       "1  __label__2   [the, best, soundtrack, ever, to, anything, .,...   \n",
       "2  __label__2   [amazing, !, :, this, soundtrack, is, my, favo...   \n",
       "3  __label__2   [excellent, soundtrack, :, i, truly, like, thi...   \n",
       "4  __label__2   [remember, ,, pull, your, jaw, off, the, floor...   \n",
       "\n",
       "                                          text_final  \n",
       "0  ['stun', 'even', 'sound', 'track', 'beautiful'...  \n",
       "1  ['best', 'soundtrack', 'ever', 'anything', 're...  \n",
       "2  ['amaze', 'soundtrack', 'favorite', 'music', '...  \n",
       "3  ['excellent', 'soundtrack', 'truly', 'like', '...  \n",
       "4  ['remember', 'pull', 'jaw', 'floor', 'hear', '...  "
      ]
     },
     "execution_count": 21,
     "metadata": {},
     "output_type": "execute_result"
    }
   ],
   "source": [
    "Corpus.head(5)"
   ]
  },
  {
   "cell_type": "markdown",
   "metadata": {},
   "source": [
    "###### Paso - 2: dividir el modelo en el conjunto de datos de entrenamiento y prueba"
   ]
  },
  {
   "cell_type": "code",
   "execution_count": 22,
   "metadata": {},
   "outputs": [],
   "source": [
    "Train_X, Test_X, Train_Y, Test_Y = model_selection.train_test_split(Corpus['text_final'],Corpus['target'],test_size=0.3)"
   ]
  },
  {
   "cell_type": "markdown",
   "metadata": {},
   "source": [
    "###### Paso - 3: la etiqueta codifica la variable objetivo - Esto se hace para transformar los datos categóricos del tipo de cadena en el conjunto de datos en valores numéricos"
   ]
  },
  {
   "cell_type": "code",
   "execution_count": 23,
   "metadata": {},
   "outputs": [],
   "source": [
    "Encoder = LabelEncoder()\n",
    "Train_Y = Encoder.fit_transform(Train_Y)\n",
    "Test_Y = Encoder.fit_transform(Test_Y)"
   ]
  },
  {
   "cell_type": "code",
   "execution_count": 24,
   "metadata": {},
   "outputs": [
    {
     "data": {
      "text/plain": [
       "<bound method NDFrame.head of            target                                               text  \\\n",
       "0     __label__2   [stuning, even, for, the, non-gamer, :, this, ...   \n",
       "1     __label__2   [the, best, soundtrack, ever, to, anything, .,...   \n",
       "2     __label__2   [amazing, !, :, this, soundtrack, is, my, favo...   \n",
       "3     __label__2   [excellent, soundtrack, :, i, truly, like, thi...   \n",
       "4     __label__2   [remember, ,, pull, your, jaw, off, the, floor...   \n",
       "...           ...                                                ...   \n",
       "9989  __label__2   [a, revelation, of, life, in, small, town, ame...   \n",
       "9990  __label__2   [great, biography, of, a, very, interesting, j...   \n",
       "9991  __label__1   [interesting, subject, ;, poor, presentation, ...   \n",
       "9992  __label__1   [do, n't, buy, :, the, box, looked, used, and,...   \n",
       "9993  __label__2   [beautiful, pen, and, fast, delivery, ., :, th...   \n",
       "\n",
       "                                             text_final  \n",
       "0     ['stun', 'even', 'sound', 'track', 'beautiful'...  \n",
       "1     ['best', 'soundtrack', 'ever', 'anything', 're...  \n",
       "2     ['amaze', 'soundtrack', 'favorite', 'music', '...  \n",
       "3     ['excellent', 'soundtrack', 'truly', 'like', '...  \n",
       "4     ['remember', 'pull', 'jaw', 'floor', 'hear', '...  \n",
       "...                                                 ...  \n",
       "9989  ['revelation', 'life', 'small', 'town', 'ameri...  \n",
       "9990  ['great', 'biography', 'interesting', 'journal...  \n",
       "9991  ['interest', 'subject', 'poor', 'presentation'...  \n",
       "9992  ['buy', 'box', 'look', 'use', 'obviously', 'ne...  \n",
       "9993  ['beautiful', 'pen', 'fast', 'delivery', 'pen'...  \n",
       "\n",
       "[9994 rows x 3 columns]>"
      ]
     },
     "execution_count": 24,
     "metadata": {},
     "output_type": "execute_result"
    }
   ],
   "source": [
    "Corpus.head\n"
   ]
  },
  {
   "cell_type": "markdown",
   "metadata": {},
   "source": [
    "###### Paso - 4: Vectoriza las palabras usando TF-IDF Vectorizer - Esto se hace para encontrar la importancia de una palabra en el documento en comparación para el corpus"
   ]
  },
  {
   "cell_type": "code",
   "execution_count": 25,
   "metadata": {},
   "outputs": [],
   "source": [
    "Tfidf_vect = TfidfVectorizer(max_features=5000)\n",
    "Tfidf_vect.fit(Corpus['text_final'])\n",
    "Train_X_Tfidf = Tfidf_vect.transform(Train_X)\n",
    "Test_X_Tfidf = Tfidf_vect.transform(Test_X)"
   ]
  },
  {
   "cell_type": "code",
   "execution_count": 26,
   "metadata": {},
   "outputs": [
    {
     "name": "stdout",
     "output_type": "stream",
     "text": [
      "{'stun': 4279, 'even': 1520, 'sound': 4131, 'track': 4556, 'beautiful': 380, 'paint': 3156, 'mind': 2831, 'well': 4867, 'would': 4952, 'recomend': 3599, 'people': 3225, 'hate': 2047, 'game': 1860, 'music': 2920, 'play': 3296, 'cross': 1023, 'ever': 1524, 'best': 420, 'back': 324, 'away': 314, 'crude': 1026, 'take': 4370, 'fresh': 1818, 'step': 4219, 'guitar': 2001, 'soulful': 4128, 'orchestra': 3092, 'impress': 2238, 'anyone': 201, 'care': 638, 'listen': 2607, 'soundtrack': 4133, 'anything': 202, 'read': 3565, 'lot': 2650, 'review': 3723, 'say': 3844, 'figure': 1692, 'write': 4957, 'disagree': 1224, 'bit': 442, 'ultimate': 4633, 'masterpiece': 2746, 'timeless': 4501, 'year': 4976, 'beauty': 382, 'simply': 4020, 'refuse': 3625, 'price': 3408, 'tag': 4369, 'pretty': 3403, 'must': 2926, 'go': 1931, 'buy': 593, 'cd': 670, 'much': 2910, 'money': 2869, 'one': 3071, 'feel': 1669, 'worth': 4948, 'every': 1526, 'amaze': 149, 'favorite': 1658, 'time': 4500, 'hand': 2019, 'intense': 2326, 'sadness': 3810, 'fate': 1653, 'mean': 2763, 'hope': 2146, 'distant': 1262, 'promise': 3449, 'girl': 1912, 'steal': 4213, 'star': 4203, 'important': 2235, 'inspiration': 2302, 'personally': 3244, 'throughout': 4482, 'teen': 4402, 'high': 2102, 'energy': 1455, 'like': 2584, 'trigger': 4592, 'absolutely': 7, 'superb': 4322, 'amazing': 150, 'probably': 3426, 'composer': 876, 'work': 4936, 'hear': 2064, 'ca': 597, 'sure': 4333, 'never': 2972, 'twice': 4620, 'wish': 4916, 'could': 971, 'give': 1914, 'excellent': 1552, 'truly': 4604, 'enjoy': 1465, 'video': 4769, 'disk': 1249, 'scar': 3849, 'life': 2574, 'death': 1091, 'ancient': 169, 'dragon': 1311, 'lose': 2646, 'drown': 1335, 'two': 4624, 'home': 2134, 'girlfriend': 1913, 'three': 4478, 'garden': 1871, 'god': 1933, 'sea': 3888, 'burn': 584, 'prayer': 3373, 'tower': 4551, 'radical': 3527, 'bring': 543, 'remember': 3659, 'pull': 3481, 'jaw': 2395, 'floor': 1746, 'know': 2478, 'single': 4028, 'song': 4112, 'tell': 4407, 'story': 4246, 'good': 1939, 'great': 1973, 'without': 4920, 'doubt': 1298, 'magical': 2687, 'wind': 4903, 'jewel': 2409, 'translation': 4571, 'perfect': 3231, 'ask': 260, 'pour': 3361, 'heart': 2067, 'absolute': 6, 'quite': 3515, 'actually': 46, 'least': 2544, 'heard': 2065, 'whether': 4878, 'aware': 313, 'contribute': 936, 'greatly': 1974, 'mood': 2881, 'minute': 2842, 'whole': 4885, 'exact': 1542, 'count': 973, 'remarkable': 3657, 'assure': 271, 'forget': 1778, 'everything': 1531, 'listener': 2609, 'dance': 1065, 'slow': 4066, 'haunting': 2050, 'purely': 3492, 'beautifully': 381, 'compose': 875, 'fantastic': 1640, 'vocal': 4798, 'surely': 4334, 'buyer': 594, 'beware': 423, 'book': 485, 'want': 4820, 'paragraph': 3173, 'family': 1635, 'friend': 1822, 'perhaps': 3237, 'imagine': 2223, 'thing': 4463, 'spend': 4162, 'evening': 1521, 'piece': 3267, 'another': 189, 'definitely': 1119, 'bad': 329, 'enough': 1471, 'enter': 1474, 'kind': 2462, 'contest': 928, 'believe': 400, 'amazon': 152, 'sell': 3914, 'maybe': 2757, 'offer': 3057, 'grade': 1955, 'term': 4424, 'paper': 3167, 'kill': 2459, 'anyway': 204, 'unless': 4679, 'send': 3916, 'someone': 4105, 'joke': 2423, 'far': 1642, 'glorious': 1923, 'love': 2655, 'wicked': 4888, 'saint': 3815, 'pleasantly': 3304, 'surprise': 4340, 'change': 696, 'romance': 3770, 'novel': 3022, 'world': 4942, 'rave': 3560, 'brilliant': 541, 'true': 4602, 'wonderful': 4929, 'typical': 4626, 'crime': 1011, 'becuase': 385, 'miss': 2850, 'warm': 4823, 'five': 1725, 'finish': 1707, 'fell': 1672, 'expect': 1576, 'average': 307, 'instead': 2313, 'find': 1703, 'think': 4464, 'predict': 3380, 'outcome': 3114, 'shock': 3982, 'descriptive': 1160, 'break': 525, 'julia': 2433, 'felt': 1675, 'reader': 3567, 'lover': 2659, 'let': 2563, 'cover': 984, 'fool': 1768, 'spectacular': 4157, 'easy': 1378, 'make': 2700, 'keep': 2449, 'reading': 3569, 'put': 3498, 'leave': 2546, 'follow': 1762, 'come': 829, 'soon': 4116, 'use': 4715, 'get': 1901, 'complete': 867, 'waste': 4838, 'error': 1500, 'poor': 3332, 'grammar': 1960, 'totally': 4541, 'pathetic': 3200, 'plot': 3309, 'add': 53, 'nothing': 3018, 'embarrass': 1431, 'author': 300, 'disappointed': 1228, 'pay': 3209, 'fast': 1649, 'boy': 511, 'twist': 4622, 'turn': 4613, 'guess': 1995, 'happen': 2025, 'next': 2980, 'fall': 1631, 'heat': 2069, 'also': 138, 'several': 3944, 'emotion': 1435, 'quick': 3509, 'something': 4106, 'end': 1450, 'day': 1083, 'yet': 4984, 'realistic': 3574, 'show': 3994, 'human': 2178, 'fact': 1616, 'writer': 4959, 'loving': 2660, 'side': 4002, 'glass': 1917, 'oh': 3063, 'please': 3305, 'others': 3109, 'drivel': 1332, 'trouble': 4600, 'typo': 4628, 'feature': 1662, 'first': 1717, 'page': 3152, 'remove': 3667, 'wait': 4811, 'point': 3319, 'beginning': 393, 'clear': 780, 'intentional': 2329, 'prose': 3463, 'purpose': 3495, 'glad': 1915, 'awful': 317, 'beyond': 424, 'belief': 398, 'seem': 3906, 'grader': 1956, 'grammatical': 1961, 'skill': 4046, 'age': 94, 'reviewer': 3724, 'per': 3227, 'chapter': 699, 'example': 1547, 'mention': 2796, 'lean': 2540, 'house': 2167, 'distract': 1265, 'writing': 4960, 'weak': 4849, 'decide': 1100, 'pencil': 3222, 'mark': 2726, 'horrible': 2152, 'relative': 3641, 'faith': 1628, 'try': 4607, 'fake': 1630, 'obvious': 3041, 'glow': 1926, 'person': 3241, 'sentence': 3924, 'structure': 4271, 'romantic': 3771, 'zen': 4994, 'baseball': 352, 'comedy': 831, 'folk': 1761, 'anymore': 200, 'might': 2819, 'talk': 4374, 'cool': 953, 'young': 4989, 'search': 3892, 'stumble': 4278, 'resort': 3700, 'kitchen': 2470, 'gig': 1909, 'motorcycle': 2897, 'maintenance': 2696, 'man': 2706, 'italian': 2375, 'right': 3744, 'team': 4393, 'owner': 3142, 'often': 3062, 'case': 653, 'honest': 2139, 'comical': 838, 'always': 146, 'emotional': 1436, 'interaction': 2331, 'player': 3299, 'mix': 2855, 'special': 4151, 'effect': 1399, 'salsa': 3818, 'big': 428, 'compression': 881, 'stocking': 4237, 'doctor': 1276, 'require': 3688, 'wear': 4853, 'ugly': 4631, 'white': 4882, 'hose': 2159, 'thick': 4459, 'brown': 553, 'jobst': 2416, 'need': 2959, 'look': 2640, 'regular': 3632, 'though': 4472, 'blood': 463, 'still': 4230, 'support': 4329, 'leg': 2550, 'nice': 2981, 'problem': 3428, 'top': 4531, 'roll': 3766, 'thigh': 4461, 'hat': 2046, 'skin': 4048, 'inexpensive': 2275, 'belt': 409, 'fine': 1705, 'help': 2082, 'product': 3434, 'however': 2171, 'difficult': 1206, 'old': 3067, 'full': 1837, 'workout': 4941, 'begin': 390, 'create': 1001, 'deep': 1107, 'difficulty': 1207, 'address': 59, 'size': 4040, 'recomended': 3600, 'chart': 708, 'real': 3571, 'small': 4068, 'sheer': 3967, 'item': 2377, 'store': 4243, 'check': 715, 'men': 2792, 'model': 2861, 'may': 2756, 'ok': 3065, 'type': 4625, 'active': 41, 'around': 238, 'alot': 133, 'job': 2415, 'consistently': 915, 'found': 1793, 'ankle': 181, 'solution': 4100, 'standard': 4200, 'stock': 4236, 'stay': 4212, 'pair': 3158, 'tear': 4394, 'struggle': 4272, 'investment': 2358, 'delicious': 1132, 'funny': 1846, 'quickly': 3510, 'package': 3147, 'notice': 3019, 'since': 4023, 'convenience': 942, 'wrap': 4955, 'plastic': 3292, 'log': 2629, 'messy': 2804, 'extremely': 1608, 'sticky': 4228, 'ratio': 3558, 'ingredient': 2285, 'extra': 1604, 'butter': 591, 'really': 3577, 'large': 2511, 'chocolate': 734, 'chip': 733, 'addition': 57, 'flavor': 1732, 'digital': 1209, 'copy': 955, 'rather': 3556, 'scratch': 3877, 'random': 3541, 'combine': 827, 'light': 2578, 'vague': 4730, 'image': 2219, 'resolution': 3697, 'packaging': 3148, 'straight': 4250, 'street': 4260, 'corner': 959, 'bootleg': 490, 'see': 3904, 'reasonably': 3582, 'condition': 894, 'film': 1696, 'define': 1116, 'visuals': 4792, 'crystal': 1030, 'contrast': 935, 'black': 446, 'surround': 4345, 'countryside': 977, 'scene': 3857, 'set': 3939, 'early': 1369, 'morning': 2888, 'ground': 1988, 'memory': 2791, 'event': 1522, 'bridge': 538, 'water': 4843, 'bright': 540, 'dull': 1351, 'dark': 1072, 'cloud': 800, 'captain': 629, 'command': 839, 'hard': 2031, 'award': 312, 'acclaim': 23, 'presentation': 3396, 'youtube': 4992, 'somewhere': 4110, 'dvd': 1359, 'public': 3476, 'library': 2570, 'none': 3006, 'appear': 215, 'fascinating': 1647, 'insight': 2297, 'modern': 2862, 'japanese': 2391, 'thoroughly': 4470, 'rise': 3748, 'son': 4111, 'daughter': 1079, 'society': 4090, 'view': 4770, 'parent': 3178, 'culture': 1035, 'community': 849, 'western': 4869, 'form': 1780, 'new': 2974, 'japan': 2390, 'international': 2338, 'blend': 456, 'demonstrate': 1143, 'private': 3423, 'member': 2788, 'steven': 4224, 'clearly': 781, 'talented': 4373, 'adopt': 68, 'school': 3864, 'four': 1795, 'thus': 4486, 'able': 3, 'inside': 2296, 'album': 117, 'thought': 4473, 'blue': 467, 'angel': 173, 'hair': 2012, 'singer': 4026, 'talent': 4372, 'charge': 703, 'charger': 704, 'aa': 0, 'battery': 365, 'huge': 2176, 'secure': 3901, 'flip': 1744, 'little': 2616, 'button': 592, 'positive': 3348, 'pop': 3334, 'wo': 4924, 'hold': 2124, 'mechanism': 2772, 'become': 384, 'loose': 2642, 'pressure': 3400, 'push': 3497, 'tape': 4380, 'segment': 3909, 'apply': 220, 'painful': 3154, 'advertised': 78, 'instruction': 2314, 'dont': 1292, 'do': 1274, 'hour': 2166, 'return': 3717, 'useless': 4718, 'backup': 328, 'manage': 2707, 'drain': 1312, 'purchase': 3490, 'convenient': 943, 'last': 2515, 'short': 3988, 'long': 2638, 'dear': 1090, 'excite': 1560, 'muslim': 2925, 'volume': 4802, 'live': 2617, 'essay': 1505, 'among': 158, 'describe': 1157, 'explain': 1587, 'woman': 4927, 'cape': 626, 'town': 4552, 'claim': 766, 'separate': 3926, 'equal': 1491, 'hop': 2145, 'feminist': 1678, 'gender': 1883, 'surprised': 4341, 'female': 1676, 'base': 351, 'christmas': 747, 'present': 3395, 'join': 2421, 'rest': 3707, 'vhs': 4759, 'movie': 2905, 'tv': 4618, 'choice': 735, 'agree': 98, 'awkward': 319, 'selection': 3912, 'option': 3090, 'hang': 2024, 'comment': 840, 'complicated': 872, 'many': 2718, 'remote': 3664, 'rely': 3652, 'heavily': 2073, 'manual': 2715, 'vcr': 4743, 'timer': 4503, 'start': 4206, 'scroll': 3885, 'complaint': 866, 'incorrect': 2256, 'disc': 1232, 'fan': 1637, 'saw': 3842, 'unit': 4673, 'section': 3900, 'happy': 2030, 'click': 785, 'receiver': 3590, 'transition': 4569, 'smooth': 4075, 'pause': 3208, 'fairly': 1626, 'message': 2803, 'nut': 3032, 'television': 4406, 'bookshelf': 487, 'audio': 291, 'system': 4365, 'car': 634, 'move': 2903, 'room': 3775, 'combo': 828, 'except': 1553, 'cable': 598, 'box': 508, 'control': 939, 'input': 2293, 'programming': 3445, 'mono': 2873, 'wife': 4894, 'difference': 1203, 'title': 4513, 'hollywood': 2130, 'ridiculous': 3741, 'wonder': 4928, 'script': 3883, 'mountain': 2900, 'lion': 2601, 'trailer': 4563, 'behind': 396, 'capture': 633, 'jail': 2385, 'cell': 675, 'utterly': 4727, 'completely': 868, 'bet': 421, 'hotel': 2164, 'incredible': 2258, 'act': 38, 'bbc': 370, 'soap': 4085, 'max': 2755, 'mariah': 2723, 'drama': 1313, 'series': 3932, 'opera': 3079, 'air': 104, 'america': 154, 'episode': 1489, 'season': 3893, 'finale': 1700, 'interesting': 2334, 'remind': 3660, 'reason': 3580, 'fictional': 1683, 'san': 3823, 'francisco': 1803, 'recommend': 3601, 'willing': 4900, 'watch': 4840, 'already': 136, 'law': 2526, 'seriously': 3934, 'unfortunately': 4665, 'entertain': 1475, 'order': 3093, 'hip': 2112, 'daddy': 1058, 'vibe': 4761, 'fourth': 1796, 'class': 771, 'main': 2692, 'playing': 3300, 'voice': 4800, 'party': 3187, 'anywhere': 206, 'neighborhood': 2965, 'laugh': 2521, 'beach': 373, 'grow': 1990, 'surfer': 4337, 'southern': 4137, 'california': 601, 'brother': 552, 'honestly': 2140, 'kinda': 2463, 'surf': 4335, 'hell': 2080, 'moral': 2885, 'aspect': 262, 'american': 155, 'explanation': 1588, 'simple': 4016, 'focus': 1759, 'individual': 2269, 'ignore': 2208, 'personal': 3242, 'responsibility': 3705, 'final': 1699, 'response': 3704, 'robert': 3757, 'seller': 3915, 'disgust': 1245, 'state': 4208, 'medium': 2778, 'politics': 3328, 'general': 1884, 'head': 2056, 'substantial': 4293, 'challenge': 692, 'lie': 2573, 'being': 397, 'larry': 2513, 'label': 2489, 'late': 2516, 'explore': 1591, 'rich': 3735, 'jazz': 2398, 'musician': 2922, 'stand': 4199, 'mile': 2824, 'mac': 2676, 'line': 2597, 'windows': 4905, 'frustrating': 1833, 'excited': 1561, 'attempt': 281, 'touch': 4542, 'mouse': 2901, 'arrow': 243, 'keyboard': 2456, 'fun': 1839, 'disapointed': 1225, 'attention': 283, 'level': 2565, 'rescue': 3691, 'hero': 2091, 'dog': 1281, 'former': 1783, 'repeatedly': 3675, 'recipe': 3596, 'throw': 4483, 'cup': 1037, 'nearly': 2954, 'compare': 856, 'ed': 1387, 'wood': 4932, 'flawlessly': 1735, 'lisa': 2605, 'wild': 4896, 'bread': 524, 'novice': 3024, 'place': 3284, 'reliable': 3647, 'concise': 891, 'information': 2282, 'maintain': 2695, 'fabulous': 1613, 'pass': 3189, 'historical': 2116, 'interest': 2332, 'warrant': 4830, 'cost': 966, 'alaska': 114, 'visit': 4788, 'starter': 4207, 'collection': 818, 'advise': 82, 'ruth': 3803, 'picture': 3266, 'past': 3194, 'ago': 97, 'mixer': 2857, 'stuff': 4277, 'pot': 3357, 'close': 793, 'download': 1303, 'decade': 1096, 'background': 326, 'russia': 3800, 'hunt': 2186, 'melody': 2786, 'english': 1462, 'lyric': 2673, 'else': 1424, 'via': 4760, 'happily': 2028, 'experience': 1581, 'fm': 1757, 'rattle': 3559, 'sometimes': 4108, 'quality': 3500, 'screen': 3879, 'thru': 4484, 'middle': 2817, 'plus': 3312, 'dead': 1086, 'layout': 2529, 'sense': 3919, 'engineering': 1460, 'imo': 2229, 'refund': 3624, 'name': 2935, 'hesitant': 2093, 'flat': 1731, 'panel': 3165, 'lcd': 2532, 'build': 573, 'weight': 4864, 'space': 4140, 'save': 3840, 'attractive': 289, 'design': 1163, 'sharp': 3965, 'playback': 3298, 'negative': 2963, 'function': 1840, 'key': 2455, 'due': 1348, 'color': 823, 'almost': 130, 'carefully': 641, 'terrible': 4427, 'birthday': 440, 'fail': 1622, 'capable': 624, 'recall': 3585, 'flash': 1729, 'channel': 697, 'sony': 4115, 'universal': 4675, 'learn': 2542, 'factory': 1618, 'capability': 623, 'deal': 1088, 'user': 4719, 'replace': 3678, 'tube': 4608, 'gain': 1857, 'counter': 974, 'internal': 2337, 'bonus': 483, 'defective': 1112, 'electronics': 1415, 'express': 1596, 'contact': 923, 'number': 3029, 'pick': 3264, 'arrive': 242, 'week': 4861, 'later': 2518, 'clarity': 769, 'mode': 2860, 'loud': 2651, 'rv': 3804, 'run': 3795, 'barely': 347, 'solve': 4101, 'jack': 2382, 'stereo': 4221, 'speaker': 4147, 'lightweight': 2583, 'antenna': 191, 'opinion': 3082, 'bias': 425, 'angle': 175, 'europe': 1516, 'clean': 778, 'proper': 3458, 'shed': 3966, 'understand': 4653, 'tourist': 4546, 'guide': 1997, 'tour': 4545, 'country': 976, 'reference': 3618, 'travel': 4576, 'outline': 3120, 'detail': 1172, 'realy': 3578, 'everybody': 1527, 'combination': 826, 'illustration': 2217, 'text': 4438, 'overall': 3124, 'sight': 4003, 'city': 763, 'european': 1517, 'thank': 4443, 'lonely': 2637, 'planet': 3289, 'info': 2280, 'surface': 4336, 'receive': 3589, 'germany': 1900, 'overview': 3136, 'greece': 1975, 'spanish': 4142, 'sort': 4126, 'printing': 3419, 'highlight': 2103, 'front': 1829, 'course': 980, 'kid': 2458, 'jay': 2397, 'eric': 1497, 'tender': 4420, 'rock': 3759, 'offend': 3055, 'either': 1408, 'depend': 1148, 'foot': 1769, 'accept': 16, 'way': 4847, 'gift': 1907, 'husband': 2191, 'date': 1077, 'disappointing': 1229, 'plate': 3293, 'inferior': 2276, 'previous': 3406, 'edition': 1392, 'ahead': 100, 'homer': 2135, 'helpful': 2083, 'gem': 1882, 'complex': 869, 'subject': 4288, 'second': 3896, 'century': 684, 'religious': 3651, 'authority': 301, 'serious': 3933, 'period': 3238, 'essential': 1507, 'argue': 233, 'yes': 4982, 'cardboard': 637, 'beat': 378, 'cheesy': 718, 'across': 37, 'entire': 1480, 'solid': 4097, 'decent': 1099, 'distance': 1261, 'scrap': 3876, 'noticeable': 3020, 'plenty': 3308, 'material': 2749, 'loosely': 2643, 'bottom': 501, 'ship': 3977, 'exchange': 1559, 'damage': 1062, 'risk': 3749, 'unknown': 4678, 'africa': 90, 'produce': 3432, 'mixture': 2858, 'african': 91, 'feeling': 1670, 'soft': 4092, 'fit': 1722, 'record': 3604, 'france': 1801, 'paris': 3179, 'professional': 3437, 'hot': 2163, 'lazy': 2530, 'expectation': 1577, 'shoe': 3984, 'rip': 3747, 'apart': 209, 'sole': 4095, 'clark': 770, 'sadly': 3809, 'within': 4919, 'month': 2879, 'similar': 4013, 'profound': 3441, 'narrative': 2938, 'style': 4285, 'famous': 1636, 'john': 2418, 'frequently': 1817, 'carry': 649, 'tone': 4526, 'amateur': 147, 'historian': 2115, 'neither': 2966, 'boston': 498, 'graduate': 1957, 'consider': 912, 'represent': 3683, 'today': 4514, 'research': 3692, 'thin': 4462, 'conclude': 892, 'essentially': 1508, 'primary': 3412, 'secondary': 3897, 'source': 4135, 'rat': 3554, 'yr': 4993, 'barbie': 344, 'computer': 883, 'worry': 4944, 'enjoyable': 1466, 'vibrant': 4762, 'friendly': 1823, 'mommy': 2868, 'ton': 4525, 'together': 4518, 'decorate': 1104, 'alone': 131, 'creativity': 1004, 'adventure': 76, 'addict': 55, 'opening': 3078, 'sing': 4025, 'non': 3005, 'stop': 4241, 'prince': 3415, 'program': 3443, 'cry': 1029, 'child': 726, 'currently': 1043, 'bedroom': 387, 'result': 3712, 'painting': 3157, 'halfway': 2014, 'exit': 1572, 'freeze': 1814, 'spot': 4180, 'urge': 4709, 'castle': 658, 'software': 4093, 'reboot': 3584, 'site': 4035, 'frustrate': 1831, 'fault': 1655, 'catch': 662, 'bug': 570, 'buck': 562, 'avoid': 309, 'creative': 1003, 'granddaughter': 1964, 'plan': 3287, 'imagination': 2221, 'fight': 1689, 'choose': 737, 'theme': 4451, 'allow': 127, 'power': 3364, 'stone': 4239, 'animation': 179, 'bore': 492, 'adult': 71, 'variation': 4738, 'scheme': 3861, 'pattern': 3205, 'highly': 2104, 'rental': 3672, 'basically': 356, 'sister': 4033, 'os': 3107, 'classic': 772, 'multiple': 2915, 'access': 18, 'everytime': 1532, 'task': 4382, 'sequence': 3930, 'file': 1693, 'crash': 994, 'possible': 3350, 'grand': 1962, 'patience': 3201, 'survive': 4347, 'trial': 4587, 'substitute': 4294, 'vendor': 4751, 'feedback': 1666, 'rate': 3555, 'bother': 499, 'future': 1850, 'company': 854, 'mistake': 2853, 'hundred': 2184, 'dollar': 1286, 'building': 574, 'careful': 640, 'smell': 4071, 'bottle': 500, 'delicate': 1131, 'summer': 4319, 'impressed': 2239, 'creepy': 1009, 'wow': 4954, 'revenge': 3721, 'door': 1294, 'open': 3076, 'prepare': 3392, 'didnt': 1198, 'menu': 2797, 'exist': 1570, 'matter': 2752, 'exception': 1554, 'dubbing': 1344, 'sub': 4287, 'par': 3169, 'remain': 3653, 'shame': 3961, 'original': 3101, 'offering': 3058, 'sooo': 4118, 'official': 3061, 'production': 3435, 'screw': 3882, 'pioneer': 3276, 'sad': 3808, 'ya': 4970, 'rap': 3547, 'ta': 4366, 'blow': 465, 'jam': 2386, 'ride': 3740, 'underrated': 4652, 'houston': 2169, 'pat': 3197, 'steve': 4223, 'regardless': 3628, 'alive': 125, 'legacy': 2551, 'dirty': 1223, 'south': 4136, 'guest': 1996, 'fat': 1651, 'chris': 742, 'chronicle': 749, 'farm': 1645, 'photo': 3256, 'version': 4757, 'bill': 430, 'history': 2118, 'relationship': 3640, 'loved': 2657, 'treasure': 4580, 'keeper': 2450, 'draw': 1316, 'idea': 2199, 'comfy': 836, 'lounge': 2653, 'cake': 600, 'topper': 4533, 'june': 2439, 'estimate': 1512, 'shipping': 3979, 'july': 2436, 'wrong': 4961, 'pearl': 3215, 'kit': 2469, 'cute': 1051, 'provide': 3470, 'annoyed': 187, 'include': 2250, 'trust': 4605, 'additional': 58, 'sweet': 4355, 'grace': 1954, 'email': 1428, 'supply': 4328, 'list': 2606, 'sheet': 3968, 'ready': 3570, 'boot': 489, 'phone': 3255, 'manufacturer': 2717, 'unreliable': 4690, 'critic': 1016, 'consumer': 922, 'alike': 123, 'release': 3644, 'debut': 1095, 'radio': 3528, 'hit': 2119, 'dj': 1273, 'band': 340, 'hopefully': 2148, 'club': 801, 'sale': 3817, 'practically': 3368, 'leap': 2541, 'grab': 1953, 'neck': 2958, 'upcoming': 4697, 'omg': 3069, 'own': 3141, 'saturday': 3839, 'cause': 667, 'classical': 773, 'jason': 2393, 'lead': 2534, 'moment': 2867, 'relief': 3648, 'annoy': 186, 'minimum': 2836, 'achieve': 31, 'suggest': 4312, 'skip': 4049, 'finally': 1701, 'horribly': 2153, 'lack': 2493, 'mystery': 2929, 'ten': 4418, 'educational': 1396, 'train': 4564, 'shape': 3962, 'guarantee': 1993, 'puzzle': 3499, 'silly': 4011, 'odd': 3049, 'theory': 4453, 'concert': 890, 'string': 4266, 'appreciate': 221, 'excelent': 1548, 'rendition': 3669, 'caution': 668, 'remastered': 3658, 'irrelevant': 2369, 'textbook': 4439, 'transaction': 4566, 'engage': 1456, 'te': 4388, 'wash': 4833, 'shore': 3987, 'colin': 814, 'tess': 4435, 'opposite': 3085, 'attract': 287, 'call': 602, 'trashy': 4575, 'usually': 4723, 'tie': 4490, 'blond': 462, 'enchant': 1447, 'heroine': 2092, 'part': 3181, 'content': 927, 'island': 2372, 'solitude': 4098, 'shake': 3956, 'fear': 1660, 'strange': 4253, 'strike': 4265, 'friendship': 1824, 'courage': 979, 'amusing': 162, 'mostly': 2890, 'characterization': 702, 'character': 700, 'introduce': 2349, 'behavior': 395, 'development': 1179, 'force': 1773, 'improve': 2242, 'towards': 4549, 'portable': 3341, 'drive': 1331, 'disappoint': 1227, 'performance': 3235, 'constantly': 918, 'half': 2013, 'uncomfortable': 4648, 'pant': 3166, 'incredibly': 2259, 'stiff': 4229, 'authentic': 299, 'encounter': 1448, 'yoruba': 4988, 'particular': 3183, 'certain': 686, 'nuance': 3026, 'speak': 4146, 'anybody': 199, 'clue': 802, 'question': 3507, 'unanswered': 4642, 'note': 3017, 'impossible': 2237, 'native': 2945, 'confuse': 903, 'teach': 4390, 'basic': 355, 'vocabulary': 4797, 'specific': 4155, 'vehicle': 4747, 'correct': 964, 'mat': 2747, 'therefore': 4457, 'sit': 4034, 'grandchild': 1963, 'value': 4733, 'toe': 4516, 'kelly': 2451, 'pet': 3246, 'parade': 3172, 'dress': 1325, 'pony': 3330, 'jump': 2437, 'etc': 1514, 'animal': 177, 'nail': 2934, 'float': 1745, 'accomplish': 25, 'along': 132, 'wonderfully': 4930, 'instal': 2306, 'laptop': 2509, 'tough': 4544, 'bear': 376, 'fish': 1718, 'finger': 1706, 'pad': 3149, 'load': 2623, 'different': 1204, 'endless': 1452, 'graphic': 1969, 'colorful': 824, 'winner': 4908, 'reinstall': 3635, 'issue': 2374, 'activity': 42, 'slip': 4063, 'heel': 2076, 'satisfy': 3837, 'manner': 2712, 'awesome': 316, 'advertisement': 79, 'uk': 4632, 'assume': 270, 'available': 305, 'england': 1461, 'arcade': 227, 'ive': 2380, 'playstation': 3302, 'guy': 2005, 'compatible': 860, 'machine': 2678, 'deeply': 1108, 'stage': 4193, 'revolution': 3726, 'equivalent': 1495, 'unheard': 4667, 'favourite': 1659, 'situation': 4036, 'lucky': 2666, 'letter': 2564, 'admit': 66, 'michael': 2812, 'montgomery': 2878, 'approach': 223, 'couple': 978, 'beer': 388, 'devil': 1181, 'spice': 4164, 'deserve': 1162, 'cuz': 1053, 'soldier': 4094, 'punk': 3488, 'hr': 2173, 'ball': 333, 'este': 1511, 'libro': 2571, 'lo': 2622, 'que': 3503, 'el': 1409, 'si': 4000, 'de': 1085, 'con': 884, 'mi': 2811, 'ex': 1541, 'cereal': 685, 'hook': 2143, 'breakfast': 527, 'eat': 1379, 'especially': 1504, 'taste': 4383, 'hungry': 2185, 'bunch': 581, 'cap': 622, 'splendid': 4174, 'fill': 1694, 'word': 4934, 'warning': 4829, 'local': 2624, 'walmart': 4816, 'church': 752, 'bowl': 507, 'timber': 4499, 'frame': 1800, 'technical': 4396, 'joint': 2422, 'span': 4141, 'mill': 2827, 'museum': 2919, 'master': 2744, 'recent': 3591, 'trip': 4595, 'avid': 308, 'breeze': 534, 'various': 4740, 'illustrate': 2215, 'fascinate': 1646, 'practical': 3367, 'outstanding': 3123, 'although': 142, 'construction': 920, 'invaluable': 2352, 'process': 3431, 'editing': 1391, 'spell': 4161, 'caption': 630, 'traditional': 4559, 'print': 3417, 'drawing': 1318, 'inform': 2281, 'internet': 2339, 'dip': 1216, 'temperature': 4412, 'shrink': 3997, 'egg': 1403, 'transfer': 4567, 'needless': 2961, 'intelligent': 2324, 'immediately': 2226, 'property': 3460, 'explicit': 1589, 'war': 4821, 'coast': 804, 'pc': 3210, 'disappointment': 1230, 'sink': 4031, 'meant': 2767, 'race': 3521, 'battlefield': 367, 'landscape': 2503, 'slide': 4059, 'total': 4538, 'rubbish': 3789, 'mine': 2833, 'ireland': 2364, 'florida': 1749, 'costly': 967, 'henry': 2088, 'nose': 3015, 'chew': 722, 'nobody': 3000, 'worn': 4943, 'clone': 792, 'forty': 1789, 'dad': 1057, 'ill': 2211, 'significance': 4007, 'battle': 366, 'obsession': 3039, 'replacement': 3679, 'safely': 3812, 'closet': 796, 'shelf': 3969, 'thread': 4477, 'bare': 346, 'online': 3072, 'overwhelm': 3137, 'less': 2561, 'thanks': 4446, 'disney': 1253, 'toy': 4554, 'six': 4037, 'contemporary': 926, 'delight': 1133, 'snow': 4082, 'ups': 4704, 'reward': 3728, 'forward': 1791, 'detailed': 1173, 'sketch': 4045, 'excitement': 1562, 'actual': 45, 'complicate': 871, 'beginner': 392, 'thrill': 4479, 'instructional': 2315, 'match': 2748, 'cushion': 1047, 'description': 1159, 'deliver': 1135, 'impression': 2240, 'insert': 2295, 'attach': 279, 'strap': 4256, 'definately': 1115, 'luckily': 2665, 'policy': 3324, 'stupid': 4282, 'free': 1812, 'sex': 3948, 'publish': 3478, 'broadway': 549, 'theatre': 4449, 'archive': 229, 'witty': 4923, 'ruin': 3792, 'costume': 968, 'absurd': 10, 'blanket': 452, 'acting': 39, 'btw': 560, 'director': 1221, 'goal': 1932, 'intention': 2328, 'recording': 3605, 'extended': 1599, 'drinking': 1329, 'blurry': 472, 'audience': 290, 'charm': 707, 'chance': 694, 'compilation': 864, 'perform': 3234, 'artist': 249, 'poorly': 3333, 'wave': 4846, 'prior': 3420, 'imply': 2232, 'garbage': 1869, 'prompt': 3452, 'november': 3023, 'nowhere': 3025, 'deceive': 1097, 'group': 1989, 'duh': 1349, 'trash': 4574, 'reception': 3593, 'session': 3938, 'sounding': 4132, 'cheap': 712, 'vocalist': 4799, 'die': 1199, 'camera': 606, 'continue': 930, 'night': 2989, 'tech': 4395, 'mr': 2907, 'project': 3448, 'curious': 1041, 'producer': 3433, 'realize': 3576, 'reveal': 3719, 'crucial': 1025, 'unbelievable': 4644, 'earlier': 1368, 'detective': 1175, 'attorney': 286, 'unfold': 4662, 'abuse': 11, 'childhood': 728, 'forgive': 1779, 'successful': 4300, 'spite': 4173, 'horrendous': 2151, 'lord': 2644, 'refer': 3617, 'peter': 3247, 'major': 2698, 'league': 2538, 'score': 3873, 'extensive': 1601, 'resource': 3701, 'tomorrow': 4524, 'till': 4496, 'massive': 2743, 'living': 2619, 'subscription': 4289, 'coverage': 985, 'minor': 2839, 'college': 820, 'brand': 520, 'steer': 4216, 'secret': 3898, 'joe': 2417, 'al': 111, 'intriguing': 2347, 'influence': 2278, 'titan': 4511, 'exploration': 1590, 'jet': 2408, 'craft': 989, 'fuel': 1836, 'atmosphere': 277, 'originally': 3103, 'intrigue': 2346, 'father': 1654, 'mission': 2852, 'reality': 3575, 'fantasy': 1641, 'david': 1081, 'asimov': 259, 'peek': 3217, 'block': 460, 'obviously': 3042, 'fails': 1623, 'noise': 3002, 'incorporate': 2255, 'easily': 1375, 'identify': 2202, 'banana': 339, 'penguin': 3223, 'wall': 4815, 'smash': 4070, 'drop': 1334, 'tolerate': 4519, 'treatment': 4582, 'art': 244, 'collector': 819, 'twin': 4621, 'learning': 2543, 'tool': 4529, 'fisher': 1719, 'spin': 4167, 'queen': 3504, 'stack': 4192, 'knock': 2476, 'bang': 341, 'plain': 3286, 'wooden': 4933, 'object': 3034, 'opportunity': 3083, 'eye': 1610, 'decision': 1101, 'overnight': 3130, 'rocket': 3761, 'scientist': 3869, 'rub': 3787, 'dissapointing': 1258, 'concept': 887, 'baby': 323, 'mother': 2891, 'imaginative': 2222, 'edge': 1389, 'safety': 3813, 'grandson': 1967, 'goodness': 1942, 'interested': 2333, 'manipulate': 2710, 'adorable': 69, 'upgrade': 4700, 'format': 1781, 'storage': 4242, 'durable': 1356, 'perfectly': 3233, 'hurt': 2190, 'category': 664, 'factor': 1617, 'fully': 1838, 'comprehend': 878, 'dig': 1208, 'broke': 550, 'waterproof': 4844, 'whale': 4871, 'mary': 2738, 'study': 4276, 'communication': 846, 'washington': 4836, 'direct': 1218, 'nifty': 2988, 'halloween': 2016, 'dummy': 1353, 'nevertheless': 2973, 'depict': 1149, 'liked': 2586, 'certainly': 687, 'campaign': 609, 'academic': 13, 'organization': 3098, 'dedicate': 1106, 'propaganda': 3457, 'office': 3059, 'regularly': 3633, 'hide': 2099, 'terrorist': 4433, 'weapon': 4852, 'violence': 4779, 'intend': 2325, 'innocent': 2291, 'murder': 2917, 'extreme': 1607, 'formula': 1784, 'fortunately': 1788, 'hesitate': 2094, 'chinese': 732, 'green': 1977, 'red': 3609, 'logo': 2633, 'fx': 1854, 'serial': 3931, 'handful': 2021, 'memorable': 2790, 'seal': 3889, 'wing': 4907, 'blame': 449, 'self': 3913, 'sorry': 4125, 'travesty': 4578, 'killer': 2460, 'supernatural': 4325, 'storyline': 4247, 'hole': 2126, 'gory': 1948, 'confusing': 905, 'stephen': 4220, 'initially': 2287, 'indie': 2268, 'horror': 2157, 'flick': 1740, 'jennifer': 2403, 'weekend': 4862, 'bernie': 417, 'terry': 4434, 'actor': 43, 'lol': 2634, 'anyways': 205, 'mask': 2739, 'maker': 2701, 'suspense': 4349, 'display': 1254, 'effort': 1402, 'dialogue': 1190, 'tree': 4583, 'root': 3776, 'yard': 4972, 'knee': 2471, 'cinematic': 756, 'path': 3199, 'typically': 4627, 'predictable': 3381, 'fashion': 1648, 'victim': 4767, 'face': 1614, 'motivation': 2895, 'entry': 1484, 'familiar': 1634, 'cast': 656, 'effective': 1400, 'treat': 4581, 'williams': 4899, 'role': 3765, 'lee': 2548, 'doom': 1293, 'equally': 1492, 'ii': 2209, 'filmmaker': 1697, 'borrow': 496, 'everyone': 1530, 'elevate': 1418, 'unimaginative': 4668, 'exactly': 1543, 'fright': 1825, 'safe': 3811, 'boring': 495, 'brief': 539, 'appearance': 216, 'icon': 2198, 'ghetto': 1902, 'artifact': 247, 'card': 636, 'yellow': 4979, 'ordinary': 3095, 'holocaust': 2132, 'diary': 1194, 'extract': 1605, 'eastern': 1377, 'medicine': 2776, 'dissappointed': 1260, 'unhappy': 4666, 'practice': 3369, 'primer': 3414, 'basis': 357, 'application': 219, 'philosophy': 3254, 'emphasize': 1442, 'natural': 2946, 'balance': 332, 'nature': 2948, 'informative': 2283, 'warcraft': 4822, 'redundant': 3615, 'combat': 825, 'pleasure': 3307, 'respect': 3702, 'ambient': 153, 'enthusiast': 1479, 'whatsoever': 4874, 'darn': 1075, 'guitarist': 2002, 'utopia': 4724, 'dissapointed': 1257, 'direction': 1219, 'dry': 1340, 'pillow': 3271, 'advertise': 77, 'post': 3352, 'tiny': 4506, 'foam': 1758, 'worthless': 4949, 'amount': 159, 'whatever': 4872, 'super': 4321, 'handle': 2022, 'heavy': 2074, 'dense': 1144, 'cant': 620, 'prop': 3456, 'sleep': 4055, 'otherwise': 3110, 'position': 3347, 'width': 4892, 'rotate': 3780, 'lay': 2527, 'false': 1632, 'military': 2825, 'pic': 3263, 'reply': 3681, 'serum': 3935, 'tend': 4419, 'rid': 3738, 'weather': 4854, 'somehow': 4104, 'double': 1297, 'ai': 101, 'fix': 1726, 'slightly': 4061, 'shop': 3986, 'grocery': 1985, 'dick': 1195, 'range': 3543, 'provoking': 3473, 'winter': 4910, 'genre': 1892, 'suit': 4315, 'advanced': 74, 'powerful': 3366, 'prefer': 3383, 'outfit': 3118, 'skate': 4042, 'automatically': 304, 'hello': 2081, 'technique': 4398, 'body': 476, 'split': 4175, 'muscle': 2918, 'kick': 2457, 'crook': 1022, 'stink': 4233, 'scream': 3878, 'ice': 2197, 'simplistic': 4019, 'strive': 4268, 'onto': 3073, 'enjoyment': 1468, 'low': 2661, 'somebody': 4102, 'thats': 4447, 'sake': 3816, 'sparkle': 4145, 'seven': 3943, 'window': 4904, 'xp': 4968, 'frustration': 1834, 'despite': 1169, 'trick': 4590, 'yesterday': 4983, 'confidence': 897, 'smoothly': 4076, 'gentleman': 1894, 'la': 2487, 'rating': 3557, 'pity': 3283, 'delivery': 1137, 'mail': 2691, 'joy': 2428, 'rare': 3550, 'dose': 1295, 'fire': 1710, 'truck': 4601, 'pleased': 3306, 'horse': 2158, 'imagery': 2220, 'newspaper': 2978, 'supplier': 4327, 'nasty': 2941, 'apartment': 210, 'switch': 4357, 'outlet': 3119, 'eight': 1407, 'plug': 3310, 'saver': 3841, 'device': 1180, 'hitch': 2120, 'mystical': 2930, 'relax': 3643, 'dr': 1308, 'legend': 2553, 'stranger': 4255, 'dream': 1322, 'surreal': 4344, 'symbolism': 4360, 'someday': 4103, 'peace': 3212, 'shin': 3975, 'land': 2502, 'captivate': 631, 'lj': 2620, 'smith': 4073, 'ash': 254, 'teenage': 4403, 'humor': 2181, 'paranormal': 3177, 'disaster': 1231, 'area': 230, 'darkness': 1074, 'hooked': 2144, 'protect': 3466, 'happiness': 2029, 'possibly': 3351, 'instantly': 2312, 'inspire': 2304, 'poetry': 3317, 'respond': 3703, 'personality': 3243, 'vampire': 4735, 'vision': 4787, 'recognize': 3598, 'soulmate': 4130, 'unrealistic': 4689, 'tune': 4611, 'male': 2704, 'attraction': 288, 'witch': 4918, 'instance': 2310, 'burning': 585, 'legendary': 2554, 'publishing': 3480, 'gel': 1881, 'pen': 3221, 'ink': 2289, 'bleed': 455, 'square': 4186, 'locate': 2626, 'left': 2549, 'magazine': 2684, 'publication': 3477, 'mirror': 2844, 'glimpse': 1920, 'nation': 2943, 'shortly': 3989, 'scholar': 3862, 'compelling': 862, 'illuminate': 2213, 'precious': 3377, 'examine': 1546, 'evolution': 1539, 'conclusion': 893, 'vast': 4742, 'data': 1076, 'readable': 3566, 'reflection': 3621, 'professor': 3438, 'regret': 3631, 'wade': 4809, 'likely': 2587, 'wealth': 4851, 'awake': 311, 'invest': 2356, 'somewhat': 4109, 'useful': 4717, 'richard': 3736, 'convincing': 948, 'wide': 4889, 'perspective': 3245, 'kylie': 2486, 'bite': 443, 'subtlety': 4297, 'subtle': 4296, 'performer': 3236, 'ballad': 334, 'nightmare': 2990, 'flow': 1750, 'catchy': 663, 'chorus': 741, 'melt': 2787, 'funky': 1845, 'language': 2505, 'import': 2233, 'limit': 2592, 'border': 491, 'edit': 1390, 'cut': 1050, 'arrangement': 240, 'rarity': 3552, 'tom': 4520, 'remix': 3663, 'dub': 1343, 'cord': 957, 'thomas': 4468, 'naturally': 2947, 'compel': 861, 'relate': 3638, 'rambling': 3538, 'involve': 2360, 'mindless': 2832, 'footage': 1770, 'meet': 2779, 'rent': 3671, 'kay': 2447, 'aside': 258, 'gear': 1879, 'toward': 4548, 'pack': 3146, 'interview': 2343, 'normal': 3011, 'solely': 4096, 'center': 682, 'commercial': 842, 'introduction': 2350, 'pain': 3153, 'frustrated': 1832, 'advice': 81, 'asleep': 261, 'horrific': 2155, 'warrior': 4832, 'brilliantly': 542, 'gore': 1946, 'fanatic': 1638, 'warranty': 4831, 'equipment': 1494, 'printer': 3418, 'strip': 4267, 'stretch': 4263, 'waist': 4810, 'tight': 4491, 'inch': 2249, 'earn': 1370, 'comfortable': 833, 'largely': 2512, 'slack': 4050, 'usual': 4722, 'normally': 3012, 'flimsy': 1742, 'fabric': 1612, 'advertising': 80, 'coffee': 810, 'gray': 1972, 'misleading': 2848, 'business': 587, 'chain': 690, 'iron': 2366, 'emphasis': 1441, 'mature': 2754, 'shy': 3999, 'disturb': 1266, 'render': 3668, 'fairy': 1627, 'tale': 4371, 'grim': 1979, 'wwii': 4964, 'glove': 1925, 'appropriate': 224, 'valuable': 4732, 'alternative': 141, 'italy': 2376, 'youth': 4991, 'confusion': 906, 'credibility': 1006, 'rome': 3772, 'appreciation': 222, 'depth': 1155, 'dish': 1246, 'flight': 1741, 'afternoon': 92, 'food': 1767, 'used': 4716, 'relatively': 3642, 'detract': 1177, 'laura': 2525, 'enhance': 1464, 'overdone': 3126, 'pun': 3485, 'sensual': 3922, 'glory': 1924, 'soul': 4127, 'preparation': 3391, 'discover': 1237, 'mexican': 2810, 'magic': 2686, 'fable': 1611, 'cook': 949, 'nude': 3027, 'chick': 724, 'lit': 2612, 'roman': 3769, 'cooking': 952, 'market': 2727, 'porn': 3339, 'desire': 1164, 'tip': 4507, 'insult': 2319, 'everywhere': 1533, 'vivid': 4795, 'jerk': 2405, 'portray': 3344, 'substance': 4291, 'sexy': 3951, 'metaphor': 2807, 'adequate': 60, 'occasionally': 3045, 'overlook': 3128, 'plane': 3288, 'generally': 1885, 'management': 2708, 'heap': 2063, 'report': 3682, 'bos': 497, 'financial': 1702, 'analysis': 165, 'ability': 2, 'topic': 4532, 'ordered': 3094, 'cash': 654, 'tha': 4442, 'existence': 1571, 'permanently': 3240, 'repetitive': 3677, 'repeat': 3674, 'huh': 2177, 'yeah': 4975, 'sign': 4005, 'passing': 3191, 'gon': 1938, 'na': 2933, 'penny': 3224, 'lil': 2588, 'alright': 137, 'rapper': 3549, 'million': 2829, 'juvenile': 2445, 'fade': 1620, 'suck': 4302, 'bounce': 503, 'as': 253, 'da': 1056, 'solo': 4099, 'quit': 3514, 'comedian': 830, 'wayne': 4848, 'besides': 419, 'alien': 122, 'degreez': 1127, 'listening': 2610, 'snoop': 4081, 'dictionary': 1197, 'wack': 4808, 'belive': 402, 'wit': 4917, 'crap': 992, 'ipod': 2362, 'pointless': 3320, 'definetely': 1117, 'strong': 4269, 'bump': 580, 'em': 1427, 'ha': 2007, 'shot': 3990, 'logic': 2631, 'longer': 2639, 'raise': 3534, 'responsible': 3706, 'co': 803, 'worker': 4938, 'restaurant': 3709, 'french': 1815, 'quarter': 3501, 'orleans': 3104, 'delightful': 1134, 'miller': 2828, 'gently': 1895, 'unlimited': 4682, 'sun': 4320, 'brave': 522, 'tim': 4498, 'dinner': 1214, 'wheel': 4875, 'lesson': 2562, 'desktop': 1166, 'thorough': 4469, 'comprehensive': 879, 'html': 2174, 'web': 4856, 'smart': 4069, 'index': 2262, 'clever': 782, 'expand': 1574, 'technology': 4400, 'advance': 73, 'intermediate': 2336, 'experienced': 1582, 'website': 4858, 'client': 786, 'expert': 1585, 'buying': 595, 'correctly': 965, 'elsewhere': 1425, 'arrival': 241, 'indicate': 2265, 'healthy': 2062, 'thoughtful': 4474, 'fiction': 1682, 'identity': 2203, 'bond': 480, 'evoke': 1538, 'provoke': 3472, 'cultural': 1034, 'australia': 297, 'complain': 865, 'portrayal': 3345, 'cartridge': 652, 'throat': 4481, 'spray': 4182, 'hurry': 2189, 'relieve': 3649, 'yo': 4985, 'sore': 4122, 'recommendation': 3602, 'mom': 2866, 'glider': 1919, 'sooner': 4117, 'bench': 412, 'metal': 2805, 'unsure': 4692, 'tighten': 4492, 'wasnt': 4837, 'bar': 343, 'suppose': 4330, 'sturdy': 4284, 'assemble': 265, 'movement': 2904, 'blah': 448, 'compliment': 873, 'chair': 691, 'arm': 236, 'shipment': 3978, 'heck': 2075, 'drag': 1310, 'wet': 4870, 'thinking': 4465, 'james': 2387, 'moody': 2882, 'awsome': 320, 'sample': 3821, 'ear': 1365, 'iv': 2379, 'rush': 3798, 'eerie': 1398, 'itunes': 2378, 'understanding': 4655, 'generation': 1887, 'united': 4674, 'interpret': 2340, 'jewish': 2410, 'worthy': 4951, 'rabbi': 3519, 'element': 1416, 'biblical': 427, 'truth': 4606, 'gospel': 1949, 'socialism': 4089, 'economics': 1385, 'broad': 547, 'variety': 4739, 'political': 3326, 'foster': 1792, 'worthwhile': 4950, 'marriage': 2731, 'prejudice': 3387, 'marry': 2733, 'welcome': 4866, 'spouse': 4181, 'consist': 913, 'excessive': 1558, 'argument': 234, 'watchable': 4841, 'married': 2732, 'cat': 660, 'angry': 176, 'yell': 4977, 'length': 2558, 'endure': 1453, 'test': 4436, 'discussion': 1240, 'discuss': 1239, 'outside': 3122, 'literature': 2615, 'chop': 738, 'answer': 190, 'excuse': 1564, 'wolverine': 4926, 'cheer': 716, 'bind': 434, 'bass': 360, 'attitude': 285, 'singing': 4027, 'drum': 1337, 'unique': 4672, 'suggestion': 4313, 'acoustic': 35, 'accord': 26, 'knowledge': 2479, 'instrumental': 2318, 'rocky': 3763, 'road': 3755, 'mini': 2834, 'cheaply': 713, 'terrific': 4429, 'organ': 3096, 'mess': 2802, 'setting': 3940, 'rubber': 3788, 'pace': 3144, 'rivet': 3754, 'bookstore': 488, 'gothic': 1951, 'curse': 1044, 'supposedly': 4331, 'impressive': 2241, 'feehan': 1668, 'warn': 4826, 'christine': 746, 'engine': 1458, 'nicoletta': 2986, 'village': 4774, 'exercise': 1568, 'select': 3911, 'mysterious': 2928, 'frighten': 1826, 'communicate': 845, 'similarity': 4014, 'eager': 1363, 'presence': 3394, 'unlike': 4680, 'temper': 4411, 'passion': 3192, 'empathy': 1439, 'potential': 3358, 'develop': 1178, 'spark': 4144, 'action': 40, 'suspenseful': 4350, 'believable': 399, 'pound': 3360, 'emma': 1434, 'holly': 2129, 'reach': 3563, 'dimensional': 1212, 'advantage': 75, 'success': 4299, 'begining': 391, 'bound': 504, 'weird': 4865, 'lively': 2618, 'adore': 70, 'strongly': 4270, 'tea': 4389, 'severely': 3946, 'camcorder': 605, 'usb': 4714, 'overseas': 3134, 'choppy': 739, 'recently': 3592, 'driver': 1333, 'accurate': 29, 'blur': 470, 'barrel': 350, 'distortion': 1264, 'piano': 3262, 'homework': 2136, 'common': 844, 'teacher': 4391, 'lid': 2572, 'accidentally': 22, 'upon': 4702, 'alternate': 140, 'adjust': 62, 'limited': 2594, 'cruel': 1027, 'unusual': 4694, 'patricia': 3203, 'cornwell': 960, 'boyfriend': 512, 'seat': 3894, 'collapse': 815, 'stick': 4226, 'thriller': 4480, 'evil': 1536, 'holder': 2125, 'nazi': 2950, 'criminal': 1012, 'dump': 1354, 'scarpetta': 3854, 'summary': 4318, 'virtually': 4784, 'satisfying': 3838, 'paramount': 3175, 'harris': 2042, 'frankly': 1807, 'turner': 4614, 'grip': 1982, 'unable': 4640, 'lost': 2649, 'cassette': 655, 'envelope': 1485, 'prevent': 3404, 'forensic': 1776, 'police': 3323, 'row': 3786, 'execute': 1565, 'current': 1042, 'particularly': 3184, 'niece': 2987, 'installment': 2309, 'potter': 3359, 'field': 1685, 'science': 3867, 'muddle': 2912, 'electric': 1411, 'flesh': 1738, 'commit': 843, 'redeem': 3610, 'latter': 2520, 'villain': 4775, 'bed': 386, 'hardcover': 2033, 'prime': 3413, 'shallow': 3960, 'contain': 924, 'widely': 4890, 'incomplete': 2252, 'binding': 435, 'documentation': 1279, 'unclear': 4647, 'adam': 48, 'partner': 3185, 'earth': 1372, 'previously': 3407, 'entertaining': 1476, 'spoil': 4176, 'degrade': 1125, 'zero': 4995, 'nope': 3010, 'studio': 4275, 'wake': 4812, 'sandler': 3827, 'viewer': 4771, 'climax': 788, 'lackluster': 2496, 'entirely': 1481, 'walk': 4813, 'hill': 2110, 'engaging': 1457, 'comic': 837, 'illness': 2212, 'destroy': 1170, 'lifestyle': 2575, 'necessarily': 2956, 'doesnt': 1280, 'george': 1897, 'experimental': 1584, 'drug': 1336, 'ira': 2363, 'hire': 2113, 'patch': 3198, 'suddenly': 4306, 'immature': 2225, 'lame': 2501, 'sexual': 3949, 'nudity': 3028, 'circle': 758, 'reputation': 3686, 'dramatic': 1314, 'cold': 812, 'mainstream': 2694, 'downhill': 1302, 'jim': 2412, 'moon': 2883, 'drift': 1326, 'marketing': 2728, 'theater': 4448, 'making': 2703, 'unnecessary': 4684, 'chemistry': 720, 'conversation': 944, 'acceptable': 17, 'anger': 174, 'hilarious': 2108, 'humour': 2183, 'artsy': 251, 'demand': 1141, 'loser': 2647, 'bird': 438, 'titanic': 4512, 'drawn': 1319, 'profanity': 3436, 'beneath': 414, 'fair': 1625, 'share': 3964, 'appeal': 214, 'vulgar': 4807, 'offensive': 3056, 'likeable': 2585, 'lower': 2662, 'swear': 4352, 'sexuality': 3950, 'grass': 1971, 'altogether': 144, 'tragic': 4561, 'scott': 3875, 'wont': 4931, 'collect': 817, 'depress': 1151, 'tackle': 4368, 'smile': 4072, 'mel': 2783, 'boys': 513, 'there': 4456, 'hearing': 2066, 'isnt': 2373, 'win': 4902, 'spent': 4163, 'thankful': 4444, 'excess': 1557, 'inspirational': 2303, 'illustrated': 2216, 'anecdote': 172, 'north': 3013, 'thirty': 4467, 'phrase': 3259, 'stitch': 4235, 'vital': 4793, 'artwork': 252, 'feast': 1661, 'dynamic': 1361, 'accompany': 24, 'wan': 4817, 'exotic': 1573, 'whimsical': 4880, 'lovely': 2658, 'host': 2161, 'protagonist': 3465, 'narrator': 2939, 'greek': 1976, 'richly': 3737, 'diverse': 1269, 'seek': 3905, 'preserve': 3397, 'tradition': 4558, 'interact': 2330, 'social': 4088, 'environment': 1486, 'delve': 1140, 'sin': 4022, 'whenever': 4876, 'habit': 2008, 'judge': 2431, 'forever': 1777, 'account': 27, 'pagan': 3151, 'religion': 3650, 'stereotypical': 4222, 'suitable': 4316, 'disrespect': 1256, 'witness': 4922, 'jean': 2400, 'president': 3398, 'kennedy': 2452, 'article': 246, 'lady': 2497, 'jfk': 2411, 'http': 2175, 'location': 2627, 'conspiracy': 916, 'government': 1952, 'statement': 4209, 'tap': 4379, 'nonsense': 3009, 'department': 1147, 'mad': 2680, 'ramblings': 3539, 'sum': 4317, 'physically': 3261, 'defy': 1124, 'student': 4274, 'debunk': 1094, 'furthermore': 1848, 'mixed': 2856, 'insane': 2294, 'evidence': 1534, 'pas': 3188, 'sword': 4358, 'december': 1098, 'recieved': 3595, 'absolutly': 8, 'confident': 898, 'stainless': 4195, 'steel': 4215, 'buddy': 566, 'symbol': 4359, 'blade': 447, 'fraud': 1809, 'adaptation': 50, 'gibberish': 1905, 'convert': 945, 'curve': 1046, 'cologne': 822, 'bought': 502, 'update': 4698, 'customer': 1049, 'service': 3937, 'gap': 1867, 'heaven': 2072, 'scent': 3859, 'crush': 1028, 'nicely': 2982, 'slap': 4052, 'method': 2809, 'possibility': 3349, 'gault': 1875, 'uncle': 4646, 'investigation': 2357, 'york': 4987, 'affair': 85, 'honesty': 2141, 'adjective': 61, 'apparent': 212, 'suffer': 4308, 'tripe': 4596, 'implausible': 2231, 'understandable': 4654, 'brain': 517, 'sixth': 4038, 'labor': 2491, 'bizarre': 445, 'gut': 2004, 'factual': 1619, 'integrity': 2320, 'pale': 3161, 'usa': 4711, 'ignorant': 2207, 'regard': 3627, 'profile': 3439, 'thumb': 4485, 'pit': 3279, 'meaningless': 2766, 'sympathetic': 4361, 'conflict': 900, 'imitation': 2224, 'pile': 3269, 'remainder': 3654, 'table': 4367, 'disturbing': 1267, 'inconsistent': 2254, 'scary': 3855, 'emotionally': 1437, 'contrive': 938, 'temple': 4413, 'intelligence': 2323, 'medical': 2774, 'virginia': 4783, 'whose': 4886, 'frozen': 1830, 'central': 683, 'park': 3180, 'terrify': 4430, 'accuracy': 28, 'lacking': 2495, 'storyteller': 4248, 'inevitable': 2273, 'kindle': 2464, 'fireplace': 1713, 'yank': 4971, 'doc': 1275, 'plausible': 3295, 'involved': 2361, 'genius': 1891, 'engineer': 1459, 'stilted': 4231, 'oil': 3064, 'hollow': 2128, 'ring': 3746, 'churn': 753, 'profit': 3440, 'terror': 4432, 'killing': 2461, 'bluegrass': 468, 'prove': 3469, 'progress': 3446, 'diagnose': 1187, 'fatal': 1652, 'heal': 2060, 'grant': 1968, 'retain': 3716, 'noisy': 3003, 'vibration': 4764, 'massager': 2742, 'objective': 3035, 'finding': 1704, 'grasp': 1970, 'exposition': 1594, 'principle': 3416, 'exciting': 1563, 'desert': 1161, 'afraid': 89, 'hey': 2096, 'bitter': 444, 'friday': 1821, 'knowledgeable': 2480, 'bank': 342, 'civilization': 765, 'ramble': 3537, 'hunter': 2187, 'port': 3340, 'ark': 235, 'giant': 1904, 'map': 2719, 'browse': 554, 'disappear': 1226, 'superficial': 4323, 'scientific': 3868, 'lincoln': 2596, 'perception': 3230, 'belongs': 407, 'hazlitt': 2053, 'understood': 4656, 'economic': 1384, 'intervention': 2342, 'working': 4939, 'vote': 4805, 'economy': 1386, 'capitalism': 627, 'merit': 2801, 'significantly': 4009, 'ideal': 2200, 'dismal': 1251, 'serve': 3936, 'third': 4466, 'swing': 4356, 'conservative': 911, 'rant': 3546, 'relevant': 3646, 'crisis': 1014, 'politician': 3327, 'classroom': 775, 'failure': 1624, 'scam': 3846, 'definition': 1120, 'outdated': 3115, 'reflect': 3620, 'moreover': 2886, 'settle': 3941, 'choir': 736, 'broken': 551, 'mental': 2793, 'pro': 3425, 'damn': 1064, 'benefit': 415, 'cave': 669, 'union': 4671, 'indication': 2266, 'piss': 3278, 'amazingly': 151, 'university': 4677, 'chicago': 723, 'crazy': 998, 'march': 2721, 'fundamental': 1842, 'overwhelming': 3138, 'majority': 2699, 'cite': 761, 'education': 1395, 'growth': 1991, 'revolutionary': 3727, 'directly': 1220, 'plague': 3285, 'foundation': 1794, 'von': 4803, 'credit': 1007, 'elementary': 1417, 'fellow': 1673, 'loss': 2648, 'freedom': 1813, 'fancy': 1639, 'consequence': 910, 'tremendous': 4585, 'tax': 4385, 'expense': 1579, 'micro': 2814, 'necessary': 2957, 'measure': 2768, 'aka': 110, 'enemy': 1454, 'narration': 2937, 'tedious': 4401, 'donate': 1290, 'critique': 1020, 'capitalist': 628, 'popular': 3336, 'agenda': 95, 'rarely': 3551, 'omit': 3070, 'contrary': 934, 'grain': 1958, 'health': 2061, 'dangerous': 1069, 'myth': 2931, 'context': 929, 'corporate': 962, 'trade': 4557, 'anti': 194, 'preach': 3375, 'net': 2970, 'et': 1513, 'hammer': 2018, 'blind': 459, 'utopian': 4725, 'anytime': 203, 'rehash': 3634, 'worship': 4946, 'tout': 4547, 'enlighten': 1469, 'sanity': 3829, 'casual': 659, 'spring': 4184, 'premise': 3389, 'prophetic': 3462, 'surprisingly': 4343, 'paul': 3207, 'laughable': 2522, 'skim': 4047, 'mislead': 2847, 'faulty': 1656, 'apparently': 213, 'promote': 3451, 'flaw': 1733, 'duty': 1358, 'equation': 1493, 'analyze': 166, 'narrow': 2940, 'introductory': 2351, 'importantly': 2236, 'recycle': 3608, 'pepper': 3226, 'depression': 1154, 'concerned': 889, 'secretly': 3899, 'instrument': 2317, 'velvet': 4750, 'techno': 4399, 'electronica': 1414, 'airwave': 109, 'tire': 4508, 'ho': 2121, 'dumb': 1352, 'im': 2218, 'stellar': 4218, 'invite': 2359, 'vary': 4741, 'musical': 2921, 'animated': 178, 'punch': 3486, 'transport': 4572, 'definitly': 1122, 'tripod': 4597, 'bag': 331, 'circuit': 759, 'anderson': 170, 'poverty': 3362, 'sent': 3923, 'journey': 2427, 'sorrow': 4124, 'daniel': 1070, 'hidden': 2098, 'lyrical': 2674, 'constant': 917, 'nineteen': 2994, 'contribution': 937, 'minority': 2840, 'incomprehensible': 2253, 'anthology': 192, 'christian': 744, 'torso': 4535, 'cincher': 754, 'boning': 482, 'chest': 721, 'wire': 4912, 'bra': 514, 'whereas': 4877, 'custom': 1048, 'cloth': 797, 'squeem': 4187, 'shapewear': 3963, 'bone': 481, 'butt': 590, 'hardly': 2035, 'vintage': 4777, 'expensive': 1580, 'clothes': 798, 'liner': 2598, 'comfortably': 834, 'layer': 2528, 'measurement': 2769, 'posture': 3356, 'associate': 269, 'slim': 4062, 'reduce': 3614, 'clothing': 799, 'wedding': 4859, 'opt': 3088, 'bust': 588, 'tighter': 4493, 'def': 1109, 'boob': 484, 'dd': 1084, 'everyday': 1528, 'belly': 404, 'pregnancy': 3384, 'sick': 4001, 'literally': 2613, 'desk': 1165, 'pleasant': 3303, 'recommended': 3603, 'unbearable': 4643, 'bulge': 576, 'spare': 4143, 'fold': 1760, 'trim': 4594, 'shirt': 3981, 'lift': 2577, 'upset': 4705, 'miracle': 2843, 'squeeze': 4188, 'fraction': 1798, 'lb': 2531, 'tummy': 4610, 'thou': 4471, 'tank': 4378, 'sweat': 4353, 'out': 3113, 'tall': 4375, 'mid': 2816, 'inner': 2290, 'cotton': 969, 'pure': 3491, 'occasion': 3043, 'birth': 439, 'specifically': 4156, 'bulky': 577, 'hideous': 2100, 'sizing': 4041, 'speed': 4160, 'firm': 1715, 'surgery': 4338, 'stomach': 4238, 'theres': 4458, 'underneath': 4651, 'breathing': 531, 'bell': 403, 'snug': 4083, 'concentrate': 886, 'breast': 528, 'compress': 880, 'believer': 401, 'pregnant': 3385, 'pinch': 3274, 'ur': 4707, 'downside': 1305, 'portion': 3342, 'sew': 3947, 'satisfied': 3836, 'sock': 4091, 'poke': 3321, 'specially': 4153, 'bend': 413, 'upper': 4703, 'defeat': 1110, 'increase': 2257, 'bent': 416, 'repair': 3673, 'unreal': 4688, 'gym': 2006, 'diminish': 1213, 'visible': 4786, 'pink': 3275, 'spine': 4168, 'severe': 3945, 'injury': 2288, 'vanity': 4737, 'surpass': 4339, 'absorb': 9, 'abandon': 1, 'torture': 4536, 'instant': 2311, 'ease': 1374, 'loop': 2641, 'seam': 3890, 'snap': 4078, 'eventually': 1523, 'visually': 4791, 'divide': 1271, 'ouch': 3111, 'daily': 1059, 'rod': 3764, 'painfully': 3155, 'ultimately': 4634, 'grandmother': 1966, 'encourage': 1449, 'regain': 3626, 'trap': 4573, 'diet': 1201, 'anticipate': 195, 'fitting': 1724, 'lousy': 2654, 'near': 2953, 'fly': 1755, 'steam': 4214, 'badly': 330, 'stab': 4189, 'havent': 2051, 'press': 3399, 'hence': 2086, 'reminder': 3661, 'occur': 3046, 'slight': 4060, 'stamp': 4198, 'disease': 1242, 'terribly': 4428, 'gross': 1987, 'rear': 3579, 'sometime': 4107, 'aircraft': 106, 'marie': 2724, 'doll': 1285, 'owe': 3139, 'seemingly': 3907, 'permanent': 3239, 'china': 731, 'german': 1899, 'logan': 2630, 'jimmy': 2413, 'ponder': 3329, 'nine': 2993, 'unwatchable': 4695, 'cheese': 717, 'scholarly': 3863, 'mold': 2865, 'distinct': 1263, 'mass': 2740, 'gold': 1935, 'pray': 3372, 'overcome': 3125, 'vinyl': 4778, 'rhapsody': 3731, 'higgins': 2101, 'danger': 1068, 'publisher': 3479, 'sean': 3891, 'justice': 2443, 'competition': 863, 'british': 545, 'legal': 2552, 'entertainment': 1477, 'dillon': 1210, 'dozen': 1307, 'para': 3170, 'expose': 1593, 'promising': 3450, 'smoke': 4074, 'generous': 1889, 'sequel': 3929, 'guilty': 1999, 'status': 4211, 'oops': 3075, 'aspire': 263, 'strangely': 4254, 'editor': 1393, 'dialog': 1189, 'unbelievably': 4645, 'kate': 2446, 'reaction': 3564, 'rough': 3781, 'curiosity': 1040, 'thousand': 4475, 'tension': 4422, 'executive': 1567, 'cliche': 783, 'guard': 1994, 'agent': 96, 'target': 4381, 'shoot': 3985, 'timing': 4504, 'silent': 4010, 'jefferson': 2402, 'tired': 4509, 'extension': 1600, 'meeting': 2780, 'strain': 4251, 'spy': 4185, 'board': 473, 'cartoon': 651, 'heritage': 2090, 'pose': 3346, 'jacket': 2383, 'dust': 1357, 'harry': 2043, 'screenplay': 3880, 'shred': 3996, 'shall': 3959, 'uninspired': 4669, 'critical': 1017, 'eagle': 1364, 'sudden': 4305, 'saga': 3814, 'bernstein': 418, 'precede': 3376, 'nerve': 2968, 'irish': 2365, 'trite': 4598, 'hack': 2009, 'enormous': 1470, 'stinker': 4234, 'schwartz': 3865, 'los': 2645, 'rabbit': 3520, 'ballroom': 336, 'vega': 4744, 'duke': 1350, 'shine': 3976, 'herb': 2089, 'precise': 3378, 'plant': 3291, 'stream': 4259, 'scanner': 3848, 'vista': 4789, 'scan': 3847, 'firmware': 1716, 'jane': 2388, 'universe': 4676, 'scarlett': 3853, 'scarlet': 3852, 'hawthorne': 2052, 'underlying': 4650, 'atlas': 276, 'huxley': 2193, 'vacation': 4728, 'puritan': 3493, 'confess': 896, 'physical': 3260, 'reccomend': 3586, 'auto': 302, 'dolby': 1284, 'mundane': 2916, 'allusion': 128, 'hester': 2095, 'needle': 2960, 'us': 4710, 'convey': 946, 'dickens': 1196, 'boredom': 494, 'fahrenheit': 1621, 'footnote': 1771, 'nonetheless': 3007, 'gripping': 1983, 'neat': 2955, 'essence': 1506, 'breathtaking': 532, 'navigate': 2949, 'ebook': 1381, 'nathaniel': 2942, 'strength': 4261, 'weakness': 4850, 'cop': 954, 'rigid': 3745, 'psychological': 3474, 'divorce': 1272, 'adultery': 72, 'punishment': 3487, 'dover': 1301, 'confirm': 899, 'pretentious': 3402, 'era': 1496, 'mildly': 2823, 'hi': 2097, 'highschool': 2105, 'assignment': 268, 'dread': 1320, 'captivating': 632, 'worse': 4945, 'aunt': 295, 'ugh': 4630, 'honor': 2142, 'wordy': 4935, 'dirt': 1222, 'empathize': 1438, 'tragedy': 4560, 'effectively': 1401, 'mainly': 2693, 'historically': 2117, 'pill': 3270, 'timely': 4502, 'cliff': 787, 'robot': 3758, 'wasted': 4839, 'indeed': 2260, 'beg': 389, 'cease': 671, 'unfamiliar': 4661, 'dislike': 1250, 'empty': 1444, 'worst': 4947, 'overly': 3129, 'humanity': 2179, 'filler': 1695, 'cynical': 1055, 'vice': 4766, 'awhile': 318, 'assign': 267, 'cliched': 784, 'masterful': 2745, 'literary': 2614, 'rule': 3793, 'shell': 3970, 'belong': 406, 'electronic': 1413, 'formatting': 1782, 'requirement': 3689, 'cheat': 714, 'irritate': 2370, 'spirit': 4170, 'paperback': 3168, 'engross': 1463, 'flawless': 1734, 'guilt': 1998, 'irony': 2368, 'exceptional': 1555, 'fee': 1664, 'yawn': 4973, 'childish': 729, 'classify': 774, 'shadow': 3954, 'headache': 2057, 'jeff': 2401, 'ap': 207, 'hint': 2111, 'quote': 3517, 'significant': 4008, 'inability': 2244, 'revelation': 3720, 'fist': 1721, 'court': 981, 'unlikely': 4681, 'pow': 3363, 'exceptionally': 1556, 'surprising': 4342, 'uninteresting': 4670, 'sucker': 4303, 'forth': 1786, 'sophomore': 4121, 'degree': 1126, 'exam': 1544, 'freakin': 1811, 'afterwards': 93, 'overrate': 3132, 'reject': 3637, 'exposure': 1595, 'versus': 4758, 'refreshing': 3623, 'construct': 919, 'noble': 2999, 'applicable': 218, 'ought': 3112, 'peel': 3218, 'wander': 4818, 'redemption': 3612, 'teenager': 4404, 'font': 1766, 'happens': 2027, 'sappy': 3832, 'victorian': 4768, 'sue': 4307, 'ignorance': 2206, 'okay': 3066, 'quiz': 3516, 'slowly': 4067, 'lightly': 2580, 'lock': 2628, 'attic': 284, 'mentally': 2795, 'sandra': 3828, 'peice': 3219, 'tempt': 4416, 'therapy': 4455, 'twisted': 4623, 'cure': 1038, 'insomnia': 2301, 'ridiculously': 3742, 'bloody': 464, 'junior': 2441, 'junk': 2442, 'patient': 3202, 'rank': 3545, 'readily': 3568, 'october': 3048, 'luck': 2664, 'reccommend': 3587, 'meaningful': 2765, 'ashamed': 255, 'harsh': 2044, 'sleeping': 4057, 'lap': 2507, 'stress': 4262, 'anxious': 198, 'thier': 4460, 'taught': 4384, 'orwell': 3106, 'bradbury': 515, 'attack': 280, 'dare': 1071, 'oppression': 3086, 'comparable': 855, 'superior': 4324, 'arthur': 245, 'visual': 4790, 'aid': 102, 'moore': 2884, 'poetic': 3316, 'cram': 990, 'extend': 1598, 'renew': 3670, 'pride': 3410, 'favor': 1657, 'dreary': 1323, 'dreadful': 1321, 'aim': 103, 'numerous': 3030, 'composition': 877, 'determine': 1176, 'suffers': 4309, 'bush': 586, 'prison': 3421, 'plumeria': 3311, 'seattle': 3895, 'rain': 3532, 'proof': 3455, 'suprised': 4332, 'senior': 3917, 'dual': 1342, 'meaning': 2764, 'tomato': 4521, 'trilogy': 4593, 'anthony': 193, 'wilbur': 4895, 'campy': 612, 'ft': 1835, 'listing': 2611, 'substandard': 4292, 'cent': 681, 'suction': 4304, 'cleaning': 779, 'feed': 1665, 'compartment': 858, 'knife': 2472, 'tray': 4579, 'everyman': 1529, 'se': 3887, 'asia': 256, 'lao': 2506, 'august': 294, 'australian': 298, 'sloppy': 4064, 'functional': 1841, 'yep': 4980, 'meter': 2808, 'probe': 3427, 'convince': 947, 'atrocious': 278, 'wouldnt': 4953, 'kiss': 2468, 'jerry': 2406, 'lewis': 2566, 'depressing': 1153, 'holiday': 2127, 'cancel': 615, 'dissapointment': 1259, 'receipt': 3588, 'rude': 3790, 'discount': 1235, 'rack': 3524, 'pretend': 3401, 'bomb': 479, 'flop': 1747, 'simpson': 4021, 'drunk': 1339, 'whitney': 4883, 'allen': 126, 'crack': 988, 'santa': 3831, 'teeth': 4405, 'extent': 1602, 'youngster': 4990, 'billy': 431, 'remotely': 3665, 'annoying': 188, 'diehard': 1200, 'downright': 1304, 'stargate': 4205, 'signal': 4006, 'gas': 1874, 'pulse': 3483, 'flute': 1754, 'sax': 3843, 'storm': 4244, 'jones': 2424, 'quartet': 3502, 'william': 4898, 'dave': 1080, 'inappropriate': 2247, 'shut': 3998, 'duck': 1345, 'rail': 3531, 'caring': 642, 'yer': 4981, 'flag': 1727, 'reasonable': 3581, 'elvis': 1426, 'deborah': 1093, 'drummer': 1338, 'le': 2533, 'shove': 3993, 'spinout': 4169, 'king': 2465, 'diane': 1193, 'height': 2077, 'una': 4639, 'reed': 3616, 'cinema': 755, 'redeeming': 3611, 'chase': 709, 'erotic': 1498, 'listenable': 2608, 'motion': 2893, 'properly': 3459, 'expire': 1586, 'assembly': 266, 'furniture': 1847, 'ebay': 1380, 'separately': 3927, 'shade': 3953, 'hardware': 2036, 'knob': 2475, 'grind': 1980, 'crank': 991, 'grinder': 1981, 'operate': 3080, 'shoddy': 3983, 'brush': 558, 'jensen': 2404, 'pitch': 3280, 'accessible': 19, 'psychology': 3475, 'industry': 2272, 'intellectual': 2321, 'influential': 2279, 'teaching': 4392, 'fortunate': 1787, 'document': 1277, 'fuzzy': 1852, 'percent': 3229, 'unacceptable': 4641, 'unfortunate': 4664, 'breathe': 530, 'affect': 86, 'concern': 888, 'academy': 14, 'announce': 185, 'oscar': 3108, 'bible': 426, 'fifteen': 1686, 'journalist': 2426, 'minimal': 2835, 'hype': 2194, 'definite': 1118, 'metallica': 2806, 'garage': 1868, 'successfully': 4301, 'twenty': 4619, 'diagram': 1188, 'instructor': 2316, 'scale': 3845, 'violet': 4781, 'purple': 3494, 'promptly': 3453, 'training': 4565, 'nervous': 2969, 'photography': 3258, 'louis': 2652, 'groove': 1986, 'adapt': 49, 'rhyme': 3732, 'cube': 1032, 'gadget': 1856, 'magnum': 2690, 'refill': 3619, 'lip': 2602, 'lunchbox': 2671, 'stain': 4194, 'crocodile': 1021, 'lunch': 2670, 'drink': 1328, 'soup': 4134, 'breath': 529, 'ban': 337, 'weave': 4855, 'temptation': 4417, 'closer': 795, 'perfection': 3232, 'evolve': 1540, 'descent': 1156, 'sp': 4139, 'bum': 579, 'mediocre': 2777, 'mar': 2720, 'johnson': 2420, 'bland': 450, 'bash': 354, 'proud': 3468, 'biological': 437, 'gloria': 1922, 'wilson': 4901, 'lp': 2663, 'dated': 1078, 'howard': 2170, 'anne': 183, 'epic': 1488, 'slick': 4058, 'annie': 184, 'mtv': 2909, 'ann': 182, 'milk': 2826, 'career': 639, 'wolf': 4925, 'rockin': 3762, 'rocker': 3760, 'sorely': 4123, 'slave': 4054, 'mistress': 2854, 'truely': 4603, 'corny': 961, 'durability': 1355, 'pole': 3322, 'magnificent': 2689, 'complexity': 870, 'sonic': 4114, 'progressive': 3447, 'rhythm': 3733, 'spectrum': 4158, 'velcro': 4749, 'walker': 4814, 'albert': 116, 'collins': 821, 'sam': 3820, 'charlie': 706, 'hall': 2015, 'rage': 3529, 'jazzy': 2399, 'clock': 791, 'peanut': 3214, 'scripture': 3884, 'christ': 743, 'hd': 2054, 'sync': 4363, 'mouth': 2902, 'warner': 4827, 'whim': 4879, 'eve': 1519, 'quest': 3506, 'gang': 1866, 'broadcast': 548, 'blu': 466, 'ray': 3562, 'capacity': 625, 'appal': 211, 'retail': 3714, 'speaking': 4148, 'babe': 322, 'wise': 4915, 'eternal': 1515, 'charles': 705, 'crew': 1010, 'jesus': 2407, 'bless': 457, 'withstand': 4921, 'passage': 3190, 'crisp': 1015, 'deluxe': 1139, 'limitation': 2593, 'gentle': 1893, 'speech': 4159, 'uneven': 4658, 'thankfully': 4445, 'spec': 4150, 'min': 2830, 'couch': 970, 'soooo': 4119, 'widescreen': 4891, 'creation': 1002, 'upside': 4706, 'connect': 907, 'fluff': 1751, 'fifth': 1687, 'afford': 87, 'mattress': 2753, 'powerbook': 3365, 'adapter': 51, 'amp': 160, 'ibook': 2196, 'macally': 2677, 'ac': 12, 'apple': 217, 'cycle': 1054, 'fiddle': 1684, 'connection': 908, 'indicator': 2267, 'better': 422, 'fluke': 1752, 'generate': 1886, 'bargain': 348, 'brick': 537, 'handy': 2023, 'adaptor': 52, 'connector': 909, 'dud': 1346, 'resume': 3713, 'sufficient': 4310, 'continuously': 932, 'prone': 3454, 'drawback': 1317, 'aluminum': 145, 'operation': 3081, 'buzz': 596, 'await': 310, 'request': 3687, 'initial': 2286, 'quiet': 3511, 'questionable': 3508, 'orange': 3091, 'airport': 108, 'weigh': 4863, 'affordable': 88, 'glance': 1916, 'electrical': 1412, 'budget': 567, 'sacrifice': 3807, 'th': 4441, 'following': 1763, 'transformer': 4568, 'idiot': 2204, 'satisfaction': 3835, 'backpack': 327, 'outer': 3117, 'suspect': 4348, 'disconnect': 1234, 'hassle': 2045, 'obtain': 3040, 'resolve': 3698, 'usage': 4713, 'lemon': 2555, 'candy': 617, 'added': 54, 'oem': 3054, 'justify': 2444, 'lighting': 2579, 'unstable': 4691, 'um': 4636, 'temporary': 4415, 'compact': 851, 'missing': 2851, 'puppy': 3489, 'link': 2599, 'overprice': 3131, 'whine': 4881, 'shaft': 3955, 'odds': 3050, 'binchy': 433, 'fuss': 1849, 'discourage': 1236, 'silver': 4012, 'observation': 3038, 'teller': 4408, 'marvelous': 2737, 'nephew': 2967, 'artistic': 250, 'busy': 589, 'improvement': 2243, 'jumping': 2438, 'toddler': 4515, 'pin': 3273, 'bead': 374, 'sand': 3824, 'scifi': 3870, 'spiritual': 4171, 'dude': 1347, 'queensryche': 3505, 'booklet': 486, 'il': 2210, 'tempo': 4414, 'del': 1128, 'empire': 1443, 'dire': 1217, 'mike': 2821, 'un': 4638, 'west': 4868, 'pig': 3268, 'wine': 4906, 'por': 3338, 'en': 1445, 'excelente': 1549, 'ma': 2675, 'es': 1501, 'brian': 536, 'rust': 3802, 'manufacture': 2716, 'station': 4210, 'poem': 3314, 'verse': 4756, 'leader': 2535, 'cannon': 618, 'expedition': 1578, 'river': 3753, 'fort': 1785, 'gun': 2003, 'trek': 4584, 'cambridge': 604, 'install': 2307, 'mount': 2899, 'resonate': 3699, 'mechanical': 2771, 'core': 958, 'corporation': 963, 'evident': 1535, 'traveler': 4577, 'scenery': 3858, 'odysseus': 3052, 'ulysses': 4635, 'infrared': 2284, 'vibrate': 4763, 'flashlight': 1730, 'bulb': 575, 'heating': 2071, 'unfair': 4660, 'occasional': 3044, 'eddie': 1388, 'horizon': 2150, 'latin': 2519, 'funk': 1844, 'texture': 4440, 'testament': 4437, 'circumstance': 760, 'aussie': 296, 'shower': 3995, 'monkey': 2872, 'creep': 1008, 'writen': 4958, 'reprint': 3685, 'technically': 4397, 'photograph': 3257, 'reunion': 3718, 'overdue': 3127, 'webb': 4857, 'dimension': 1211, 'glen': 1918, 'campbell': 610, 'moving': 2906, 'upbeat': 4696, 'dwarf': 1360, 'interpretation': 2341, 'stunning': 4280, 'organize': 3099, 'amish': 156, 'therapist': 4454, 'translate': 4570, 'confused': 904, 'platform': 3294, 'commentary': 841, 'enthral': 1478, 'disgrace': 1243, 'remark': 3656, 'humble': 2180, 'cooker': 951, 'uplifting': 4701, 'importance': 2234, 'simplicity': 4018, 'quilt': 3512, 'sentiment': 3925, 'insightful': 2298, 'calm': 603, 'east': 1376, 'marine': 2725, 'closely': 794, 'leak': 2539, 'salt': 3819, 'meal': 2762, 'locally': 2625, 'output': 3121, 'magnet': 2688, 'celtic': 676, 'wipe': 4911, 'chore': 740, 'spill': 4166, 'tried': 4591, 'bunny': 582, 'shaker': 3957, 'detect': 1174, 'chunk': 751, 'invasion': 2353, 'coherent': 811, 'burmese': 583, 'breed': 533, 'meat': 2770, 'chicken': 725, 'raw': 3561, 'characteristic': 701, 'beloved': 408, 'gorgeous': 1947, 'trace': 4555, 'enable': 1446, 'napoleon': 2936, 'biography': 436, 'specialist': 4152, 'differ': 1202, 'emperor': 1440, 'praise': 3370, 'criticize': 1019, 'memoir': 2789, 'lab': 2488, 'sinister': 4030, 'haha': 2010, 'ghost': 1903, 'setup': 3942, 'rural': 3797, 'running': 3796, 'urban': 4708, 'spirituality': 4172, 'fifty': 1688, 'tore': 4534, 'catherine': 665, 'comfort': 832, 'cream': 999, 'haunt': 2049, 'revisit': 3725, 'reissue': 3636, 'dishwasher': 1247, 'headset': 2059, 'bluetooth': 469, 'motorola': 2898, 'wannabe': 4819, 'prepared': 3393, 'clip': 790, 'harmony': 2040, 'songwriter': 4113, 'camp': 608, 'inventory': 2355, 'taylor': 4386, 'boat': 474, 'pocket': 3313, 'arrange': 239, 'immortal': 2228, 'chill': 730, 'thrash': 4476, 'excellence': 1551, 'northern': 3014, 'dome': 1288, 'xmas': 4967, 'diameter': 1191, 'google': 1944, 'prep': 3390, 'density': 1145, 'ensure': 1473, 'lecture': 2547, 'brazil': 523, 'scope': 3872, 'companion': 853, 'experiment': 1583, 'tilt': 4497, 'adjustment': 64, 'opener': 3077, 'drill': 1327, 'paste': 3195, 'dolly': 1287, 'parton': 3186, 'sustain': 4351, 'delivers': 1136, 'sugar': 4311, 'independent': 2261, 'lend': 2556, 'unforgettable': 4663, 'fond': 1764, 'soar': 4086, 'lhasa': 2567, 'sings': 4029, 'wrench': 4956, 'kurt': 2485, 'intimate': 2345, 'diversity': 1270, 'originality': 3102, 'tango': 4377, 'ala': 112, 'subsequent': 4290, 'musicianship': 2923, 'modest': 2863, 'abroad': 4, 'spooky': 4178, 'majestic': 2697, 'flexible': 1739, 'knight': 2473, 'phillips': 3252, 'accurately': 30, 'audiobook': 292, 'accent': 15, 'climb': 789, 'elizabeth': 1421, 'whats': 4873, 'sir': 4032, 'simon': 4015, 'laughter': 2523, 'mankind': 2711, 'bubble': 561, 'workmanship': 4940, 'holy': 2133, 'casting': 657, 'standout': 4201, 'bolt': 478, 'route': 3783, 'india': 2263, 'sport': 4179, 'headphone': 2058, 'eidos': 1406, 'gameplay': 1863, 'tomb': 4522, 'raider': 3530, 'delay': 1129, 'lara': 2510, 'horrid': 2154, 'stall': 4197, 'blank': 451, 'ram': 3536, 'turkey': 4612, 'restart': 3708, 'unplayable': 4685, 'controller': 940, 'sensitive': 3920, 'fence': 1679, 'news': 2977, 'cutting': 1052, 'preview': 3405, 'franchise': 1802, 'depressed': 1152, 'playable': 3297, 'sticker': 4227, 'unusable': 4693, 'glitch': 1921, 'bat': 362, 'explosion': 1592, 'fighting': 1691, 'resident': 3695, 'washer': 4834, 'deck': 1102, 'chemical': 719, 'network': 2971, 'retailer': 3715, 'disposable': 1255, 'motor': 2896, 'absent': 5, 'updated': 4699, 'impact': 2230, 'fishing': 1720, 'ego': 1404, 'buggy': 571, 'relevance': 3645, 'desperate': 1167, 'forum': 1790, 'foreign': 1775, 'watson': 4845, 'desperately': 1168, 'succeed': 4298, 'merely': 2800, 'polish': 3325, 'erotica': 1499, 'inaccurate': 2245, 'realise': 3572, 'lust': 2672, 'devote': 1183, 'fragile': 1799, 'staple': 4202, 'sarah': 3833, 'devoid': 1182, 'backdrop': 325, 'wierd': 4893, 'wedge': 4860, 'dawn': 1082, 'leaf': 2537, 'oversized': 3135, 'clamp': 767, 'round': 3782, 'april': 226, 'buddhism': 564, 'inevitably': 2274, 'entirety': 1482, 'gifted': 1908, 'notion': 3021, 'documentary': 1278, 'planning': 3290, 'vol': 4801, 'restore': 3711, 'shoulder': 3991, 'rope': 3777, 'escape': 1503, 'reverse': 3722, 'anchor': 168, 'logical': 2632, 'miserably': 2845, 'harder': 2034, 'limp': 2595, 'code': 809, 'brutal': 559, 'mayhem': 2758, 'vein': 4748, 'interface': 2335, 'army': 237, 'arch': 228, 'strategy': 4257, 'demo': 1142, 'terrain': 4426, 'expansion': 1575, 'few': 1680, 'tribe': 4588, 'intro': 2348, 'partial': 3182, 'alert': 120, 'cousin': 983, 'enjoyed': 1467, 'ella': 1422, 'buddhist': 565, 'obnoxious': 3036, 'humorous': 2182, 'quirky': 3513, 'reread': 3690, 'tremendously': 4586, 'blessing': 458, 'crowd': 1024, 'tick': 4488, 'leadership': 2536, 'lace': 2492, 'strand': 4252, 'cage': 599, 'martin': 2735, 'discovery': 1238, 'belva': 410, 'consume': 921, 'stable': 4190, 'immensely': 2227, 'gerald': 1898, 'breakdown': 526, 'housing': 2168, 'strictly': 4264, 'toss': 4537, 'bin': 432, 'golf': 1937, 'filter': 1698, 'unlock': 4683, 'roller': 3767, 'coaster': 805, 'bruce': 556, 'martial': 2734, 'relation': 3639, 'discipline': 1233, 'grey': 1978, 'harlequin': 2038, 'melissa': 2784, 'undoubtedly': 4657, 'delete': 1130, 'blast': 453, 'virus': 4785, 'midi': 2818, 'countless': 975, 'component': 874, 'behave': 394, 'su': 4286, 'como': 850, 'examination': 1545, 'glue': 1928, 'accessory': 20, 'bow': 505, 'indian': 2264, 'minus': 2841, 'intent': 2327, 'radiator': 3526, 'nickel': 2984, 'installation': 2308, 'comparison': 857, 'pan': 3163, 'lightness': 2581, 'nikon': 2992, 'usable': 4712, 'zoom': 4999, 'lens': 2559, 'disguise': 1244, 'hilditch': 2109, 'felicia': 1671, 'johnny': 2419, 'viewpoint': 4773, 'supplement': 4326, 'fi': 1681, 'faster': 1650, 'golden': 1936, 'coat': 806, 'pump': 3484, 'mug': 2913, 'liquid': 2604, 'monitor': 2870, 'adjustable': 63, 'crappy': 993, 'generic': 1888, 'refresh': 3622, 'marvel': 2736, 'profoundly': 3442, 'ministry': 2837, 'newly': 2975, 'alcohol': 118, 'representation': 3684, 'violent': 4780, 'origin': 3100, 'picky': 3265, 'leather': 2545, 'alarm': 113, 'carbon': 635, 'monoxide': 2875, 'protection': 3467, 'deaf': 1087, 'vent': 4753, 'carpet': 645, 'ceiling': 673, 'pricey': 3409, 'approve': 225, 'curtain': 1045, 'emergency': 1432, 'dive': 1268, 'wisdom': 4914, 'brainless': 518, 'neighbor': 2964, 'inspiring': 2305, 'journal': 2425, 'madonna': 2683, 'bored': 493, 'rose': 3779, 'dean': 1089, 'shout': 3992, 'whoever': 4884, 'defect': 1111, 'valve': 4734, 'nipple': 2996, 'lane': 2504, 'launch': 2524, 'securely': 3902, 'subtitle': 4295, 'yoga': 4986, 'workbook': 4937, 'exhaust': 1569, 'tribute': 4589, 'riff': 3743, 'ironic': 2367, 'popcorn': 3335, 'expression': 1597, 'xanth': 4965, 'unreadable': 4687, 'zombie': 4998, 'dale': 1060, 'elevator': 1419, 'beatles': 379, 'asian': 257, 'pool': 3331, 'towel': 4550, 'coleman': 813, 'soviet': 4138, 'frightening': 1827, 'tightly': 4494, 'region': 3630, 'makeup': 2702, 'lesbian': 2560, 'consistent': 914, 'elastic': 1410, 'dot': 1296, 'umbra': 4637, 'tile': 4495, 'warmth': 4825, 'national': 2944, 'riddle': 3739, 'korean': 2482, 'vegetarian': 4746, 'cookbook': 950, 'pa': 3143, 'establish': 1509, 'nyc': 3033, 'phenomenal': 3249, 'acknowledge': 33, 'diabetic': 1186, 'glucose': 1927, 'medication': 2775, 'diabetes': 1185, 'kudos': 2483, 'educate': 1394, 'peak': 3213, 'med': 2773, 'venus': 4755, 'identical': 2201, 'individually': 2270, 'buff': 569, 'stalingrad': 4196, 'luftwaffe': 2667, 'argentine': 231, 'dancing': 1067, 'dancer': 1066, 'routine': 3785, 'ranger': 3544, 'february': 1663, 'schedule': 3860, 'edward': 1397, 'excellant': 1550, 'dede': 1105, 'amuse': 161, 'described': 1158, 'bd': 371, 'boxset': 510, 'spiderman': 4165, 'extraordinary': 1606, 'samsung': 3822, 'xbox': 4966, 'russian': 3801, 'andrew': 171, 'bold': 477, 'mere': 2799, 'grainy': 1959, 'diamond': 1192, 'acid': 32, 'sympathy': 4362, 'wicca': 4887, 'invent': 2354, 'goddess': 1934, 'hutton': 2192, 'obscure': 3037, 'conduct': 895, 'firewire': 1714, 'september': 3928, 'ad': 47, 'tony': 4528, 'alittle': 124, 'ending': 1451, 'lifetime': 2576, 'lake': 2499, 'pitchshifter': 3281, 'industrial': 2271, 'manager': 2709, 'scotland': 3874, 'canada': 614, 'ra': 3518, 'awe': 315, 'egyptian': 1405, 'amateurish': 148, 'challenging': 693, 'rewrite': 3730, 'liberty': 2569, 'washing': 4835, 'monumental': 2880, 'kirk': 2467, 'cameron': 607, 'ljs': 2621, 'gillian': 1910, 'popularity': 3337, 'gary': 1873, 'creature': 1005, 'communist': 848, 'haiku': 2011, 'problematic': 3429, 'van': 4736, 'handbook': 2020, 'poet': 3315, 'kerouac': 2453, 'skeptical': 4044, 'mothman': 2892, 'prophecy': 3461, 'keel': 2448, 'ufo': 4629, 'phenomenon': 3250, 'disjoint': 1248, 'sighting': 4004, 'albeit': 115, 'screenwriter': 3881, 'gordon': 1945, 'primarily': 3411, 'mighty': 2820, 'storytelling': 4249, 'controversial': 941, 'admittedly': 67, 'beast': 377, 'london': 2636, 'parallel': 3174, 'incoherent': 2251, 'happening': 2026, 'scenario': 3856, 'acquire': 36, 'entitle': 1483, 'goofy': 1943, 'stormy': 4245, 'monster': 2876, 'sincere': 4024, 'copyright': 956, 'dreck': 1324, 'innovative': 2292, 'pulp': 3482, 'racism': 3522, 'fighter': 1690, 'lene': 2557, 'analog': 164, 'replay': 3680, 'censorship': 680, 'anime': 180, 'kettle': 2454, 'suicide': 4314, 'math': 2750, 'newman': 2976, 'definitive': 1121, 'debate': 1092, 'nightwish': 2991, 'faithful': 1629, 'eva': 1518, 'bob': 475, 'frequent': 1816, 'temp': 4410, 'hospital': 2160, 'tent': 4423, 'alice': 121, 'criticism': 1018, 'module': 2864, 'bdsm': 372, 'pre': 3374, 'maria': 2722, 'inadequate': 2246, 'snmp': 4080, 'lately': 2517, 'tooth': 4530, 'randomly': 3542, 'frankenstein': 1806, 'koontz': 2481, 'repetition': 3676, 'ally': 129, 'madman': 2681, 'prelude': 3388, 'madness': 2682, 'canon': 619, 'panasonic': 3164, 'rewind': 3729, 'posting': 3355, 'illumination': 2214, 'sixty': 4039, 'differently': 1205, 'nirvana': 2997, 'cobain': 807, 'hardcore': 2032, 'bean': 375, 'estate': 1510, 'courtney': 982, 'catalogue': 661, 'boxed': 509, 'yea': 4974, 'recover': 3606, 'doug': 1299, 'mud': 2911, 'fitness': 1723, 'survival': 4346, 'hiking': 2107, 'drip': 1330, 'gritty': 1984, 'sci': 3866, 'lillian': 2590, 'dell': 1138, 'toxic': 4553, 'avenger': 306, 'troma': 4599, 'citizen': 762, 'poster': 3354, 'utter': 4726, 'router': 3784, 'flush': 1753, 'carriage': 646, 'vitex': 4794, 'eliminate': 1420, 'mild': 2822, 'acne': 34, 'facial': 1615, 'darker': 1073, 'touching': 4543, 'camping': 611, 'admire': 65, 'exuviance': 1609, 'vibrator': 4765, 'heinlein': 2078, 'motivate': 2894, 'fare': 1643, 'depiction': 1150, 'realism': 3573, 'pursue': 3496, 'hardy': 2037, 'rape': 3548, 'alec': 119, 'valley': 4731, 'telling': 4409, 'prediction': 3382, 'michigan': 2813, 'couldnt': 972, 'scare': 3850, 'heartbreaking': 2068, 'monotonous': 2874, 'confront': 901, 'bike': 429, 'snuggly': 4084, 'carrier': 647, 'grandfather': 1965, 'viewing': 4772, 'bradley': 516, 'crawford': 995, 'outdoor': 3116, 'satire': 3834, 'juliet': 2435, 'watching': 4842, 'sleeper': 4056, 'dismiss': 1252, 'cinematography': 757, 'kundera': 2484, 'regime': 3629, 'paranoid': 3176, 'hendrix': 2087, 'odor': 3051, 'sf': 3952, 'voyage': 4806, 'heater': 2070, 'chaos': 698, 'hopeful': 2147, 'slot': 4065, 'postcard': 3353, 'mt': 2908, 'pilot': 3272, 'accident': 21, 'gossip': 1950, 'barn': 349, 'nobel': 2998, 'bay': 368, 'attend': 282, 'hike': 2106, 'maggie': 2685, 'dharma': 1184, 'bud': 563, 'fame': 1633, 'contemplate': 925, 'overrated': 3133, 'hp': 2172, 'theology': 4452, 'shia': 3973, 'megan': 2782, 'fox': 1797, 'actress': 44, 'he': 2055, 'labeouf': 2490, 'ben': 411, 'provider': 3471, 'ep': 1487, 'optimus': 3089, 'freak': 1810, 'bluray': 471, 'banal': 338, 'mentality': 2794, 'continuity': 931, 'nonexistent': 3008, 'browser': 555, 'cgi': 689, 'jar': 2392, 'remake': 3655, 'procedure': 3430, 'bullet': 578, 'alter': 139, 'slam': 4051, 'dts': 1341, 'stupidity': 4283, 'blockbuster': 461, 'branch': 519, 'resist': 3696, 'gb': 1877, 'jackson': 2384, 'syndrome': 4364, 'theatrical': 4450, 'alpha': 135, 'ticket': 4489, 'hockey': 2122, 'cement': 677, 'destruction': 1171, 'bruckheimer': 557, 'cowboy': 986, 'can': 613, 'helicopter': 2079, 'violin': 4782, 'specie': 4154, 'decline': 1103, 'ie': 2205, 'epson': 1490, 'compatibility': 859, 'rambo': 3540, 'wwe': 4962, 'cena': 678, 'patrick': 3204, 'cringe': 1013, 'security': 3903, 'hogan': 2123, 'terminator': 4425, 'dramatically': 1315, 'hiss': 2114, 'emarker': 1429, 'playlist': 3301, 'emarks': 1430, 'execution': 1566, 'terrifying': 4431, 'censor': 679, 'gammell': 1865, 'ti': 4487, 'compromise': 882, 'gruesome': 1992, 'tame': 4376, 'horrify': 2156, 'helquist': 2084, 'scared': 3851, 'echo': 1383, 'sneak': 4079, 'aloud': 134, 'mythology': 2932, 'rice': 3734, 'bellydance': 405, 'atea': 274, 'privacy': 3422, 'brando': 521, 'altitude': 143, 'insole': 2300, 'trail': 4562, 'rugged': 3791, 'warmer': 4824, 'muy': 2927, 'tongue': 4527, 'padding': 3150, 'notch': 3016, 'ralph': 3535, 'recognition': 3597, 'gabriel': 1855, 'cult': 1033, 'hound': 2165, 'ballet': 335, 'defense': 1114, 'predator': 3379, 'ryan': 3806, 'christopher': 748, 'officer': 3060, 'julie': 2434, 'malfunction': 2705, 'poignant': 3318, 'douglas': 1300, 'genuine': 1896, 'brio': 544, 'sensor': 3921, 'automatic': 303, 'feeder': 1667, 'reset': 3694, 'stewart': 4225, 'mellow': 2785, 'underground': 4649, 'amnesia': 157, 'crawl': 996, 'jude': 2430, 'tubthumping': 4609, 'lightning': 2582, 'gal': 1858, 'pitiful': 3282, 'earthquake': 1373, 'laser': 2514, 'misplace': 2849, 'artificial': 248, 'reminiscent': 3662, 'mule': 2914, 'gibson': 1906, 'oppose': 3084, 'seldon': 3910, 'isaac': 2371, 'spoiler': 4177, 'galaxy': 1859, 'futuristic': 1851, 'defend': 1113, 'unexpected': 4659, 'genesis': 1890, 'wwi': 4963, 'carrot': 648, 'vacuum': 4729, 'addiction': 56, 'nick': 2983, 'cf': 688, 'dentist': 1146, 'batman': 364, 'guinea': 2000, 'phase': 3248, 'mccartney': 2760, 'removable': 3666, 'ritter': 3750, 'goodbye': 1940, 'joyce': 2429, 'janet': 2389, 'gay': 1876, 'external': 1603, 'microphone': 2815, 'britney': 546, 'spear': 4149, 'catholic': 666, 'philosophical': 3253, 'portrait': 3343, 'recovery': 3607, 'cancer': 616, 'sander': 3825, 'sensation': 3918, 'turtle': 4615, 'dystopian': 1362, 'stunt': 4281, 'aerial': 84, 'racist': 3523, 'pal': 3159, 'shakespeare': 3958, 'rainy': 3533, 'craze': 997, 'dinosaur': 1215, 'harness': 2041, 'homosexual': 2137, 'rashel': 3553, 'dominate': 1289, 'curie': 1039, 'prize': 3424, 'simpletech': 4017, 'mb': 2759, 'massacre': 2741, 'patti': 3206, 'antonio': 197, 'stuck': 4273, 'evita': 1537, 'intex': 2344, 'inflate': 2277, 'airbed': 105, 'deflate': 1123, 'comforter': 835, 'lump': 2669, 'restock': 3710, 'xtra': 4969, 'flannel': 1728, 'chat': 710, 'fleetwood': 1737, 'rumour': 3794, 'mercedes': 2798, 'harmon': 2039, 'ford': 1774, 'passionate': 3193, 'cocktail': 808, 'jungle': 2440, 'oop': 3074, 'fonda': 1765, 'barbra': 345, 'rob': 3756, 'luke': 2668, 'mattel': 2751, 'kinsella': 2466, 'sophie': 4120, 'eby': 1382, 'romeo': 3773, 'spread': 4183, 'nurse': 3031, 'garcia': 1870, 'incest': 2248, 'yello': 4978, 'steiner': 4217, 'shirley': 3980, 'homosexuality': 2138, 'manson': 2714, 'bugliosi': 572, 'helter': 2085, 'skelter': 4043, 'stoner': 4240, 'gnostic': 1930, 'tene': 4421, 'airplane': 107, 'dali': 1061, 'basement': 353, 'ninety': 2995, 'batcave': 363, 'insist': 2299, 'pci': 3211, 'clavell': 777, 'nomad': 3004, 'recharge': 3594, 'knit': 2474, 'voodoo': 4804, 'nba': 2951, 'ritual': 3751, 'toefl': 4517, 'shift': 3974, 'civil': 764, 'earpiece': 1371, 'vegan': 4745, 'tina': 4505, 'wilderness': 4897, 'sd': 3886, 'sandisk': 3826, 'sansa': 3830, 'carnegie': 644, 'snack': 4077, 'creamer': 1000, 'advocate': 83, 'vincent': 4776, 'prosecutor': 3464, 'slasher': 4053, 'monk': 2871, 'collar': 816, 'dracula': 1309, 'flint': 1743, 'wireless': 4913, 'strauss': 4258, 'jabra': 2381, 'eargels': 1367, 'earbuds': 1366, 'jawbone': 2396, 'chuck': 750, 'clan': 768, 'swedish': 4354, 'assante': 264, 'odyssey': 3053, 'ian': 2195, 'misfortune': 2846, 'philadelphia': 3251, 'programmer': 3444, 'winston': 4909, 'moby': 2859, 'peck': 3216, 'ahab': 99, 'resemble': 3693, 'damme': 1063, 'flea': 1736, 'frank': 1804, 'lackey': 2494, 'venice': 4752, 'tuscan': 4616, 'tuscany': 4617, 'communism': 847, 'rollerball': 3768, 'russell': 3799, 'pastor': 3196, 'megaman': 2781, 'chandler': 695, 'noir': 3001, 'scooter': 3871, 'pratchett': 3371, 'discworld': 1241, 'om': 3068, 'celiac': 674, 'gluten': 1929, 'amy': 163, 'usmle': 4721, 'anatomy': 167, 'freshman': 1819, 'dogg': 1283, 'gba': 1878, 'carter': 650, 'rebel': 3583, 'bowie': 506, 'holmes': 2131, 'confrontation': 902, 'sting': 4232, 'cummins': 1036, 'freud': 1820, 'organic': 3097, 'parable': 3171, 'vivitar': 4796, 'joan': 2414, 'palance': 3160, 'souljah': 4129, 'fw': 1853, 'childbirth': 727, 'birthing': 441, 'sheri': 3971, 'lamaze': 2500, 'bayles': 369, 'argento': 232, 'usher': 4720, 'auel': 293, 'ayla': 321, 'prehistoric': 3386, 'intellectually': 2322, 'neanderthal': 2952, 'lipstick': 2603, 'sega': 3908, 'gamecube': 1862, 'limerick': 2591, 'gameboy': 1861, 'astrology': 272, 'antivirus': 196, 'femalien': 1677, 'unrated': 4686, 'flyboys': 1756, 'lafayette': 2498, 'escadrille': 1502, 'dogfight': 1282, 'judith': 2432, 'hostel': 2162, 'bleak': 454, 'paced': 3145, 'bebel': 383, 'everest': 1525, 'gammelgaard': 1864, 'elmo': 1423, 'firefighter': 1711, 'csi': 1031, 'taz': 4387, 'frm': 1828, 'garp': 1872, 'enrich': 1472, 'oceania': 3047, 'forbidden': 1772, 'totalitarian': 4539, 'newspeak': 2979, 'totalitarianism': 4540, 'fundamentalist': 1843, 'concealer': 885, 'huppert': 2188, 'zeta': 4996, 'rosalind': 3778, 'montag': 2877, 'fireman': 1712, 'farenheit': 1644, 'piper': 3277, 'fellowship': 1674, 'gimli': 1911, 'moria': 2887, 'rivendell': 3752, 'ati': 275, 'radeon': 3525, 'compactflash': 852, 'emily': 1433, 'pam': 3162, 'finnegans': 1709, 'finnegan': 1708, 'geforce': 1880, 'lapinator': 2508, 'hatebreed': 2048, 'halti': 2017, 'continuum': 933, 'musiq': 2924, 'lola': 2635, 'franka': 1805, 'soccer': 4087, 'tism': 4510, 'ziggy': 4997, 'stardust': 4204, 'nickelodeon': 2985, 'knot': 2477, 'liam': 2568, 'owen': 3140, 'neeson': 2962, 'lili': 2589, 'asvab': 273, 'goodman': 1941, 'cedar': 672, 'florette': 1748, 'manon': 2713, 'apache': 208, 'minolta': 2838, 'marquez': 2730, 'oprah': 3087, 'buendia': 568, 'macondo': 2679, 'java': 2394, 'canterbury': 621, 'chaucer': 711, 'pellegrino': 3220, 'coyote': 987, 'perabo': 3228, 'redgrave': 3613, 'warnes': 4828, 'ronson': 3774, 'tomcat': 4523, 'fraser': 1808, 'mckellen': 2761, 'brendan': 535, 'mosby': 2889, 'stacie': 4191, 'orrico': 3105, 'christina': 745, 'ry': 3805, 'carlton': 643, 'hopkins': 2149, 'lovebird': 2656, 'linksys': 2600, 'basset': 361, 'baskerville': 358, 'doyle': 1306, 'sherlock': 3972, 'baskervilles': 359, 'marlon': 2729, 'donati': 1291, 'claustrophobic': 776, 'ventriloquist': 4754}\n"
     ]
    }
   ],
   "source": [
    "print(Tfidf_vect.vocabulary_)"
   ]
  },
  {
   "cell_type": "code",
   "execution_count": 27,
   "metadata": {},
   "outputs": [
    {
     "name": "stdout",
     "output_type": "stream",
     "text": [
      "  (0, 4957)\t0.07586733140979379\n",
      "  (0, 4942)\t0.09089372327775941\n",
      "  (0, 4903)\t0.3090049850489963\n",
      "  (0, 4867)\t0.06428363380327687\n",
      "  (0, 4648)\t0.14020777499195844\n",
      "  (0, 4396)\t0.14499159789872404\n",
      "  (0, 4346)\t0.16973233039759245\n",
      "  (0, 4250)\t0.12946682926754657\n",
      "  (0, 4206)\t0.08683718340340323\n",
      "  (0, 4046)\t0.14020777499195844\n",
      "  (0, 3988)\t0.10275103018015055\n",
      "  (0, 3944)\t0.10301312487725234\n",
      "  (0, 3783)\t0.17864121444541547\n",
      "  (0, 3753)\t0.15850846388039252\n",
      "  (0, 3319)\t0.09549495601432467\n",
      "  (0, 3264)\t0.10592198164914096\n",
      "  (0, 3249)\t0.16973233039759245\n",
      "  (0, 3213)\t0.1737383017534868\n",
      "  (0, 3120)\t0.1620793316801583\n",
      "  (0, 3071)\t0.04922790752729131\n",
      "  (0, 3024)\t0.16797363109825075\n",
      "  (0, 2900)\t0.14273607963769358\n",
      "  (0, 2763)\t0.10283804816150456\n",
      "  (0, 2700)\t0.05747795617866072\n",
      "  (0, 2584)\t0.053363462674831504\n",
      "  :\t:\n",
      "  (6993, 2515)\t0.1187411912477818\n",
      "  (6993, 2118)\t0.14090129285955816\n",
      "  (6993, 1973)\t0.0735317987507145\n",
      "  (6993, 1779)\t0.22657826251647156\n",
      "  (6993, 1744)\t0.20518488512814215\n",
      "  (6993, 1707)\t0.13942732740765992\n",
      "  (6993, 1581)\t0.1406276674514126\n",
      "  (6993, 1564)\t0.19062217115284613\n",
      "  (6993, 1530)\t0.13916719940259775\n",
      "  (6993, 1524)\t0.1021013444180508\n",
      "  (6993, 1292)\t0.15238780913320424\n",
      "  (6993, 1181)\t0.2396876743671764\n",
      "  (6993, 485)\t0.37397588521486863\n",
      "  (6994, 4867)\t0.16345082448721862\n",
      "  (6994, 4151)\t0.5212028322464738\n",
      "  (6994, 3827)\t0.3643074942520588\n",
      "  (6994, 2905)\t0.16612102080889052\n",
      "  (6994, 2700)\t0.14614636372288298\n",
      "  (6994, 1973)\t0.14163566943748163\n",
      "  (6994, 1662)\t0.2815344712382053\n",
      "  (6994, 1520)\t0.17259574249337437\n",
      "  (6994, 1392)\t0.28863288863107456\n",
      "  (6994, 1232)\t0.31424561024028536\n",
      "  (6994, 316)\t0.2858213696246621\n",
      "  (6994, 48)\t0.3564993928639087\n"
     ]
    }
   ],
   "source": [
    "print(Train_X_Tfidf)"
   ]
  },
  {
   "cell_type": "markdown",
   "metadata": {},
   "source": [
    "###### Paso - 5: ahora podemos ejecutar diferentes algoritmos para clasificar la verificación de datos para la precisión"
   ]
  },
  {
   "cell_type": "code",
   "execution_count": 28,
   "metadata": {},
   "outputs": [
    {
     "name": "stdout",
     "output_type": "stream",
     "text": [
      "Naive Bayes Accuracy Score ->  82.86095365121707\n"
     ]
    }
   ],
   "source": [
    "# Clasificador - Algoritmo - Naive Bayes\n",
    "# Se ajusta el conjunto de datos de entrenamiento en el clasificador\n",
    "Naive = naive_bayes.MultinomialNB()\n",
    "Naive.fit(Train_X_Tfidf,Train_Y)\n",
    "# Predecir las etiquetas en el conjunto de datos de validación\n",
    "predictions_NB = Naive.predict(Test_X_Tfidf)\n",
    "# Usando la función de precision_score para obtener la precisión\n",
    "print(\"Naive Bayes Accuracy Score -> \",accuracy_score(predictions_NB, Test_Y)*100)"
   ]
  },
  {
   "cell_type": "code",
   "execution_count": 29,
   "metadata": {},
   "outputs": [
    {
     "name": "stdout",
     "output_type": "stream",
     "text": [
      "SVM Accuracy Score ->  83.09436478826275\n"
     ]
    }
   ],
   "source": [
    "# Clasificador - Algoritmo - SVM\n",
    "# Se ajusta el conjunto de datos de entrenamiento en el clasificador\n",
    "SVM = svm.SVC(C=1.0, kernel='linear', degree=3, gamma='auto')\n",
    "SVM.fit(Train_X_Tfidf,Train_Y)\n",
    "# predecir las etiquetas en el conjunto de datos de validación\n",
    "predictions_SVM = SVM.predict(Test_X_Tfidf)\n",
    "# Usando la función precision_score para obtener la precisión\n",
    "print(\"SVM Accuracy Score -> \",accuracy_score(predictions_SVM, Test_Y)*100)"
   ]
  },
  {
   "cell_type": "markdown",
   "metadata": {},
   "source": [
    "# Preguntas establecidas en el artículo"
   ]
  },
  {
   "cell_type": "markdown",
   "metadata": {},
   "source": [
    "En algunas preguntas si fueron algo coplejas debido a que en el artículo se enfocan en los resultados más que en compartir los algoritmos."
   ]
  },
  {
   "cell_type": "markdown",
   "metadata": {},
   "source": [
    "### Pregunta 1\n",
    "1.- ¿Son todos los n-gramas de caracteres igualmente importantes? "
   ]
  },
  {
   "cell_type": "markdown",
   "metadata": {},
   "source": [
    "Se divide los n-gramas de caracteres en diez categorías disjuntas,\n",
    "ilustrando empíricamente qué categorías existen. La precisión de\n",
    "cada tipo de n-grama para cada uno de los diferentes dataset. En el artículo se muestra que las cuatro categorías principales para\n",
    "los AA de dominio único son: prefijo, sufijo, prefijo espacial,y a infijo de palabra."
   ]
  },
  {
   "cell_type": "code",
   "execution_count": 35,
   "metadata": {},
   "outputs": [],
   "source": [
    "def respuesta_uno(text, n): \n",
    "    n-=1 \n",
    "    return [text[i-n:i+1] for i,char in enumerate(text)][n:] "
   ]
  },
  {
   "cell_type": "code",
   "execution_count": 38,
   "metadata": {},
   "outputs": [
    {
     "data": {
      "text/plain": [
       "['Bib', 'ibl', 'bli', 'lio', 'iot', 'ote', 'tec', 'eca']"
      ]
     },
     "execution_count": 38,
     "metadata": {},
     "output_type": "execute_result"
    }
   ],
   "source": [
    "respuesta_uno('Biblioteca',3)"
   ]
  },
  {
   "cell_type": "markdown",
   "metadata": {},
   "source": [
    "Definitivamente tendrá el impacto en cada uno de los n-gramas que ayuden a completar o que tengan mayor impacto para la palabra completa."
   ]
  },
  {
   "cell_type": "markdown",
   "metadata": {},
   "source": [
    "### Pregunta 2\n",
    "\n",
    "2.- Por ejemplo, son el prefijo de \"there\", el sufijo de \"breathe\" y toda la palabra \"the\" todo equivalente?\n"
   ]
  },
  {
   "cell_type": "markdown",
   "metadata": {},
   "source": [
    "Respuesta:\n",
    "\n",
    "\n",
    "En el artículo se menciona que el prefijo espacial son características fuertes, y generalmente son\n",
    "mejor que las características del sufijo, quizás porque\n",
    "los autores tienen más control sobre los prefijos en inglés,\n",
    "mientras que los sufijos son a menudo obligatorios para la gramática\n",
    "razones."
   ]
  },
  {
   "cell_type": "code",
   "execution_count": 40,
   "metadata": {},
   "outputs": [
    {
     "data": {
      "text/plain": [
       "['the', 'her', 'ere']"
      ]
     },
     "execution_count": 40,
     "metadata": {},
     "output_type": "execute_result"
    }
   ],
   "source": [
    "respuesta_uno('there',3)"
   ]
  },
  {
   "cell_type": "code",
   "execution_count": 41,
   "metadata": {},
   "outputs": [
    {
     "data": {
      "text/plain": [
       "['bre', 'rea', 'eat', 'ath', 'the']"
      ]
     },
     "execution_count": 41,
     "metadata": {},
     "output_type": "execute_result"
    }
   ],
   "source": [
    "respuesta_uno('breathe',3)"
   ]
  },
  {
   "cell_type": "code",
   "execution_count": 42,
   "metadata": {},
   "outputs": [
    {
     "data": {
      "text/plain": [
       "['the']"
      ]
     },
     "execution_count": 42,
     "metadata": {},
     "output_type": "execute_result"
    }
   ],
   "source": [
    "respuesta_uno('the',3)"
   ]
  },
  {
   "cell_type": "markdown",
   "metadata": {},
   "source": [
    "### Pregunta 3\n",
    "\n",
    "3.- Más generalmente, son caracteres n-gramas que capturan información morfosintáctica, temática información e información de estilo por igual ¿importante?"
   ]
  },
  {
   "cell_type": "markdown",
   "metadata": {},
   "source": [
    "Respuesta:\n",
    "\n",
    "En el artículo indican que los experimentos  han demostrado, por ejemplo, que los prefijos n-gramas son universalmente predictivos"
   ]
  },
  {
   "cell_type": "code",
   "execution_count": 48,
   "metadata": {},
   "outputs": [],
   "source": [
    "from sklearn.naive_bayes import MultinomialNB\n",
    "from sklearn.metrics import roc_auc_score\n",
    "from sklearn.feature_extraction.text import CountVectorizer\n",
    "from sklearn.naive_bayes import MultinomialNB\n",
    "from sklearn.metrics import accuracy_score, precision_score, recall_score, f1_score\n",
    "from sklearn.metrics import confusion_matrix\n",
    "\n",
    "def respuesta_tres():\n",
    "    vect = CountVectorizer().fit(Train_X)\n",
    "    X_train_vectorized=vect.transform(Train_X)\n",
    "    clf=MultinomialNB()\n",
    "    clf.fit(X_train_vectorized, Train_Y)\n",
    "    X_test_vectorized=vect.transform(Test_X)\n",
    "    predictions = clf.predict(X_test_vectorized)\n",
    "    print(predictions)\n",
    "    return roc_auc_score(Test_Y,predictions)"
   ]
  },
  {
   "cell_type": "code",
   "execution_count": 49,
   "metadata": {},
   "outputs": [
    {
     "name": "stdout",
     "output_type": "stream",
     "text": [
      "[0 0 0 ... 1 1 0]\n"
     ]
    },
    {
     "data": {
      "text/plain": [
       "0.815103765820673"
      ]
     },
     "execution_count": 49,
     "metadata": {},
     "output_type": "execute_result"
    }
   ],
   "source": [
    "respuesta_tres()"
   ]
  },
  {
   "cell_type": "markdown",
   "metadata": {},
   "source": [
    "El 81.51% indica que si son importantes de acuerdo al dataset."
   ]
  },
  {
   "cell_type": "markdown",
   "metadata": {},
   "source": [
    "### Pregunta 4\n",
    "4.- ¿Son los caracteres n-gramas más importantes? "
   ]
  },
  {
   "cell_type": "markdown",
   "metadata": {},
   "source": [
    "Respuesta:\n",
    "\n",
    "En el artículo se comenta que la configuración de dominio único, nuevamente se ve ese sufijo y\n",
    "las palabras intermedias también son altamente predictivas, mientras que en las\n",
    "configuraciones de dominio cruzado, nuevamente vemos que prefijo e infijo son altamente predictivos. Todos estos resultados\n",
    "confirman que algunos tipos de n-gramas son fundamentalmente\n",
    "más predictivo que otros."
   ]
  },
  {
   "cell_type": "markdown",
   "metadata": {},
   "source": [
    "De acuerdo a lo que revisé en la aplicación de Algoritmos la eficiencia es muy similar. Sin embargo depende del idioma y de la forma en como se plantee el texto."
   ]
  },
  {
   "cell_type": "markdown",
   "metadata": {},
   "source": [
    "### Pregunta 5\n",
    "\n",
    "5.- Para configuraciones de dominio único también la mayoría importante para la configuración entre dominios? "
   ]
  },
  {
   "cell_type": "markdown",
   "metadata": {},
   "source": [
    "Respuesta:\n",
    "\n",
    "El análisis va a nivel de anagramas de caracteres, ni siquiera a palbras. Por lo que la forma en que se comparen dichos anagramas solo ayuda para completar la palabra, no para hacer comparativa entre palabras. Lo cual hace un artículo muy rico en la proyección de su investigación, ya que al completar las palbras correctamente o con una probabilidad muy cercana, también puede ayudar al analisis de anagramas de palabras."
   ]
  },
  {
   "cell_type": "markdown",
   "metadata": {},
   "source": [
    "### Pregunta 6\n",
    "\n",
    "6.- Cuales los n-gramas de caracteres son más como una bolsa de palabras  características (que tienden a rastrear temas) y cuáles son más como rasgos estilísticos (que tienden a rastrear autores)?"
   ]
  },
  {
   "cell_type": "markdown",
   "metadata": {},
   "source": [
    "\n",
    "Respuesta:\n",
    "\n",
    "Como ya se demostró en el artículo, las funciones puntuales funcionan mejor que usar todas las\n",
    "características, nos gustaría utilizar.. De siete categorías en afijo y\n",
    "puntual, se calculó en cuántos de ellos cada elemento le pertenece, siendo tres el máximo posible\n",
    "valor.   Está claro que los caracteres más significativos son los que rodean la puntuación\n",
    "de elemtnos y los espacios alrededor son segundos\n",
    "más negativos, mientras que los más significativos o postivos elementos son los\n",
    "que estan en medio de largas palabras. Esto nos da un\n",
    "idea sobre los caracteres en un texto que son importantes\n",
    "para tareas de AA."
   ]
  },
  {
   "cell_type": "markdown",
   "metadata": {},
   "source": [
    "### Pregunta 7\n",
    "\n",
    "7.- ¿Están de acuerdo los diferentes clasificadores sobre la importancia? De los diferentes tipos de caracteres n-gramas? "
   ]
  },
  {
   "cell_type": "markdown",
   "metadata": {},
   "source": [
    "Respuesta:\n",
    "    \n",
    "Si, los clasificadores ayudan en la mayoría de los casos en ser similares, como lo vimos en la programación de algoritmos en líneas pasadas.\n",
    "\n",
    "Naive Bayes Accuracy Score ->  82.86095365121707\n",
    "\n",
    "SVM Accuracy Score ->  83.09436478826275"
   ]
  },
  {
   "cell_type": "markdown",
   "metadata": {},
   "source": [
    "### Pregunta 8\n",
    "\n",
    "8.- Son  algunos caracteres n-gramas son siempre los mejores independientemente del algoritmo de aprendizaje?"
   ]
  },
  {
   "cell_type": "markdown",
   "metadata": {},
   "source": [
    "Respuesta:\n",
    "\n",
    "Posiblemente sí, pero el impacto no es mucho, con los algoritmos que vimos establecimos una detección muy similar de los textos.\n"
   ]
  },
  {
   "cell_type": "markdown",
   "metadata": {},
   "source": [
    "### Pregunta 9\n",
    "9.- ¿Son irrelevantes algunos tipos de caracteres n-gramas?  En tareas de AA?\n"
   ]
  },
  {
   "cell_type": "markdown",
   "metadata": {},
   "source": [
    "Respuesta:\n",
    "\n",
    "Todo cuenta sobre todo para la predicción ya que conforman los elementos de palabras y a su vez de parrafos y textos completos."
   ]
  },
  {
   "cell_type": "markdown",
   "metadata": {},
   "source": [
    "### Pregunta 10\n",
    "\n",
    "\n",
    "10.- ¿Hay categorías de elementos? n-gramas que podemos excluir y obtener similares (o mejor) rendimiento que usar todos los n-gramos?\n",
    "\n",
    "\n",
    "Si los hay, ¿son iguales para ambos?\n"
   ]
  },
  {
   "cell_type": "markdown",
   "metadata": {},
   "source": [
    "Respuesta:\n",
    "    \n",
    "Posiblemente aquellas palabras que están conformadas de pocas consonantes, eso ayudaría a esclarecer el como las palabras alternas se pueden conectar.\n"
   ]
  },
  {
   "cell_type": "markdown",
   "metadata": {},
   "source": [
    "# Conclusión"
   ]
  },
  {
   "cell_type": "markdown",
   "metadata": {},
   "source": [
    "Para concluir puedo comentar que el artículo tiene un excelente propuesta de análisis, y un noblre proposito de identificar autoria de textos incluso antiguos que ayuden a preservar el material literario de escritores importantes que dejaron su obra y no salio a luz en sus tiempos."
   ]
  },
  {
   "cell_type": "markdown",
   "metadata": {},
   "source": [
    "Sin embargo, cabe mencionar que como he identificado, en muchos artículos es complicado entrar a revisar los dataset."
   ]
  },
  {
   "cell_type": "markdown",
   "metadata": {},
   "source": [
    "En cuanto al código en muchas empresas de inteligencia artificial lo comparten en sus sitios web para compartirlo con la comunidad y que no solo lo prueben sino que lo puedan mejorar con propuestas novedosas, ya que eso lo retroalimentan de forma significativa atrayendo al colarboración de cientificos a nivel mundial interesados en Ciencia de Datos."
   ]
  },
  {
   "cell_type": "markdown",
   "metadata": {},
   "source": [
    "También es entendible que los artículos sean el resumen de los hallazgos y el informe de resultados que se produjeron."
   ]
  },
  {
   "cell_type": "markdown",
   "metadata": {},
   "source": [
    "Concluyo que es sin duda alguno un artículo muy interesante que nutre los conocimientos adquiridos en el curso.\n",
    "Agradezco que lo hayamos abordado como tema en el curso ya que podemos ir descubriendo por nuestra cuenta artículos relacionados a Lenguaje Natural de otras fuentes que de igual forma nos enriquescan como estudiantes de esta fabulosa rama de la Inteligencia Artificial."
   ]
  }
 ],
 "metadata": {
  "coursera": {
   "course_slug": "python-text-mining",
   "graded_item_id": "Pn19K",
   "launcher_item_id": "y1juS",
   "part_id": "ctlgo"
  },
  "kernelspec": {
   "display_name": "Python 3",
   "language": "python",
   "name": "python3"
  },
  "language_info": {
   "codemirror_mode": {
    "name": "ipython",
    "version": 3
   },
   "file_extension": ".py",
   "mimetype": "text/x-python",
   "name": "python",
   "nbconvert_exporter": "python",
   "pygments_lexer": "ipython3",
   "version": "3.7.6"
  }
 },
 "nbformat": 4,
 "nbformat_minor": 2
}
